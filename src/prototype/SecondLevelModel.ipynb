{
 "cells": [
  {
   "cell_type": "markdown",
   "metadata": {},
   "source": [
    "# Second Level "
   ]
  },
  {
   "cell_type": "code",
   "execution_count": 1,
   "metadata": {},
   "outputs": [],
   "source": [
    "import pandas as pd\n",
    "import numpy as np \n",
    "import gc"
   ]
  },
  {
   "cell_type": "markdown",
   "metadata": {},
   "source": [
    "### Load first level data "
   ]
  },
  {
   "cell_type": "code",
   "execution_count": 2,
   "metadata": {},
   "outputs": [
    {
     "name": "stdout",
     "output_type": "stream",
     "text": [
      "['/stage2_df']\n"
     ]
    }
   ],
   "source": [
    "with pd.HDFStore('../data/feat/stage2_data.h5') as stage2_h5:\n",
    "    print(stage2_h5.keys())\n",
    "    stage2_df = stage2_h5['stage2_df']"
   ]
  },
  {
   "cell_type": "code",
   "execution_count": 4,
   "metadata": {},
   "outputs": [
    {
     "data": {
      "text/plain": [
       "(885563, 13)"
      ]
     },
     "execution_count": 4,
     "metadata": {},
     "output_type": "execute_result"
    }
   ],
   "source": [
    "stage2_df.shape"
   ]
  },
  {
   "cell_type": "code",
   "execution_count": 3,
   "metadata": {},
   "outputs": [
    {
     "data": {
      "text/html": [
       "<div>\n",
       "<style>\n",
       "    .dataframe thead tr:only-child th {\n",
       "        text-align: right;\n",
       "    }\n",
       "\n",
       "    .dataframe thead th {\n",
       "        text-align: left;\n",
       "    }\n",
       "\n",
       "    .dataframe tbody tr th {\n",
       "        vertical-align: top;\n",
       "    }\n",
       "</style>\n",
       "<table border=\"1\" class=\"dataframe\">\n",
       "  <thead>\n",
       "    <tr style=\"text-align: right;\">\n",
       "      <th></th>\n",
       "      <th>rg</th>\n",
       "      <th>lasso</th>\n",
       "      <th>rf</th>\n",
       "      <th>lgbm</th>\n",
       "      <th>kmean_dist_label</th>\n",
       "      <th>kmean_dist_0</th>\n",
       "      <th>kmean_dist_1</th>\n",
       "      <th>kmean_dist_2</th>\n",
       "      <th>kmean_dist_3</th>\n",
       "      <th>kmean_dist_4</th>\n",
       "      <th>kmean_dist_5</th>\n",
       "      <th>kmean_dist_6</th>\n",
       "      <th>kmean_dist_7</th>\n",
       "    </tr>\n",
       "  </thead>\n",
       "  <tbody>\n",
       "    <tr>\n",
       "      <th>0</th>\n",
       "      <td>0.457809</td>\n",
       "      <td>0.518210</td>\n",
       "      <td>1.104751</td>\n",
       "      <td>1.234071</td>\n",
       "      <td>1.0</td>\n",
       "      <td>8.857702</td>\n",
       "      <td>8.712146</td>\n",
       "      <td>6.878428</td>\n",
       "      <td>7.236687</td>\n",
       "      <td>160.683082</td>\n",
       "      <td>8.372746</td>\n",
       "      <td>10.067307</td>\n",
       "      <td>32.780615</td>\n",
       "    </tr>\n",
       "    <tr>\n",
       "      <th>1</th>\n",
       "      <td>0.990932</td>\n",
       "      <td>0.951176</td>\n",
       "      <td>1.786170</td>\n",
       "      <td>2.333394</td>\n",
       "      <td>5.0</td>\n",
       "      <td>12.806890</td>\n",
       "      <td>13.463366</td>\n",
       "      <td>11.329752</td>\n",
       "      <td>7.886795</td>\n",
       "      <td>162.224312</td>\n",
       "      <td>10.882863</td>\n",
       "      <td>14.441723</td>\n",
       "      <td>33.894320</td>\n",
       "    </tr>\n",
       "    <tr>\n",
       "      <th>2</th>\n",
       "      <td>0.473575</td>\n",
       "      <td>0.448425</td>\n",
       "      <td>0.640284</td>\n",
       "      <td>0.663168</td>\n",
       "      <td>5.0</td>\n",
       "      <td>9.285941</td>\n",
       "      <td>10.126022</td>\n",
       "      <td>8.115691</td>\n",
       "      <td>6.480298</td>\n",
       "      <td>161.687453</td>\n",
       "      <td>7.767159</td>\n",
       "      <td>11.381747</td>\n",
       "      <td>32.819151</td>\n",
       "    </tr>\n",
       "    <tr>\n",
       "      <th>3</th>\n",
       "      <td>0.421733</td>\n",
       "      <td>0.397657</td>\n",
       "      <td>0.457851</td>\n",
       "      <td>0.487791</td>\n",
       "      <td>6.0</td>\n",
       "      <td>8.528922</td>\n",
       "      <td>8.592862</td>\n",
       "      <td>6.444938</td>\n",
       "      <td>6.349900</td>\n",
       "      <td>161.312547</td>\n",
       "      <td>7.830429</td>\n",
       "      <td>9.995115</td>\n",
       "      <td>32.689497</td>\n",
       "    </tr>\n",
       "    <tr>\n",
       "      <th>4</th>\n",
       "      <td>0.406524</td>\n",
       "      <td>0.390211</td>\n",
       "      <td>0.397525</td>\n",
       "      <td>0.391166</td>\n",
       "      <td>6.0</td>\n",
       "      <td>8.568154</td>\n",
       "      <td>8.632067</td>\n",
       "      <td>6.464528</td>\n",
       "      <td>6.335744</td>\n",
       "      <td>161.346125</td>\n",
       "      <td>7.866945</td>\n",
       "      <td>10.024922</td>\n",
       "      <td>32.699838</td>\n",
       "    </tr>\n",
       "  </tbody>\n",
       "</table>\n",
       "</div>"
      ],
      "text/plain": [
       "         rg     lasso        rf      lgbm  kmean_dist_label  kmean_dist_0  \\\n",
       "0  0.457809  0.518210  1.104751  1.234071               1.0      8.857702   \n",
       "1  0.990932  0.951176  1.786170  2.333394               5.0     12.806890   \n",
       "2  0.473575  0.448425  0.640284  0.663168               5.0      9.285941   \n",
       "3  0.421733  0.397657  0.457851  0.487791               6.0      8.528922   \n",
       "4  0.406524  0.390211  0.397525  0.391166               6.0      8.568154   \n",
       "\n",
       "   kmean_dist_1  kmean_dist_2  kmean_dist_3  kmean_dist_4  kmean_dist_5  \\\n",
       "0      8.712146      6.878428      7.236687    160.683082      8.372746   \n",
       "1     13.463366     11.329752      7.886795    162.224312     10.882863   \n",
       "2     10.126022      8.115691      6.480298    161.687453      7.767159   \n",
       "3      8.592862      6.444938      6.349900    161.312547      7.830429   \n",
       "4      8.632067      6.464528      6.335744    161.346125      7.866945   \n",
       "\n",
       "   kmean_dist_6  kmean_dist_7  \n",
       "0     10.067307     32.780615  \n",
       "1     14.441723     33.894320  \n",
       "2     11.381747     32.819151  \n",
       "3      9.995115     32.689497  \n",
       "4     10.024922     32.699838  "
      ]
     },
     "execution_count": 3,
     "metadata": {},
     "output_type": "execute_result"
    }
   ],
   "source": [
    "stage2_df.head()"
   ]
  },
  {
   "cell_type": "markdown",
   "metadata": {},
   "source": [
    "### Load features "
   ]
  },
  {
   "cell_type": "code",
   "execution_count": 5,
   "metadata": {},
   "outputs": [
    {
     "name": "stdout",
     "output_type": "stream",
     "text": [
      "['/X_cv', '/X_test', '/X_train', '/y_cv', '/y_train']\n"
     ]
    }
   ],
   "source": [
    "with pd.HDFStore('../data/feat/data.h5') as store:\n",
    "    print(store.keys())\n",
    "    X_cv = store['X_cv']\n",
    "    X_train = store['X_train']\n",
    "    X_test = store['X_test']\n",
    "    y_cv = store['y_cv']\n",
    "    y_train = store['y_train']"
   ]
  },
  {
   "cell_type": "code",
   "execution_count": 6,
   "metadata": {},
   "outputs": [],
   "source": [
    "def downcast_dtypes(df):\n",
    "    '''\n",
    "        Changes column types in the dataframe: \n",
    "                \n",
    "                `float64` type to `float32`\n",
    "                `int64`   type to `int32`\n",
    "    '''\n",
    "    \n",
    "    # Select columns to downcast\n",
    "    float_cols = [c for c in df if df[c].dtype == \"float64\"]\n",
    "    int_cols =   [c for c in df if df[c].dtype == \"int64\"]\n",
    "    \n",
    "    # Downcast\n",
    "    df[float_cols] = df[float_cols].astype(np.float32)\n",
    "    df[int_cols]   = df[int_cols].astype(np.int32)\n",
    "    \n",
    "    return df"
   ]
  },
  {
   "cell_type": "code",
   "execution_count": 7,
   "metadata": {},
   "outputs": [
    {
     "data": {
      "text/plain": [
       "14"
      ]
     },
     "execution_count": 7,
     "metadata": {},
     "output_type": "execute_result"
    }
   ],
   "source": [
    "X_train = downcast_dtypes(X_train)\n",
    "X_cv = downcast_dtypes(X_cv)\n",
    "X_test = downcast_dtypes(X_test)\n",
    "\n",
    "y_train = y_train.astype(np.float32)\n",
    "y_cv = y_cv.astype(np.float32)\n",
    "\n",
    "gc.collect()\n"
   ]
  },
  {
   "cell_type": "code",
   "execution_count": 8,
   "metadata": {},
   "outputs": [],
   "source": [
    "X_train.fillna(0,inplace=True)\n",
    "X_cv.fillna(0,inplace=True)\n",
    "X_test.fillna(0,inplace=True)"
   ]
  },
  {
   "cell_type": "code",
   "execution_count": 9,
   "metadata": {},
   "outputs": [],
   "source": [
    "y_train = y_train.clip(0,20)\n",
    "y_cv = y_cv.clip(0,20)"
   ]
  },
  {
   "cell_type": "markdown",
   "metadata": {},
   "source": [
    "## Reduce training size\n"
   ]
  },
  {
   "cell_type": "code",
   "execution_count": 10,
   "metadata": {},
   "outputs": [],
   "source": [
    "train_dates = X_train.date_block_num\n",
    "\n",
    "mask = train_dates >= 12 ## >=12 \n",
    "X_train = X_train[mask] # [-32]\n",
    "y_train = y_train[mask] # [-32]\n",
    "\n",
    "# level2_date_block = [27, 28, 29, 30, 31, 32]\n",
    "level2_date_block = [31, 32]\n",
    "level2_mask = train_dates.isin(level2_date_block) ## [0-32]\n",
    "train_dates_level2 = train_dates[level2_mask] ## [27-32]\n",
    "train_y_level2 = y_train[level2_mask] # [27-32]\n",
    "\n",
    "train_dates = train_dates[mask] ## -32\n",
    "test_dates = X_test.date_block_num ## 34\n",
    "cv_dates = X_cv.date_block_num ## 33\n",
    "\n",
    "merge = pd.concat([X_train, X_cv, X_test], ignore_index=True) ## 0-34\n",
    "merge_dates = np.concatenate([train_dates,cv_dates, test_dates], axis=0)  ## 0-34\n",
    "merge_y = np.concatenate([y_train,y_cv, np.zeros((len(test_dates),))], axis=0) ## y 0-34"
   ]
  },
  {
   "cell_type": "code",
   "execution_count": 11,
   "metadata": {},
   "outputs": [],
   "source": [
    "stage2_train_dates = merge_dates[merge_dates>=level2_date_block[0]] ## 27 - 34\n",
    "stage2_train_mask = (stage2_train_dates <= level2_date_block[-1]) # train on : 27-32\n",
    "stage2_valid_mask = (stage2_train_dates == 33) ## validate on : 33\n",
    "stage2_final_train_mask = (stage2_train_dates <= 33) ## 27-33\n",
    "stage2_test_mask = (stage2_train_dates==34) ## 34 want to predict and submit \n",
    "stage2_train_y = merge_y[merge_dates>=level2_date_block[0]] ## 27-34"
   ]
  },
  {
   "cell_type": "code",
   "execution_count": 12,
   "metadata": {},
   "outputs": [
    {
     "name": "stdout",
     "output_type": "stream",
     "text": [
      "train======\n",
      " False    452372\n",
      "True     433191\n",
      "dtype: int64\n",
      "validate======\n",
      " False    647391\n",
      "True     238172\n",
      "dtype: int64\n",
      "final=======\n",
      " True     671363\n",
      "False    214200\n",
      "dtype: int64\n",
      "test=======\n",
      " False    671363\n",
      "True     214200\n",
      "dtype: int64\n"
     ]
    }
   ],
   "source": [
    "print('train======\\n',pd.Series(stage2_train_mask).value_counts()) ## 27-32\n",
    "print('validate======\\n',pd.Series(stage2_valid_mask).value_counts()) ## 33\n",
    "print('final=======\\n',pd.Series(stage2_final_train_mask).value_counts())\n",
    "print('test=======\\n',pd.Series(stage2_test_mask).value_counts())"
   ]
  },
  {
   "cell_type": "markdown",
   "metadata": {},
   "source": [
    "### 1st level rg text features"
   ]
  },
  {
   "cell_type": "code",
   "execution_count": 13,
   "metadata": {},
   "outputs": [],
   "source": [
    "stage2_data_text = np.load('../data/feat/stage2_data_text.npy')"
   ]
  },
  {
   "cell_type": "code",
   "execution_count": 16,
   "metadata": {},
   "outputs": [
    {
     "data": {
      "text/plain": [
       "(885563,)"
      ]
     },
     "execution_count": 16,
     "metadata": {},
     "output_type": "execute_result"
    }
   ],
   "source": [
    "stage2_data_text.shape"
   ]
  },
  {
   "cell_type": "code",
   "execution_count": 22,
   "metadata": {},
   "outputs": [],
   "source": [
    "stage2_df.loc[:,'lgb_text'] = stage2_data_text"
   ]
  },
  {
   "cell_type": "code",
   "execution_count": 24,
   "metadata": {},
   "outputs": [
    {
     "data": {
      "text/html": [
       "<div>\n",
       "<style>\n",
       "    .dataframe thead tr:only-child th {\n",
       "        text-align: right;\n",
       "    }\n",
       "\n",
       "    .dataframe thead th {\n",
       "        text-align: left;\n",
       "    }\n",
       "\n",
       "    .dataframe tbody tr th {\n",
       "        vertical-align: top;\n",
       "    }\n",
       "</style>\n",
       "<table border=\"1\" class=\"dataframe\">\n",
       "  <thead>\n",
       "    <tr style=\"text-align: right;\">\n",
       "      <th></th>\n",
       "      <th>rg</th>\n",
       "      <th>lasso</th>\n",
       "      <th>rf</th>\n",
       "      <th>lgbm</th>\n",
       "      <th>kmean_dist_label</th>\n",
       "      <th>kmean_dist_0</th>\n",
       "      <th>kmean_dist_1</th>\n",
       "      <th>kmean_dist_2</th>\n",
       "      <th>kmean_dist_3</th>\n",
       "      <th>kmean_dist_4</th>\n",
       "      <th>kmean_dist_5</th>\n",
       "      <th>kmean_dist_6</th>\n",
       "      <th>kmean_dist_7</th>\n",
       "      <th>lgb_text</th>\n",
       "    </tr>\n",
       "  </thead>\n",
       "  <tbody>\n",
       "    <tr>\n",
       "      <th>0</th>\n",
       "      <td>0.457809</td>\n",
       "      <td>0.518210</td>\n",
       "      <td>1.104751</td>\n",
       "      <td>1.234071</td>\n",
       "      <td>1.0</td>\n",
       "      <td>8.857702</td>\n",
       "      <td>8.712146</td>\n",
       "      <td>6.878428</td>\n",
       "      <td>7.236687</td>\n",
       "      <td>160.683082</td>\n",
       "      <td>8.372746</td>\n",
       "      <td>10.067307</td>\n",
       "      <td>32.780615</td>\n",
       "      <td>1.192770</td>\n",
       "    </tr>\n",
       "    <tr>\n",
       "      <th>1</th>\n",
       "      <td>0.990932</td>\n",
       "      <td>0.951176</td>\n",
       "      <td>1.786170</td>\n",
       "      <td>2.333394</td>\n",
       "      <td>5.0</td>\n",
       "      <td>12.806890</td>\n",
       "      <td>13.463366</td>\n",
       "      <td>11.329752</td>\n",
       "      <td>7.886795</td>\n",
       "      <td>162.224312</td>\n",
       "      <td>10.882863</td>\n",
       "      <td>14.441723</td>\n",
       "      <td>33.894320</td>\n",
       "      <td>1.908122</td>\n",
       "    </tr>\n",
       "    <tr>\n",
       "      <th>2</th>\n",
       "      <td>0.473575</td>\n",
       "      <td>0.448425</td>\n",
       "      <td>0.640284</td>\n",
       "      <td>0.663168</td>\n",
       "      <td>5.0</td>\n",
       "      <td>9.285941</td>\n",
       "      <td>10.126022</td>\n",
       "      <td>8.115691</td>\n",
       "      <td>6.480298</td>\n",
       "      <td>161.687453</td>\n",
       "      <td>7.767159</td>\n",
       "      <td>11.381747</td>\n",
       "      <td>32.819151</td>\n",
       "      <td>0.650353</td>\n",
       "    </tr>\n",
       "    <tr>\n",
       "      <th>3</th>\n",
       "      <td>0.421733</td>\n",
       "      <td>0.397657</td>\n",
       "      <td>0.457851</td>\n",
       "      <td>0.487791</td>\n",
       "      <td>6.0</td>\n",
       "      <td>8.528922</td>\n",
       "      <td>8.592862</td>\n",
       "      <td>6.444938</td>\n",
       "      <td>6.349900</td>\n",
       "      <td>161.312547</td>\n",
       "      <td>7.830429</td>\n",
       "      <td>9.995115</td>\n",
       "      <td>32.689497</td>\n",
       "      <td>0.441928</td>\n",
       "    </tr>\n",
       "    <tr>\n",
       "      <th>4</th>\n",
       "      <td>0.406524</td>\n",
       "      <td>0.390211</td>\n",
       "      <td>0.397525</td>\n",
       "      <td>0.391166</td>\n",
       "      <td>6.0</td>\n",
       "      <td>8.568154</td>\n",
       "      <td>8.632067</td>\n",
       "      <td>6.464528</td>\n",
       "      <td>6.335744</td>\n",
       "      <td>161.346125</td>\n",
       "      <td>7.866945</td>\n",
       "      <td>10.024922</td>\n",
       "      <td>32.699838</td>\n",
       "      <td>0.377951</td>\n",
       "    </tr>\n",
       "  </tbody>\n",
       "</table>\n",
       "</div>"
      ],
      "text/plain": [
       "         rg     lasso        rf      lgbm  kmean_dist_label  kmean_dist_0  \\\n",
       "0  0.457809  0.518210  1.104751  1.234071               1.0      8.857702   \n",
       "1  0.990932  0.951176  1.786170  2.333394               5.0     12.806890   \n",
       "2  0.473575  0.448425  0.640284  0.663168               5.0      9.285941   \n",
       "3  0.421733  0.397657  0.457851  0.487791               6.0      8.528922   \n",
       "4  0.406524  0.390211  0.397525  0.391166               6.0      8.568154   \n",
       "\n",
       "   kmean_dist_1  kmean_dist_2  kmean_dist_3  kmean_dist_4  kmean_dist_5  \\\n",
       "0      8.712146      6.878428      7.236687    160.683082      8.372746   \n",
       "1     13.463366     11.329752      7.886795    162.224312     10.882863   \n",
       "2     10.126022      8.115691      6.480298    161.687453      7.767159   \n",
       "3      8.592862      6.444938      6.349900    161.312547      7.830429   \n",
       "4      8.632067      6.464528      6.335744    161.346125      7.866945   \n",
       "\n",
       "   kmean_dist_6  kmean_dist_7  lgb_text  \n",
       "0     10.067307     32.780615  1.192770  \n",
       "1     14.441723     33.894320  1.908122  \n",
       "2     11.381747     32.819151  0.650353  \n",
       "3      9.995115     32.689497  0.441928  \n",
       "4     10.024922     32.699838  0.377951  "
      ]
     },
     "execution_count": 24,
     "metadata": {},
     "output_type": "execute_result"
    }
   ],
   "source": [
    "stage2_df.head()"
   ]
  },
  {
   "cell_type": "markdown",
   "metadata": {},
   "source": [
    "______"
   ]
  },
  {
   "cell_type": "code",
   "execution_count": 57,
   "metadata": {},
   "outputs": [
    {
     "data": {
      "text/html": [
       "<div>\n",
       "<style>\n",
       "    .dataframe thead tr:only-child th {\n",
       "        text-align: right;\n",
       "    }\n",
       "\n",
       "    .dataframe thead th {\n",
       "        text-align: left;\n",
       "    }\n",
       "\n",
       "    .dataframe tbody tr th {\n",
       "        vertical-align: top;\n",
       "    }\n",
       "</style>\n",
       "<table border=\"1\" class=\"dataframe\">\n",
       "  <thead>\n",
       "    <tr style=\"text-align: right;\">\n",
       "      <th></th>\n",
       "      <th>rg</th>\n",
       "      <th>lasso</th>\n",
       "      <th>rf</th>\n",
       "      <th>lgbm</th>\n",
       "      <th>lgb_text</th>\n",
       "    </tr>\n",
       "  </thead>\n",
       "  <tbody>\n",
       "    <tr>\n",
       "      <th>rg</th>\n",
       "      <td>1.000000</td>\n",
       "      <td>0.991632</td>\n",
       "      <td>0.753673</td>\n",
       "      <td>0.724303</td>\n",
       "      <td>0.708606</td>\n",
       "    </tr>\n",
       "    <tr>\n",
       "      <th>lasso</th>\n",
       "      <td>0.991632</td>\n",
       "      <td>1.000000</td>\n",
       "      <td>0.764889</td>\n",
       "      <td>0.737370</td>\n",
       "      <td>0.721484</td>\n",
       "    </tr>\n",
       "    <tr>\n",
       "      <th>rf</th>\n",
       "      <td>0.753673</td>\n",
       "      <td>0.764889</td>\n",
       "      <td>1.000000</td>\n",
       "      <td>0.973793</td>\n",
       "      <td>0.950024</td>\n",
       "    </tr>\n",
       "    <tr>\n",
       "      <th>lgbm</th>\n",
       "      <td>0.724303</td>\n",
       "      <td>0.737370</td>\n",
       "      <td>0.973793</td>\n",
       "      <td>1.000000</td>\n",
       "      <td>0.963479</td>\n",
       "    </tr>\n",
       "    <tr>\n",
       "      <th>lgb_text</th>\n",
       "      <td>0.708606</td>\n",
       "      <td>0.721484</td>\n",
       "      <td>0.950024</td>\n",
       "      <td>0.963479</td>\n",
       "      <td>1.000000</td>\n",
       "    </tr>\n",
       "  </tbody>\n",
       "</table>\n",
       "</div>"
      ],
      "text/plain": [
       "                rg     lasso        rf      lgbm  lgb_text\n",
       "rg        1.000000  0.991632  0.753673  0.724303  0.708606\n",
       "lasso     0.991632  1.000000  0.764889  0.737370  0.721484\n",
       "rf        0.753673  0.764889  1.000000  0.973793  0.950024\n",
       "lgbm      0.724303  0.737370  0.973793  1.000000  0.963479\n",
       "lgb_text  0.708606  0.721484  0.950024  0.963479  1.000000"
      ]
     },
     "execution_count": 57,
     "metadata": {},
     "output_type": "execute_result"
    }
   ],
   "source": [
    "model_cols = ['rg','lasso','rf','lgbm','lgb_text']\n",
    "used_cols = ['rg','lasso','rf','lgbm','kmean_dist_label','lgb_text']\n",
    "stage2_df = stage2_df[used_cols]\n",
    "stage2_df[model_cols].corr()"
   ]
  },
  {
   "cell_type": "code",
   "execution_count": 26,
   "metadata": {},
   "outputs": [],
   "source": [
    "import matplotlib.pyplot as plt\n",
    "%matplotlib inline "
   ]
  },
  {
   "cell_type": "code",
   "execution_count": 75,
   "metadata": {},
   "outputs": [],
   "source": [
    "stage2_fin = pd.concat([stage2_df,merge[merge_dates>=level2_date_block[0]].reset_index(drop=True)], axis=1)"
   ]
  },
  {
   "cell_type": "code",
   "execution_count": 81,
   "metadata": {},
   "outputs": [
    {
     "data": {
      "text/plain": [
       "array([ 1.,  1.,  2., ...,  0.,  0.,  0.])"
      ]
     },
     "execution_count": 81,
     "metadata": {},
     "output_type": "execute_result"
    }
   ],
   "source": [
    "y_val"
   ]
  },
  {
   "cell_type": "code",
   "execution_count": 89,
   "metadata": {},
   "outputs": [],
   "source": [
    "lgb_val_temp = stage2_fin[stage2_fin.date_block_num == 33].lgb_text"
   ]
  },
  {
   "cell_type": "code",
   "execution_count": 90,
   "metadata": {},
   "outputs": [
    {
     "data": {
      "text/plain": [
       "0.90950385227519914"
      ]
     },
     "execution_count": 90,
     "metadata": {},
     "output_type": "execute_result"
    }
   ],
   "source": [
    "mean_squared_error(lgb_val_temp.values,y_val)**0.5"
   ]
  },
  {
   "cell_type": "markdown",
   "metadata": {},
   "source": [
    "# submission without stacking"
   ]
  },
  {
   "cell_type": "markdown",
   "metadata": {},
   "source": [
    "seems `lgb_text` much better than before rmse:0.909 on val sets,\n",
    "what if we submit this result ?"
   ]
  },
  {
   "cell_type": "code",
   "execution_count": 92,
   "metadata": {},
   "outputs": [],
   "source": [
    "lgb_text_34 = stage2_fin[stage2_fin.date_block_num==34].lgb_text"
   ]
  },
  {
   "cell_type": "code",
   "execution_count": 99,
   "metadata": {},
   "outputs": [],
   "source": [
    "## validate on 2015oct : 0.909, LB: ?? ---> 0.92061 (rank: 17/500)\n",
    "y_submit = pd.DataFrame({'ID':range(lgb_text_34.shape[0]), 'item_cnt_month':lgb_text_34.reset_index(drop=1)})\n",
    "y_submit.to_csv('../data/output/submission_lgbm_text_on_12_30.csv',index=False) # stacking"
   ]
  },
  {
   "cell_type": "markdown",
   "metadata": {},
   "source": [
    "____"
   ]
  },
  {
   "cell_type": "code",
   "execution_count": null,
   "metadata": {},
   "outputs": [],
   "source": []
  },
  {
   "cell_type": "code",
   "execution_count": null,
   "metadata": {},
   "outputs": [],
   "source": []
  },
  {
   "cell_type": "code",
   "execution_count": 27,
   "metadata": {},
   "outputs": [
    {
     "data": {
      "text/plain": [
       "<matplotlib.collections.PathCollection at 0xe95662f6a0>"
      ]
     },
     "execution_count": 27,
     "metadata": {},
     "output_type": "execute_result"
    },
    {
     "data": {
      "image/png": "[encoded data removed]",
      "text/plain": [
       "<matplotlib.figure.Figure at 0xe956588cc0>"
      ]
     },
     "metadata": {},
     "output_type": "display_data"
    }
   ],
   "source": [
    "plt.scatter(stage2_df.lasso, stage2_df.lgbm)"
   ]
  },
  {
   "cell_type": "code",
   "execution_count": 28,
   "metadata": {},
   "outputs": [
    {
     "data": {
      "text/plain": [
       "<matplotlib.collections.PathCollection at 0xe95f8e2a20>"
      ]
     },
     "execution_count": 28,
     "metadata": {},
     "output_type": "execute_result"
    },
    {
     "data": {
      "image/png": "[encoded data removed]",
      "text/plain": [
       "<matplotlib.figure.Figure at 0xe95f775c18>"
      ]
     },
     "metadata": {},
     "output_type": "display_data"
    }
   ],
   "source": [
    "plt.scatter(stage2_df.rf, stage2_df.lgbm)"
   ]
  },
  {
   "cell_type": "code",
   "execution_count": 29,
   "metadata": {},
   "outputs": [
    {
     "data": {
      "text/plain": [
       "<matplotlib.collections.PathCollection at 0xe95f9555f8>"
      ]
     },
     "execution_count": 29,
     "metadata": {},
     "output_type": "execute_result"
    },
    {
     "data": {
      "image/png": "[encoded data removed]",
      "text/plain": [
       "<matplotlib.figure.Figure at 0xe95f8ffda0>"
      ]
     },
     "metadata": {},
     "output_type": "display_data"
    }
   ],
   "source": [
    "plt.scatter(stage2_df.lgb_text, stage2_df.lgbm)"
   ]
  },
  {
   "cell_type": "code",
   "execution_count": 45,
   "metadata": {},
   "outputs": [],
   "source": [
    "from scipy.stats.mstats import hmean, gmean"
   ]
  },
  {
   "cell_type": "code",
   "execution_count": 46,
   "metadata": {},
   "outputs": [],
   "source": [
    "# def stage2_feat_engineer(df, model_cols=[]):\n",
    "#     model_cnt = df[model_cols].shape[1]\n",
    "    \n",
    "#     print('Calculating 2 g\\\\h\\\\m-mean')\n",
    "#     for i in range(model_cnt-1): # i = 0 to model_cnt-2\n",
    "#         for j in range(i+1, model_cnt): # j = i+1 to model_cnt-1\n",
    "#             cols = [model_cols[i], model_cols[j]]\n",
    "#             df.loc[:, 'gmean_' + str(i) + '_'+ str(j)] = gmean(df.loc[:,cols].values, axis=1)\n",
    "#             df.loc[:, 'mean_' + str(i) + '_'+ str(j)] = np.mean(df.loc[:,cols].values, axis=1)\n",
    "\n",
    "#     if model_cnt > 3:\n",
    "#         print('Calculating 3 g\\\\h\\\\m-mean')        \n",
    "#         for i in range(model_cnt-2): # i = 0 to model_cnt-3\n",
    "#             for j in range(i+1, model_cnt-1): # j = i+1 to model_cnt-2\n",
    "#                 for k in range(j+1, model_cnt): # k = j+1 to model_cnt-1\n",
    "#                     cols = [model_cols[i], model_cols[j], model_cols[k]]\n",
    "#                     df.loc[:, 'gmean_' + str(i) + '_'+ str(j) + '_'+ str(k)] = gmean(df.loc[:,cols].values, axis=1)\n",
    "#                     df.loc[:, 'mean_' + str(i) + '_'+ str(j) + '_'+ str(k)] = np.mean(df.loc[:,cols].values, axis=1)\n",
    "\n",
    "#     print('Calculating all g\\\\h\\\\m-mean')             \n",
    "#     df.loc[:, 'gmean_all'] = gmean(df.loc[:,model_cols].values, axis=1)\n",
    "#     df.loc[:, 'mean'] = np.mean(df.loc[:,model_cols].values, axis=1)\n",
    "#     df.loc[:, 'med'] = np.median(df.loc[:,model_cols].values, axis=1)\n",
    "#     df.loc[:, 'max'] = np.amax(df.loc[:,model_cols].values, axis=1)\n",
    "#     df.loc[:, 'min'] = np.amin(df.loc[:,model_cols].values, axis=1)\n",
    "#     df.loc[:, 'std'] = np.std(df.loc[:,model_cols].values, axis=1)"
   ]
  },
  {
   "cell_type": "code",
   "execution_count": 30,
   "metadata": {},
   "outputs": [],
   "source": [
    "# stage2_feat_engineer(stage2_df,['rf','lgbm'])"
   ]
  },
  {
   "cell_type": "code",
   "execution_count": 65,
   "metadata": {},
   "outputs": [
    {
     "data": {
      "text/plain": [
       "Index(['rg', 'lasso', 'rf', 'lgbm', 'kmean_dist_label', 'lgb_text'], dtype='object')"
      ]
     },
     "execution_count": 65,
     "metadata": {},
     "output_type": "execute_result"
    }
   ],
   "source": [
    "stage2_df.columns"
   ]
  },
  {
   "cell_type": "code",
   "execution_count": 32,
   "metadata": {},
   "outputs": [
    {
     "data": {
      "text/plain": [
       "(885563, 14)"
      ]
     },
     "execution_count": 32,
     "metadata": {},
     "output_type": "execute_result"
    }
   ],
   "source": [
    "stage2_df.shape"
   ]
  },
  {
   "cell_type": "code",
   "execution_count": 34,
   "metadata": {},
   "outputs": [
    {
     "data": {
      "text/plain": [
       "array([12, 13, 14, 15, 16, 17, 18, 19, 20, 21, 22, 23, 24, 25, 26, 27, 28,\n",
       "       29, 30, 31, 32, 33, 34])"
      ]
     },
     "execution_count": 34,
     "metadata": {},
     "output_type": "execute_result"
    }
   ],
   "source": [
    "np.unique(merge_dates)"
   ]
  },
  {
   "cell_type": "code",
   "execution_count": 71,
   "metadata": {},
   "outputs": [
    {
     "data": {
      "text/plain": [
       "Index(['shop_id', 'item_id', 'date_block_num', 'item_category_id',\n",
       "       'item_id_avg_item_price_lag_1', 'item_id_sum_item_cnt_day_lag_1',\n",
       "       'item_id_avg_item_cnt_day_lag_1', 'shop_id_avg_item_price_lag_1',\n",
       "       'shop_id_sum_item_cnt_day_lag_1', 'shop_id_avg_item_cnt_day_lag_1',\n",
       "       'item_category_id_avg_item_price_lag_1',\n",
       "       'item_category_id_sum_item_cnt_day_lag_1',\n",
       "       'item_category_id_avg_item_cnt_day_lag_1', 'item_cnt_month_lag_1',\n",
       "       'item_id_avg_item_price_lag_2', 'item_id_sum_item_cnt_day_lag_2',\n",
       "       'item_id_avg_item_cnt_day_lag_2', 'shop_id_avg_item_price_lag_2',\n",
       "       'shop_id_sum_item_cnt_day_lag_2', 'shop_id_avg_item_cnt_day_lag_2',\n",
       "       'item_category_id_avg_item_price_lag_2',\n",
       "       'item_category_id_sum_item_cnt_day_lag_2',\n",
       "       'item_category_id_avg_item_cnt_day_lag_2', 'item_cnt_month_lag_2',\n",
       "       'item_id_avg_item_price_lag_3', 'item_id_sum_item_cnt_day_lag_3',\n",
       "       'item_id_avg_item_cnt_day_lag_3', 'shop_id_avg_item_price_lag_3',\n",
       "       'shop_id_sum_item_cnt_day_lag_3', 'shop_id_avg_item_cnt_day_lag_3',\n",
       "       'item_category_id_avg_item_price_lag_3',\n",
       "       'item_category_id_sum_item_cnt_day_lag_3',\n",
       "       'item_category_id_avg_item_cnt_day_lag_3', 'item_cnt_month_lag_3',\n",
       "       'item_id_avg_item_price_lag_5', 'item_id_sum_item_cnt_day_lag_5',\n",
       "       'item_id_avg_item_cnt_day_lag_5', 'shop_id_avg_item_price_lag_5',\n",
       "       'shop_id_sum_item_cnt_day_lag_5', 'shop_id_avg_item_cnt_day_lag_5',\n",
       "       'item_category_id_avg_item_price_lag_5',\n",
       "       'item_category_id_sum_item_cnt_day_lag_5',\n",
       "       'item_category_id_avg_item_cnt_day_lag_5', 'item_cnt_month_lag_5',\n",
       "       'item_id_avg_item_price_lag_12', 'item_id_sum_item_cnt_day_lag_12',\n",
       "       'item_id_avg_item_cnt_day_lag_12', 'shop_id_avg_item_price_lag_12',\n",
       "       'shop_id_sum_item_cnt_day_lag_12', 'shop_id_avg_item_cnt_day_lag_12',\n",
       "       'item_category_id_avg_item_price_lag_12',\n",
       "       'item_category_id_sum_item_cnt_day_lag_12',\n",
       "       'item_category_id_avg_item_cnt_day_lag_12', 'item_cnt_month_lag_12'],\n",
       "      dtype='object')"
      ]
     },
     "execution_count": 71,
     "metadata": {},
     "output_type": "execute_result"
    }
   ],
   "source": [
    "merge.columns"
   ]
  },
  {
   "cell_type": "code",
   "execution_count": 68,
   "metadata": {},
   "outputs": [
    {
     "data": {
      "text/html": [
       "<div>\n",
       "<style>\n",
       "    .dataframe thead tr:only-child th {\n",
       "        text-align: right;\n",
       "    }\n",
       "\n",
       "    .dataframe thead th {\n",
       "        text-align: left;\n",
       "    }\n",
       "\n",
       "    .dataframe tbody tr th {\n",
       "        vertical-align: top;\n",
       "    }\n",
       "</style>\n",
       "<table border=\"1\" class=\"dataframe\">\n",
       "  <thead>\n",
       "    <tr style=\"text-align: right;\">\n",
       "      <th></th>\n",
       "      <th>shop_id</th>\n",
       "      <th>item_id</th>\n",
       "      <th>date_block_num</th>\n",
       "      <th>item_category_id</th>\n",
       "      <th>item_id_avg_item_price_lag_1</th>\n",
       "      <th>item_id_sum_item_cnt_day_lag_1</th>\n",
       "      <th>item_id_avg_item_cnt_day_lag_1</th>\n",
       "      <th>shop_id_avg_item_price_lag_1</th>\n",
       "      <th>shop_id_sum_item_cnt_day_lag_1</th>\n",
       "      <th>shop_id_avg_item_cnt_day_lag_1</th>\n",
       "      <th>...</th>\n",
       "      <th>item_id_avg_item_price_lag_12</th>\n",
       "      <th>item_id_sum_item_cnt_day_lag_12</th>\n",
       "      <th>item_id_avg_item_cnt_day_lag_12</th>\n",
       "      <th>shop_id_avg_item_price_lag_12</th>\n",
       "      <th>shop_id_sum_item_cnt_day_lag_12</th>\n",
       "      <th>shop_id_avg_item_cnt_day_lag_12</th>\n",
       "      <th>item_category_id_avg_item_price_lag_12</th>\n",
       "      <th>item_category_id_sum_item_cnt_day_lag_12</th>\n",
       "      <th>item_category_id_avg_item_cnt_day_lag_12</th>\n",
       "      <th>item_cnt_month_lag_12</th>\n",
       "    </tr>\n",
       "  </thead>\n",
       "  <tbody>\n",
       "    <tr>\n",
       "      <th>347346</th>\n",
       "      <td>27</td>\n",
       "      <td>15242</td>\n",
       "      <td>13</td>\n",
       "      <td>63</td>\n",
       "      <td>670.333313</td>\n",
       "      <td>9.0</td>\n",
       "      <td>1.000000</td>\n",
       "      <td>933.352539</td>\n",
       "      <td>5451.0</td>\n",
       "      <td>1.282588</td>\n",
       "      <td>...</td>\n",
       "      <td>0.0</td>\n",
       "      <td>0.0</td>\n",
       "      <td>0.0</td>\n",
       "      <td>0.000000</td>\n",
       "      <td>0.0</td>\n",
       "      <td>0.000000</td>\n",
       "      <td>0.000000</td>\n",
       "      <td>0.0</td>\n",
       "      <td>0.000000</td>\n",
       "      <td>0.0</td>\n",
       "    </tr>\n",
       "    <tr>\n",
       "      <th>347347</th>\n",
       "      <td>27</td>\n",
       "      <td>15200</td>\n",
       "      <td>13</td>\n",
       "      <td>69</td>\n",
       "      <td>499.000000</td>\n",
       "      <td>1.0</td>\n",
       "      <td>1.000000</td>\n",
       "      <td>933.352539</td>\n",
       "      <td>5451.0</td>\n",
       "      <td>1.282588</td>\n",
       "      <td>...</td>\n",
       "      <td>0.0</td>\n",
       "      <td>0.0</td>\n",
       "      <td>0.0</td>\n",
       "      <td>0.000000</td>\n",
       "      <td>0.0</td>\n",
       "      <td>0.000000</td>\n",
       "      <td>0.000000</td>\n",
       "      <td>0.0</td>\n",
       "      <td>0.000000</td>\n",
       "      <td>0.0</td>\n",
       "    </tr>\n",
       "    <tr>\n",
       "      <th>347348</th>\n",
       "      <td>27</td>\n",
       "      <td>15279</td>\n",
       "      <td>13</td>\n",
       "      <td>63</td>\n",
       "      <td>798.112244</td>\n",
       "      <td>48.0</td>\n",
       "      <td>1.066667</td>\n",
       "      <td>933.352539</td>\n",
       "      <td>5451.0</td>\n",
       "      <td>1.282588</td>\n",
       "      <td>...</td>\n",
       "      <td>0.0</td>\n",
       "      <td>0.0</td>\n",
       "      <td>0.0</td>\n",
       "      <td>0.000000</td>\n",
       "      <td>0.0</td>\n",
       "      <td>0.000000</td>\n",
       "      <td>0.000000</td>\n",
       "      <td>0.0</td>\n",
       "      <td>0.000000</td>\n",
       "      <td>0.0</td>\n",
       "    </tr>\n",
       "    <tr>\n",
       "      <th>347349</th>\n",
       "      <td>27</td>\n",
       "      <td>15202</td>\n",
       "      <td>13</td>\n",
       "      <td>69</td>\n",
       "      <td>499.000000</td>\n",
       "      <td>2.0</td>\n",
       "      <td>1.000000</td>\n",
       "      <td>933.352539</td>\n",
       "      <td>5451.0</td>\n",
       "      <td>1.282588</td>\n",
       "      <td>...</td>\n",
       "      <td>499.0</td>\n",
       "      <td>5.0</td>\n",
       "      <td>1.0</td>\n",
       "      <td>820.297546</td>\n",
       "      <td>4546.0</td>\n",
       "      <td>1.206155</td>\n",
       "      <td>703.047302</td>\n",
       "      <td>503.0</td>\n",
       "      <td>1.120267</td>\n",
       "      <td>0.0</td>\n",
       "    </tr>\n",
       "    <tr>\n",
       "      <th>347350</th>\n",
       "      <td>27</td>\n",
       "      <td>14888</td>\n",
       "      <td>13</td>\n",
       "      <td>55</td>\n",
       "      <td>549.000000</td>\n",
       "      <td>21.0</td>\n",
       "      <td>1.000000</td>\n",
       "      <td>933.352539</td>\n",
       "      <td>5451.0</td>\n",
       "      <td>1.282588</td>\n",
       "      <td>...</td>\n",
       "      <td>0.0</td>\n",
       "      <td>0.0</td>\n",
       "      <td>0.0</td>\n",
       "      <td>0.000000</td>\n",
       "      <td>0.0</td>\n",
       "      <td>0.000000</td>\n",
       "      <td>0.000000</td>\n",
       "      <td>0.0</td>\n",
       "      <td>0.000000</td>\n",
       "      <td>0.0</td>\n",
       "    </tr>\n",
       "  </tbody>\n",
       "</table>\n",
       "<p>5 rows × 54 columns</p>\n",
       "</div>"
      ],
      "text/plain": [
       "        shop_id  item_id  date_block_num  item_category_id  \\\n",
       "347346       27    15242              13                63   \n",
       "347347       27    15200              13                69   \n",
       "347348       27    15279              13                63   \n",
       "347349       27    15202              13                69   \n",
       "347350       27    14888              13                55   \n",
       "\n",
       "        item_id_avg_item_price_lag_1  item_id_sum_item_cnt_day_lag_1  \\\n",
       "347346                    670.333313                             9.0   \n",
       "347347                    499.000000                             1.0   \n",
       "347348                    798.112244                            48.0   \n",
       "347349                    499.000000                             2.0   \n",
       "347350                    549.000000                            21.0   \n",
       "\n",
       "        item_id_avg_item_cnt_day_lag_1  shop_id_avg_item_price_lag_1  \\\n",
       "347346                        1.000000                    933.352539   \n",
       "347347                        1.000000                    933.352539   \n",
       "347348                        1.066667                    933.352539   \n",
       "347349                        1.000000                    933.352539   \n",
       "347350                        1.000000                    933.352539   \n",
       "\n",
       "        shop_id_sum_item_cnt_day_lag_1  shop_id_avg_item_cnt_day_lag_1  \\\n",
       "347346                          5451.0                        1.282588   \n",
       "347347                          5451.0                        1.282588   \n",
       "347348                          5451.0                        1.282588   \n",
       "347349                          5451.0                        1.282588   \n",
       "347350                          5451.0                        1.282588   \n",
       "\n",
       "                ...            item_id_avg_item_price_lag_12  \\\n",
       "347346          ...                                      0.0   \n",
       "347347          ...                                      0.0   \n",
       "347348          ...                                      0.0   \n",
       "347349          ...                                    499.0   \n",
       "347350          ...                                      0.0   \n",
       "\n",
       "        item_id_sum_item_cnt_day_lag_12  item_id_avg_item_cnt_day_lag_12  \\\n",
       "347346                              0.0                              0.0   \n",
       "347347                              0.0                              0.0   \n",
       "347348                              0.0                              0.0   \n",
       "347349                              5.0                              1.0   \n",
       "347350                              0.0                              0.0   \n",
       "\n",
       "        shop_id_avg_item_price_lag_12  shop_id_sum_item_cnt_day_lag_12  \\\n",
       "347346                       0.000000                              0.0   \n",
       "347347                       0.000000                              0.0   \n",
       "347348                       0.000000                              0.0   \n",
       "347349                     820.297546                           4546.0   \n",
       "347350                       0.000000                              0.0   \n",
       "\n",
       "        shop_id_avg_item_cnt_day_lag_12  \\\n",
       "347346                         0.000000   \n",
       "347347                         0.000000   \n",
       "347348                         0.000000   \n",
       "347349                         1.206155   \n",
       "347350                         0.000000   \n",
       "\n",
       "        item_category_id_avg_item_price_lag_12  \\\n",
       "347346                                0.000000   \n",
       "347347                                0.000000   \n",
       "347348                                0.000000   \n",
       "347349                              703.047302   \n",
       "347350                                0.000000   \n",
       "\n",
       "        item_category_id_sum_item_cnt_day_lag_12  \\\n",
       "347346                                       0.0   \n",
       "347347                                       0.0   \n",
       "347348                                       0.0   \n",
       "347349                                     503.0   \n",
       "347350                                       0.0   \n",
       "\n",
       "        item_category_id_avg_item_cnt_day_lag_12  item_cnt_month_lag_12  \n",
       "347346                                  0.000000                    0.0  \n",
       "347347                                  0.000000                    0.0  \n",
       "347348                                  0.000000                    0.0  \n",
       "347349                                  1.120267                    0.0  \n",
       "347350                                  0.000000                    0.0  \n",
       "\n",
       "[5 rows x 54 columns]"
      ]
     },
     "execution_count": 68,
     "metadata": {},
     "output_type": "execute_result"
    }
   ],
   "source": [
    "merge[merge.date_block_num==13].head()"
   ]
  },
  {
   "cell_type": "code",
   "execution_count": 35,
   "metadata": {},
   "outputs": [],
   "source": [
    "# stage2_df = pd.concat([stage2_df, merge[merge_dates>=level2_date_block[0]].reset_index(drop=True)], axis=1)"
   ]
  },
  {
   "cell_type": "markdown",
   "metadata": {},
   "source": [
    "# Train on 2nd Level \n",
    "- train on `27-32` ,`stage2_train_mask`  \n",
    "- validate on `33`\n",
    "- final train on `27-33` and predict on `34`"
   ]
  },
  {
   "cell_type": "code",
   "execution_count": 36,
   "metadata": {},
   "outputs": [
    {
     "data": {
      "text/plain": [
       "False    452372\n",
       "True     433191\n",
       "dtype: int64"
      ]
     },
     "execution_count": 36,
     "metadata": {},
     "output_type": "execute_result"
    }
   ],
   "source": [
    "pd.Series(stage2_train_mask).value_counts()"
   ]
  },
  {
   "cell_type": "code",
   "execution_count": 37,
   "metadata": {},
   "outputs": [
    {
     "data": {
      "text/plain": [
       "False    647391\n",
       "True     238172\n",
       "dtype: int64"
      ]
     },
     "execution_count": 37,
     "metadata": {},
     "output_type": "execute_result"
    }
   ],
   "source": [
    "pd.Series(stage2_valid_mask).value_counts()"
   ]
  },
  {
   "cell_type": "code",
   "execution_count": 43,
   "metadata": {},
   "outputs": [
    {
     "data": {
      "text/plain": [
       "array([31, 32, 33, 34], dtype=int64)"
      ]
     },
     "execution_count": 43,
     "metadata": {},
     "output_type": "execute_result"
    }
   ],
   "source": [
    "stage2_df.date_block_num.unique()"
   ]
  },
  {
   "cell_type": "code",
   "execution_count": 41,
   "metadata": {},
   "outputs": [
    {
     "data": {
      "text/plain": [
       "(433191, 68)"
      ]
     },
     "execution_count": 41,
     "metadata": {},
     "output_type": "execute_result"
    }
   ],
   "source": [
    "stage2_df[stage2_train_mask].shape\n",
    "# stage2_df[stage2_valid_mask].shape"
   ]
  },
  {
   "cell_type": "code",
   "execution_count": 39,
   "metadata": {},
   "outputs": [
    {
     "data": {
      "text/plain": [
       "True     671363\n",
       "False    214200\n",
       "dtype: int64"
      ]
     },
     "execution_count": 39,
     "metadata": {},
     "output_type": "execute_result"
    }
   ],
   "source": [
    "pd.Series(stage2_final_train_mask).value_counts()"
   ]
  },
  {
   "cell_type": "code",
   "execution_count": 40,
   "metadata": {},
   "outputs": [],
   "source": [
    "import lightgbm as lgb\n",
    "import copy \n",
    "from hyperopt import fmin, tpe, hp, STATUS_OK, Trials\n",
    "from sklearn.metrics import mean_squared_error"
   ]
  },
  {
   "cell_type": "code",
   "execution_count": 44,
   "metadata": {},
   "outputs": [],
   "source": [
    "def objective(params):\n",
    "    \n",
    "    clf = params.get('clf')\n",
    "    new_params = params.get('params') ## update params\n",
    "\n",
    "\n",
    "    copy_clf = copy.deepcopy(clf)\n",
    "    original_params = copy_clf.get_params()\n",
    "    original_params.update(new_params)\n",
    "    copy_clf.set_params(**original_params) # update copy clf with trying new_params              \n",
    "    \n",
    "    ## simple hold out \n",
    "    \n",
    "    copy_clf.fit(stage2_df[stage2_train_mask].values, stage2_train_y[stage2_train_mask]) ### fit on [27-32]\n",
    "    \n",
    "    pred_y = copy_clf.predict(stage2_df[stage2_valid_mask].values) ## validate on 33\n",
    "    pred_y = np.clip(pred_y, 0., 20.) # clip to (0,20)\n",
    "    rmse = mean_squared_error(stage2_train_y[stage2_valid_mask], pred_y)**.5 \n",
    "    print('rmse: {:.5f} '.format(rmse), end='\\t')\n",
    "    print('params: {}'.format(new_params))\n",
    "    \n",
    "    return {'loss':rmse,'status':STATUS_OK}"
   ]
  },
  {
   "cell_type": "code",
   "execution_count": 35,
   "metadata": {},
   "outputs": [],
   "source": [
    "# stage2_df = stage2_df[['rf','lgbm','kmean_dist_label']]\n",
    "# stage2_df[stage2_valid_mask].head()"
   ]
  },
  {
   "cell_type": "code",
   "execution_count": 69,
   "metadata": {},
   "outputs": [],
   "source": [
    "y_val = stage2_train_y[stage2_valid_mask] ##33\n",
    "stage2_val_df = stage2_df[stage2_valid_mask]"
   ]
  },
  {
   "cell_type": "code",
   "execution_count": 30,
   "metadata": {},
   "outputs": [
    {
     "data": {
      "text/html": [
       "<div>\n",
       "<style>\n",
       "    .dataframe thead tr:only-child th {\n",
       "        text-align: right;\n",
       "    }\n",
       "\n",
       "    .dataframe thead th {\n",
       "        text-align: left;\n",
       "    }\n",
       "\n",
       "    .dataframe tbody tr th {\n",
       "        vertical-align: top;\n",
       "    }\n",
       "</style>\n",
       "<table border=\"1\" class=\"dataframe\">\n",
       "  <thead>\n",
       "    <tr style=\"text-align: right;\">\n",
       "      <th></th>\n",
       "      <th>0</th>\n",
       "      <th>1</th>\n",
       "      <th>2</th>\n",
       "      <th>3</th>\n",
       "      <th>4</th>\n",
       "    </tr>\n",
       "  </thead>\n",
       "  <tbody>\n",
       "    <tr>\n",
       "      <th>rg</th>\n",
       "      <td>0.206704</td>\n",
       "      <td>0.251394</td>\n",
       "      <td>0.181789</td>\n",
       "      <td>0.093240</td>\n",
       "      <td>0.337916</td>\n",
       "    </tr>\n",
       "    <tr>\n",
       "      <th>lasso</th>\n",
       "      <td>0.210538</td>\n",
       "      <td>0.261407</td>\n",
       "      <td>0.196857</td>\n",
       "      <td>0.125308</td>\n",
       "      <td>0.358665</td>\n",
       "    </tr>\n",
       "    <tr>\n",
       "      <th>rf</th>\n",
       "      <td>0.032139</td>\n",
       "      <td>0.797239</td>\n",
       "      <td>0.498579</td>\n",
       "      <td>0.134226</td>\n",
       "      <td>0.776439</td>\n",
       "    </tr>\n",
       "    <tr>\n",
       "      <th>lgbm</th>\n",
       "      <td>0.046392</td>\n",
       "      <td>0.776989</td>\n",
       "      <td>0.533678</td>\n",
       "      <td>0.139150</td>\n",
       "      <td>0.596890</td>\n",
       "    </tr>\n",
       "    <tr>\n",
       "      <th>kmean_dist_label</th>\n",
       "      <td>5.000000</td>\n",
       "      <td>1.000000</td>\n",
       "      <td>1.000000</td>\n",
       "      <td>0.000000</td>\n",
       "      <td>1.000000</td>\n",
       "    </tr>\n",
       "    <tr>\n",
       "      <th>y</th>\n",
       "      <td>1.000000</td>\n",
       "      <td>1.000000</td>\n",
       "      <td>2.000000</td>\n",
       "      <td>1.000000</td>\n",
       "      <td>1.000000</td>\n",
       "    </tr>\n",
       "  </tbody>\n",
       "</table>\n",
       "</div>"
      ],
      "text/plain": [
       "                         0         1         2         3         4\n",
       "rg                0.206704  0.251394  0.181789  0.093240  0.337916\n",
       "lasso             0.210538  0.261407  0.196857  0.125308  0.358665\n",
       "rf                0.032139  0.797239  0.498579  0.134226  0.776439\n",
       "lgbm              0.046392  0.776989  0.533678  0.139150  0.596890\n",
       "kmean_dist_label  5.000000  1.000000  1.000000  0.000000  1.000000\n",
       "y                 1.000000  1.000000  2.000000  1.000000  1.000000"
      ]
     },
     "execution_count": 30,
     "metadata": {},
     "output_type": "execute_result"
    }
   ],
   "source": [
    "# stage2_val_df.reset_index(inplace=True,drop=True)\n",
    "# df_val = pd.DataFrame({'y':y_val})\n",
    "# pd.concat((stage2_val_df,df_val),axis=1).head().T"
   ]
  },
  {
   "cell_type": "code",
   "execution_count": 70,
   "metadata": {},
   "outputs": [
    {
     "name": "stdout",
     "output_type": "stream",
     "text": [
      "[1]\tvalid_0's rmse: 1.11498\n",
      "Training until validation scores don't improve for 10 rounds.\n",
      "[2]\tvalid_0's rmse: 1.09557\n",
      "[3]\tvalid_0's rmse: 1.07811\n",
      "[4]\tvalid_0's rmse: 1.06255\n",
      "[5]\tvalid_0's rmse: 1.04975\n",
      "[6]\tvalid_0's rmse: 1.03798\n",
      "[7]\tvalid_0's rmse: 1.02698\n",
      "[8]\tvalid_0's rmse: 1.01762\n",
      "[9]\tvalid_0's rmse: 1.00861\n",
      "[10]\tvalid_0's rmse: 1.00028\n",
      "[11]\tvalid_0's rmse: 0.993857\n",
      "[12]\tvalid_0's rmse: 0.988462\n",
      "[13]\tvalid_0's rmse: 0.983568\n",
      "[14]\tvalid_0's rmse: 0.978991\n",
      "[15]\tvalid_0's rmse: 0.976251\n",
      "[16]\tvalid_0's rmse: 0.972765\n",
      "[17]\tvalid_0's rmse: 0.96986\n",
      "[18]\tvalid_0's rmse: 0.966863\n",
      "[19]\tvalid_0's rmse: 0.96444\n",
      "[20]\tvalid_0's rmse: 0.962571\n",
      "[21]\tvalid_0's rmse: 0.96143\n",
      "[22]\tvalid_0's rmse: 0.960629\n",
      "[23]\tvalid_0's rmse: 0.959875\n",
      "[24]\tvalid_0's rmse: 0.961014\n",
      "[25]\tvalid_0's rmse: 0.962336\n",
      "[26]\tvalid_0's rmse: 0.962955\n",
      "[27]\tvalid_0's rmse: 0.962752\n",
      "[28]\tvalid_0's rmse: 0.964433\n",
      "[29]\tvalid_0's rmse: 0.965212\n",
      "[30]\tvalid_0's rmse: 0.966297\n",
      "[31]\tvalid_0's rmse: 0.966923\n",
      "[32]\tvalid_0's rmse: 0.968094\n",
      "[33]\tvalid_0's rmse: 0.96959\n",
      "Early stopping, best iteration is:\n",
      "[23]\tvalid_0's rmse: 0.959875\n"
     ]
    }
   ],
   "source": [
    "''' simple test on params tuning for validation data (33)'''\n",
    "\n",
    "params = {    \n",
    "    'boosting_type': 'gbdt',\n",
    "    'objective': 'regression',\n",
    "    'metric': 'rmse',\n",
    "    'max_depth': 100,\n",
    "    'learning_rate': 0.05,\n",
    "    'feature_fraction': 0.9,\n",
    "    'bagging_fraction': 0.8,\n",
    "    'bagging_freq': 5    \n",
    "}\n",
    "\n",
    "lgb_train = lgb.Dataset(stage2_df[stage2_train_mask].values, stage2_train_y[stage2_train_mask])\n",
    "lgb_cv = lgb.Dataset(stage2_df[stage2_valid_mask].values, stage2_train_y[stage2_valid_mask], reference=lgb_train)\n",
    "\n",
    "reg = lgb.train(params,\n",
    "                early_stopping_rounds = 10,\n",
    "                train_set = lgb_train,\n",
    "                valid_sets=lgb_cv,\n",
    "                verbose_eval = True)"
   ]
  },
  {
   "cell_type": "code",
   "execution_count": 56,
   "metadata": {},
   "outputs": [
    {
     "name": "stdout",
     "output_type": "stream",
     "text": [
      "rmse: 0.96028 \tparams: {'bagging_fraction': 0.7094424888347837, 'boosting_type': 'gbdt', 'feature_fraction': 0.337676194628202, 'gamma': 0.3436357142691838, 'max_depth': 2, 'num_leaves': 26, 'reg_alpha': 0.02156778204642451, 'reg_lambda': 0.22642990112152694}\n",
      "rmse: 0.96991 \tparams: {'bagging_fraction': 0.7217457252870602, 'boosting_type': 'dart', 'feature_fraction': 0.5310746022798434, 'gamma': 0.4106919837885836, 'max_depth': 19, 'num_leaves': 38, 'reg_alpha': 0.7484267578017769, 'reg_lambda': 0.20689291129361165}\n",
      "rmse: 1.04974 \tparams: {'bagging_fraction': 0.7294093600857832, 'boosting_type': 'gbdt', 'feature_fraction': 0.7440880024488705, 'gamma': 0.19575122693764443, 'max_depth': 15, 'num_leaves': 44, 'reg_alpha': 0.6033168983769782, 'reg_lambda': 0.4116355960978886}\n",
      "rmse: 1.00458 \tparams: {'bagging_fraction': 0.7680316608030118, 'boosting_type': 'gbdt', 'feature_fraction': 0.42634851947130104, 'gamma': 0.346853400414031, 'max_depth': 6, 'num_leaves': 34, 'reg_alpha': 0.69853061010041, 'reg_lambda': 0.09170376622594667}\n",
      "rmse: 1.01153 \tparams: {'bagging_fraction': 0.8286438367108362, 'boosting_type': 'gbdt', 'feature_fraction': 0.6587578774627747, 'gamma': 0.20809356452165986, 'max_depth': 13, 'num_leaves': 12, 'reg_alpha': 0.9680656971738517, 'reg_lambda': 0.11822785523058899}\n",
      "rmse: 1.06743 \tparams: {'bagging_fraction': 0.8079659040232533, 'boosting_type': 'gbdt', 'feature_fraction': 0.7641354971190686, 'gamma': 0.1166848943634419, 'max_depth': 13, 'num_leaves': 84, 'reg_alpha': 0.2525014956108982, 'reg_lambda': 0.08093933302521006}\n",
      "rmse: 1.02297 \tparams: {'bagging_fraction': 0.9579613610835227, 'boosting_type': 'gbdt', 'feature_fraction': 0.5976754561875193, 'gamma': 0.24601344891005175, 'max_depth': 5, 'num_leaves': 70, 'reg_alpha': 0.11622846001350318, 'reg_lambda': 0.7664639632802133}\n",
      "rmse: 0.95794 \tparams: {'bagging_fraction': 0.8650190501048176, 'boosting_type': 'gbdt', 'feature_fraction': 0.5074368250575485, 'gamma': 0.382705081425899, 'max_depth': 2, 'num_leaves': 90, 'reg_alpha': 0.678006573165918, 'reg_lambda': 0.2745698349150779}\n",
      "rmse: 0.98376 \tparams: {'bagging_fraction': 0.7938868135511582, 'boosting_type': 'gbdt', 'feature_fraction': 0.739702951206487, 'gamma': 0.2078661662905341, 'max_depth': 8, 'num_leaves': 8, 'reg_alpha': 0.7665545871199693, 'reg_lambda': 0.8814956021815105}\n",
      "rmse: 1.02503 \tparams: {'bagging_fraction': 0.8694571320282947, 'boosting_type': 'gbdt', 'feature_fraction': 0.3965392542017757, 'gamma': 0.17912532733940956, 'max_depth': 6, 'num_leaves': 56, 'reg_alpha': 0.726369552811997, 'reg_lambda': 0.21653188432396364}\n"
     ]
    }
   ],
   "source": [
    "lgb_clf = lgb.LGBMRegressor(random_state=0, n_jobs=4)\n",
    "\n",
    "# 1. find an optimal n_esti for rather larger learning rate\n",
    "lgb_params = {\n",
    "    'clf' : lgb_clf,\n",
    "    'params': {        \n",
    "        'boosting_type': hp.choice('boosting_type',['gbdt', 'dart']), ## dart\n",
    "#         'boosting_type': 'dart',\n",
    "        'max_depth' : hp.choice(\"max_depth\", np.arange(2, 20, dtype=int)),    \n",
    "        'num_leaves'   : hp.choice('num_leaves', np.arange(8,129,2,dtype=int)),        \n",
    "        \n",
    "        'feature_fraction': hp.uniform('feature_fraction', 0.3, 1.0),\n",
    "        'bagging_fraction': hp.uniform ('bagging_fraction', 0.7, 1),\n",
    "        'reg_alpha' : hp.uniform('reg_alpha',0,1),\n",
    "        'reg_lambda': hp.uniform('reg_lambda',0,1),\n",
    "        'gamma' : hp.uniform('gamma', 0.1,0.5)\n",
    "    }\n",
    "    \n",
    "}\n",
    "best =fmin(fn = objective,\n",
    "           space = lgb_params,\n",
    "           algo = tpe.suggest,\n",
    "           max_evals = 10\n",
    "           )"
   ]
  },
  {
   "cell_type": "code",
   "execution_count": 36,
   "metadata": {},
   "outputs": [
    {
     "data": {
      "text/plain": [
       "{'bagging_fraction': 0.7682846887438464,\n",
       " 'boosting_type': 1,\n",
       " 'feature_fraction': 0.5753991342264869,\n",
       " 'gamma': 0.27914831744734536,\n",
       " 'max_depth': 1,\n",
       " 'num_leaves': 16,\n",
       " 'reg_alpha': 0.5590666758177603,\n",
       " 'reg_lambda': 0.8430454690248188}"
      ]
     },
     "execution_count": 36,
     "metadata": {},
     "output_type": "execute_result"
    }
   ],
   "source": [
    "best"
   ]
  },
  {
   "cell_type": "code",
   "execution_count": 166,
   "metadata": {},
   "outputs": [
    {
     "name": "stdout",
     "output_type": "stream",
     "text": [
      "rmse: 0.91792 \tparams: {'boosting_type': 'dart', 'max_depth': 10, 'num_leaves': 13, 'feature_fraction': 0.7703258965795443, 'bagging_fraction': 0.834750265236025, 'reg_alpha': 0.45107691031250763, 'reg_lambda': 0.8878342456557001, 'gamma': 0.4687491515287674}\n"
     ]
    }
   ],
   "source": [
    "lgb_clf = lgb.LGBMRegressor(random_state=0, n_jobs=8)\n",
    "lgb_params = {\n",
    "    'clf' : lgb_clf,\n",
    "    'params': {\n",
    "        \n",
    "        'boosting_type': 'dart',\n",
    "        'max_depth' : 10, \n",
    "        'num_leaves'   : 13,         \n",
    "        'feature_fraction': 0.7703258965795443,\n",
    "        'bagging_fraction': 0.834750265236025,\n",
    "        'reg_alpha' : 0.45107691031250763,\n",
    "        'reg_lambda': 0.8878342456557001,\n",
    "        'gamma' : 0.4687491515287674\n",
    "    }    \n",
    "}\n",
    "best_lgb_2nd_val_loss = objective(lgb_params)"
   ]
  },
  {
   "cell_type": "markdown",
   "metadata": {},
   "source": [
    "> rmse: 0.91882 \t\n",
    "- params: `{'bagging_fraction': 0.8219608927918671, 'boosting_type': 'dart', 'feature_fraction': 0.8197533685642909, 'gamma': 0.4386326407529417, 'max_depth': 11, 'num_leaves': 10, 'reg_alpha': 0.7227955651016644, 'reg_lambda': 0.11999749478454569}`"
   ]
  },
  {
   "cell_type": "markdown",
   "metadata": {},
   "source": [
    "# Submission"
   ]
  },
  {
   "cell_type": "code",
   "execution_count": 149,
   "metadata": {},
   "outputs": [],
   "source": [
    "# lgb_train = lgb.Dataset(stage2_df[stage2_final_train_mask],stage2_train_y[stage2_final_train_mask])\n",
    "# params_best = {\n",
    "#         'boosting_type': 'dart',\n",
    "#         'max_depth' : 11,\n",
    "#         'num_leaves': 10,        \n",
    "#         'feature_fraction': 0.81975,\n",
    "#         'bagging_fraction': 0.82196,\n",
    "#         'reg_alpha' : 0.7228,\n",
    "#         'reg_lambda': 0.1200,\n",
    "#         'gamma' : 0.4386\n",
    "# }\n",
    "# # lgb_cv = lgb.Dataset(X_cv,y_cv,reference=lgb_train)\n",
    "# reg_sub = lgb.train(params_best,                    \n",
    "#                     train_set = lgb_train\n",
    "#                     )"
   ]
  },
  {
   "cell_type": "code",
   "execution_count": 168,
   "metadata": {},
   "outputs": [],
   "source": [
    "lgb_params = {                \n",
    "    'boosting_type': 'dart',\n",
    "    'max_depth' : 10, \n",
    "    'num_leaves'   : 13,         \n",
    "    'feature_fraction': 0.7703258965795443,\n",
    "    'bagging_fraction': 0.834750265236025,\n",
    "    'reg_alpha' : 0.45107691031250763,\n",
    "    'reg_lambda': 0.8878342456557001,\n",
    "    'gamma' : 0.4687491515287674\n",
    "}"
   ]
  },
  {
   "cell_type": "code",
   "execution_count": 170,
   "metadata": {},
   "outputs": [
    {
     "name": "stdout",
     "output_type": "stream",
     "text": [
      "rmse: 0.91792 \t"
     ]
    }
   ],
   "source": [
    "lgb_clf = lgb.LGBMRegressor(random_state=0, n_jobs=8,**lgb_params)\n",
    "\n",
    "## simple hold out \n",
    "\n",
    "lgb_clf.fit(stage2_df[stage2_train_mask].values, stage2_train_y[stage2_train_mask])    \n",
    "\n",
    "pred_y = lgb_clf.predict(stage2_df[stage2_valid_mask].values)\n",
    "pred_y = np.clip(pred_y, 0., 20.) # clip to (0,20)\n",
    "rmse = mean_squared_error(stage2_train_y[stage2_valid_mask], pred_y)**.5\n",
    "print('rmse: {:.5f} '.format(rmse), end='\\t')\n"
   ]
  },
  {
   "cell_type": "code",
   "execution_count": 1,
   "metadata": {
    "collapsed": true
   },
   "outputs": [
    {
     "ename": "NameError",
     "evalue": "name 'lgb' is not defined",
     "output_type": "error",
     "traceback": [
      "\u001b[1;31m---------------------------------------------------------------------------\u001b[0m",
      "\u001b[1;31mNameError\u001b[0m                                 Traceback (most recent call last)",
      "\u001b[1;32m<ipython-input-1-c57d23479bf0>\u001b[0m in \u001b[0;36m<module>\u001b[1;34m()\u001b[0m\n\u001b[1;32m----> 1\u001b[1;33m \u001b[0mlgb_clf\u001b[0m \u001b[1;33m=\u001b[0m \u001b[0mlgb\u001b[0m\u001b[1;33m.\u001b[0m\u001b[0mLGBMRegressor\u001b[0m\u001b[1;33m(\u001b[0m\u001b[0mrandom_state\u001b[0m\u001b[1;33m=\u001b[0m\u001b[1;36m0\u001b[0m\u001b[1;33m,\u001b[0m \u001b[0mn_jobs\u001b[0m\u001b[1;33m=\u001b[0m\u001b[1;36m8\u001b[0m\u001b[1;33m,\u001b[0m\u001b[1;33m**\u001b[0m\u001b[0mlgb_params\u001b[0m\u001b[1;33m)\u001b[0m\u001b[1;33m\u001b[0m\u001b[0m\n\u001b[0m\u001b[0;32m      2\u001b[0m \u001b[0mlgb_clf\u001b[0m\u001b[1;33m.\u001b[0m\u001b[0mfit\u001b[0m\u001b[1;33m(\u001b[0m\u001b[0mstage2_df\u001b[0m\u001b[1;33m[\u001b[0m\u001b[0mstage2_final_train_mask\u001b[0m\u001b[1;33m]\u001b[0m\u001b[1;33m.\u001b[0m\u001b[0mvalues\u001b[0m\u001b[1;33m,\u001b[0m\u001b[0mstage2_train_y\u001b[0m\u001b[1;33m[\u001b[0m\u001b[0mstage2_final_train_mask\u001b[0m\u001b[1;33m]\u001b[0m\u001b[1;33m)\u001b[0m\u001b[1;33m\u001b[0m\u001b[0m\n\u001b[0;32m      3\u001b[0m \u001b[0mpred_y\u001b[0m \u001b[1;33m=\u001b[0m \u001b[0mlgb_clf\u001b[0m\u001b[1;33m.\u001b[0m\u001b[0mpredict\u001b[0m\u001b[1;33m(\u001b[0m\u001b[0mstage2_df\u001b[0m\u001b[1;33m[\u001b[0m\u001b[0mstage2_test_mask\u001b[0m\u001b[1;33m]\u001b[0m\u001b[1;33m.\u001b[0m\u001b[0mvalues\u001b[0m\u001b[1;33m)\u001b[0m\u001b[1;33m\u001b[0m\u001b[0m\n\u001b[0;32m      4\u001b[0m \u001b[0mpred_y\u001b[0m \u001b[1;33m=\u001b[0m \u001b[0mnp\u001b[0m\u001b[1;33m.\u001b[0m\u001b[0mclip\u001b[0m\u001b[1;33m(\u001b[0m\u001b[0mpred_y\u001b[0m\u001b[1;33m,\u001b[0m\u001b[1;36m0\u001b[0m\u001b[1;33m,\u001b[0m\u001b[1;36m20\u001b[0m\u001b[1;33m)\u001b[0m\u001b[1;33m\u001b[0m\u001b[0m\n\u001b[0;32m      5\u001b[0m \u001b[1;31m##\u001b[0m\u001b[1;33m\u001b[0m\u001b[1;33m\u001b[0m\u001b[0m\n",
      "\u001b[1;31mNameError\u001b[0m: name 'lgb' is not defined"
     ]
    }
   ],
   "source": [
    "lgb_clf = lgb.LGBMRegressor(random_state=0, n_jobs=8,**lgb_params)\n",
    "lgb_clf.fit(stage2_df[stage2_final_train_mask].values,stage2_train_y[stage2_final_train_mask])\n",
    "pred_y = lgb_clf.predict(stage2_df[stage2_test_mask].values)\n",
    "pred_y = np.clip(pred_y,0,20)\n",
    "## "
   ]
  },
  {
   "cell_type": "code",
   "execution_count": 172,
   "metadata": {},
   "outputs": [],
   "source": [
    "y_submit = pd.DataFrame({'ID':range(len(pred_y)), 'item_cnt_month':pred_y}) # validate on 2015oct : 0.91732, LB: 0.94824---- poor!!!\n",
    "y_submit.to_csv('../data/output/submission_lgbm5_stacking_finetune_params.csv',index=False) # stacking"
   ]
  }
 ],
 "metadata": {
  "anaconda-cloud": {},
  "kernelspec": {
   "display_name": "Python [conda env:py36]",
   "language": "python",
   "name": "conda-env-py36-py"
  },
  "language_info": {
   "codemirror_mode": {
    "name": "ipython",
    "version": 3
   },
   "file_extension": ".py",
   "mimetype": "text/x-python",
   "name": "python",
   "nbconvert_exporter": "python",
   "pygments_lexer": "ipython3",
   "version": "3.6.3"
  }
 },
 "nbformat": 4,
 "nbformat_minor": 1
}
