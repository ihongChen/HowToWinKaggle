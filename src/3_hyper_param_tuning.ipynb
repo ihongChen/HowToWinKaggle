{
 "cells": [
  {
   "cell_type": "markdown",
   "metadata": {},
   "source": [
    "# Hyperparams tuning \n",
    "\n",
    "## Features \n",
    "    - lag / mean encoding (numerical)\n",
    "    - hashing/tfidf svd text features\n",
    "## cross validation \n",
    "Use only simple hold out scheme\n",
    "- train on `[0-32]`\n",
    "- validate at `date_block_num = 33`\n",
    "- via `hyperopt ` packages"
   ]
  },
  {
   "cell_type": "code",
   "execution_count": 2,
   "metadata": {},
   "outputs": [],
   "source": [
    "import pandas as pd \n",
    "import gc"
   ]
  },
  {
   "cell_type": "markdown",
   "metadata": {},
   "source": [
    "## Load data"
   ]
  },
  {
   "cell_type": "markdown",
   "metadata": {},
   "source": [
    "- basic numerical features (lag/mean encoding)"
   ]
  },
  {
   "cell_type": "code",
   "execution_count": 3,
   "metadata": {},
   "outputs": [
    {
     "name": "stdout",
     "output_type": "stream",
     "text": [
      "['/X_cv', '/X_test', '/X_train', '/y_cv', '/y_train']\n"
     ]
    }
   ],
   "source": [
    "with pd.HDFStore('../data/feat/data.h5') as store:\n",
    "    print(store.keys())\n",
    "#     X_train = store['X_train']\n",
    "#     X_cv = store['X_cv']\n",
    "    y_train = store['y_train']\n",
    "    y_cv = store['y_cv']\n",
    "#     X_test = store['X_test']"
   ]
  },
  {
   "cell_type": "code",
   "execution_count": 4,
   "metadata": {},
   "outputs": [],
   "source": [
    "y_train = y_train.clip(0,20)\n",
    "y_cv = y_cv.clip(0,20)"
   ]
  },
  {
   "cell_type": "markdown",
   "metadata": {},
   "source": [
    "- text features"
   ]
  },
  {
   "cell_type": "code",
   "execution_count": 6,
   "metadata": {},
   "outputs": [
    {
     "name": "stdout",
     "output_type": "stream",
     "text": [
      "['/all_feats_df_all']\n"
     ]
    }
   ],
   "source": [
    "with pd.HDFStore('../data/feat/all_feat_df_all.h5') as feat:\n",
    "    print(feat.keys())\n",
    "    all_feats_df_all = feat['all_feats_df_all']"
   ]
  },
  {
   "cell_type": "markdown",
   "metadata": {},
   "source": [
    "### shrink date_block_num for memory issud"
   ]
  },
  {
   "cell_type": "code",
   "execution_count": 8,
   "metadata": {},
   "outputs": [],
   "source": [
    "mask = all_feats_df_all.date_block_num>=12\n",
    "all_feats_df_all = all_feats_df_all[mask]\n",
    "y_cv = y_cv[mask]\n",
    "y_train = y_train[mask]"
   ]
  },
  {
   "cell_type": "code",
   "execution_count": 9,
   "metadata": {},
   "outputs": [],
   "source": [
    "train_mask = all_feats_df_all.date_block_num <= 32\n",
    "cv_mask = all_feats_df_all.date_block_num == 33\n",
    "test_mask = all_feats_df_all.date_block_num == 34"
   ]
  },
  {
   "cell_type": "code",
   "execution_count": 10,
   "metadata": {},
   "outputs": [
    {
     "data": {
      "text/plain": [
       "4279"
      ]
     },
     "execution_count": 10,
     "metadata": {},
     "output_type": "execute_result"
    }
   ],
   "source": [
    "gc.collect()"
   ]
  },
  {
   "cell_type": "markdown",
   "metadata": {},
   "source": [
    "# Modeling"
   ]
  },
  {
   "cell_type": "code",
   "execution_count": 11,
   "metadata": {},
   "outputs": [],
   "source": [
    "import lightgbm as lgb"
   ]
  },
  {
   "cell_type": "markdown",
   "metadata": {},
   "source": [
    "### Naive testing \n",
    "without hyper param optimization"
   ]
  },
  {
   "cell_type": "code",
   "execution_count": 12,
   "metadata": {},
   "outputs": [],
   "source": [
    "lgb_train = lgb.Dataset(all_feats_df_all[train_mask], \n",
    "                        y_train,\n",
    "                        free_raw_data=False) ## if you want to reuse data --> remember to set free_raw_data=False\n",
    "lgb_cv = lgb.Dataset(all_feats_df_all[cv_mask], \n",
    "                     y_cv, \n",
    "                     reference=lgb_train,\n",
    "                     free_raw_data=False)"
   ]
  },
  {
   "cell_type": "code",
   "execution_count": 13,
   "metadata": {},
   "outputs": [],
   "source": [
    "''' simple test on params tuning for validation data (33)'''\n",
    "# train_mask = all_feats_df_all.date_block_num <= 32\n",
    "# cv_mask = all_feats_df_all.date_block_num == 33\n",
    "### this one I want to repeat previous benchmark: rmse~ 0.90905\n",
    "opt_params = {\n",
    "    'max_depth': 9, \n",
    "    'num_leaves': 80,\n",
    "    'metric': 'rmse',\n",
    "    'bagging_fraction': 0.7257895345351948, \n",
    "    'boosting_type': 'gbdt', \n",
    "    'feature_fraction': 0.6932767211963933, \n",
    "    'gamma': 0.3004315340493337,  \n",
    "    'reg_lambda': 0.519291939932697\n",
    "}\n",
    "\n",
    "params = {    \n",
    "    'boosting_type': 'gbdt',\n",
    "    'objective': 'regression',\n",
    "    'metric': 'rmse',\n",
    "    'max_depth': 500,\n",
    "    'learning_rate': 0.05,\n",
    "    'feature_fraction': 0.9,\n",
    "    'bagging_fraction': 0.8,\n",
    "    'bagging_freq': 5    \n",
    "}"
   ]
  },
  {
   "cell_type": "code",
   "execution_count": 11,
   "metadata": {},
   "outputs": [
    {
     "data": {
      "text/plain": [
       "0"
      ]
     },
     "execution_count": 11,
     "metadata": {},
     "output_type": "execute_result"
    }
   ],
   "source": [
    "# del all_feats_df_all;gc.collect()"
   ]
  },
  {
   "cell_type": "code",
   "execution_count": 18,
   "metadata": {},
   "outputs": [
    {
     "name": "stdout",
     "output_type": "stream",
     "text": [
      "[1]\tvalid_0's rmse: 1.02277\n",
      "Training until validation scores don't improve for 5 rounds.\n",
      "[2]\tvalid_0's rmse: 1.00788\n",
      "[3]\tvalid_0's rmse: 0.996426\n",
      "[4]\tvalid_0's rmse: 0.986937\n",
      "[5]\tvalid_0's rmse: 0.977267\n",
      "[6]\tvalid_0's rmse: 0.968423\n",
      "[7]\tvalid_0's rmse: 0.961645\n",
      "[8]\tvalid_0's rmse: 0.95564\n",
      "[9]\tvalid_0's rmse: 0.951398\n",
      "[10]\tvalid_0's rmse: 0.945285\n",
      "[11]\tvalid_0's rmse: 0.940741\n",
      "[12]\tvalid_0's rmse: 0.937988\n",
      "[13]\tvalid_0's rmse: 0.935239\n",
      "[14]\tvalid_0's rmse: 0.933181\n",
      "[15]\tvalid_0's rmse: 0.931515\n",
      "[16]\tvalid_0's rmse: 0.928914\n",
      "[17]\tvalid_0's rmse: 0.928424\n",
      "[18]\tvalid_0's rmse: 0.92708\n",
      "[19]\tvalid_0's rmse: 0.925929\n",
      "[20]\tvalid_0's rmse: 0.923982\n",
      "[21]\tvalid_0's rmse: 0.922608\n",
      "[22]\tvalid_0's rmse: 0.921129\n",
      "[23]\tvalid_0's rmse: 0.921481\n",
      "[24]\tvalid_0's rmse: 0.920943\n",
      "[25]\tvalid_0's rmse: 0.91925\n",
      "[26]\tvalid_0's rmse: 0.918267\n",
      "[27]\tvalid_0's rmse: 0.917091\n",
      "[28]\tvalid_0's rmse: 0.91712\n",
      "[29]\tvalid_0's rmse: 0.916605\n",
      "[30]\tvalid_0's rmse: 0.916102\n",
      "[31]\tvalid_0's rmse: 0.915631\n",
      "[32]\tvalid_0's rmse: 0.914626\n",
      "[33]\tvalid_0's rmse: 0.914078\n",
      "[34]\tvalid_0's rmse: 0.913977\n",
      "[35]\tvalid_0's rmse: 0.912211\n",
      "[36]\tvalid_0's rmse: 0.911717\n",
      "[37]\tvalid_0's rmse: 0.911286\n",
      "[38]\tvalid_0's rmse: 0.91059\n",
      "[39]\tvalid_0's rmse: 0.910416\n",
      "[40]\tvalid_0's rmse: 0.910641\n",
      "[41]\tvalid_0's rmse: 0.910341\n",
      "[42]\tvalid_0's rmse: 0.910014\n",
      "[43]\tvalid_0's rmse: 0.909546\n",
      "[44]\tvalid_0's rmse: 0.909318\n",
      "[45]\tvalid_0's rmse: 0.909035\n",
      "[46]\tvalid_0's rmse: 0.909008\n",
      "[47]\tvalid_0's rmse: 0.908499\n",
      "[48]\tvalid_0's rmse: 0.908483\n",
      "[49]\tvalid_0's rmse: 0.908669\n",
      "[50]\tvalid_0's rmse: 0.908458\n",
      "[51]\tvalid_0's rmse: 0.909073\n",
      "[52]\tvalid_0's rmse: 0.909169\n",
      "[53]\tvalid_0's rmse: 0.909188\n",
      "[54]\tvalid_0's rmse: 0.90909\n",
      "[55]\tvalid_0's rmse: 0.909079\n",
      "Early stopping, best iteration is:\n",
      "[50]\tvalid_0's rmse: 0.908458\n"
     ]
    }
   ],
   "source": [
    "reg = lgb.train(opt_params,\n",
    "                train_set = lgb_train,\n",
    "                valid_sets=lgb_cv,\n",
    "                early_stopping_rounds = 5,\n",
    "                verbose_eval = True)"
   ]
  },
  {
   "cell_type": "code",
   "execution_count": 15,
   "metadata": {},
   "outputs": [],
   "source": [
    "reg.save_model('../data/model/model_block_12_32_prev.txt')"
   ]
  },
  {
   "cell_type": "code",
   "execution_count": 16,
   "metadata": {},
   "outputs": [
    {
     "data": {
      "text/plain": [
       "941"
      ]
     },
     "execution_count": 16,
     "metadata": {},
     "output_type": "execute_result"
    }
   ],
   "source": [
    "gc.collect()"
   ]
  },
  {
   "cell_type": "markdown",
   "metadata": {},
   "source": [
    "#### continue train `reg` model"
   ]
  },
  {
   "cell_type": "code",
   "execution_count": 17,
   "metadata": {},
   "outputs": [
    {
     "name": "stdout",
     "output_type": "stream",
     "text": [
      "[101]\tvalid_0's rmse: 1.02277\n",
      "Training until validation scores don't improve for 5 rounds.\n",
      "[102]\tvalid_0's rmse: 1.00788\n",
      "[103]\tvalid_0's rmse: 0.996426\n",
      "[104]\tvalid_0's rmse: 0.986937\n",
      "[105]\tvalid_0's rmse: 0.977267\n",
      "[106]\tvalid_0's rmse: 0.968423\n",
      "[107]\tvalid_0's rmse: 0.961645\n",
      "[108]\tvalid_0's rmse: 0.95564\n",
      "[109]\tvalid_0's rmse: 0.951398\n",
      "[110]\tvalid_0's rmse: 0.945285\n",
      "[111]\tvalid_0's rmse: 0.940741\n",
      "[112]\tvalid_0's rmse: 0.937988\n",
      "[113]\tvalid_0's rmse: 0.935239\n",
      "[114]\tvalid_0's rmse: 0.933181\n",
      "[115]\tvalid_0's rmse: 0.931515\n",
      "[116]\tvalid_0's rmse: 0.928914\n",
      "[117]\tvalid_0's rmse: 0.928424\n",
      "[118]\tvalid_0's rmse: 0.92708\n",
      "[119]\tvalid_0's rmse: 0.925929\n",
      "[120]\tvalid_0's rmse: 0.923982\n",
      "[121]\tvalid_0's rmse: 0.922608\n",
      "[122]\tvalid_0's rmse: 0.921129\n",
      "[123]\tvalid_0's rmse: 0.921481\n",
      "[124]\tvalid_0's rmse: 0.920943\n",
      "[125]\tvalid_0's rmse: 0.91925\n",
      "[126]\tvalid_0's rmse: 0.918267\n",
      "[127]\tvalid_0's rmse: 0.917091\n",
      "[128]\tvalid_0's rmse: 0.91712\n",
      "[129]\tvalid_0's rmse: 0.916605\n",
      "[130]\tvalid_0's rmse: 0.916102\n",
      "[131]\tvalid_0's rmse: 0.915631\n",
      "[132]\tvalid_0's rmse: 0.914626\n",
      "[133]\tvalid_0's rmse: 0.914078\n",
      "[134]\tvalid_0's rmse: 0.913977\n",
      "[135]\tvalid_0's rmse: 0.912211\n",
      "[136]\tvalid_0's rmse: 0.911717\n",
      "[137]\tvalid_0's rmse: 0.911286\n",
      "[138]\tvalid_0's rmse: 0.91059\n",
      "[139]\tvalid_0's rmse: 0.910416\n",
      "[140]\tvalid_0's rmse: 0.910641\n",
      "[141]\tvalid_0's rmse: 0.910341\n",
      "[142]\tvalid_0's rmse: 0.910014\n",
      "[143]\tvalid_0's rmse: 0.909546\n",
      "[144]\tvalid_0's rmse: 0.909318\n",
      "[145]\tvalid_0's rmse: 0.909035\n",
      "[146]\tvalid_0's rmse: 0.909008\n",
      "[147]\tvalid_0's rmse: 0.908499\n",
      "[148]\tvalid_0's rmse: 0.908483\n",
      "[149]\tvalid_0's rmse: 0.908669\n",
      "[150]\tvalid_0's rmse: 0.908458\n",
      "[151]\tvalid_0's rmse: 0.909073\n",
      "[152]\tvalid_0's rmse: 0.909169\n",
      "[153]\tvalid_0's rmse: 0.909188\n",
      "[154]\tvalid_0's rmse: 0.90909\n",
      "[155]\tvalid_0's rmse: 0.909079\n",
      "Early stopping, best iteration is:\n",
      "[150]\tvalid_0's rmse: 0.908458\n"
     ]
    }
   ],
   "source": [
    "# continue training\n",
    "# init_model accepts:\n",
    "# 1. model file name\n",
    "# 2. Booster()\n",
    "opt_params = {\n",
    "    'max_depth': 9, \n",
    "    'num_leaves': 80,\n",
    "    'metric': 'rmse',\n",
    "    'bagging_fraction': 0.7257895345351948, \n",
    "    'boosting_type': 'gbdt', \n",
    "    'feature_fraction': 0.6932767211963933, \n",
    "    'gamma': 0.3004315340493337,  \n",
    "    'reg_lambda': 0.519291939932697\n",
    "}\n",
    "params = {    \n",
    "    'boosting_type': 'dart',\n",
    "    'objective': 'regression',\n",
    "    'metric': 'rmse',\n",
    "    'max_depth': 500,\n",
    "    'learning_rate': 0.05,\n",
    "    'feature_fraction': 0.9,\n",
    "    'bagging_fraction': 0.8,\n",
    "    'bagging_freq': 5    \n",
    "}\n",
    "gbm = lgb.train(opt_params,                \n",
    "                lgb_train,\n",
    "                early_stopping_rounds=5,\n",
    "                num_boost_round=500,\n",
    "                init_model='../data/model/model_tmp.txt',                \n",
    "                valid_sets=lgb_cv)"
   ]
  },
  {
   "cell_type": "code",
   "execution_count": 15,
   "metadata": {},
   "outputs": [
    {
     "data": {
      "text/plain": [
       "68"
      ]
     },
     "execution_count": 15,
     "metadata": {},
     "output_type": "execute_result"
    }
   ],
   "source": [
    "# del all_feats_df_all;\n",
    "gc.collect()"
   ]
  },
  {
   "cell_type": "markdown",
   "metadata": {},
   "source": [
    "# Hyperparam tunning"
   ]
  },
  {
   "cell_type": "code",
   "execution_count": 27,
   "metadata": {},
   "outputs": [],
   "source": [
    "from hyperopt import fmin, tpe, hp, STATUS_OK,Trials\n",
    "import numpy as np "
   ]
  },
  {
   "cell_type": "code",
   "execution_count": null,
   "metadata": {},
   "outputs": [],
   "source": [
    "lgb_train = lgb.Dataset(X_train,y_train)\n",
    "lgb_cv = lgb.Dataset(X_cv,y_cv,reference=lgb_train)"
   ]
  },
  {
   "cell_type": "code",
   "execution_count": 39,
   "metadata": {},
   "outputs": [
    {
     "data": {
      "text/plain": [
       "0.90845843207123433"
      ]
     },
     "execution_count": 39,
     "metadata": {},
     "output_type": "execute_result"
    }
   ],
   "source": [
    "reg.best_score['valid_0']['rmse']"
   ]
  },
  {
   "cell_type": "code",
   "execution_count": 74,
   "metadata": {},
   "outputs": [],
   "source": [
    "from pprint import pprint"
   ]
  },
  {
   "cell_type": "code",
   "execution_count": 63,
   "metadata": {},
   "outputs": [],
   "source": [
    "def lgbm_objective(params):\n",
    "    \n",
    "    reg = lgb.train(params,\n",
    "                    train_set = lgb_train,\n",
    "                    valid_sets = lgb_cv,\n",
    "                    num_boost_round = 300,\n",
    "                    early_stopping_rounds = 5,\n",
    "                    verbose_eval = False)\n",
    "    print('rmse:{:.5f}'.format(reg.best_score['valid_0']['rmse']))\n",
    "    print('best iteration:{}'.format(reg.best_iteration))\n",
    "    \n",
    "    pprint('params:{}'.format(params))\n",
    "    print('-------------'*5)\n",
    "    \n",
    "    return {'loss':reg.best_score['valid_0']['rmse'], 'status': STATUS_OK }"
   ]
  },
  {
   "cell_type": "code",
   "execution_count": 83,
   "metadata": {},
   "outputs": [],
   "source": [
    "lgbm_space = {\n",
    "#     'boosting_type'   : hp.choice('boosting_type',['gbdt', 'dart']), ## gbdt \n",
    "    'boosting_type'   : 'gbdt',  \n",
    "#     'max_depth'       : hp.choice(\"max_depth\", np.arange(20, 500, dtype=int)),\n",
    "    'learning_rate'   : hp.uniform('learning_rate', 0.05, 0.1),    \n",
    "    'num_leaves'      : hp.choice('num_leaves', np.arange(8,129,2,dtype=int)), ## no limit \n",
    "    'min_data_in_leaf': 200, ## prevent overfit\n",
    "    'feature_fraction': hp.uniform('feature_fraction', 0.3, 1.0), ## colsample_bytree\n",
    "    'bagging_fraction': hp.uniform ('bagging_fraction', 0.7, 1), ## can be used to speed up training/ deal with overfitting\n",
    "    'reg_lambda'      : hp.uniform('reg_lambda',0,1),\n",
    "    'gamma'           : hp.uniform('gamma', 0.1,0.5),\n",
    "    'metric'          : 'rmse'\n",
    "}\n"
   ]
  },
  {
   "cell_type": "code",
   "execution_count": 84,
   "metadata": {},
   "outputs": [
    {
     "name": "stderr",
     "output_type": "stream",
     "text": [
      "C:\\Program Files\\Anaconda3\\envs\\py36\\lib\\site-packages\\lightgbm\\engine.py:99: UserWarning: Found `num_iterations` in params. Will use it instead of argument\n",
      "  warnings.warn(\"Found `{}` in params. Will use it instead of argument\".format(alias))\n"
     ]
    },
    {
     "name": "stdout",
     "output_type": "stream",
     "text": [
      "rmse:0.89445\n",
      "params:{'bagging_fraction': 0.8135469584425394, 'boosting_type': 'gbdt', 'feature_fraction': 0.6879735800500992, 'gamma': 0.3394655342808342, 'learning_rate': 0.09310523644963001, 'metric': 'rmse', 'min_data_in_leaf': 200, 'num_leaves': 96, 'reg_lambda': 0.27046222035396306, 'verbose': 1}\n",
      "best iteration:61\n",
      "-----------------------------------------------------------------\n",
      "rmse:0.88947\n",
      "params:{'bagging_fraction': 0.8981770831336265, 'boosting_type': 'gbdt', 'feature_fraction': 0.5654124422725608, 'gamma': 0.26816163495935863, 'learning_rate': 0.060870030014356986, 'metric': 'rmse', 'min_data_in_leaf': 200, 'num_leaves': 108, 'reg_lambda': 0.9056219575093959, 'verbose': 1}\n",
      "best iteration:119\n",
      "-----------------------------------------------------------------\n",
      "rmse:0.89294\n",
      "params:{'bagging_fraction': 0.7411557240931375, 'boosting_type': 'gbdt', 'feature_fraction': 0.4824427800879857, 'gamma': 0.20757491134283598, 'learning_rate': 0.09274139830991965, 'metric': 'rmse', 'min_data_in_leaf': 200, 'num_leaves': 62, 'reg_lambda': 0.8775626734792011, 'verbose': 1}\n",
      "best iteration:96\n",
      "-----------------------------------------------------------------\n",
      "rmse:0.90284\n",
      "params:{'bagging_fraction': 0.7344334117847087, 'boosting_type': 'gbdt', 'feature_fraction': 0.49763650897632594, 'gamma': 0.3160307499790004, 'learning_rate': 0.05029037653195225, 'metric': 'rmse', 'min_data_in_leaf': 200, 'num_leaves': 38, 'reg_lambda': 0.31578147128751943, 'verbose': 1}\n",
      "best iteration:155\n",
      "-----------------------------------------------------------------\n",
      "rmse:0.92279\n",
      "params:{'bagging_fraction': 0.9352545777226569, 'boosting_type': 'gbdt', 'feature_fraction': 0.4644514826765358, 'gamma': 0.11002201193515547, 'learning_rate': 0.07694027735854761, 'metric': 'rmse', 'min_data_in_leaf': 200, 'num_leaves': 24, 'reg_lambda': 0.5751134391317079, 'verbose': 1}\n",
      "best iteration:77\n",
      "-----------------------------------------------------------------\n",
      "rmse:0.89660\n",
      "params:{'bagging_fraction': 0.7124471618493674, 'boosting_type': 'gbdt', 'feature_fraction': 0.5452692542071217, 'gamma': 0.3151745906019511, 'learning_rate': 0.065669463047206, 'metric': 'rmse', 'min_data_in_leaf': 200, 'num_leaves': 94, 'reg_lambda': 0.4725219378044313, 'verbose': 1}\n",
      "best iteration:60\n",
      "-----------------------------------------------------------------\n",
      "rmse:0.89700\n",
      "params:{'bagging_fraction': 0.9228827329293299, 'boosting_type': 'gbdt', 'feature_fraction': 0.8272295344582514, 'gamma': 0.4169070640022762, 'learning_rate': 0.09222496688497167, 'metric': 'rmse', 'min_data_in_leaf': 200, 'num_leaves': 100, 'reg_lambda': 0.29192588772258987, 'verbose': 1}\n",
      "best iteration:68\n",
      "-----------------------------------------------------------------\n",
      "rmse:0.89875\n",
      "params:{'bagging_fraction': 0.769283663553617, 'boosting_type': 'gbdt', 'feature_fraction': 0.7646008837800844, 'gamma': 0.2077328326049553, 'learning_rate': 0.06997019839272564, 'metric': 'rmse', 'min_data_in_leaf': 200, 'num_leaves': 80, 'reg_lambda': 0.5456851678430622, 'verbose': 1}\n",
      "best iteration:81\n",
      "-----------------------------------------------------------------\n",
      "rmse:0.88730\n",
      "params:{'bagging_fraction': 0.7004522170291932, 'boosting_type': 'gbdt', 'feature_fraction': 0.35210794640316456, 'gamma': 0.15577564980992592, 'learning_rate': 0.07432644801356227, 'metric': 'rmse', 'min_data_in_leaf': 200, 'num_leaves': 124, 'reg_lambda': 0.8820739482513653, 'verbose': 1}\n",
      "best iteration:92\n",
      "-----------------------------------------------------------------\n",
      "rmse:0.89856\n",
      "params:{'bagging_fraction': 0.9882108201419246, 'boosting_type': 'gbdt', 'feature_fraction': 0.5239667728759023, 'gamma': 0.44014611215220056, 'learning_rate': 0.09669191905223073, 'metric': 'rmse', 'min_data_in_leaf': 200, 'num_leaves': 80, 'reg_lambda': 0.3991822279542583, 'verbose': 1}\n",
      "best iteration:70\n",
      "-----------------------------------------------------------------\n",
      "rmse:0.91188\n",
      "params:{'bagging_fraction': 0.8932676243408909, 'boosting_type': 'gbdt', 'feature_fraction': 0.7292153127744312, 'gamma': 0.40542818366513755, 'learning_rate': 0.08556113173897112, 'metric': 'rmse', 'min_data_in_leaf': 200, 'num_leaves': 20, 'reg_lambda': 0.17741965833016815, 'verbose': 1}\n",
      "best iteration:186\n",
      "-----------------------------------------------------------------\n",
      "rmse:0.89626\n",
      "params:{'bagging_fraction': 0.7635686784942137, 'boosting_type': 'gbdt', 'feature_fraction': 0.4232341727760094, 'gamma': 0.4576121209712024, 'learning_rate': 0.08648611166282552, 'metric': 'rmse', 'min_data_in_leaf': 200, 'num_leaves': 94, 'reg_lambda': 0.25175918452377033, 'verbose': 1}\n",
      "best iteration:76\n",
      "-----------------------------------------------------------------\n",
      "rmse:0.91022\n",
      "params:{'bagging_fraction': 0.9823023914374727, 'boosting_type': 'gbdt', 'feature_fraction': 0.5897986194064327, 'gamma': 0.3957758961849188, 'learning_rate': 0.0824589381597639, 'metric': 'rmse', 'min_data_in_leaf': 200, 'num_leaves': 22, 'reg_lambda': 0.8105548735010878, 'verbose': 1}\n",
      "best iteration:131\n",
      "-----------------------------------------------------------------\n",
      "rmse:0.90035\n",
      "params:{'bagging_fraction': 0.7271729561751362, 'boosting_type': 'gbdt', 'feature_fraction': 0.9189510642767447, 'gamma': 0.1554482183184777, 'learning_rate': 0.07120881819766117, 'metric': 'rmse', 'min_data_in_leaf': 200, 'num_leaves': 58, 'reg_lambda': 0.2841258850563265, 'verbose': 1}\n",
      "best iteration:105\n",
      "-----------------------------------------------------------------\n",
      "rmse:0.91227\n",
      "params:{'bagging_fraction': 0.8980095912874181, 'boosting_type': 'gbdt', 'feature_fraction': 0.8795942721110477, 'gamma': 0.12575478130380266, 'learning_rate': 0.08796379866539167, 'metric': 'rmse', 'min_data_in_leaf': 200, 'num_leaves': 32, 'reg_lambda': 0.8809391582275314, 'verbose': 1}\n",
      "best iteration:84\n",
      "-----------------------------------------------------------------\n",
      "rmse:0.93563\n",
      "params:{'bagging_fraction': 0.9716466933726591, 'boosting_type': 'gbdt', 'feature_fraction': 0.7399756538691177, 'gamma': 0.3342700971505612, 'learning_rate': 0.09886563947302605, 'metric': 'rmse', 'min_data_in_leaf': 200, 'num_leaves': 12, 'reg_lambda': 0.2861242475868496, 'verbose': 1}\n",
      "best iteration:73\n",
      "-----------------------------------------------------------------\n",
      "rmse:0.89621\n",
      "params:{'bagging_fraction': 0.7579456464464719, 'boosting_type': 'gbdt', 'feature_fraction': 0.8847183297574803, 'gamma': 0.18625362423743386, 'learning_rate': 0.05253334205991804, 'metric': 'rmse', 'min_data_in_leaf': 200, 'num_leaves': 118, 'reg_lambda': 0.2191552710226683, 'verbose': 1}\n",
      "best iteration:132\n",
      "-----------------------------------------------------------------\n",
      "rmse:0.90428\n",
      "params:{'bagging_fraction': 0.8499263808300795, 'boosting_type': 'gbdt', 'feature_fraction': 0.5264161052306945, 'gamma': 0.2643498434505709, 'learning_rate': 0.0900561948054048, 'metric': 'rmse', 'min_data_in_leaf': 200, 'num_leaves': 58, 'reg_lambda': 0.6556567367047393, 'verbose': 1}\n",
      "best iteration:65\n",
      "-----------------------------------------------------------------\n",
      "rmse:0.90433\n",
      "params:{'bagging_fraction': 0.9060023164763126, 'boosting_type': 'gbdt', 'feature_fraction': 0.5911882237201906, 'gamma': 0.4317211249701921, 'learning_rate': 0.06588394828047157, 'metric': 'rmse', 'min_data_in_leaf': 200, 'num_leaves': 36, 'reg_lambda': 0.960004400065656, 'verbose': 1}\n",
      "best iteration:116\n",
      "-----------------------------------------------------------------\n",
      "rmse:0.90244\n",
      "params:{'bagging_fraction': 0.9749250885271122, 'boosting_type': 'gbdt', 'feature_fraction': 0.5086136838050239, 'gamma': 0.3573668773593298, 'learning_rate': 0.055007482099050806, 'metric': 'rmse', 'min_data_in_leaf': 200, 'num_leaves': 80, 'reg_lambda': 0.70494360865916, 'verbose': 1}\n",
      "best iteration:106\n",
      "-----------------------------------------------------------------\n",
      "rmse:0.89019\n",
      "params:{'bagging_fraction': 0.8251952981340006, 'boosting_type': 'gbdt', 'feature_fraction': 0.3334110756802549, 'gamma': 0.2645286823381824, 'learning_rate': 0.0595800017981471, 'metric': 'rmse', 'min_data_in_leaf': 200, 'num_leaves': 124, 'reg_lambda': 0.0738878632903856, 'verbose': 1}\n",
      "best iteration:118\n",
      "-----------------------------------------------------------------\n",
      "rmse:0.90224\n",
      "params:{'bagging_fraction': 0.8680122142438534, 'boosting_type': 'gbdt', 'feature_fraction': 0.3071352717000702, 'gamma': 0.2556780643613743, 'learning_rate': 0.0777460220895306, 'metric': 'rmse', 'min_data_in_leaf': 200, 'num_leaves': 44, 'reg_lambda': 0.9867329524558808, 'verbose': 1}\n",
      "best iteration:94\n",
      "-----------------------------------------------------------------\n"
     ]
    },
    {
     "name": "stdout",
     "output_type": "stream",
     "text": [
      "rmse:0.88918\n",
      "params:{'bagging_fraction': 0.7988921010253146, 'boosting_type': 'gbdt', 'feature_fraction': 0.38493920907359375, 'gamma': 0.16801222922580134, 'learning_rate': 0.058749173945578076, 'metric': 'rmse', 'min_data_in_leaf': 200, 'num_leaves': 108, 'reg_lambda': 0.7230472621470556, 'verbose': 1}\n",
      "best iteration:106\n",
      "-----------------------------------------------------------------\n",
      "rmse:0.89601\n",
      "params:{'bagging_fraction': 0.7954414828427172, 'boosting_type': 'gbdt', 'feature_fraction': 0.3751414311868554, 'gamma': 0.15486838111034315, 'learning_rate': 0.05711998795029177, 'metric': 'rmse', 'min_data_in_leaf': 200, 'num_leaves': 52, 'reg_lambda': 0.7637739783385638, 'verbose': 1}\n",
      "best iteration:151\n",
      "-----------------------------------------------------------------\n",
      "rmse:0.89681\n",
      "params:{'bagging_fraction': 0.7916096246763383, 'boosting_type': 'gbdt', 'feature_fraction': 0.3850287544783591, 'gamma': 0.4899835249233203, 'learning_rate': 0.08117741093150559, 'metric': 'rmse', 'min_data_in_leaf': 200, 'num_leaves': 60, 'reg_lambda': 0.6534934971709112, 'verbose': 1}\n",
      "best iteration:99\n",
      "-----------------------------------------------------------------\n",
      "rmse:0.90688\n",
      "params:{'bagging_fraction': 0.8447806883983734, 'boosting_type': 'gbdt', 'feature_fraction': 0.9841778565571073, 'gamma': 0.22442652130614235, 'learning_rate': 0.0640505819702554, 'metric': 'rmse', 'min_data_in_leaf': 200, 'num_leaves': 70, 'reg_lambda': 0.7852617280017488, 'verbose': 1}\n",
      "best iteration:63\n",
      "-----------------------------------------------------------------\n",
      "rmse:0.90783\n",
      "params:{'bagging_fraction': 0.7056494705064642, 'boosting_type': 'gbdt', 'feature_fraction': 0.31970156257424953, 'gamma': 0.14916553929808135, 'learning_rate': 0.07412604653331314, 'metric': 'rmse', 'min_data_in_leaf': 200, 'num_leaves': 26, 'reg_lambda': 0.9957354504079922, 'verbose': 1}\n",
      "best iteration:136\n",
      "-----------------------------------------------------------------\n",
      "rmse:0.89670\n",
      "params:{'bagging_fraction': 0.787061035641216, 'boosting_type': 'gbdt', 'feature_fraction': 0.43277453492347523, 'gamma': 0.11623248984270332, 'learning_rate': 0.07149691060036584, 'metric': 'rmse', 'min_data_in_leaf': 200, 'num_leaves': 82, 'reg_lambda': 0.7153265939626576, 'verbose': 1}\n",
      "best iteration:86\n",
      "-----------------------------------------------------------------\n",
      "rmse:0.90285\n",
      "params:{'bagging_fraction': 0.8214958615226332, 'boosting_type': 'gbdt', 'feature_fraction': 0.6340961514857673, 'gamma': 0.17140907419618365, 'learning_rate': 0.06251962729343444, 'metric': 'rmse', 'min_data_in_leaf': 200, 'num_leaves': 88, 'reg_lambda': 0.6012053915217599, 'verbose': 1}\n",
      "best iteration:60\n",
      "-----------------------------------------------------------------\n",
      "rmse:0.88997\n",
      "params:{'bagging_fraction': 0.7031891111043755, 'boosting_type': 'gbdt', 'feature_fraction': 0.36868036137543836, 'gamma': 0.23215191965440102, 'learning_rate': 0.06874552808670029, 'metric': 'rmse', 'min_data_in_leaf': 200, 'num_leaves': 86, 'reg_lambda': 0.4802189472199768, 'verbose': 1}\n",
      "best iteration:130\n",
      "-----------------------------------------------------------------\n"
     ]
    }
   ],
   "source": [
    "trials = Trials()\n",
    "best =fmin(fn = lgbm_objective,\n",
    "           space = lgbm_space,\n",
    "           algo = tpe.suggest,\n",
    "           trials = trials,\n",
    "           max_evals = 30\n",
    "           )"
   ]
  },
  {
   "cell_type": "code",
   "execution_count": 87,
   "metadata": {},
   "outputs": [
    {
     "data": {
      "text/plain": [
       "{'loss': 0.887297835603789, 'status': 'ok'}"
      ]
     },
     "execution_count": 87,
     "metadata": {},
     "output_type": "execute_result"
    }
   ],
   "source": [
    "trials.best_trial['result']"
   ]
  },
  {
   "cell_type": "code",
   "execution_count": 88,
   "metadata": {},
   "outputs": [
    {
     "data": {
      "text/plain": [
       "{'bagging_fraction': 0.7004522170291932,\n",
       " 'feature_fraction': 0.35210794640316456,\n",
       " 'gamma': 0.15577564980992592,\n",
       " 'learning_rate': 0.07432644801356227,\n",
       " 'num_leaves': 58,\n",
       " 'reg_lambda': 0.8820739482513653}"
      ]
     },
     "execution_count": 88,
     "metadata": {},
     "output_type": "execute_result"
    }
   ],
   "source": [
    "best"
   ]
  },
  {
   "cell_type": "markdown",
   "metadata": {},
   "source": [
    "> best rmse: 0.8873\n",
    "  \n",
    "    -  params:\n",
    "\n",
    "        {'bagging_fraction': 0.7004522170291932, 'boosting_type': 'gbdt', 'feature_fraction': 0.35210794640316456, 'gamma': 0.15577564980992592, 'learning_rate': 0.07432644801356227, 'metric': 'rmse', 'min_data_in_leaf': 200, 'num_leaves': 124, 'reg_lambda': 0.8820739482513653, 'verbose': 1}\n",
    "\n",
    "  \n",
    "    - best iteration:92"
   ]
  },
  {
   "cell_type": "markdown",
   "metadata": {},
   "source": [
    "# submission"
   ]
  },
  {
   "cell_type": "code",
   "execution_count": 108,
   "metadata": {},
   "outputs": [],
   "source": [
    "final_train_mask = all_feats_df_all.date_block_num <=33\n",
    "test_mask = all_feats_df_all.date_block_num == 34\n",
    "cv_mask = all_feats_df_all.date_block_num == 33\n",
    "X_final_train = all_feats_df_all[final_train_mask]\n",
    "X_test = all_feats_df_all[test_mask]\n",
    "X_val = all_feats_df_all[cv_mask]##"
   ]
  },
  {
   "cell_type": "code",
   "execution_count": 107,
   "metadata": {},
   "outputs": [],
   "source": [
    "y_final_train = pd.concat([y_train,y_cv])"
   ]
  },
  {
   "cell_type": "code",
   "execution_count": 110,
   "metadata": {},
   "outputs": [],
   "source": [
    "lgb_train = lgb.Dataset(X_final_train, \n",
    "                        y_final_train\n",
    "                        ) ## if you want to reuse data --> remember to set free_raw_data=False\n",
    "lgb_cv = lgb.Dataset(X_val, \n",
    "                     y_cv,\n",
    "                     reference=lgb_train)"
   ]
  },
  {
   "cell_type": "code",
   "execution_count": 114,
   "metadata": {},
   "outputs": [
    {
     "name": "stdout",
     "output_type": "stream",
     "text": [
      "(6425094, 136) (6425094,) (238172, 136) (238172,)\n"
     ]
    }
   ],
   "source": [
    "print(X_final_train.shape,y_final_train.shape,X_val.shape,y_cv.shape);\n"
   ]
  },
  {
   "cell_type": "code",
   "execution_count": 116,
   "metadata": {},
   "outputs": [
    {
     "name": "stdout",
     "output_type": "stream",
     "text": [
      "[1]\tvalid_0's rmse: 1.10707\n",
      "Training until validation scores don't improve for 5 rounds.\n",
      "[2]\tvalid_0's rmse: 1.08346\n",
      "[3]\tvalid_0's rmse: 1.06079\n",
      "[4]\tvalid_0's rmse: 1.04592\n",
      "[5]\tvalid_0's rmse: 1.02478\n",
      "[6]\tvalid_0's rmse: 1.00846\n",
      "[7]\tvalid_0's rmse: 0.992945\n",
      "[8]\tvalid_0's rmse: 0.980565\n",
      "[9]\tvalid_0's rmse: 0.966726\n",
      "[10]\tvalid_0's rmse: 0.957829\n",
      "[11]\tvalid_0's rmse: 0.947502\n",
      "[12]\tvalid_0's rmse: 0.939856\n",
      "[13]\tvalid_0's rmse: 0.934401\n",
      "[14]\tvalid_0's rmse: 0.924998\n",
      "[15]\tvalid_0's rmse: 0.919699\n",
      "[16]\tvalid_0's rmse: 0.915181\n",
      "[17]\tvalid_0's rmse: 0.909639\n",
      "[18]\tvalid_0's rmse: 0.904245\n",
      "[19]\tvalid_0's rmse: 0.900393\n",
      "[20]\tvalid_0's rmse: 0.894043\n",
      "[21]\tvalid_0's rmse: 0.889206\n",
      "[22]\tvalid_0's rmse: 0.885384\n",
      "[23]\tvalid_0's rmse: 0.881927\n",
      "[24]\tvalid_0's rmse: 0.879338\n",
      "[25]\tvalid_0's rmse: 0.878028\n",
      "[26]\tvalid_0's rmse: 0.874953\n",
      "[27]\tvalid_0's rmse: 0.871652\n",
      "[28]\tvalid_0's rmse: 0.868427\n",
      "[29]\tvalid_0's rmse: 0.867221\n",
      "[30]\tvalid_0's rmse: 0.864829\n",
      "[31]\tvalid_0's rmse: 0.862701\n",
      "[32]\tvalid_0's rmse: 0.861161\n",
      "[33]\tvalid_0's rmse: 0.859836\n",
      "[34]\tvalid_0's rmse: 0.857591\n",
      "[35]\tvalid_0's rmse: 0.856317\n",
      "[36]\tvalid_0's rmse: 0.854917\n",
      "[37]\tvalid_0's rmse: 0.854034\n",
      "[38]\tvalid_0's rmse: 0.852537\n",
      "[39]\tvalid_0's rmse: 0.851704\n",
      "[40]\tvalid_0's rmse: 0.850242\n",
      "[41]\tvalid_0's rmse: 0.849842\n",
      "[42]\tvalid_0's rmse: 0.848807\n",
      "[43]\tvalid_0's rmse: 0.848306\n",
      "[44]\tvalid_0's rmse: 0.847906\n",
      "[45]\tvalid_0's rmse: 0.847279\n",
      "[46]\tvalid_0's rmse: 0.846008\n",
      "[47]\tvalid_0's rmse: 0.845743\n",
      "[48]\tvalid_0's rmse: 0.845032\n",
      "[49]\tvalid_0's rmse: 0.844621\n",
      "[50]\tvalid_0's rmse: 0.844119\n",
      "[51]\tvalid_0's rmse: 0.843394\n",
      "[52]\tvalid_0's rmse: 0.842957\n",
      "[53]\tvalid_0's rmse: 0.842673\n",
      "[54]\tvalid_0's rmse: 0.841929\n",
      "[55]\tvalid_0's rmse: 0.840292\n",
      "[56]\tvalid_0's rmse: 0.839821\n",
      "[57]\tvalid_0's rmse: 0.839491\n",
      "[58]\tvalid_0's rmse: 0.839139\n",
      "[59]\tvalid_0's rmse: 0.838737\n",
      "[60]\tvalid_0's rmse: 0.83783\n",
      "[61]\tvalid_0's rmse: 0.837608\n",
      "[62]\tvalid_0's rmse: 0.837375\n",
      "[63]\tvalid_0's rmse: 0.837108\n",
      "[64]\tvalid_0's rmse: 0.836567\n",
      "[65]\tvalid_0's rmse: 0.836181\n",
      "[66]\tvalid_0's rmse: 0.835781\n",
      "[67]\tvalid_0's rmse: 0.835483\n",
      "[68]\tvalid_0's rmse: 0.834995\n",
      "[69]\tvalid_0's rmse: 0.834824\n",
      "[70]\tvalid_0's rmse: 0.834234\n",
      "[71]\tvalid_0's rmse: 0.833913\n",
      "[72]\tvalid_0's rmse: 0.833598\n",
      "[73]\tvalid_0's rmse: 0.83328\n",
      "[74]\tvalid_0's rmse: 0.832913\n",
      "[75]\tvalid_0's rmse: 0.832607\n",
      "[76]\tvalid_0's rmse: 0.832459\n",
      "[77]\tvalid_0's rmse: 0.832203\n",
      "[78]\tvalid_0's rmse: 0.831631\n",
      "[79]\tvalid_0's rmse: 0.831443\n",
      "[80]\tvalid_0's rmse: 0.831274\n",
      "[81]\tvalid_0's rmse: 0.830869\n",
      "[82]\tvalid_0's rmse: 0.830141\n",
      "[83]\tvalid_0's rmse: 0.829438\n",
      "[84]\tvalid_0's rmse: 0.829014\n",
      "[85]\tvalid_0's rmse: 0.828519\n",
      "[86]\tvalid_0's rmse: 0.828245\n",
      "[87]\tvalid_0's rmse: 0.828197\n",
      "[88]\tvalid_0's rmse: 0.827799\n",
      "[89]\tvalid_0's rmse: 0.827132\n",
      "[90]\tvalid_0's rmse: 0.826953\n",
      "[91]\tvalid_0's rmse: 0.826284\n",
      "[92]\tvalid_0's rmse: 0.826121\n",
      "[93]\tvalid_0's rmse: 0.825846\n",
      "[94]\tvalid_0's rmse: 0.825298\n",
      "[95]\tvalid_0's rmse: 0.824325\n",
      "[96]\tvalid_0's rmse: 0.824067\n",
      "[97]\tvalid_0's rmse: 0.823788\n",
      "[98]\tvalid_0's rmse: 0.823326\n",
      "[99]\tvalid_0's rmse: 0.823063\n",
      "[100]\tvalid_0's rmse: 0.822972\n",
      "[101]\tvalid_0's rmse: 0.822738\n",
      "[102]\tvalid_0's rmse: 0.822514\n",
      "[103]\tvalid_0's rmse: 0.822376\n",
      "[104]\tvalid_0's rmse: 0.821642\n",
      "[105]\tvalid_0's rmse: 0.82157\n",
      "[106]\tvalid_0's rmse: 0.821226\n",
      "[107]\tvalid_0's rmse: 0.82064\n",
      "[108]\tvalid_0's rmse: 0.82047\n",
      "[109]\tvalid_0's rmse: 0.820287\n",
      "[110]\tvalid_0's rmse: 0.82015\n",
      "[111]\tvalid_0's rmse: 0.819987\n",
      "[112]\tvalid_0's rmse: 0.819645\n",
      "[113]\tvalid_0's rmse: 0.819164\n",
      "[114]\tvalid_0's rmse: 0.818845\n",
      "[115]\tvalid_0's rmse: 0.818699\n",
      "[116]\tvalid_0's rmse: 0.818595\n",
      "[117]\tvalid_0's rmse: 0.8185\n",
      "[118]\tvalid_0's rmse: 0.818371\n",
      "[119]\tvalid_0's rmse: 0.818115\n",
      "[120]\tvalid_0's rmse: 0.818028\n",
      "[121]\tvalid_0's rmse: 0.817959\n",
      "[122]\tvalid_0's rmse: 0.817763\n",
      "[123]\tvalid_0's rmse: 0.817573\n",
      "[124]\tvalid_0's rmse: 0.817437\n",
      "[125]\tvalid_0's rmse: 0.817275\n",
      "[126]\tvalid_0's rmse: 0.817059\n",
      "[127]\tvalid_0's rmse: 0.816841\n",
      "[128]\tvalid_0's rmse: 0.816741\n",
      "[129]\tvalid_0's rmse: 0.816617\n",
      "[130]\tvalid_0's rmse: 0.815976\n",
      "[131]\tvalid_0's rmse: 0.815642\n",
      "[132]\tvalid_0's rmse: 0.815408\n",
      "[133]\tvalid_0's rmse: 0.815278\n",
      "[134]\tvalid_0's rmse: 0.815045\n",
      "[135]\tvalid_0's rmse: 0.815009\n",
      "[136]\tvalid_0's rmse: 0.815002\n",
      "[137]\tvalid_0's rmse: 0.814581\n",
      "[138]\tvalid_0's rmse: 0.814412\n",
      "[139]\tvalid_0's rmse: 0.814076\n",
      "[140]\tvalid_0's rmse: 0.813889\n",
      "[141]\tvalid_0's rmse: 0.81384\n",
      "[142]\tvalid_0's rmse: 0.81377\n",
      "[143]\tvalid_0's rmse: 0.813661\n",
      "[144]\tvalid_0's rmse: 0.813522\n",
      "[145]\tvalid_0's rmse: 0.813322\n",
      "[146]\tvalid_0's rmse: 0.813195\n",
      "[147]\tvalid_0's rmse: 0.812234\n",
      "[148]\tvalid_0's rmse: 0.812161\n",
      "[149]\tvalid_0's rmse: 0.811995\n",
      "[150]\tvalid_0's rmse: 0.811886\n",
      "[151]\tvalid_0's rmse: 0.811756\n",
      "[152]\tvalid_0's rmse: 0.810306\n",
      "[153]\tvalid_0's rmse: 0.810109\n",
      "[154]\tvalid_0's rmse: 0.809625\n",
      "[155]\tvalid_0's rmse: 0.809459\n",
      "[156]\tvalid_0's rmse: 0.8091\n",
      "[157]\tvalid_0's rmse: 0.808983\n",
      "[158]\tvalid_0's rmse: 0.808812\n",
      "[159]\tvalid_0's rmse: 0.807789\n",
      "[160]\tvalid_0's rmse: 0.806702\n",
      "[161]\tvalid_0's rmse: 0.806604\n",
      "[162]\tvalid_0's rmse: 0.806563\n",
      "[163]\tvalid_0's rmse: 0.806531\n",
      "[164]\tvalid_0's rmse: 0.806456\n",
      "[165]\tvalid_0's rmse: 0.806294\n",
      "[166]\tvalid_0's rmse: 0.80625\n",
      "[167]\tvalid_0's rmse: 0.805953\n",
      "[168]\tvalid_0's rmse: 0.805717\n",
      "[169]\tvalid_0's rmse: 0.805554\n",
      "[170]\tvalid_0's rmse: 0.805398\n",
      "[171]\tvalid_0's rmse: 0.805224\n",
      "[172]\tvalid_0's rmse: 0.805075\n",
      "[173]\tvalid_0's rmse: 0.804701\n",
      "[174]\tvalid_0's rmse: 0.804592\n",
      "[175]\tvalid_0's rmse: 0.804212\n",
      "[176]\tvalid_0's rmse: 0.803917\n",
      "[177]\tvalid_0's rmse: 0.803756\n",
      "[178]\tvalid_0's rmse: 0.803543\n",
      "[179]\tvalid_0's rmse: 0.803464\n",
      "[180]\tvalid_0's rmse: 0.803289\n",
      "[181]\tvalid_0's rmse: 0.802973\n",
      "[182]\tvalid_0's rmse: 0.802574\n",
      "[183]\tvalid_0's rmse: 0.802522\n",
      "[184]\tvalid_0's rmse: 0.802375\n",
      "[185]\tvalid_0's rmse: 0.80219\n",
      "[186]\tvalid_0's rmse: 0.802051\n",
      "[187]\tvalid_0's rmse: 0.801871\n",
      "[188]\tvalid_0's rmse: 0.801685\n",
      "[189]\tvalid_0's rmse: 0.801577\n",
      "[190]\tvalid_0's rmse: 0.801515\n",
      "[191]\tvalid_0's rmse: 0.801364\n",
      "[192]\tvalid_0's rmse: 0.801252\n",
      "[193]\tvalid_0's rmse: 0.801159\n",
      "[194]\tvalid_0's rmse: 0.800964\n",
      "[195]\tvalid_0's rmse: 0.800435\n",
      "[196]\tvalid_0's rmse: 0.800339\n",
      "[197]\tvalid_0's rmse: 0.799919\n",
      "[198]\tvalid_0's rmse: 0.799717\n",
      "[199]\tvalid_0's rmse: 0.799588\n",
      "[200]\tvalid_0's rmse: 0.799525\n",
      "[201]\tvalid_0's rmse: 0.79853\n",
      "[202]\tvalid_0's rmse: 0.798406\n",
      "[203]\tvalid_0's rmse: 0.798222\n",
      "[204]\tvalid_0's rmse: 0.798099\n",
      "[205]\tvalid_0's rmse: 0.79787\n",
      "[206]\tvalid_0's rmse: 0.797675\n",
      "[207]\tvalid_0's rmse: 0.797575\n",
      "[208]\tvalid_0's rmse: 0.797556\n",
      "[209]\tvalid_0's rmse: 0.797505\n",
      "[210]\tvalid_0's rmse: 0.797352\n",
      "[211]\tvalid_0's rmse: 0.797171\n",
      "[212]\tvalid_0's rmse: 0.797065\n",
      "[213]\tvalid_0's rmse: 0.796985\n",
      "[214]\tvalid_0's rmse: 0.796894\n",
      "[215]\tvalid_0's rmse: 0.796841\n",
      "[216]\tvalid_0's rmse: 0.796772\n",
      "[217]\tvalid_0's rmse: 0.796693\n",
      "[218]\tvalid_0's rmse: 0.796558\n",
      "[219]\tvalid_0's rmse: 0.796512\n",
      "[220]\tvalid_0's rmse: 0.796482\n",
      "[221]\tvalid_0's rmse: 0.796334\n",
      "[222]\tvalid_0's rmse: 0.796257\n",
      "[223]\tvalid_0's rmse: 0.795909\n",
      "[224]\tvalid_0's rmse: 0.795775\n",
      "[225]\tvalid_0's rmse: 0.795181\n",
      "[226]\tvalid_0's rmse: 0.795109\n",
      "[227]\tvalid_0's rmse: 0.794982\n",
      "[228]\tvalid_0's rmse: 0.794881\n",
      "[229]\tvalid_0's rmse: 0.794666\n",
      "[230]\tvalid_0's rmse: 0.79459\n",
      "[231]\tvalid_0's rmse: 0.794517\n",
      "[232]\tvalid_0's rmse: 0.794443\n",
      "[233]\tvalid_0's rmse: 0.794117\n",
      "[234]\tvalid_0's rmse: 0.793918\n",
      "[235]\tvalid_0's rmse: 0.793784\n",
      "[236]\tvalid_0's rmse: 0.793657\n",
      "[237]\tvalid_0's rmse: 0.793539\n",
      "[238]\tvalid_0's rmse: 0.793346\n",
      "[239]\tvalid_0's rmse: 0.793217\n",
      "[240]\tvalid_0's rmse: 0.793084\n",
      "[241]\tvalid_0's rmse: 0.792966\n",
      "[242]\tvalid_0's rmse: 0.792859\n",
      "[243]\tvalid_0's rmse: 0.792752\n",
      "[244]\tvalid_0's rmse: 0.792637\n",
      "[245]\tvalid_0's rmse: 0.792513\n",
      "[246]\tvalid_0's rmse: 0.791223\n",
      "[247]\tvalid_0's rmse: 0.791101\n",
      "[248]\tvalid_0's rmse: 0.791023\n",
      "[249]\tvalid_0's rmse: 0.790763\n",
      "[250]\tvalid_0's rmse: 0.790662\n",
      "[251]\tvalid_0's rmse: 0.790595\n",
      "[252]\tvalid_0's rmse: 0.790461\n",
      "[253]\tvalid_0's rmse: 0.790404\n",
      "[254]\tvalid_0's rmse: 0.790253\n",
      "[255]\tvalid_0's rmse: 0.790171\n",
      "[256]\tvalid_0's rmse: 0.790033\n",
      "[257]\tvalid_0's rmse: 0.789945\n",
      "[258]\tvalid_0's rmse: 0.789784\n",
      "[259]\tvalid_0's rmse: 0.789571\n",
      "[260]\tvalid_0's rmse: 0.78946\n",
      "[261]\tvalid_0's rmse: 0.789379\n",
      "[262]\tvalid_0's rmse: 0.78928\n",
      "[263]\tvalid_0's rmse: 0.789129\n",
      "[264]\tvalid_0's rmse: 0.788891\n",
      "[265]\tvalid_0's rmse: 0.788741\n",
      "[266]\tvalid_0's rmse: 0.788678\n",
      "[267]\tvalid_0's rmse: 0.788304\n"
     ]
    },
    {
     "name": "stdout",
     "output_type": "stream",
     "text": [
      "[268]\tvalid_0's rmse: 0.788225\n",
      "[269]\tvalid_0's rmse: 0.788061\n",
      "[270]\tvalid_0's rmse: 0.787931\n",
      "[271]\tvalid_0's rmse: 0.787855\n",
      "[272]\tvalid_0's rmse: 0.787796\n",
      "[273]\tvalid_0's rmse: 0.787695\n",
      "[274]\tvalid_0's rmse: 0.787641\n",
      "[275]\tvalid_0's rmse: 0.787606\n",
      "[276]\tvalid_0's rmse: 0.787547\n",
      "[277]\tvalid_0's rmse: 0.787456\n",
      "[278]\tvalid_0's rmse: 0.787347\n",
      "[279]\tvalid_0's rmse: 0.787263\n",
      "[280]\tvalid_0's rmse: 0.787199\n",
      "[281]\tvalid_0's rmse: 0.787118\n",
      "[282]\tvalid_0's rmse: 0.787015\n",
      "[283]\tvalid_0's rmse: 0.786907\n",
      "[284]\tvalid_0's rmse: 0.786902\n",
      "[285]\tvalid_0's rmse: 0.785911\n",
      "[286]\tvalid_0's rmse: 0.785869\n",
      "[287]\tvalid_0's rmse: 0.785774\n",
      "[288]\tvalid_0's rmse: 0.785585\n",
      "[289]\tvalid_0's rmse: 0.785427\n",
      "[290]\tvalid_0's rmse: 0.785355\n",
      "[291]\tvalid_0's rmse: 0.785344\n",
      "[292]\tvalid_0's rmse: 0.785038\n",
      "[293]\tvalid_0's rmse: 0.784953\n",
      "[294]\tvalid_0's rmse: 0.784841\n",
      "[295]\tvalid_0's rmse: 0.784736\n",
      "[296]\tvalid_0's rmse: 0.784655\n",
      "[297]\tvalid_0's rmse: 0.784545\n",
      "[298]\tvalid_0's rmse: 0.784494\n",
      "[299]\tvalid_0's rmse: 0.784433\n",
      "[300]\tvalid_0's rmse: 0.784237\n",
      "Did not meet early stopping. Best iteration is:\n",
      "[300]\tvalid_0's rmse: 0.784237\n"
     ]
    }
   ],
   "source": [
    "opt_params = {\n",
    "    'bagging_fraction': 0.7004522170291932, \n",
    "    'boosting_type': 'gbdt',\n",
    "    'feature_fraction': 0.35210794640316456,\n",
    "    'gamma': 0.15577564980992592, \n",
    "    'learning_rate': 0.07432644801356227, \n",
    "    'metric': 'rmse',\n",
    "    'min_data_in_leaf': 200, \n",
    "    'num_leaves': 124, \n",
    "    'reg_lambda': 0.8820739482513653, \n",
    "    'verbose': 1\n",
    "}\n",
    "reg_final = lgb.train(opt_params,\n",
    "                train_set = lgb_train,\n",
    "                valid_sets=lgb_cv,\n",
    "                num_boost_round = 300,\n",
    "                early_stopping_rounds = 5,\n",
    "                verbose_eval = True)"
   ]
  },
  {
   "cell_type": "code",
   "execution_count": null,
   "metadata": {},
   "outputs": [],
   "source": [
    "lgb.train()"
   ]
  },
  {
   "cell_type": "code",
   "execution_count": 117,
   "metadata": {},
   "outputs": [],
   "source": [
    "reg_final.save_model('../data/model/model_final_12_33_overfit.txt')"
   ]
  },
  {
   "cell_type": "code",
   "execution_count": 118,
   "metadata": {},
   "outputs": [],
   "source": [
    "y_test = reg_final.predict(X_test)\n",
    "y_test = y_test.clip(0,20)"
   ]
  },
  {
   "cell_type": "code",
   "execution_count": 120,
   "metadata": {},
   "outputs": [
    {
     "data": {
      "text/plain": [
       "214200"
      ]
     },
     "execution_count": 120,
     "metadata": {},
     "output_type": "execute_result"
    }
   ],
   "source": [
    "len(y_test)"
   ]
  },
  {
   "cell_type": "code",
   "execution_count": 122,
   "metadata": {},
   "outputs": [],
   "source": [
    "y_submit = pd.DataFrame({'ID':range(len(y_test)), 'item_cnt_month':y_test})\n",
    "# y_submit\n",
    "y_submit.to_csv('../data/output/submission_lgbm_text_on_12_33_overfit.csv',index=False) # LB:0.89911 6/502"
   ]
  },
  {
   "cell_type": "markdown",
   "metadata": {},
   "source": [
    "______"
   ]
  },
  {
   "cell_type": "markdown",
   "metadata": {},
   "source": [
    "## submission 2"
   ]
  },
  {
   "cell_type": "code",
   "execution_count": 131,
   "metadata": {
    "collapsed": true
   },
   "outputs": [
    {
     "name": "stdout",
     "output_type": "stream",
     "text": [
      "[1]\tvalid_0's rmse: 1.10707\n",
      "Training until validation scores don't improve for 5 rounds.\n",
      "[2]\tvalid_0's rmse: 1.08346\n",
      "[3]\tvalid_0's rmse: 1.06079\n",
      "[4]\tvalid_0's rmse: 1.04592\n",
      "[5]\tvalid_0's rmse: 1.02478\n",
      "[6]\tvalid_0's rmse: 1.00846\n",
      "[7]\tvalid_0's rmse: 0.992945\n",
      "[8]\tvalid_0's rmse: 0.980565\n",
      "[9]\tvalid_0's rmse: 0.966726\n",
      "[10]\tvalid_0's rmse: 0.957829\n",
      "[11]\tvalid_0's rmse: 0.947502\n",
      "[12]\tvalid_0's rmse: 0.939856\n",
      "[13]\tvalid_0's rmse: 0.934401\n",
      "[14]\tvalid_0's rmse: 0.924998\n",
      "[15]\tvalid_0's rmse: 0.919699\n",
      "[16]\tvalid_0's rmse: 0.915181\n",
      "[17]\tvalid_0's rmse: 0.909639\n",
      "[18]\tvalid_0's rmse: 0.904245\n",
      "[19]\tvalid_0's rmse: 0.900393\n",
      "[20]\tvalid_0's rmse: 0.894043\n",
      "[21]\tvalid_0's rmse: 0.889206\n",
      "[22]\tvalid_0's rmse: 0.885384\n",
      "[23]\tvalid_0's rmse: 0.881927\n",
      "[24]\tvalid_0's rmse: 0.879338\n",
      "[25]\tvalid_0's rmse: 0.878028\n",
      "[26]\tvalid_0's rmse: 0.874953\n",
      "[27]\tvalid_0's rmse: 0.871652\n",
      "[28]\tvalid_0's rmse: 0.868427\n",
      "[29]\tvalid_0's rmse: 0.867221\n",
      "[30]\tvalid_0's rmse: 0.864829\n",
      "[31]\tvalid_0's rmse: 0.862701\n",
      "[32]\tvalid_0's rmse: 0.861161\n",
      "[33]\tvalid_0's rmse: 0.859836\n",
      "[34]\tvalid_0's rmse: 0.857591\n",
      "[35]\tvalid_0's rmse: 0.856317\n",
      "[36]\tvalid_0's rmse: 0.854917\n",
      "[37]\tvalid_0's rmse: 0.854034\n",
      "[38]\tvalid_0's rmse: 0.852537\n",
      "[39]\tvalid_0's rmse: 0.851704\n",
      "[40]\tvalid_0's rmse: 0.850242\n",
      "[41]\tvalid_0's rmse: 0.849842\n",
      "[42]\tvalid_0's rmse: 0.848807\n",
      "[43]\tvalid_0's rmse: 0.848306\n",
      "[44]\tvalid_0's rmse: 0.847906\n",
      "[45]\tvalid_0's rmse: 0.847279\n",
      "[46]\tvalid_0's rmse: 0.846008\n",
      "[47]\tvalid_0's rmse: 0.845743\n",
      "[48]\tvalid_0's rmse: 0.845032\n",
      "[49]\tvalid_0's rmse: 0.844621\n",
      "[50]\tvalid_0's rmse: 0.844119\n",
      "[51]\tvalid_0's rmse: 0.843394\n",
      "[52]\tvalid_0's rmse: 0.842957\n",
      "[53]\tvalid_0's rmse: 0.842673\n",
      "[54]\tvalid_0's rmse: 0.841929\n",
      "[55]\tvalid_0's rmse: 0.840292\n",
      "[56]\tvalid_0's rmse: 0.839821\n",
      "[57]\tvalid_0's rmse: 0.839491\n",
      "[58]\tvalid_0's rmse: 0.839139\n",
      "[59]\tvalid_0's rmse: 0.838737\n",
      "[60]\tvalid_0's rmse: 0.83783\n",
      "[61]\tvalid_0's rmse: 0.837608\n",
      "[62]\tvalid_0's rmse: 0.837375\n",
      "[63]\tvalid_0's rmse: 0.837108\n",
      "[64]\tvalid_0's rmse: 0.836567\n",
      "[65]\tvalid_0's rmse: 0.836181\n",
      "[66]\tvalid_0's rmse: 0.835781\n",
      "[67]\tvalid_0's rmse: 0.835483\n",
      "[68]\tvalid_0's rmse: 0.834995\n",
      "[69]\tvalid_0's rmse: 0.834824\n",
      "[70]\tvalid_0's rmse: 0.834234\n",
      "[71]\tvalid_0's rmse: 0.833913\n",
      "[72]\tvalid_0's rmse: 0.833598\n",
      "[73]\tvalid_0's rmse: 0.83328\n",
      "[74]\tvalid_0's rmse: 0.832913\n",
      "[75]\tvalid_0's rmse: 0.832607\n",
      "[76]\tvalid_0's rmse: 0.832459\n",
      "[77]\tvalid_0's rmse: 0.832203\n",
      "[78]\tvalid_0's rmse: 0.831631\n",
      "[79]\tvalid_0's rmse: 0.831443\n",
      "[80]\tvalid_0's rmse: 0.831274\n",
      "[81]\tvalid_0's rmse: 0.830869\n",
      "[82]\tvalid_0's rmse: 0.830141\n",
      "[83]\tvalid_0's rmse: 0.829438\n",
      "[84]\tvalid_0's rmse: 0.829014\n",
      "[85]\tvalid_0's rmse: 0.828519\n",
      "[86]\tvalid_0's rmse: 0.828245\n",
      "[87]\tvalid_0's rmse: 0.828197\n",
      "[88]\tvalid_0's rmse: 0.827799\n",
      "[89]\tvalid_0's rmse: 0.827132\n",
      "[90]\tvalid_0's rmse: 0.826953\n",
      "[91]\tvalid_0's rmse: 0.826284\n",
      "[92]\tvalid_0's rmse: 0.826121\n",
      "[93]\tvalid_0's rmse: 0.825846\n",
      "[94]\tvalid_0's rmse: 0.825298\n",
      "[95]\tvalid_0's rmse: 0.824325\n",
      "[96]\tvalid_0's rmse: 0.824067\n",
      "[97]\tvalid_0's rmse: 0.823788\n",
      "[98]\tvalid_0's rmse: 0.823326\n",
      "[99]\tvalid_0's rmse: 0.823063\n",
      "[100]\tvalid_0's rmse: 0.822972\n",
      "Did not meet early stopping. Best iteration is:\n",
      "[100]\tvalid_0's rmse: 0.822972\n"
     ]
    }
   ],
   "source": [
    "opt_params = {\n",
    "    'bagging_fraction': 0.7004522170291932, \n",
    "    'boosting_type': 'gbdt',\n",
    "    'feature_fraction': 0.35210794640316456,\n",
    "    'gamma': 0.15577564980992592, \n",
    "    'learning_rate': 0.07432644801356227, \n",
    "    'metric': 'rmse',\n",
    "    'min_data_in_leaf': 200, \n",
    "    'num_leaves': 124, \n",
    "    'reg_lambda': 0.8820739482513653, \n",
    "    'verbose': 1\n",
    "}\n",
    "reg_final = lgb.train(opt_params,\n",
    "                train_set = lgb_train,\n",
    "                valid_sets=lgb_cv,\n",
    "                num_boost_round = 100, ## reduce num_boost\n",
    "                early_stopping_rounds = 5,\n",
    "                verbose_eval = True)"
   ]
  },
  {
   "cell_type": "code",
   "execution_count": 132,
   "metadata": {},
   "outputs": [],
   "source": [
    "y_test = reg_final.predict(X_test)\n",
    "y_test = y_test.clip(0,20)\n",
    "\n",
    "y_submit = pd.DataFrame({'ID':range(len(y_test)), 'item_cnt_month':y_test})\n",
    "# y_submit\n",
    "y_submit.to_csv('../data/output/submission_lgbm_text_on_12_33_num_100.csv',index=False) # LB:0.89944 6/502 ... not that bad ^^"
   ]
  },
  {
   "cell_type": "markdown",
   "metadata": {},
   "source": [
    "note: decrease/increase `num_iterations` will not effect final LB result. (compare submission1&2)"
   ]
  },
  {
   "cell_type": "markdown",
   "metadata": {},
   "source": [
    "______\n",
    "## Submission3"
   ]
  }
 ],
 "metadata": {
  "anaconda-cloud": {},
  "kernelspec": {
   "display_name": "Python [conda env:py36]",
   "language": "python",
   "name": "conda-env-py36-py"
  },
  "language_info": {
   "codemirror_mode": {
    "name": "ipython",
    "version": 3
   },
   "file_extension": ".py",
   "mimetype": "text/x-python",
   "name": "python",
   "nbconvert_exporter": "python",
   "pygments_lexer": "ipython3",
   "version": "3.6.3"
  }
 },
 "nbformat": 4,
 "nbformat_minor": 1
}
