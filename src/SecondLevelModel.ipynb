{
 "cells": [
  {
   "cell_type": "markdown",
   "metadata": {},
   "source": [
    "# Second Level "
   ]
  },
  {
   "cell_type": "code",
   "execution_count": 1,
   "metadata": {},
   "outputs": [],
   "source": [
    "import pandas as pd\n",
    "import numpy as np \n",
    "import gc"
   ]
  },
  {
   "cell_type": "markdown",
   "metadata": {},
   "source": [
    "### Load first level data "
   ]
  },
  {
   "cell_type": "code",
   "execution_count": 60,
   "metadata": {},
   "outputs": [
    {
     "name": "stdout",
     "output_type": "stream",
     "text": [
      "['/stage2_df']\n"
     ]
    }
   ],
   "source": [
    "with pd.HDFStore('../data/feat/stage2_data.h5') as stage2_h5:\n",
    "    print(stage2_h5.keys())\n",
    "    stage2_df = stage2_h5['stage2_df']"
   ]
  },
  {
   "cell_type": "code",
   "execution_count": 61,
   "metadata": {},
   "outputs": [
    {
     "data": {
      "text/html": [
       "<div>\n",
       "<style>\n",
       "    .dataframe thead tr:only-child th {\n",
       "        text-align: right;\n",
       "    }\n",
       "\n",
       "    .dataframe thead th {\n",
       "        text-align: left;\n",
       "    }\n",
       "\n",
       "    .dataframe tbody tr th {\n",
       "        vertical-align: top;\n",
       "    }\n",
       "</style>\n",
       "<table border=\"1\" class=\"dataframe\">\n",
       "  <thead>\n",
       "    <tr style=\"text-align: right;\">\n",
       "      <th></th>\n",
       "      <th>rg</th>\n",
       "      <th>lasso</th>\n",
       "      <th>rf</th>\n",
       "      <th>lgbm</th>\n",
       "      <th>kmean_dist_label</th>\n",
       "      <th>kmean_dist_0</th>\n",
       "      <th>kmean_dist_1</th>\n",
       "      <th>kmean_dist_2</th>\n",
       "      <th>kmean_dist_3</th>\n",
       "      <th>kmean_dist_4</th>\n",
       "      <th>kmean_dist_5</th>\n",
       "      <th>kmean_dist_6</th>\n",
       "      <th>kmean_dist_7</th>\n",
       "    </tr>\n",
       "  </thead>\n",
       "  <tbody>\n",
       "    <tr>\n",
       "      <th>0</th>\n",
       "      <td>0.457809</td>\n",
       "      <td>0.518210</td>\n",
       "      <td>1.104751</td>\n",
       "      <td>1.234071</td>\n",
       "      <td>1.0</td>\n",
       "      <td>8.857702</td>\n",
       "      <td>8.712146</td>\n",
       "      <td>6.878428</td>\n",
       "      <td>7.236687</td>\n",
       "      <td>160.683082</td>\n",
       "      <td>8.372746</td>\n",
       "      <td>10.067307</td>\n",
       "      <td>32.780615</td>\n",
       "    </tr>\n",
       "    <tr>\n",
       "      <th>1</th>\n",
       "      <td>0.990932</td>\n",
       "      <td>0.951176</td>\n",
       "      <td>1.786170</td>\n",
       "      <td>2.333394</td>\n",
       "      <td>5.0</td>\n",
       "      <td>12.806890</td>\n",
       "      <td>13.463366</td>\n",
       "      <td>11.329752</td>\n",
       "      <td>7.886795</td>\n",
       "      <td>162.224312</td>\n",
       "      <td>10.882863</td>\n",
       "      <td>14.441723</td>\n",
       "      <td>33.894320</td>\n",
       "    </tr>\n",
       "    <tr>\n",
       "      <th>2</th>\n",
       "      <td>0.473575</td>\n",
       "      <td>0.448425</td>\n",
       "      <td>0.640284</td>\n",
       "      <td>0.663168</td>\n",
       "      <td>5.0</td>\n",
       "      <td>9.285941</td>\n",
       "      <td>10.126022</td>\n",
       "      <td>8.115691</td>\n",
       "      <td>6.480298</td>\n",
       "      <td>161.687453</td>\n",
       "      <td>7.767159</td>\n",
       "      <td>11.381747</td>\n",
       "      <td>32.819151</td>\n",
       "    </tr>\n",
       "    <tr>\n",
       "      <th>3</th>\n",
       "      <td>0.421733</td>\n",
       "      <td>0.397657</td>\n",
       "      <td>0.457851</td>\n",
       "      <td>0.487791</td>\n",
       "      <td>6.0</td>\n",
       "      <td>8.528922</td>\n",
       "      <td>8.592862</td>\n",
       "      <td>6.444938</td>\n",
       "      <td>6.349900</td>\n",
       "      <td>161.312547</td>\n",
       "      <td>7.830429</td>\n",
       "      <td>9.995115</td>\n",
       "      <td>32.689497</td>\n",
       "    </tr>\n",
       "    <tr>\n",
       "      <th>4</th>\n",
       "      <td>0.406524</td>\n",
       "      <td>0.390211</td>\n",
       "      <td>0.397525</td>\n",
       "      <td>0.391166</td>\n",
       "      <td>6.0</td>\n",
       "      <td>8.568154</td>\n",
       "      <td>8.632067</td>\n",
       "      <td>6.464528</td>\n",
       "      <td>6.335744</td>\n",
       "      <td>161.346125</td>\n",
       "      <td>7.866945</td>\n",
       "      <td>10.024922</td>\n",
       "      <td>32.699838</td>\n",
       "    </tr>\n",
       "  </tbody>\n",
       "</table>\n",
       "</div>"
      ],
      "text/plain": [
       "         rg     lasso        rf      lgbm  kmean_dist_label  kmean_dist_0  \\\n",
       "0  0.457809  0.518210  1.104751  1.234071               1.0      8.857702   \n",
       "1  0.990932  0.951176  1.786170  2.333394               5.0     12.806890   \n",
       "2  0.473575  0.448425  0.640284  0.663168               5.0      9.285941   \n",
       "3  0.421733  0.397657  0.457851  0.487791               6.0      8.528922   \n",
       "4  0.406524  0.390211  0.397525  0.391166               6.0      8.568154   \n",
       "\n",
       "   kmean_dist_1  kmean_dist_2  kmean_dist_3  kmean_dist_4  kmean_dist_5  \\\n",
       "0      8.712146      6.878428      7.236687    160.683082      8.372746   \n",
       "1     13.463366     11.329752      7.886795    162.224312     10.882863   \n",
       "2     10.126022      8.115691      6.480298    161.687453      7.767159   \n",
       "3      8.592862      6.444938      6.349900    161.312547      7.830429   \n",
       "4      8.632067      6.464528      6.335744    161.346125      7.866945   \n",
       "\n",
       "   kmean_dist_6  kmean_dist_7  \n",
       "0     10.067307     32.780615  \n",
       "1     14.441723     33.894320  \n",
       "2     11.381747     32.819151  \n",
       "3      9.995115     32.689497  \n",
       "4     10.024922     32.699838  "
      ]
     },
     "execution_count": 61,
     "metadata": {},
     "output_type": "execute_result"
    }
   ],
   "source": [
    "stage2_df.head()"
   ]
  },
  {
   "cell_type": "markdown",
   "metadata": {},
   "source": [
    "### Load features "
   ]
  },
  {
   "cell_type": "code",
   "execution_count": 4,
   "metadata": {},
   "outputs": [
    {
     "name": "stdout",
     "output_type": "stream",
     "text": [
      "['/X_cv', '/X_test', '/X_train', '/y_cv', '/y_train']\n"
     ]
    }
   ],
   "source": [
    "with pd.HDFStore('../data/feat/data.h5') as store:\n",
    "    print(store.keys())\n",
    "    X_cv = store['X_cv']\n",
    "    X_train = store['X_train']\n",
    "    X_test = store['X_test']\n",
    "    y_cv = store['y_cv']\n",
    "    y_train = store['y_train']"
   ]
  },
  {
   "cell_type": "code",
   "execution_count": 5,
   "metadata": {},
   "outputs": [],
   "source": [
    "def downcast_dtypes(df):\n",
    "    '''\n",
    "        Changes column types in the dataframe: \n",
    "                \n",
    "                `float64` type to `float32`\n",
    "                `int64`   type to `int32`\n",
    "    '''\n",
    "    \n",
    "    # Select columns to downcast\n",
    "    float_cols = [c for c in df if df[c].dtype == \"float64\"]\n",
    "    int_cols =   [c for c in df if df[c].dtype == \"int64\"]\n",
    "    \n",
    "    # Downcast\n",
    "    df[float_cols] = df[float_cols].astype(np.float32)\n",
    "    df[int_cols]   = df[int_cols].astype(np.int32)\n",
    "    \n",
    "    return df"
   ]
  },
  {
   "cell_type": "code",
   "execution_count": 6,
   "metadata": {},
   "outputs": [
    {
     "data": {
      "text/plain": [
       "26"
      ]
     },
     "execution_count": 6,
     "metadata": {},
     "output_type": "execute_result"
    }
   ],
   "source": [
    "X_train = downcast_dtypes(X_train)\n",
    "X_cv = downcast_dtypes(X_cv)\n",
    "X_test = downcast_dtypes(X_test)\n",
    "\n",
    "y_train = y_train.astype(np.float32)\n",
    "y_cv = y_cv.astype(np.float32)\n",
    "\n",
    "gc.collect()\n"
   ]
  },
  {
   "cell_type": "code",
   "execution_count": 7,
   "metadata": {},
   "outputs": [],
   "source": [
    "X_train.fillna(0,inplace=True)\n",
    "X_cv.fillna(0,inplace=True)\n",
    "X_test.fillna(0,inplace=True)"
   ]
  },
  {
   "cell_type": "code",
   "execution_count": 8,
   "metadata": {},
   "outputs": [],
   "source": [
    "y_train = y_train.clip(0,20)\n",
    "y_cv = y_cv.clip(0,20)"
   ]
  },
  {
   "cell_type": "markdown",
   "metadata": {},
   "source": [
    "## Reduce training size\n"
   ]
  },
  {
   "cell_type": "code",
   "execution_count": 9,
   "metadata": {},
   "outputs": [],
   "source": [
    "train_dates = X_train.date_block_num\n",
    "\n",
    "mask = train_dates >= 12 ## >=12 \n",
    "X_train = X_train[mask] # [-32]\n",
    "y_train = y_train[mask] # [-32]\n",
    "\n",
    "# level2_date_block = [27, 28, 29, 30, 31, 32]\n",
    "level2_date_block = [31, 32]\n",
    "level2_mask = train_dates.isin(level2_date_block) ## [0-32]\n",
    "train_dates_level2 = train_dates[level2_mask] ## [27-32]\n",
    "train_y_level2 = y_train[level2_mask] # [27-32]\n",
    "\n",
    "train_dates = train_dates[mask] ## -32\n",
    "test_dates = X_test.date_block_num ## 34\n",
    "cv_dates = X_cv.date_block_num ## 33\n",
    "\n",
    "merge = pd.concat([X_train, X_cv, X_test], ignore_index=True) ## 0-34\n",
    "merge_dates = np.concatenate([train_dates,cv_dates, test_dates], axis=0)  ## 0-34\n",
    "merge_y = np.concatenate([y_train,y_cv, np.zeros((len(test_dates),))], axis=0) ## y 0-34"
   ]
  },
  {
   "cell_type": "code",
   "execution_count": 10,
   "metadata": {},
   "outputs": [],
   "source": [
    "stage2_train_dates = merge_dates[merge_dates>=level2_date_block[0]] ## 27 - 34\n",
    "stage2_train_mask = (stage2_train_dates <= level2_date_block[-1]) # train on : 27-32\n",
    "stage2_valid_mask = (stage2_train_dates == 33) ## validate on : 33\n",
    "stage2_final_train_mask = (stage2_train_dates <= 33) ## 27-33\n",
    "stage2_test_mask = (stage2_train_dates==34) ## 34 want to predict and submit \n",
    "stage2_train_y = merge_y[merge_dates>=level2_date_block[0]] ## 27-34"
   ]
  },
  {
   "cell_type": "code",
   "execution_count": 13,
   "metadata": {},
   "outputs": [
    {
     "name": "stdout",
     "output_type": "stream",
     "text": [
      "train======\n",
      " False    452372\n",
      "True     433191\n",
      "dtype: int64\n",
      "validate======\n",
      " False    647391\n",
      "True     238172\n",
      "dtype: int64\n",
      "final=======\n",
      " True     671363\n",
      "False    214200\n",
      "dtype: int64\n",
      "test=======\n",
      " False    671363\n",
      "True     214200\n",
      "dtype: int64\n"
     ]
    }
   ],
   "source": [
    "print('train======\\n',pd.Series(stage2_train_mask).value_counts()) ## 27-32\n",
    "print('validate======\\n',pd.Series(stage2_valid_mask).value_counts()) ## 33\n",
    "print('final=======\\n',pd.Series(stage2_final_train_mask).value_counts())\n",
    "print('test=======\\n',pd.Series(stage2_test_mask).value_counts())"
   ]
  },
  {
   "cell_type": "markdown",
   "metadata": {},
   "source": [
    "### 1st level rg text features"
   ]
  },
  {
   "cell_type": "code",
   "execution_count": 62,
   "metadata": {},
   "outputs": [],
   "source": [
    "stage2_data_text = np.load('../data/feat/stage2_data_text.npy')"
   ]
  },
  {
   "cell_type": "code",
   "execution_count": 65,
   "metadata": {},
   "outputs": [
    {
     "data": {
      "text/plain": [
       "(1828564,)"
      ]
     },
     "execution_count": 65,
     "metadata": {},
     "output_type": "execute_result"
    }
   ],
   "source": [
    "stage2_data_text.shape"
   ]
  },
  {
   "cell_type": "code",
   "execution_count": 64,
   "metadata": {
    "collapsed": true
   },
   "outputs": [
    {
     "ename": "ValueError",
     "evalue": "Length of values does not match length of index",
     "output_type": "error",
     "traceback": [
      "\u001b[1;31m---------------------------------------------------------------------------\u001b[0m",
      "\u001b[1;31mValueError\u001b[0m                                Traceback (most recent call last)",
      "\u001b[1;32m<ipython-input-64-45d76b0aab1a>\u001b[0m in \u001b[0;36m<module>\u001b[1;34m()\u001b[0m\n\u001b[1;32m----> 1\u001b[1;33m \u001b[0mstage2_df\u001b[0m\u001b[1;33m.\u001b[0m\u001b[0mloc\u001b[0m\u001b[1;33m[\u001b[0m\u001b[1;33m:\u001b[0m\u001b[1;33m,\u001b[0m\u001b[1;34m'rg_text'\u001b[0m\u001b[1;33m]\u001b[0m \u001b[1;33m=\u001b[0m \u001b[0mstage2_data_text\u001b[0m\u001b[1;33m\u001b[0m\u001b[0m\n\u001b[0m",
      "\u001b[1;32mC:\\Program Files\\Anaconda3\\envs\\py36\\lib\\site-packages\\pandas\\core\\indexing.py\u001b[0m in \u001b[0;36m__setitem__\u001b[1;34m(self, key, value)\u001b[0m\n\u001b[0;32m    177\u001b[0m             \u001b[0mkey\u001b[0m \u001b[1;33m=\u001b[0m \u001b[0mcom\u001b[0m\u001b[1;33m.\u001b[0m\u001b[0m_apply_if_callable\u001b[0m\u001b[1;33m(\u001b[0m\u001b[0mkey\u001b[0m\u001b[1;33m,\u001b[0m \u001b[0mself\u001b[0m\u001b[1;33m.\u001b[0m\u001b[0mobj\u001b[0m\u001b[1;33m)\u001b[0m\u001b[1;33m\u001b[0m\u001b[0m\n\u001b[0;32m    178\u001b[0m         \u001b[0mindexer\u001b[0m \u001b[1;33m=\u001b[0m \u001b[0mself\u001b[0m\u001b[1;33m.\u001b[0m\u001b[0m_get_setitem_indexer\u001b[0m\u001b[1;33m(\u001b[0m\u001b[0mkey\u001b[0m\u001b[1;33m)\u001b[0m\u001b[1;33m\u001b[0m\u001b[0m\n\u001b[1;32m--> 179\u001b[1;33m         \u001b[0mself\u001b[0m\u001b[1;33m.\u001b[0m\u001b[0m_setitem_with_indexer\u001b[0m\u001b[1;33m(\u001b[0m\u001b[0mindexer\u001b[0m\u001b[1;33m,\u001b[0m \u001b[0mvalue\u001b[0m\u001b[1;33m)\u001b[0m\u001b[1;33m\u001b[0m\u001b[0m\n\u001b[0m\u001b[0;32m    180\u001b[0m \u001b[1;33m\u001b[0m\u001b[0m\n\u001b[0;32m    181\u001b[0m     \u001b[1;32mdef\u001b[0m \u001b[0m_has_valid_type\u001b[0m\u001b[1;33m(\u001b[0m\u001b[0mself\u001b[0m\u001b[1;33m,\u001b[0m \u001b[0mk\u001b[0m\u001b[1;33m,\u001b[0m \u001b[0maxis\u001b[0m\u001b[1;33m)\u001b[0m\u001b[1;33m:\u001b[0m\u001b[1;33m\u001b[0m\u001b[0m\n",
      "\u001b[1;32mC:\\Program Files\\Anaconda3\\envs\\py36\\lib\\site-packages\\pandas\\core\\indexing.py\u001b[0m in \u001b[0;36m_setitem_with_indexer\u001b[1;34m(self, indexer, value)\u001b[0m\n\u001b[0;32m    339\u001b[0m                         new_indexer = convert_from_missing_indexer_tuple(\n\u001b[0;32m    340\u001b[0m                             indexer, self.obj.axes)\n\u001b[1;32m--> 341\u001b[1;33m                         \u001b[0mself\u001b[0m\u001b[1;33m.\u001b[0m\u001b[0m_setitem_with_indexer\u001b[0m\u001b[1;33m(\u001b[0m\u001b[0mnew_indexer\u001b[0m\u001b[1;33m,\u001b[0m \u001b[0mvalue\u001b[0m\u001b[1;33m)\u001b[0m\u001b[1;33m\u001b[0m\u001b[0m\n\u001b[0m\u001b[0;32m    342\u001b[0m \u001b[1;33m\u001b[0m\u001b[0m\n\u001b[0;32m    343\u001b[0m                         \u001b[1;32mreturn\u001b[0m \u001b[0mself\u001b[0m\u001b[1;33m.\u001b[0m\u001b[0mobj\u001b[0m\u001b[1;33m\u001b[0m\u001b[0m\n",
      "\u001b[1;32mC:\\Program Files\\Anaconda3\\envs\\py36\\lib\\site-packages\\pandas\\core\\indexing.py\u001b[0m in \u001b[0;36m_setitem_with_indexer\u001b[1;34m(self, indexer, value)\u001b[0m\n\u001b[0;32m    599\u001b[0m                         all(is_null_slice(idx) for i, idx in enumerate(indexer)\n\u001b[0;32m    600\u001b[0m                             if i != info_axis) and item_labels.is_unique):\n\u001b[1;32m--> 601\u001b[1;33m                     \u001b[0mself\u001b[0m\u001b[1;33m.\u001b[0m\u001b[0mobj\u001b[0m\u001b[1;33m[\u001b[0m\u001b[0mitem_labels\u001b[0m\u001b[1;33m[\u001b[0m\u001b[0mindexer\u001b[0m\u001b[1;33m[\u001b[0m\u001b[0minfo_axis\u001b[0m\u001b[1;33m]\u001b[0m\u001b[1;33m]\u001b[0m\u001b[1;33m]\u001b[0m \u001b[1;33m=\u001b[0m \u001b[0mvalue\u001b[0m\u001b[1;33m\u001b[0m\u001b[0m\n\u001b[0m\u001b[0;32m    602\u001b[0m                     \u001b[1;32mreturn\u001b[0m\u001b[1;33m\u001b[0m\u001b[0m\n\u001b[0;32m    603\u001b[0m \u001b[1;33m\u001b[0m\u001b[0m\n",
      "\u001b[1;32mC:\\Program Files\\Anaconda3\\envs\\py36\\lib\\site-packages\\pandas\\core\\frame.py\u001b[0m in \u001b[0;36m__setitem__\u001b[1;34m(self, key, value)\u001b[0m\n\u001b[0;32m   2329\u001b[0m         \u001b[1;32melse\u001b[0m\u001b[1;33m:\u001b[0m\u001b[1;33m\u001b[0m\u001b[0m\n\u001b[0;32m   2330\u001b[0m             \u001b[1;31m# set column\u001b[0m\u001b[1;33m\u001b[0m\u001b[1;33m\u001b[0m\u001b[0m\n\u001b[1;32m-> 2331\u001b[1;33m             \u001b[0mself\u001b[0m\u001b[1;33m.\u001b[0m\u001b[0m_set_item\u001b[0m\u001b[1;33m(\u001b[0m\u001b[0mkey\u001b[0m\u001b[1;33m,\u001b[0m \u001b[0mvalue\u001b[0m\u001b[1;33m)\u001b[0m\u001b[1;33m\u001b[0m\u001b[0m\n\u001b[0m\u001b[0;32m   2332\u001b[0m \u001b[1;33m\u001b[0m\u001b[0m\n\u001b[0;32m   2333\u001b[0m     \u001b[1;32mdef\u001b[0m \u001b[0m_setitem_slice\u001b[0m\u001b[1;33m(\u001b[0m\u001b[0mself\u001b[0m\u001b[1;33m,\u001b[0m \u001b[0mkey\u001b[0m\u001b[1;33m,\u001b[0m \u001b[0mvalue\u001b[0m\u001b[1;33m)\u001b[0m\u001b[1;33m:\u001b[0m\u001b[1;33m\u001b[0m\u001b[0m\n",
      "\u001b[1;32mC:\\Program Files\\Anaconda3\\envs\\py36\\lib\\site-packages\\pandas\\core\\frame.py\u001b[0m in \u001b[0;36m_set_item\u001b[1;34m(self, key, value)\u001b[0m\n\u001b[0;32m   2395\u001b[0m \u001b[1;33m\u001b[0m\u001b[0m\n\u001b[0;32m   2396\u001b[0m         \u001b[0mself\u001b[0m\u001b[1;33m.\u001b[0m\u001b[0m_ensure_valid_index\u001b[0m\u001b[1;33m(\u001b[0m\u001b[0mvalue\u001b[0m\u001b[1;33m)\u001b[0m\u001b[1;33m\u001b[0m\u001b[0m\n\u001b[1;32m-> 2397\u001b[1;33m         \u001b[0mvalue\u001b[0m \u001b[1;33m=\u001b[0m \u001b[0mself\u001b[0m\u001b[1;33m.\u001b[0m\u001b[0m_sanitize_column\u001b[0m\u001b[1;33m(\u001b[0m\u001b[0mkey\u001b[0m\u001b[1;33m,\u001b[0m \u001b[0mvalue\u001b[0m\u001b[1;33m)\u001b[0m\u001b[1;33m\u001b[0m\u001b[0m\n\u001b[0m\u001b[0;32m   2398\u001b[0m         \u001b[0mNDFrame\u001b[0m\u001b[1;33m.\u001b[0m\u001b[0m_set_item\u001b[0m\u001b[1;33m(\u001b[0m\u001b[0mself\u001b[0m\u001b[1;33m,\u001b[0m \u001b[0mkey\u001b[0m\u001b[1;33m,\u001b[0m \u001b[0mvalue\u001b[0m\u001b[1;33m)\u001b[0m\u001b[1;33m\u001b[0m\u001b[0m\n\u001b[0;32m   2399\u001b[0m \u001b[1;33m\u001b[0m\u001b[0m\n",
      "\u001b[1;32mC:\\Program Files\\Anaconda3\\envs\\py36\\lib\\site-packages\\pandas\\core\\frame.py\u001b[0m in \u001b[0;36m_sanitize_column\u001b[1;34m(self, key, value, broadcast)\u001b[0m\n\u001b[0;32m   2566\u001b[0m \u001b[1;33m\u001b[0m\u001b[0m\n\u001b[0;32m   2567\u001b[0m             \u001b[1;31m# turn me into an ndarray\u001b[0m\u001b[1;33m\u001b[0m\u001b[1;33m\u001b[0m\u001b[0m\n\u001b[1;32m-> 2568\u001b[1;33m             \u001b[0mvalue\u001b[0m \u001b[1;33m=\u001b[0m \u001b[0m_sanitize_index\u001b[0m\u001b[1;33m(\u001b[0m\u001b[0mvalue\u001b[0m\u001b[1;33m,\u001b[0m \u001b[0mself\u001b[0m\u001b[1;33m.\u001b[0m\u001b[0mindex\u001b[0m\u001b[1;33m,\u001b[0m \u001b[0mcopy\u001b[0m\u001b[1;33m=\u001b[0m\u001b[1;32mFalse\u001b[0m\u001b[1;33m)\u001b[0m\u001b[1;33m\u001b[0m\u001b[0m\n\u001b[0m\u001b[0;32m   2569\u001b[0m             \u001b[1;32mif\u001b[0m \u001b[1;32mnot\u001b[0m \u001b[0misinstance\u001b[0m\u001b[1;33m(\u001b[0m\u001b[0mvalue\u001b[0m\u001b[1;33m,\u001b[0m \u001b[1;33m(\u001b[0m\u001b[0mnp\u001b[0m\u001b[1;33m.\u001b[0m\u001b[0mndarray\u001b[0m\u001b[1;33m,\u001b[0m \u001b[0mIndex\u001b[0m\u001b[1;33m)\u001b[0m\u001b[1;33m)\u001b[0m\u001b[1;33m:\u001b[0m\u001b[1;33m\u001b[0m\u001b[0m\n\u001b[0;32m   2570\u001b[0m                 \u001b[1;32mif\u001b[0m \u001b[0misinstance\u001b[0m\u001b[1;33m(\u001b[0m\u001b[0mvalue\u001b[0m\u001b[1;33m,\u001b[0m \u001b[0mlist\u001b[0m\u001b[1;33m)\u001b[0m \u001b[1;32mand\u001b[0m \u001b[0mlen\u001b[0m\u001b[1;33m(\u001b[0m\u001b[0mvalue\u001b[0m\u001b[1;33m)\u001b[0m \u001b[1;33m>\u001b[0m \u001b[1;36m0\u001b[0m\u001b[1;33m:\u001b[0m\u001b[1;33m\u001b[0m\u001b[0m\n",
      "\u001b[1;32mC:\\Program Files\\Anaconda3\\envs\\py36\\lib\\site-packages\\pandas\\core\\series.py\u001b[0m in \u001b[0;36m_sanitize_index\u001b[1;34m(data, index, copy)\u001b[0m\n\u001b[0;32m   2877\u001b[0m \u001b[1;33m\u001b[0m\u001b[0m\n\u001b[0;32m   2878\u001b[0m     \u001b[1;32mif\u001b[0m \u001b[0mlen\u001b[0m\u001b[1;33m(\u001b[0m\u001b[0mdata\u001b[0m\u001b[1;33m)\u001b[0m \u001b[1;33m!=\u001b[0m \u001b[0mlen\u001b[0m\u001b[1;33m(\u001b[0m\u001b[0mindex\u001b[0m\u001b[1;33m)\u001b[0m\u001b[1;33m:\u001b[0m\u001b[1;33m\u001b[0m\u001b[0m\n\u001b[1;32m-> 2879\u001b[1;33m         \u001b[1;32mraise\u001b[0m \u001b[0mValueError\u001b[0m\u001b[1;33m(\u001b[0m\u001b[1;34m'Length of values does not match length of '\u001b[0m \u001b[1;34m'index'\u001b[0m\u001b[1;33m)\u001b[0m\u001b[1;33m\u001b[0m\u001b[0m\n\u001b[0m\u001b[0;32m   2880\u001b[0m \u001b[1;33m\u001b[0m\u001b[0m\n\u001b[0;32m   2881\u001b[0m     \u001b[1;32mif\u001b[0m \u001b[0misinstance\u001b[0m\u001b[1;33m(\u001b[0m\u001b[0mdata\u001b[0m\u001b[1;33m,\u001b[0m \u001b[0mPeriodIndex\u001b[0m\u001b[1;33m)\u001b[0m\u001b[1;33m:\u001b[0m\u001b[1;33m\u001b[0m\u001b[0m\n",
      "\u001b[1;31mValueError\u001b[0m: Length of values does not match length of index"
     ]
    }
   ],
   "source": [
    "stage2_df.loc[:,'rg_text'] = stage2_data_text"
   ]
  },
  {
   "cell_type": "code",
   "execution_count": 71,
   "metadata": {},
   "outputs": [
    {
     "data": {
      "text/html": [
       "<div>\n",
       "<style>\n",
       "    .dataframe thead tr:only-child th {\n",
       "        text-align: right;\n",
       "    }\n",
       "\n",
       "    .dataframe thead th {\n",
       "        text-align: left;\n",
       "    }\n",
       "\n",
       "    .dataframe tbody tr th {\n",
       "        vertical-align: top;\n",
       "    }\n",
       "</style>\n",
       "<table border=\"1\" class=\"dataframe\">\n",
       "  <thead>\n",
       "    <tr style=\"text-align: right;\">\n",
       "      <th></th>\n",
       "      <th>rg</th>\n",
       "      <th>lasso</th>\n",
       "      <th>rf</th>\n",
       "      <th>lgbm</th>\n",
       "      <th>kmean_dist_label</th>\n",
       "      <th>kmean_dist_0</th>\n",
       "      <th>kmean_dist_1</th>\n",
       "      <th>kmean_dist_2</th>\n",
       "      <th>kmean_dist_3</th>\n",
       "      <th>kmean_dist_4</th>\n",
       "      <th>kmean_dist_5</th>\n",
       "      <th>kmean_dist_6</th>\n",
       "      <th>kmean_dist_7</th>\n",
       "      <th>rg_text</th>\n",
       "    </tr>\n",
       "  </thead>\n",
       "  <tbody>\n",
       "    <tr>\n",
       "      <th>885558</th>\n",
       "      <td>0.134964</td>\n",
       "      <td>0.125358</td>\n",
       "      <td>0.097561</td>\n",
       "      <td>0.107874</td>\n",
       "      <td>5.0</td>\n",
       "      <td>9.626541</td>\n",
       "      <td>10.444644</td>\n",
       "      <td>8.157898</td>\n",
       "      <td>5.956461</td>\n",
       "      <td>161.739534</td>\n",
       "      <td>8.003142</td>\n",
       "      <td>11.677549</td>\n",
       "      <td>32.903983</td>\n",
       "      <td>NaN</td>\n",
       "    </tr>\n",
       "    <tr>\n",
       "      <th>885559</th>\n",
       "      <td>0.139166</td>\n",
       "      <td>0.142591</td>\n",
       "      <td>0.024059</td>\n",
       "      <td>0.043879</td>\n",
       "      <td>5.0</td>\n",
       "      <td>12.879920</td>\n",
       "      <td>13.537854</td>\n",
       "      <td>11.259585</td>\n",
       "      <td>7.745059</td>\n",
       "      <td>162.398219</td>\n",
       "      <td>10.970714</td>\n",
       "      <td>14.512317</td>\n",
       "      <td>33.926956</td>\n",
       "      <td>NaN</td>\n",
       "    </tr>\n",
       "    <tr>\n",
       "      <th>885560</th>\n",
       "      <td>0.030850</td>\n",
       "      <td>0.045098</td>\n",
       "      <td>0.035809</td>\n",
       "      <td>0.033042</td>\n",
       "      <td>1.0</td>\n",
       "      <td>8.889758</td>\n",
       "      <td>8.961213</td>\n",
       "      <td>6.481952</td>\n",
       "      <td>5.770090</td>\n",
       "      <td>161.455787</td>\n",
       "      <td>8.039186</td>\n",
       "      <td>10.330557</td>\n",
       "      <td>32.773890</td>\n",
       "      <td>NaN</td>\n",
       "    </tr>\n",
       "    <tr>\n",
       "      <th>885561</th>\n",
       "      <td>0.135251</td>\n",
       "      <td>0.125836</td>\n",
       "      <td>0.027331</td>\n",
       "      <td>0.024500</td>\n",
       "      <td>0.0</td>\n",
       "      <td>9.597628</td>\n",
       "      <td>10.414772</td>\n",
       "      <td>8.158585</td>\n",
       "      <td>6.004372</td>\n",
       "      <td>161.741704</td>\n",
       "      <td>7.981184</td>\n",
       "      <td>11.652426</td>\n",
       "      <td>32.893805</td>\n",
       "      <td>NaN</td>\n",
       "    </tr>\n",
       "    <tr>\n",
       "      <th>885562</th>\n",
       "      <td>0.184883</td>\n",
       "      <td>0.174133</td>\n",
       "      <td>0.038164</td>\n",
       "      <td>0.026015</td>\n",
       "      <td>1.0</td>\n",
       "      <td>8.796314</td>\n",
       "      <td>8.847850</td>\n",
       "      <td>6.483378</td>\n",
       "      <td>5.891997</td>\n",
       "      <td>161.397045</td>\n",
       "      <td>7.952752</td>\n",
       "      <td>10.240780</td>\n",
       "      <td>32.746163</td>\n",
       "      <td>NaN</td>\n",
       "    </tr>\n",
       "  </tbody>\n",
       "</table>\n",
       "</div>"
      ],
      "text/plain": [
       "              rg     lasso        rf      lgbm  kmean_dist_label  \\\n",
       "885558  0.134964  0.125358  0.097561  0.107874               5.0   \n",
       "885559  0.139166  0.142591  0.024059  0.043879               5.0   \n",
       "885560  0.030850  0.045098  0.035809  0.033042               1.0   \n",
       "885561  0.135251  0.125836  0.027331  0.024500               0.0   \n",
       "885562  0.184883  0.174133  0.038164  0.026015               1.0   \n",
       "\n",
       "        kmean_dist_0  kmean_dist_1  kmean_dist_2  kmean_dist_3  kmean_dist_4  \\\n",
       "885558      9.626541     10.444644      8.157898      5.956461    161.739534   \n",
       "885559     12.879920     13.537854     11.259585      7.745059    162.398219   \n",
       "885560      8.889758      8.961213      6.481952      5.770090    161.455787   \n",
       "885561      9.597628     10.414772      8.158585      6.004372    161.741704   \n",
       "885562      8.796314      8.847850      6.483378      5.891997    161.397045   \n",
       "\n",
       "        kmean_dist_5  kmean_dist_6  kmean_dist_7  rg_text  \n",
       "885558      8.003142     11.677549     32.903983      NaN  \n",
       "885559     10.970714     14.512317     33.926956      NaN  \n",
       "885560      8.039186     10.330557     32.773890      NaN  \n",
       "885561      7.981184     11.652426     32.893805      NaN  \n",
       "885562      7.952752     10.240780     32.746163      NaN  "
      ]
     },
     "execution_count": 71,
     "metadata": {},
     "output_type": "execute_result"
    }
   ],
   "source": [
    "stage2_df.tail()"
   ]
  },
  {
   "cell_type": "markdown",
   "metadata": {},
   "source": [
    "______"
   ]
  },
  {
   "cell_type": "code",
   "execution_count": 72,
   "metadata": {},
   "outputs": [
    {
     "data": {
      "text/html": [
       "<div>\n",
       "<style>\n",
       "    .dataframe thead tr:only-child th {\n",
       "        text-align: right;\n",
       "    }\n",
       "\n",
       "    .dataframe thead th {\n",
       "        text-align: left;\n",
       "    }\n",
       "\n",
       "    .dataframe tbody tr th {\n",
       "        vertical-align: top;\n",
       "    }\n",
       "</style>\n",
       "<table border=\"1\" class=\"dataframe\">\n",
       "  <thead>\n",
       "    <tr style=\"text-align: right;\">\n",
       "      <th></th>\n",
       "      <th>rg</th>\n",
       "      <th>lasso</th>\n",
       "      <th>rf</th>\n",
       "      <th>lgbm</th>\n",
       "    </tr>\n",
       "  </thead>\n",
       "  <tbody>\n",
       "    <tr>\n",
       "      <th>rg</th>\n",
       "      <td>1.000000</td>\n",
       "      <td>0.991632</td>\n",
       "      <td>0.753673</td>\n",
       "      <td>0.724303</td>\n",
       "    </tr>\n",
       "    <tr>\n",
       "      <th>lasso</th>\n",
       "      <td>0.991632</td>\n",
       "      <td>1.000000</td>\n",
       "      <td>0.764889</td>\n",
       "      <td>0.737370</td>\n",
       "    </tr>\n",
       "    <tr>\n",
       "      <th>rf</th>\n",
       "      <td>0.753673</td>\n",
       "      <td>0.764889</td>\n",
       "      <td>1.000000</td>\n",
       "      <td>0.973793</td>\n",
       "    </tr>\n",
       "    <tr>\n",
       "      <th>lgbm</th>\n",
       "      <td>0.724303</td>\n",
       "      <td>0.737370</td>\n",
       "      <td>0.973793</td>\n",
       "      <td>1.000000</td>\n",
       "    </tr>\n",
       "  </tbody>\n",
       "</table>\n",
       "</div>"
      ],
      "text/plain": [
       "             rg     lasso        rf      lgbm\n",
       "rg     1.000000  0.991632  0.753673  0.724303\n",
       "lasso  0.991632  1.000000  0.764889  0.737370\n",
       "rf     0.753673  0.764889  1.000000  0.973793\n",
       "lgbm   0.724303  0.737370  0.973793  1.000000"
      ]
     },
     "execution_count": 72,
     "metadata": {},
     "output_type": "execute_result"
    }
   ],
   "source": [
    "model_cols = ['rg','lasso','rf','lgbm']\n",
    "used_cols = ['rg','lasso','rf','lgbm','kmean_dist_label']\n",
    "stage2_df = stage2_df[used_cols]\n",
    "stage2_df[model_cols].corr()"
   ]
  },
  {
   "cell_type": "code",
   "execution_count": 17,
   "metadata": {},
   "outputs": [],
   "source": [
    "import matplotlib.pyplot as plt\n",
    "%matplotlib inline "
   ]
  },
  {
   "cell_type": "code",
   "execution_count": 73,
   "metadata": {},
   "outputs": [
    {
     "data": {
      "text/plain": [
       "<matplotlib.collections.PathCollection at 0x5e732ceb70>"
      ]
     },
     "execution_count": 73,
     "metadata": {},
     "output_type": "execute_result"
    },
    {
     "data": {
      "image/png": "[encoded data removed]",
      "text/plain": [
       "<matplotlib.figure.Figure at 0x5e634d2710>"
      ]
     },
     "metadata": {},
     "output_type": "display_data"
    }
   ],
   "source": [
    "plt.scatter(stage2_df.lasso, stage2_df.lgbm)"
   ]
  },
  {
   "cell_type": "code",
   "execution_count": 19,
   "metadata": {},
   "outputs": [
    {
     "data": {
      "text/plain": [
       "<matplotlib.collections.PathCollection at 0x5e592f4be0>"
      ]
     },
     "execution_count": 19,
     "metadata": {},
     "output_type": "execute_result"
    },
    {
     "data": {
      "image/png": "[encoded data removed]",
      "text/plain": [
       "<matplotlib.figure.Figure at 0x5e59063438>"
      ]
     },
     "metadata": {},
     "output_type": "display_data"
    }
   ],
   "source": [
    "plt.scatter(stage2_df.rf, stage2_df.lgbm)"
   ]
  },
  {
   "cell_type": "code",
   "execution_count": 16,
   "metadata": {},
   "outputs": [
    {
     "data": {
      "text/html": [
       "<div>\n",
       "<style>\n",
       "    .dataframe thead tr:only-child th {\n",
       "        text-align: right;\n",
       "    }\n",
       "\n",
       "    .dataframe thead th {\n",
       "        text-align: left;\n",
       "    }\n",
       "\n",
       "    .dataframe tbody tr th {\n",
       "        vertical-align: top;\n",
       "    }\n",
       "</style>\n",
       "<table border=\"1\" class=\"dataframe\">\n",
       "  <thead>\n",
       "    <tr style=\"text-align: right;\">\n",
       "      <th></th>\n",
       "      <th>rf</th>\n",
       "      <th>rg</th>\n",
       "    </tr>\n",
       "  </thead>\n",
       "  <tbody>\n",
       "    <tr>\n",
       "      <th>0</th>\n",
       "      <td>1.104751</td>\n",
       "      <td>0.457809</td>\n",
       "    </tr>\n",
       "    <tr>\n",
       "      <th>1</th>\n",
       "      <td>1.786170</td>\n",
       "      <td>0.990932</td>\n",
       "    </tr>\n",
       "    <tr>\n",
       "      <th>2</th>\n",
       "      <td>0.640284</td>\n",
       "      <td>0.473575</td>\n",
       "    </tr>\n",
       "    <tr>\n",
       "      <th>3</th>\n",
       "      <td>0.457851</td>\n",
       "      <td>0.421733</td>\n",
       "    </tr>\n",
       "    <tr>\n",
       "      <th>4</th>\n",
       "      <td>0.397525</td>\n",
       "      <td>0.406524</td>\n",
       "    </tr>\n",
       "  </tbody>\n",
       "</table>\n",
       "</div>"
      ],
      "text/plain": [
       "         rf        rg\n",
       "0  1.104751  0.457809\n",
       "1  1.786170  0.990932\n",
       "2  0.640284  0.473575\n",
       "3  0.457851  0.421733\n",
       "4  0.397525  0.406524"
      ]
     },
     "execution_count": 16,
     "metadata": {},
     "output_type": "execute_result"
    }
   ],
   "source": [
    "stage2_df[['rf','rg']].head()"
   ]
  },
  {
   "cell_type": "code",
   "execution_count": 45,
   "metadata": {},
   "outputs": [],
   "source": [
    "from scipy.stats.mstats import hmean, gmean"
   ]
  },
  {
   "cell_type": "code",
   "execution_count": 46,
   "metadata": {},
   "outputs": [],
   "source": [
    "def stage2_feat_engineer(df, model_cols=[]):\n",
    "    model_cnt = df[model_cols].shape[1]\n",
    "    \n",
    "    print('Calculating 2 g\\\\h\\\\m-mean')\n",
    "    for i in range(model_cnt-1): # i = 0 to model_cnt-2\n",
    "        for j in range(i+1, model_cnt): # j = i+1 to model_cnt-1\n",
    "            cols = [model_cols[i], model_cols[j]]\n",
    "            df.loc[:, 'gmean_' + str(i) + '_'+ str(j)] = gmean(df.loc[:,cols].values, axis=1)\n",
    "            df.loc[:, 'mean_' + str(i) + '_'+ str(j)] = np.mean(df.loc[:,cols].values, axis=1)\n",
    "\n",
    "    if model_cnt > 3:\n",
    "        print('Calculating 3 g\\\\h\\\\m-mean')        \n",
    "        for i in range(model_cnt-2): # i = 0 to model_cnt-3\n",
    "            for j in range(i+1, model_cnt-1): # j = i+1 to model_cnt-2\n",
    "                for k in range(j+1, model_cnt): # k = j+1 to model_cnt-1\n",
    "                    cols = [model_cols[i], model_cols[j], model_cols[k]]\n",
    "                    df.loc[:, 'gmean_' + str(i) + '_'+ str(j) + '_'+ str(k)] = gmean(df.loc[:,cols].values, axis=1)\n",
    "                    df.loc[:, 'mean_' + str(i) + '_'+ str(j) + '_'+ str(k)] = np.mean(df.loc[:,cols].values, axis=1)\n",
    "\n",
    "    print('Calculating all g\\\\h\\\\m-mean')             \n",
    "    df.loc[:, 'gmean_all'] = gmean(df.loc[:,model_cols].values, axis=1)\n",
    "    df.loc[:, 'mean'] = np.mean(df.loc[:,model_cols].values, axis=1)\n",
    "    df.loc[:, 'med'] = np.median(df.loc[:,model_cols].values, axis=1)\n",
    "    df.loc[:, 'max'] = np.amax(df.loc[:,model_cols].values, axis=1)\n",
    "    df.loc[:, 'min'] = np.amin(df.loc[:,model_cols].values, axis=1)\n",
    "    df.loc[:, 'std'] = np.std(df.loc[:,model_cols].values, axis=1)"
   ]
  },
  {
   "cell_type": "code",
   "execution_count": 74,
   "metadata": {},
   "outputs": [
    {
     "data": {
      "text/plain": [
       "['rg', 'lasso', 'rf', 'lgbm']"
      ]
     },
     "execution_count": 74,
     "metadata": {},
     "output_type": "execute_result"
    }
   ],
   "source": [
    "model_cols"
   ]
  },
  {
   "cell_type": "code",
   "execution_count": 48,
   "metadata": {
    "collapsed": true
   },
   "outputs": [
    {
     "name": "stdout",
     "output_type": "stream",
     "text": [
      "Calculating 2 g\\h\\m-mean\n"
     ]
    },
    {
     "name": "stderr",
     "output_type": "stream",
     "text": [
      "C:\\Program Files\\Anaconda3\\envs\\py36\\lib\\site-packages\\scipy\\stats\\stats.py:314: RuntimeWarning: divide by zero encountered in log\n",
      "  log_a = np.log(a)\n",
      "C:\\Program Files\\Anaconda3\\envs\\py36\\lib\\site-packages\\pandas\\core\\indexing.py:337: SettingWithCopyWarning: \n",
      "A value is trying to be set on a copy of a slice from a DataFrame.\n",
      "Try using .loc[row_indexer,col_indexer] = value instead\n",
      "\n",
      "See the caveats in the documentation: http://pandas.pydata.org/pandas-docs/stable/indexing.html#indexing-view-versus-copy\n",
      "  self.obj[key] = _infer_fill_value(value)\n",
      "C:\\Program Files\\Anaconda3\\envs\\py36\\lib\\site-packages\\pandas\\core\\indexing.py:601: SettingWithCopyWarning: \n",
      "A value is trying to be set on a copy of a slice from a DataFrame.\n",
      "Try using .loc[row_indexer,col_indexer] = value instead\n",
      "\n",
      "See the caveats in the documentation: http://pandas.pydata.org/pandas-docs/stable/indexing.html#indexing-view-versus-copy\n",
      "  self.obj[item_labels[indexer[info_axis]]] = value\n"
     ]
    },
    {
     "name": "stdout",
     "output_type": "stream",
     "text": [
      "Calculating all g\\h\\m-mean\n"
     ]
    }
   ],
   "source": [
    "stage2_feat_engineer(stage2_df,['rf','lgbm'])"
   ]
  },
  {
   "cell_type": "code",
   "execution_count": 75,
   "metadata": {},
   "outputs": [
    {
     "data": {
      "text/plain": [
       "Index(['rg', 'lasso', 'rf', 'lgbm', 'kmean_dist_label'], dtype='object')"
      ]
     },
     "execution_count": 75,
     "metadata": {},
     "output_type": "execute_result"
    }
   ],
   "source": [
    "stage2_df.columns"
   ]
  },
  {
   "cell_type": "code",
   "execution_count": 76,
   "metadata": {},
   "outputs": [],
   "source": [
    "stage2_df = downcast_dtypes(stage2_df)"
   ]
  },
  {
   "cell_type": "code",
   "execution_count": 77,
   "metadata": {},
   "outputs": [
    {
     "data": {
      "text/plain": [
       "14"
      ]
     },
     "execution_count": 77,
     "metadata": {},
     "output_type": "execute_result"
    }
   ],
   "source": [
    "gc.collect()"
   ]
  },
  {
   "cell_type": "code",
   "execution_count": 78,
   "metadata": {},
   "outputs": [
    {
     "data": {
      "text/plain": [
       "(885563, 5)"
      ]
     },
     "execution_count": 78,
     "metadata": {},
     "output_type": "execute_result"
    }
   ],
   "source": [
    "stage2_df.shape"
   ]
  },
  {
   "cell_type": "code",
   "execution_count": 79,
   "metadata": {},
   "outputs": [],
   "source": [
    "stage2_df = pd.concat([stage2_df, merge[merge_dates>=level2_date_block[0]].reset_index(drop=True)], axis=1)"
   ]
  },
  {
   "cell_type": "markdown",
   "metadata": {},
   "source": [
    "# Train on 2nd Level \n",
    "- train on `27-32` ,`stage2_train_mask`  \n",
    "- validate on `33`\n",
    "- final train on `27-33` and predict on `34`"
   ]
  },
  {
   "cell_type": "code",
   "execution_count": 81,
   "metadata": {},
   "outputs": [
    {
     "data": {
      "text/plain": [
       "False    452372\n",
       "True     433191\n",
       "dtype: int64"
      ]
     },
     "execution_count": 81,
     "metadata": {},
     "output_type": "execute_result"
    }
   ],
   "source": [
    "pd.Series(stage2_train_mask).value_counts()"
   ]
  },
  {
   "cell_type": "code",
   "execution_count": 82,
   "metadata": {},
   "outputs": [
    {
     "data": {
      "text/plain": [
       "False    647391\n",
       "True     238172\n",
       "dtype: int64"
      ]
     },
     "execution_count": 82,
     "metadata": {},
     "output_type": "execute_result"
    }
   ],
   "source": [
    "pd.Series(stage2_valid_mask).value_counts()"
   ]
  },
  {
   "cell_type": "code",
   "execution_count": 83,
   "metadata": {},
   "outputs": [
    {
     "data": {
      "text/plain": [
       "(238172, 59)"
      ]
     },
     "execution_count": 83,
     "metadata": {},
     "output_type": "execute_result"
    }
   ],
   "source": [
    "# stage2_df[stage2_train_mask]\n",
    "stage2_df[stage2_valid_mask].shape"
   ]
  },
  {
   "cell_type": "code",
   "execution_count": 84,
   "metadata": {},
   "outputs": [
    {
     "data": {
      "text/plain": [
       "True     671363\n",
       "False    214200\n",
       "dtype: int64"
      ]
     },
     "execution_count": 84,
     "metadata": {},
     "output_type": "execute_result"
    }
   ],
   "source": [
    "pd.Series(stage2_final_train_mask).value_counts()"
   ]
  },
  {
   "cell_type": "code",
   "execution_count": 85,
   "metadata": {},
   "outputs": [],
   "source": [
    "import lightgbm as lgb\n",
    "import copy \n",
    "from hyperopt import fmin, tpe, hp, STATUS_OK, Trials\n",
    "from sklearn.metrics import mean_squared_error"
   ]
  },
  {
   "cell_type": "code",
   "execution_count": 86,
   "metadata": {},
   "outputs": [],
   "source": [
    "def objective(params):\n",
    "    \n",
    "    clf = params.get('clf')\n",
    "    new_params = params.get('params') ## update params\n",
    "\n",
    "\n",
    "    copy_clf = copy.deepcopy(clf)\n",
    "    original_params = copy_clf.get_params()\n",
    "    original_params.update(new_params)\n",
    "    copy_clf.set_params(**original_params) # update copy clf with trying new_params              \n",
    "    \n",
    "    ## simple hold out \n",
    "    \n",
    "    copy_clf.fit(stage2_df[stage2_train_mask].values, stage2_train_y[stage2_train_mask]) ### fit on [27-32]\n",
    "    \n",
    "    pred_y = copy_clf.predict(stage2_df[stage2_valid_mask].values) ## validate on 33\n",
    "    pred_y = np.clip(pred_y, 0., 20.) # clip to (0,20)\n",
    "    rmse = mean_squared_error(stage2_train_y[stage2_valid_mask], pred_y)**.5 \n",
    "    print('rmse: {:.5f} '.format(rmse), end='\\t')\n",
    "    print('params: {}'.format(new_params))\n",
    "    \n",
    "    return {'loss':rmse,'status':STATUS_OK}"
   ]
  },
  {
   "cell_type": "code",
   "execution_count": 35,
   "metadata": {},
   "outputs": [],
   "source": [
    "# stage2_df = stage2_df[['rf','lgbm','kmean_dist_label']]\n",
    "# stage2_df[stage2_valid_mask].head()"
   ]
  },
  {
   "cell_type": "code",
   "execution_count": 87,
   "metadata": {},
   "outputs": [],
   "source": [
    "y_val = stage2_train_y[stage2_valid_mask] ##33\n",
    "stage2_val_df = stage2_df[stage2_valid_mask]"
   ]
  },
  {
   "cell_type": "code",
   "execution_count": 30,
   "metadata": {},
   "outputs": [
    {
     "data": {
      "text/html": [
       "<div>\n",
       "<style>\n",
       "    .dataframe thead tr:only-child th {\n",
       "        text-align: right;\n",
       "    }\n",
       "\n",
       "    .dataframe thead th {\n",
       "        text-align: left;\n",
       "    }\n",
       "\n",
       "    .dataframe tbody tr th {\n",
       "        vertical-align: top;\n",
       "    }\n",
       "</style>\n",
       "<table border=\"1\" class=\"dataframe\">\n",
       "  <thead>\n",
       "    <tr style=\"text-align: right;\">\n",
       "      <th></th>\n",
       "      <th>0</th>\n",
       "      <th>1</th>\n",
       "      <th>2</th>\n",
       "      <th>3</th>\n",
       "      <th>4</th>\n",
       "    </tr>\n",
       "  </thead>\n",
       "  <tbody>\n",
       "    <tr>\n",
       "      <th>rg</th>\n",
       "      <td>0.206704</td>\n",
       "      <td>0.251394</td>\n",
       "      <td>0.181789</td>\n",
       "      <td>0.093240</td>\n",
       "      <td>0.337916</td>\n",
       "    </tr>\n",
       "    <tr>\n",
       "      <th>lasso</th>\n",
       "      <td>0.210538</td>\n",
       "      <td>0.261407</td>\n",
       "      <td>0.196857</td>\n",
       "      <td>0.125308</td>\n",
       "      <td>0.358665</td>\n",
       "    </tr>\n",
       "    <tr>\n",
       "      <th>rf</th>\n",
       "      <td>0.032139</td>\n",
       "      <td>0.797239</td>\n",
       "      <td>0.498579</td>\n",
       "      <td>0.134226</td>\n",
       "      <td>0.776439</td>\n",
       "    </tr>\n",
       "    <tr>\n",
       "      <th>lgbm</th>\n",
       "      <td>0.046392</td>\n",
       "      <td>0.776989</td>\n",
       "      <td>0.533678</td>\n",
       "      <td>0.139150</td>\n",
       "      <td>0.596890</td>\n",
       "    </tr>\n",
       "    <tr>\n",
       "      <th>kmean_dist_label</th>\n",
       "      <td>5.000000</td>\n",
       "      <td>1.000000</td>\n",
       "      <td>1.000000</td>\n",
       "      <td>0.000000</td>\n",
       "      <td>1.000000</td>\n",
       "    </tr>\n",
       "    <tr>\n",
       "      <th>y</th>\n",
       "      <td>1.000000</td>\n",
       "      <td>1.000000</td>\n",
       "      <td>2.000000</td>\n",
       "      <td>1.000000</td>\n",
       "      <td>1.000000</td>\n",
       "    </tr>\n",
       "  </tbody>\n",
       "</table>\n",
       "</div>"
      ],
      "text/plain": [
       "                         0         1         2         3         4\n",
       "rg                0.206704  0.251394  0.181789  0.093240  0.337916\n",
       "lasso             0.210538  0.261407  0.196857  0.125308  0.358665\n",
       "rf                0.032139  0.797239  0.498579  0.134226  0.776439\n",
       "lgbm              0.046392  0.776989  0.533678  0.139150  0.596890\n",
       "kmean_dist_label  5.000000  1.000000  1.000000  0.000000  1.000000\n",
       "y                 1.000000  1.000000  2.000000  1.000000  1.000000"
      ]
     },
     "execution_count": 30,
     "metadata": {},
     "output_type": "execute_result"
    }
   ],
   "source": [
    "# stage2_val_df.reset_index(inplace=True,drop=True)\n",
    "# df_val = pd.DataFrame({'y':y_val})\n",
    "# pd.concat((stage2_val_df,df_val),axis=1).head().T"
   ]
  },
  {
   "cell_type": "code",
   "execution_count": 90,
   "metadata": {},
   "outputs": [
    {
     "name": "stdout",
     "output_type": "stream",
     "text": [
      "[1]\tvalid_0's rmse: 1.0631\n",
      "Training until validation scores don't improve for 5 rounds.\n",
      "[2]\tvalid_0's rmse: 1.02976\n",
      "[3]\tvalid_0's rmse: 1.01606\n",
      "[4]\tvalid_0's rmse: 1.01916\n",
      "[5]\tvalid_0's rmse: 1.02526\n",
      "[6]\tvalid_0's rmse: 1.04104\n",
      "[7]\tvalid_0's rmse: 1.04637\n",
      "[8]\tvalid_0's rmse: 1.03466\n",
      "Early stopping, best iteration is:\n",
      "[3]\tvalid_0's rmse: 1.01606\n"
     ]
    }
   ],
   "source": [
    "''' simple test on params tuning for validation data (33)'''\n",
    "\n",
    "params = {    \n",
    "    'boosting_type': 'dart',\n",
    "    'objective': 'regression',\n",
    "    'metric': 'rmse',\n",
    "    'max_depth': 30,\n",
    "    'learning_rate': 0.2\n",
    "#     'feature_fraction': 0.9,\n",
    "#     'bagging_fraction': 0.8,\n",
    "#     'bagging_freq': 5    \n",
    "}\n",
    "\n",
    "lgb_train = lgb.Dataset(stage2_df[stage2_train_mask].values, stage2_train_y[stage2_train_mask])\n",
    "lgb_cv = lgb.Dataset(stage2_df[stage2_valid_mask].values, stage2_train_y[stage2_valid_mask], reference=lgb_train)\n",
    "\n",
    "reg = lgb.train(params,\n",
    "                early_stopping_rounds = 5,\n",
    "                train_set = lgb_train,\n",
    "                valid_sets=lgb_cv,\n",
    "                verbose_eval = True)"
   ]
  },
  {
   "cell_type": "code",
   "execution_count": 91,
   "metadata": {},
   "outputs": [
    {
     "name": "stdout",
     "output_type": "stream",
     "text": [
      "rmse: 1.02125 \tparams: {'bagging_fraction': 0.7240793763551191, 'boosting_type': 'dart', 'feature_fraction': 0.6830912900703034, 'gamma': 0.488617504629549, 'max_depth': 18, 'num_leaves': 90, 'reg_alpha': 0.9903917796656031, 'reg_lambda': 0.8443421903688777}\n",
      "rmse: 0.99749 \tparams: {'bagging_fraction': 0.9938987643433466, 'boosting_type': 'dart', 'feature_fraction': 0.869316061000057, 'gamma': 0.14827457797523502, 'max_depth': 6, 'num_leaves': 12, 'reg_alpha': 0.8378206313981945, 'reg_lambda': 0.6750077058017657}\n",
      "rmse: 1.05568 \tparams: {'bagging_fraction': 0.8422155826160889, 'boosting_type': 'dart', 'feature_fraction': 0.8687919615038129, 'gamma': 0.20229886306058942, 'max_depth': 15, 'num_leaves': 110, 'reg_alpha': 0.9221163621809578, 'reg_lambda': 0.7842848348863404}\n"
     ]
    },
    {
     "ename": "KeyboardInterrupt",
     "evalue": "",
     "output_type": "error",
     "traceback": [
      "\u001b[1;31m---------------------------------------------------------------------------\u001b[0m",
      "\u001b[1;31mKeyboardInterrupt\u001b[0m                         Traceback (most recent call last)",
      "\u001b[1;32m<ipython-input-91-423d9d8631c0>\u001b[0m in \u001b[0;36m<module>\u001b[1;34m()\u001b[0m\n\u001b[0;32m     22\u001b[0m            \u001b[0mspace\u001b[0m \u001b[1;33m=\u001b[0m \u001b[0mlgb_params\u001b[0m\u001b[1;33m,\u001b[0m\u001b[1;33m\u001b[0m\u001b[0m\n\u001b[0;32m     23\u001b[0m            \u001b[0malgo\u001b[0m \u001b[1;33m=\u001b[0m \u001b[0mtpe\u001b[0m\u001b[1;33m.\u001b[0m\u001b[0msuggest\u001b[0m\u001b[1;33m,\u001b[0m\u001b[1;33m\u001b[0m\u001b[0m\n\u001b[1;32m---> 24\u001b[1;33m            \u001b[0mmax_evals\u001b[0m \u001b[1;33m=\u001b[0m \u001b[1;36m10\u001b[0m\u001b[1;33m\u001b[0m\u001b[0m\n\u001b[0m\u001b[0;32m     25\u001b[0m            )\n",
      "\u001b[1;32mC:\\Program Files\\Anaconda3\\envs\\py36\\lib\\site-packages\\hyperopt\\fmin.py\u001b[0m in \u001b[0;36mfmin\u001b[1;34m(fn, space, algo, max_evals, trials, rstate, allow_trials_fmin, pass_expr_memo_ctrl, catch_eval_exceptions, verbose, return_argmin)\u001b[0m\n\u001b[0;32m    318\u001b[0m                     verbose=verbose)\n\u001b[0;32m    319\u001b[0m     \u001b[0mrval\u001b[0m\u001b[1;33m.\u001b[0m\u001b[0mcatch_eval_exceptions\u001b[0m \u001b[1;33m=\u001b[0m \u001b[0mcatch_eval_exceptions\u001b[0m\u001b[1;33m\u001b[0m\u001b[0m\n\u001b[1;32m--> 320\u001b[1;33m     \u001b[0mrval\u001b[0m\u001b[1;33m.\u001b[0m\u001b[0mexhaust\u001b[0m\u001b[1;33m(\u001b[0m\u001b[1;33m)\u001b[0m\u001b[1;33m\u001b[0m\u001b[0m\n\u001b[0m\u001b[0;32m    321\u001b[0m     \u001b[1;32mif\u001b[0m \u001b[0mreturn_argmin\u001b[0m\u001b[1;33m:\u001b[0m\u001b[1;33m\u001b[0m\u001b[0m\n\u001b[0;32m    322\u001b[0m         \u001b[1;32mreturn\u001b[0m \u001b[0mtrials\u001b[0m\u001b[1;33m.\u001b[0m\u001b[0margmin\u001b[0m\u001b[1;33m\u001b[0m\u001b[0m\n",
      "\u001b[1;32mC:\\Program Files\\Anaconda3\\envs\\py36\\lib\\site-packages\\hyperopt\\fmin.py\u001b[0m in \u001b[0;36mexhaust\u001b[1;34m(self)\u001b[0m\n\u001b[0;32m    197\u001b[0m     \u001b[1;32mdef\u001b[0m \u001b[0mexhaust\u001b[0m\u001b[1;33m(\u001b[0m\u001b[0mself\u001b[0m\u001b[1;33m)\u001b[0m\u001b[1;33m:\u001b[0m\u001b[1;33m\u001b[0m\u001b[0m\n\u001b[0;32m    198\u001b[0m         \u001b[0mn_done\u001b[0m \u001b[1;33m=\u001b[0m \u001b[0mlen\u001b[0m\u001b[1;33m(\u001b[0m\u001b[0mself\u001b[0m\u001b[1;33m.\u001b[0m\u001b[0mtrials\u001b[0m\u001b[1;33m)\u001b[0m\u001b[1;33m\u001b[0m\u001b[0m\n\u001b[1;32m--> 199\u001b[1;33m         \u001b[0mself\u001b[0m\u001b[1;33m.\u001b[0m\u001b[0mrun\u001b[0m\u001b[1;33m(\u001b[0m\u001b[0mself\u001b[0m\u001b[1;33m.\u001b[0m\u001b[0mmax_evals\u001b[0m \u001b[1;33m-\u001b[0m \u001b[0mn_done\u001b[0m\u001b[1;33m,\u001b[0m \u001b[0mblock_until_done\u001b[0m\u001b[1;33m=\u001b[0m\u001b[0mself\u001b[0m\u001b[1;33m.\u001b[0m\u001b[0masync\u001b[0m\u001b[1;33m)\u001b[0m\u001b[1;33m\u001b[0m\u001b[0m\n\u001b[0m\u001b[0;32m    200\u001b[0m         \u001b[0mself\u001b[0m\u001b[1;33m.\u001b[0m\u001b[0mtrials\u001b[0m\u001b[1;33m.\u001b[0m\u001b[0mrefresh\u001b[0m\u001b[1;33m(\u001b[0m\u001b[1;33m)\u001b[0m\u001b[1;33m\u001b[0m\u001b[0m\n\u001b[0;32m    201\u001b[0m         \u001b[1;32mreturn\u001b[0m \u001b[0mself\u001b[0m\u001b[1;33m\u001b[0m\u001b[0m\n",
      "\u001b[1;32mC:\\Program Files\\Anaconda3\\envs\\py36\\lib\\site-packages\\hyperopt\\fmin.py\u001b[0m in \u001b[0;36mrun\u001b[1;34m(self, N, block_until_done)\u001b[0m\n\u001b[0;32m    171\u001b[0m             \u001b[1;32melse\u001b[0m\u001b[1;33m:\u001b[0m\u001b[1;33m\u001b[0m\u001b[0m\n\u001b[0;32m    172\u001b[0m                 \u001b[1;31m# -- loop over trials and do the jobs directly\u001b[0m\u001b[1;33m\u001b[0m\u001b[1;33m\u001b[0m\u001b[0m\n\u001b[1;32m--> 173\u001b[1;33m                 \u001b[0mself\u001b[0m\u001b[1;33m.\u001b[0m\u001b[0mserial_evaluate\u001b[0m\u001b[1;33m(\u001b[0m\u001b[1;33m)\u001b[0m\u001b[1;33m\u001b[0m\u001b[0m\n\u001b[0m\u001b[0;32m    174\u001b[0m \u001b[1;33m\u001b[0m\u001b[0m\n\u001b[0;32m    175\u001b[0m             \u001b[1;32mif\u001b[0m \u001b[0mstopped\u001b[0m\u001b[1;33m:\u001b[0m\u001b[1;33m\u001b[0m\u001b[0m\n",
      "\u001b[1;32mC:\\Program Files\\Anaconda3\\envs\\py36\\lib\\site-packages\\hyperopt\\fmin.py\u001b[0m in \u001b[0;36mserial_evaluate\u001b[1;34m(self, N)\u001b[0m\n\u001b[0;32m     90\u001b[0m                 \u001b[0mctrl\u001b[0m \u001b[1;33m=\u001b[0m \u001b[0mbase\u001b[0m\u001b[1;33m.\u001b[0m\u001b[0mCtrl\u001b[0m\u001b[1;33m(\u001b[0m\u001b[0mself\u001b[0m\u001b[1;33m.\u001b[0m\u001b[0mtrials\u001b[0m\u001b[1;33m,\u001b[0m \u001b[0mcurrent_trial\u001b[0m\u001b[1;33m=\u001b[0m\u001b[0mtrial\u001b[0m\u001b[1;33m)\u001b[0m\u001b[1;33m\u001b[0m\u001b[0m\n\u001b[0;32m     91\u001b[0m                 \u001b[1;32mtry\u001b[0m\u001b[1;33m:\u001b[0m\u001b[1;33m\u001b[0m\u001b[0m\n\u001b[1;32m---> 92\u001b[1;33m                     \u001b[0mresult\u001b[0m \u001b[1;33m=\u001b[0m \u001b[0mself\u001b[0m\u001b[1;33m.\u001b[0m\u001b[0mdomain\u001b[0m\u001b[1;33m.\u001b[0m\u001b[0mevaluate\u001b[0m\u001b[1;33m(\u001b[0m\u001b[0mspec\u001b[0m\u001b[1;33m,\u001b[0m \u001b[0mctrl\u001b[0m\u001b[1;33m)\u001b[0m\u001b[1;33m\u001b[0m\u001b[0m\n\u001b[0m\u001b[0;32m     93\u001b[0m                 \u001b[1;32mexcept\u001b[0m \u001b[0mException\u001b[0m \u001b[1;32mas\u001b[0m \u001b[0me\u001b[0m\u001b[1;33m:\u001b[0m\u001b[1;33m\u001b[0m\u001b[0m\n\u001b[0;32m     94\u001b[0m                     \u001b[0mlogger\u001b[0m\u001b[1;33m.\u001b[0m\u001b[0minfo\u001b[0m\u001b[1;33m(\u001b[0m\u001b[1;34m'job exception: %s'\u001b[0m \u001b[1;33m%\u001b[0m \u001b[0mstr\u001b[0m\u001b[1;33m(\u001b[0m\u001b[0me\u001b[0m\u001b[1;33m)\u001b[0m\u001b[1;33m)\u001b[0m\u001b[1;33m\u001b[0m\u001b[0m\n",
      "\u001b[1;32mC:\\Program Files\\Anaconda3\\envs\\py36\\lib\\site-packages\\hyperopt\\base.py\u001b[0m in \u001b[0;36mevaluate\u001b[1;34m(self, config, ctrl, attach_attachments)\u001b[0m\n\u001b[0;32m    838\u001b[0m                 \u001b[0mmemo\u001b[0m\u001b[1;33m=\u001b[0m\u001b[0mmemo\u001b[0m\u001b[1;33m,\u001b[0m\u001b[1;33m\u001b[0m\u001b[0m\n\u001b[0;32m    839\u001b[0m                 print_node_on_error=self.rec_eval_print_node_on_error)\n\u001b[1;32m--> 840\u001b[1;33m             \u001b[0mrval\u001b[0m \u001b[1;33m=\u001b[0m \u001b[0mself\u001b[0m\u001b[1;33m.\u001b[0m\u001b[0mfn\u001b[0m\u001b[1;33m(\u001b[0m\u001b[0mpyll_rval\u001b[0m\u001b[1;33m)\u001b[0m\u001b[1;33m\u001b[0m\u001b[0m\n\u001b[0m\u001b[0;32m    841\u001b[0m \u001b[1;33m\u001b[0m\u001b[0m\n\u001b[0;32m    842\u001b[0m         \u001b[1;32mif\u001b[0m \u001b[0misinstance\u001b[0m\u001b[1;33m(\u001b[0m\u001b[0mrval\u001b[0m\u001b[1;33m,\u001b[0m \u001b[1;33m(\u001b[0m\u001b[0mfloat\u001b[0m\u001b[1;33m,\u001b[0m \u001b[0mint\u001b[0m\u001b[1;33m,\u001b[0m \u001b[0mnp\u001b[0m\u001b[1;33m.\u001b[0m\u001b[0mnumber\u001b[0m\u001b[1;33m)\u001b[0m\u001b[1;33m)\u001b[0m\u001b[1;33m:\u001b[0m\u001b[1;33m\u001b[0m\u001b[0m\n",
      "\u001b[1;32m<ipython-input-86-f73e522b6b96>\u001b[0m in \u001b[0;36mobjective\u001b[1;34m(params)\u001b[0m\n\u001b[0;32m     12\u001b[0m     \u001b[1;31m## simple hold out\u001b[0m\u001b[1;33m\u001b[0m\u001b[1;33m\u001b[0m\u001b[0m\n\u001b[0;32m     13\u001b[0m \u001b[1;33m\u001b[0m\u001b[0m\n\u001b[1;32m---> 14\u001b[1;33m     \u001b[0mcopy_clf\u001b[0m\u001b[1;33m.\u001b[0m\u001b[0mfit\u001b[0m\u001b[1;33m(\u001b[0m\u001b[0mstage2_df\u001b[0m\u001b[1;33m[\u001b[0m\u001b[0mstage2_train_mask\u001b[0m\u001b[1;33m]\u001b[0m\u001b[1;33m.\u001b[0m\u001b[0mvalues\u001b[0m\u001b[1;33m,\u001b[0m \u001b[0mstage2_train_y\u001b[0m\u001b[1;33m[\u001b[0m\u001b[0mstage2_train_mask\u001b[0m\u001b[1;33m]\u001b[0m\u001b[1;33m)\u001b[0m \u001b[1;31m### fit on [27-32]\u001b[0m\u001b[1;33m\u001b[0m\u001b[0m\n\u001b[0m\u001b[0;32m     15\u001b[0m \u001b[1;33m\u001b[0m\u001b[0m\n\u001b[0;32m     16\u001b[0m     \u001b[0mpred_y\u001b[0m \u001b[1;33m=\u001b[0m \u001b[0mcopy_clf\u001b[0m\u001b[1;33m.\u001b[0m\u001b[0mpredict\u001b[0m\u001b[1;33m(\u001b[0m\u001b[0mstage2_df\u001b[0m\u001b[1;33m[\u001b[0m\u001b[0mstage2_valid_mask\u001b[0m\u001b[1;33m]\u001b[0m\u001b[1;33m.\u001b[0m\u001b[0mvalues\u001b[0m\u001b[1;33m)\u001b[0m \u001b[1;31m## validate on 33\u001b[0m\u001b[1;33m\u001b[0m\u001b[0m\n",
      "\u001b[1;32mC:\\Program Files\\Anaconda3\\envs\\py36\\lib\\site-packages\\lightgbm\\sklearn.py\u001b[0m in \u001b[0;36mfit\u001b[1;34m(self, X, y, sample_weight, init_score, eval_set, eval_names, eval_sample_weight, eval_init_score, eval_metric, early_stopping_rounds, verbose, feature_name, categorical_feature, callbacks)\u001b[0m\n\u001b[0;32m    616\u001b[0m                                        \u001b[0mverbose\u001b[0m\u001b[1;33m=\u001b[0m\u001b[0mverbose\u001b[0m\u001b[1;33m,\u001b[0m \u001b[0mfeature_name\u001b[0m\u001b[1;33m=\u001b[0m\u001b[0mfeature_name\u001b[0m\u001b[1;33m,\u001b[0m\u001b[1;33m\u001b[0m\u001b[0m\n\u001b[0;32m    617\u001b[0m                                        \u001b[0mcategorical_feature\u001b[0m\u001b[1;33m=\u001b[0m\u001b[0mcategorical_feature\u001b[0m\u001b[1;33m,\u001b[0m\u001b[1;33m\u001b[0m\u001b[0m\n\u001b[1;32m--> 618\u001b[1;33m                                        callbacks=callbacks)\n\u001b[0m\u001b[0;32m    619\u001b[0m         \u001b[1;32mreturn\u001b[0m \u001b[0mself\u001b[0m\u001b[1;33m\u001b[0m\u001b[0m\n\u001b[0;32m    620\u001b[0m \u001b[1;33m\u001b[0m\u001b[0m\n",
      "\u001b[1;32mC:\\Program Files\\Anaconda3\\envs\\py36\\lib\\site-packages\\lightgbm\\sklearn.py\u001b[0m in \u001b[0;36mfit\u001b[1;34m(self, X, y, sample_weight, init_score, group, eval_set, eval_names, eval_sample_weight, eval_class_weight, eval_init_score, eval_group, eval_metric, early_stopping_rounds, verbose, feature_name, categorical_feature, callbacks)\u001b[0m\n\u001b[0;32m    471\u001b[0m                               \u001b[0mverbose_eval\u001b[0m\u001b[1;33m=\u001b[0m\u001b[0mverbose\u001b[0m\u001b[1;33m,\u001b[0m \u001b[0mfeature_name\u001b[0m\u001b[1;33m=\u001b[0m\u001b[0mfeature_name\u001b[0m\u001b[1;33m,\u001b[0m\u001b[1;33m\u001b[0m\u001b[0m\n\u001b[0;32m    472\u001b[0m                               \u001b[0mcategorical_feature\u001b[0m\u001b[1;33m=\u001b[0m\u001b[0mcategorical_feature\u001b[0m\u001b[1;33m,\u001b[0m\u001b[1;33m\u001b[0m\u001b[0m\n\u001b[1;32m--> 473\u001b[1;33m                               callbacks=callbacks)\n\u001b[0m\u001b[0;32m    474\u001b[0m \u001b[1;33m\u001b[0m\u001b[0m\n\u001b[0;32m    475\u001b[0m         \u001b[1;32mif\u001b[0m \u001b[0mevals_result\u001b[0m\u001b[1;33m:\u001b[0m\u001b[1;33m\u001b[0m\u001b[0m\n",
      "\u001b[1;32mC:\\Program Files\\Anaconda3\\envs\\py36\\lib\\site-packages\\lightgbm\\engine.py\u001b[0m in \u001b[0;36mtrain\u001b[1;34m(params, train_set, num_boost_round, valid_sets, valid_names, fobj, feval, init_model, feature_name, categorical_feature, early_stopping_rounds, evals_result, verbose_eval, learning_rates, keep_training_booster, callbacks)\u001b[0m\n\u001b[0;32m    199\u001b[0m                                     evaluation_result_list=None))\n\u001b[0;32m    200\u001b[0m \u001b[1;33m\u001b[0m\u001b[0m\n\u001b[1;32m--> 201\u001b[1;33m         \u001b[0mbooster\u001b[0m\u001b[1;33m.\u001b[0m\u001b[0mupdate\u001b[0m\u001b[1;33m(\u001b[0m\u001b[0mfobj\u001b[0m\u001b[1;33m=\u001b[0m\u001b[0mfobj\u001b[0m\u001b[1;33m)\u001b[0m\u001b[1;33m\u001b[0m\u001b[0m\n\u001b[0m\u001b[0;32m    202\u001b[0m \u001b[1;33m\u001b[0m\u001b[0m\n\u001b[0;32m    203\u001b[0m         \u001b[0mevaluation_result_list\u001b[0m \u001b[1;33m=\u001b[0m \u001b[1;33m[\u001b[0m\u001b[1;33m]\u001b[0m\u001b[1;33m\u001b[0m\u001b[0m\n",
      "\u001b[1;32mC:\\Program Files\\Anaconda3\\envs\\py36\\lib\\site-packages\\lightgbm\\basic.py\u001b[0m in \u001b[0;36mupdate\u001b[1;34m(self, train_set, fobj)\u001b[0m\n\u001b[0;32m   1519\u001b[0m             _safe_call(_LIB.LGBM_BoosterUpdateOneIter(\n\u001b[0;32m   1520\u001b[0m                 \u001b[0mself\u001b[0m\u001b[1;33m.\u001b[0m\u001b[0mhandle\u001b[0m\u001b[1;33m,\u001b[0m\u001b[1;33m\u001b[0m\u001b[0m\n\u001b[1;32m-> 1521\u001b[1;33m                 ctypes.byref(is_finished)))\n\u001b[0m\u001b[0;32m   1522\u001b[0m             \u001b[0mself\u001b[0m\u001b[1;33m.\u001b[0m\u001b[0m__is_predicted_cur_iter\u001b[0m \u001b[1;33m=\u001b[0m \u001b[1;33m[\u001b[0m\u001b[1;32mFalse\u001b[0m \u001b[1;32mfor\u001b[0m \u001b[0m_\u001b[0m \u001b[1;32min\u001b[0m \u001b[0mrange_\u001b[0m\u001b[1;33m(\u001b[0m\u001b[0mself\u001b[0m\u001b[1;33m.\u001b[0m\u001b[0m__num_dataset\u001b[0m\u001b[1;33m)\u001b[0m\u001b[1;33m]\u001b[0m\u001b[1;33m\u001b[0m\u001b[0m\n\u001b[0;32m   1523\u001b[0m             \u001b[1;32mreturn\u001b[0m \u001b[0mis_finished\u001b[0m\u001b[1;33m.\u001b[0m\u001b[0mvalue\u001b[0m \u001b[1;33m==\u001b[0m \u001b[1;36m1\u001b[0m\u001b[1;33m\u001b[0m\u001b[0m\n",
      "\u001b[1;31mKeyboardInterrupt\u001b[0m: "
     ]
    }
   ],
   "source": [
    "lgb_clf = lgb.LGBMRegressor(random_state=0, n_jobs=4)\n",
    "\n",
    "# 1. find an optimal n_esti for rather larger learning rate\n",
    "lgb_params = {\n",
    "    'clf' : lgb_clf,\n",
    "    'params': {\n",
    "        \n",
    "#         'boosting_type': hp.choice('boosting_type',['gbdt', 'dart']), ## dart\n",
    "        'boosting_type': 'dart',\n",
    "        'max_depth' : hp.choice(\"max_depth\", np.arange(2, 20, dtype=int)),    \n",
    "        'num_leaves'   : hp.choice('num_leaves', np.arange(8,129,2,dtype=int)),        \n",
    "        \n",
    "        'feature_fraction': hp.uniform('feature_fraction', 0.3, 1.0),\n",
    "        'bagging_fraction': hp.uniform ('bagging_fraction', 0.7, 1),\n",
    "        'reg_alpha' : hp.uniform('reg_alpha',0,1),\n",
    "        'reg_lambda': hp.uniform('reg_lambda',0,1),\n",
    "        'gamma' : hp.uniform('gamma', 0.1,0.5)\n",
    "    }\n",
    "    \n",
    "}\n",
    "best =fmin(fn = objective,\n",
    "           space = lgb_params,\n",
    "           algo = tpe.suggest,\n",
    "           max_evals = 10\n",
    "           )"
   ]
  },
  {
   "cell_type": "code",
   "execution_count": 36,
   "metadata": {},
   "outputs": [
    {
     "data": {
      "text/plain": [
       "{'bagging_fraction': 0.7682846887438464,\n",
       " 'boosting_type': 1,\n",
       " 'feature_fraction': 0.5753991342264869,\n",
       " 'gamma': 0.27914831744734536,\n",
       " 'max_depth': 1,\n",
       " 'num_leaves': 16,\n",
       " 'reg_alpha': 0.5590666758177603,\n",
       " 'reg_lambda': 0.8430454690248188}"
      ]
     },
     "execution_count": 36,
     "metadata": {},
     "output_type": "execute_result"
    }
   ],
   "source": [
    "best"
   ]
  },
  {
   "cell_type": "code",
   "execution_count": 166,
   "metadata": {},
   "outputs": [
    {
     "name": "stdout",
     "output_type": "stream",
     "text": [
      "rmse: 0.91792 \tparams: {'boosting_type': 'dart', 'max_depth': 10, 'num_leaves': 13, 'feature_fraction': 0.7703258965795443, 'bagging_fraction': 0.834750265236025, 'reg_alpha': 0.45107691031250763, 'reg_lambda': 0.8878342456557001, 'gamma': 0.4687491515287674}\n"
     ]
    }
   ],
   "source": [
    "lgb_clf = lgb.LGBMRegressor(random_state=0, n_jobs=8)\n",
    "lgb_params = {\n",
    "    'clf' : lgb_clf,\n",
    "    'params': {\n",
    "        \n",
    "        'boosting_type': 'dart',\n",
    "        'max_depth' : 10, \n",
    "        'num_leaves'   : 13,         \n",
    "        'feature_fraction': 0.7703258965795443,\n",
    "        'bagging_fraction': 0.834750265236025,\n",
    "        'reg_alpha' : 0.45107691031250763,\n",
    "        'reg_lambda': 0.8878342456557001,\n",
    "        'gamma' : 0.4687491515287674\n",
    "    }    \n",
    "}\n",
    "best_lgb_2nd_val_loss = objective(lgb_params)"
   ]
  },
  {
   "cell_type": "markdown",
   "metadata": {},
   "source": [
    "> rmse: 0.91882 \t\n",
    "- params: `{'bagging_fraction': 0.8219608927918671, 'boosting_type': 'dart', 'feature_fraction': 0.8197533685642909, 'gamma': 0.4386326407529417, 'max_depth': 11, 'num_leaves': 10, 'reg_alpha': 0.7227955651016644, 'reg_lambda': 0.11999749478454569}`"
   ]
  },
  {
   "cell_type": "markdown",
   "metadata": {},
   "source": [
    "# Submission"
   ]
  },
  {
   "cell_type": "code",
   "execution_count": 149,
   "metadata": {},
   "outputs": [],
   "source": [
    "# lgb_train = lgb.Dataset(stage2_df[stage2_final_train_mask],stage2_train_y[stage2_final_train_mask])\n",
    "# params_best = {\n",
    "#         'boosting_type': 'dart',\n",
    "#         'max_depth' : 11,\n",
    "#         'num_leaves': 10,        \n",
    "#         'feature_fraction': 0.81975,\n",
    "#         'bagging_fraction': 0.82196,\n",
    "#         'reg_alpha' : 0.7228,\n",
    "#         'reg_lambda': 0.1200,\n",
    "#         'gamma' : 0.4386\n",
    "# }\n",
    "# # lgb_cv = lgb.Dataset(X_cv,y_cv,reference=lgb_train)\n",
    "# reg_sub = lgb.train(params_best,                    \n",
    "#                     train_set = lgb_train\n",
    "#                     )"
   ]
  },
  {
   "cell_type": "code",
   "execution_count": 168,
   "metadata": {},
   "outputs": [],
   "source": [
    "lgb_params = {                \n",
    "    'boosting_type': 'dart',\n",
    "    'max_depth' : 10, \n",
    "    'num_leaves'   : 13,         \n",
    "    'feature_fraction': 0.7703258965795443,\n",
    "    'bagging_fraction': 0.834750265236025,\n",
    "    'reg_alpha' : 0.45107691031250763,\n",
    "    'reg_lambda': 0.8878342456557001,\n",
    "    'gamma' : 0.4687491515287674\n",
    "}"
   ]
  },
  {
   "cell_type": "code",
   "execution_count": 170,
   "metadata": {},
   "outputs": [
    {
     "name": "stdout",
     "output_type": "stream",
     "text": [
      "rmse: 0.91792 \t"
     ]
    }
   ],
   "source": [
    "lgb_clf = lgb.LGBMRegressor(random_state=0, n_jobs=8,**lgb_params)\n",
    "\n",
    "## simple hold out \n",
    "\n",
    "lgb_clf.fit(stage2_df[stage2_train_mask].values, stage2_train_y[stage2_train_mask])    \n",
    "\n",
    "pred_y = lgb_clf.predict(stage2_df[stage2_valid_mask].values)\n",
    "pred_y = np.clip(pred_y, 0., 20.) # clip to (0,20)\n",
    "rmse = mean_squared_error(stage2_train_y[stage2_valid_mask], pred_y)**.5\n",
    "print('rmse: {:.5f} '.format(rmse), end='\\t')\n"
   ]
  },
  {
   "cell_type": "code",
   "execution_count": 1,
   "metadata": {
    "collapsed": true
   },
   "outputs": [
    {
     "ename": "NameError",
     "evalue": "name 'lgb' is not defined",
     "output_type": "error",
     "traceback": [
      "\u001b[1;31m---------------------------------------------------------------------------\u001b[0m",
      "\u001b[1;31mNameError\u001b[0m                                 Traceback (most recent call last)",
      "\u001b[1;32m<ipython-input-1-c57d23479bf0>\u001b[0m in \u001b[0;36m<module>\u001b[1;34m()\u001b[0m\n\u001b[1;32m----> 1\u001b[1;33m \u001b[0mlgb_clf\u001b[0m \u001b[1;33m=\u001b[0m \u001b[0mlgb\u001b[0m\u001b[1;33m.\u001b[0m\u001b[0mLGBMRegressor\u001b[0m\u001b[1;33m(\u001b[0m\u001b[0mrandom_state\u001b[0m\u001b[1;33m=\u001b[0m\u001b[1;36m0\u001b[0m\u001b[1;33m,\u001b[0m \u001b[0mn_jobs\u001b[0m\u001b[1;33m=\u001b[0m\u001b[1;36m8\u001b[0m\u001b[1;33m,\u001b[0m\u001b[1;33m**\u001b[0m\u001b[0mlgb_params\u001b[0m\u001b[1;33m)\u001b[0m\u001b[1;33m\u001b[0m\u001b[0m\n\u001b[0m\u001b[0;32m      2\u001b[0m \u001b[0mlgb_clf\u001b[0m\u001b[1;33m.\u001b[0m\u001b[0mfit\u001b[0m\u001b[1;33m(\u001b[0m\u001b[0mstage2_df\u001b[0m\u001b[1;33m[\u001b[0m\u001b[0mstage2_final_train_mask\u001b[0m\u001b[1;33m]\u001b[0m\u001b[1;33m.\u001b[0m\u001b[0mvalues\u001b[0m\u001b[1;33m,\u001b[0m\u001b[0mstage2_train_y\u001b[0m\u001b[1;33m[\u001b[0m\u001b[0mstage2_final_train_mask\u001b[0m\u001b[1;33m]\u001b[0m\u001b[1;33m)\u001b[0m\u001b[1;33m\u001b[0m\u001b[0m\n\u001b[0;32m      3\u001b[0m \u001b[0mpred_y\u001b[0m \u001b[1;33m=\u001b[0m \u001b[0mlgb_clf\u001b[0m\u001b[1;33m.\u001b[0m\u001b[0mpredict\u001b[0m\u001b[1;33m(\u001b[0m\u001b[0mstage2_df\u001b[0m\u001b[1;33m[\u001b[0m\u001b[0mstage2_test_mask\u001b[0m\u001b[1;33m]\u001b[0m\u001b[1;33m.\u001b[0m\u001b[0mvalues\u001b[0m\u001b[1;33m)\u001b[0m\u001b[1;33m\u001b[0m\u001b[0m\n\u001b[0;32m      4\u001b[0m \u001b[0mpred_y\u001b[0m \u001b[1;33m=\u001b[0m \u001b[0mnp\u001b[0m\u001b[1;33m.\u001b[0m\u001b[0mclip\u001b[0m\u001b[1;33m(\u001b[0m\u001b[0mpred_y\u001b[0m\u001b[1;33m,\u001b[0m\u001b[1;36m0\u001b[0m\u001b[1;33m,\u001b[0m\u001b[1;36m20\u001b[0m\u001b[1;33m)\u001b[0m\u001b[1;33m\u001b[0m\u001b[0m\n\u001b[0;32m      5\u001b[0m \u001b[1;31m##\u001b[0m\u001b[1;33m\u001b[0m\u001b[1;33m\u001b[0m\u001b[0m\n",
      "\u001b[1;31mNameError\u001b[0m: name 'lgb' is not defined"
     ]
    }
   ],
   "source": [
    "lgb_clf = lgb.LGBMRegressor(random_state=0, n_jobs=8,**lgb_params)\n",
    "lgb_clf.fit(stage2_df[stage2_final_train_mask].values,stage2_train_y[stage2_final_train_mask])\n",
    "pred_y = lgb_clf.predict(stage2_df[stage2_test_mask].values)\n",
    "pred_y = np.clip(pred_y,0,20)\n",
    "## "
   ]
  },
  {
   "cell_type": "code",
   "execution_count": 172,
   "metadata": {},
   "outputs": [],
   "source": [
    "y_submit = pd.DataFrame({'ID':range(len(pred_y)), 'item_cnt_month':pred_y}) # validate on 2015oct : 0.91732, LB: 0.94824\n",
    "y_submit.to_csv('../data/output/submission_lgbm5_stacking_finetune_params.csv',index=False) # stacking"
   ]
  }
 ],
 "metadata": {
  "anaconda-cloud": {},
  "kernelspec": {
   "display_name": "Python [conda env:py36]",
   "language": "python",
   "name": "conda-env-py36-py"
  },
  "language_info": {
   "codemirror_mode": {
    "name": "ipython",
    "version": 3
   },
   "file_extension": ".py",
   "mimetype": "text/x-python",
   "name": "python",
   "nbconvert_exporter": "python",
   "pygments_lexer": "ipython3",
   "version": "3.6.3"
  }
 },
 "nbformat": 4,
 "nbformat_minor": 1
}
