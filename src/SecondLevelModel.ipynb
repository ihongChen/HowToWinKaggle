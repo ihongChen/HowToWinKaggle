{
 "cells": [
  {
   "cell_type": "markdown",
   "metadata": {},
   "source": [
    "# Second Level "
   ]
  },
  {
   "cell_type": "code",
   "execution_count": 1,
   "metadata": {},
   "outputs": [],
   "source": [
    "import pandas as pd\n",
    "import numpy as np \n",
    "import gc"
   ]
  },
  {
   "cell_type": "markdown",
   "metadata": {},
   "source": [
    "### Load first level data "
   ]
  },
  {
   "cell_type": "code",
   "execution_count": 9,
   "metadata": {},
   "outputs": [
    {
     "name": "stdout",
     "output_type": "stream",
     "text": [
      "['/stage2_df']\n"
     ]
    }
   ],
   "source": [
    "with pd.HDFStore('../data/feat/stage2_data.h5') as stage2_h5:\n",
    "    print(stage2_h5.keys())\n",
    "    stage2_df = stage2_h5['stage2_df']"
   ]
  },
  {
   "cell_type": "code",
   "execution_count": 13,
   "metadata": {},
   "outputs": [
    {
     "data": {
      "text/html": [
       "<div>\n",
       "<style>\n",
       "    .dataframe thead tr:only-child th {\n",
       "        text-align: right;\n",
       "    }\n",
       "\n",
       "    .dataframe thead th {\n",
       "        text-align: left;\n",
       "    }\n",
       "\n",
       "    .dataframe tbody tr th {\n",
       "        vertical-align: top;\n",
       "    }\n",
       "</style>\n",
       "<table border=\"1\" class=\"dataframe\">\n",
       "  <thead>\n",
       "    <tr style=\"text-align: right;\">\n",
       "      <th></th>\n",
       "      <th>rg</th>\n",
       "      <th>lasso</th>\n",
       "      <th>rf</th>\n",
       "      <th>lgbm</th>\n",
       "      <th>knn</th>\n",
       "      <th>knn_dist_0</th>\n",
       "      <th>knn_dist_1</th>\n",
       "      <th>knn_dist_2</th>\n",
       "      <th>knn_dist_3</th>\n",
       "      <th>knn_dist_4</th>\n",
       "      <th>...</th>\n",
       "      <th>knn_dist_14</th>\n",
       "      <th>kmean_dist_label</th>\n",
       "      <th>kmean_dist_0</th>\n",
       "      <th>kmean_dist_1</th>\n",
       "      <th>kmean_dist_2</th>\n",
       "      <th>kmean_dist_3</th>\n",
       "      <th>kmean_dist_4</th>\n",
       "      <th>kmean_dist_5</th>\n",
       "      <th>kmean_dist_6</th>\n",
       "      <th>kmean_dist_7</th>\n",
       "    </tr>\n",
       "  </thead>\n",
       "  <tbody>\n",
       "    <tr>\n",
       "      <th>0</th>\n",
       "      <td>0.345505</td>\n",
       "      <td>0.299434</td>\n",
       "      <td>0.559380</td>\n",
       "      <td>0.687585</td>\n",
       "      <td>0.461946</td>\n",
       "      <td>15.000000</td>\n",
       "      <td>15.000000</td>\n",
       "      <td>15.000000</td>\n",
       "      <td>16.000000</td>\n",
       "      <td>16.000000</td>\n",
       "      <td>...</td>\n",
       "      <td>17.000000</td>\n",
       "      <td>3.0</td>\n",
       "      <td>16.171893</td>\n",
       "      <td>16.788638</td>\n",
       "      <td>13.484739</td>\n",
       "      <td>10.455496</td>\n",
       "      <td>163.121368</td>\n",
       "      <td>14.736764</td>\n",
       "      <td>17.483576</td>\n",
       "      <td>35.278573</td>\n",
       "    </tr>\n",
       "    <tr>\n",
       "      <th>1</th>\n",
       "      <td>1.083458</td>\n",
       "      <td>1.036473</td>\n",
       "      <td>2.350962</td>\n",
       "      <td>2.604097</td>\n",
       "      <td>1.886891</td>\n",
       "      <td>7097.084351</td>\n",
       "      <td>7367.291954</td>\n",
       "      <td>7391.268279</td>\n",
       "      <td>7754.255436</td>\n",
       "      <td>7779.592759</td>\n",
       "      <td>...</td>\n",
       "      <td>8422.030430</td>\n",
       "      <td>5.0</td>\n",
       "      <td>9.423429</td>\n",
       "      <td>10.257709</td>\n",
       "      <td>8.150730</td>\n",
       "      <td>6.497106</td>\n",
       "      <td>161.405323</td>\n",
       "      <td>7.958082</td>\n",
       "      <td>11.485983</td>\n",
       "      <td>32.846975</td>\n",
       "    </tr>\n",
       "    <tr>\n",
       "      <th>2</th>\n",
       "      <td>0.432379</td>\n",
       "      <td>0.398738</td>\n",
       "      <td>0.645353</td>\n",
       "      <td>0.502553</td>\n",
       "      <td>0.400254</td>\n",
       "      <td>8810.403742</td>\n",
       "      <td>8901.891784</td>\n",
       "      <td>8916.891784</td>\n",
       "      <td>8944.502339</td>\n",
       "      <td>8967.156340</td>\n",
       "      <td>...</td>\n",
       "      <td>9150.136168</td>\n",
       "      <td>6.0</td>\n",
       "      <td>8.785192</td>\n",
       "      <td>8.794748</td>\n",
       "      <td>6.493592</td>\n",
       "      <td>6.395639</td>\n",
       "      <td>161.372517</td>\n",
       "      <td>8.162270</td>\n",
       "      <td>10.156587</td>\n",
       "      <td>32.766569</td>\n",
       "    </tr>\n",
       "    <tr>\n",
       "      <th>3</th>\n",
       "      <td>0.495248</td>\n",
       "      <td>0.437356</td>\n",
       "      <td>3.162069</td>\n",
       "      <td>5.001240</td>\n",
       "      <td>0.075603</td>\n",
       "      <td>11.000000</td>\n",
       "      <td>12.000000</td>\n",
       "      <td>12.000000</td>\n",
       "      <td>13.000000</td>\n",
       "      <td>13.000000</td>\n",
       "      <td>...</td>\n",
       "      <td>19.000000</td>\n",
       "      <td>3.0</td>\n",
       "      <td>16.186510</td>\n",
       "      <td>16.802709</td>\n",
       "      <td>13.502333</td>\n",
       "      <td>10.478966</td>\n",
       "      <td>163.123577</td>\n",
       "      <td>14.752742</td>\n",
       "      <td>17.496040</td>\n",
       "      <td>35.280873</td>\n",
       "    </tr>\n",
       "    <tr>\n",
       "      <th>4</th>\n",
       "      <td>0.458267</td>\n",
       "      <td>0.401383</td>\n",
       "      <td>2.405929</td>\n",
       "      <td>3.038452</td>\n",
       "      <td>0.663293</td>\n",
       "      <td>9.000000</td>\n",
       "      <td>10.000000</td>\n",
       "      <td>10.000000</td>\n",
       "      <td>11.000000</td>\n",
       "      <td>11.000000</td>\n",
       "      <td>...</td>\n",
       "      <td>14.000000</td>\n",
       "      <td>3.0</td>\n",
       "      <td>16.180627</td>\n",
       "      <td>16.797045</td>\n",
       "      <td>13.495253</td>\n",
       "      <td>10.469525</td>\n",
       "      <td>163.122691</td>\n",
       "      <td>14.746311</td>\n",
       "      <td>17.491022</td>\n",
       "      <td>35.279936</td>\n",
       "    </tr>\n",
       "  </tbody>\n",
       "</table>\n",
       "<p>5 rows × 29 columns</p>\n",
       "</div>"
      ],
      "text/plain": [
       "         rg     lasso        rf      lgbm       knn   knn_dist_0   knn_dist_1  \\\n",
       "0  0.345505  0.299434  0.559380  0.687585  0.461946    15.000000    15.000000   \n",
       "1  1.083458  1.036473  2.350962  2.604097  1.886891  7097.084351  7367.291954   \n",
       "2  0.432379  0.398738  0.645353  0.502553  0.400254  8810.403742  8901.891784   \n",
       "3  0.495248  0.437356  3.162069  5.001240  0.075603    11.000000    12.000000   \n",
       "4  0.458267  0.401383  2.405929  3.038452  0.663293     9.000000    10.000000   \n",
       "\n",
       "    knn_dist_2   knn_dist_3   knn_dist_4      ...       knn_dist_14  \\\n",
       "0    15.000000    16.000000    16.000000      ...         17.000000   \n",
       "1  7391.268279  7754.255436  7779.592759      ...       8422.030430   \n",
       "2  8916.891784  8944.502339  8967.156340      ...       9150.136168   \n",
       "3    12.000000    13.000000    13.000000      ...         19.000000   \n",
       "4    10.000000    11.000000    11.000000      ...         14.000000   \n",
       "\n",
       "   kmean_dist_label  kmean_dist_0  kmean_dist_1  kmean_dist_2  kmean_dist_3  \\\n",
       "0               3.0     16.171893     16.788638     13.484739     10.455496   \n",
       "1               5.0      9.423429     10.257709      8.150730      6.497106   \n",
       "2               6.0      8.785192      8.794748      6.493592      6.395639   \n",
       "3               3.0     16.186510     16.802709     13.502333     10.478966   \n",
       "4               3.0     16.180627     16.797045     13.495253     10.469525   \n",
       "\n",
       "   kmean_dist_4  kmean_dist_5  kmean_dist_6  kmean_dist_7  \n",
       "0    163.121368     14.736764     17.483576     35.278573  \n",
       "1    161.405323      7.958082     11.485983     32.846975  \n",
       "2    161.372517      8.162270     10.156587     32.766569  \n",
       "3    163.123577     14.752742     17.496040     35.280873  \n",
       "4    163.122691     14.746311     17.491022     35.279936  \n",
       "\n",
       "[5 rows x 29 columns]"
      ]
     },
     "execution_count": 13,
     "metadata": {},
     "output_type": "execute_result"
    }
   ],
   "source": [
    "stage2_df.head()"
   ]
  },
  {
   "cell_type": "markdown",
   "metadata": {},
   "source": [
    "### Load features "
   ]
  },
  {
   "cell_type": "code",
   "execution_count": 5,
   "metadata": {},
   "outputs": [
    {
     "name": "stdout",
     "output_type": "stream",
     "text": [
      "['/X_cv', '/X_test', '/X_train', '/y_cv', '/y_train']\n"
     ]
    }
   ],
   "source": [
    "with pd.HDFStore('../data/feat/data.h5') as store:\n",
    "    print(store.keys())\n",
    "    X_cv = store['X_cv']\n",
    "    X_train = store['X_train']\n",
    "    X_test = store['X_test']\n",
    "    y_cv = store['y_cv']\n",
    "    y_train = store['y_train']"
   ]
  },
  {
   "cell_type": "code",
   "execution_count": 16,
   "metadata": {},
   "outputs": [],
   "source": [
    "def downcast_dtypes(df):\n",
    "    '''\n",
    "        Changes column types in the dataframe: \n",
    "                \n",
    "                `float64` type to `float32`\n",
    "                `int64`   type to `int32`\n",
    "    '''\n",
    "    \n",
    "    # Select columns to downcast\n",
    "    float_cols = [c for c in df if df[c].dtype == \"float64\"]\n",
    "    int_cols =   [c for c in df if df[c].dtype == \"int64\"]\n",
    "    \n",
    "    # Downcast\n",
    "    df[float_cols] = df[float_cols].astype(np.float32)\n",
    "    df[int_cols]   = df[int_cols].astype(np.int32)\n",
    "    \n",
    "    return df"
   ]
  },
  {
   "cell_type": "code",
   "execution_count": 17,
   "metadata": {},
   "outputs": [
    {
     "data": {
      "text/plain": [
       "2146"
      ]
     },
     "execution_count": 17,
     "metadata": {},
     "output_type": "execute_result"
    }
   ],
   "source": [
    "X_train = downcast_dtypes(X_train)\n",
    "X_cv = downcast_dtypes(X_cv)\n",
    "X_test = downcast_dtypes(X_test)\n",
    "\n",
    "y_train = y_train.astype(np.float32)\n",
    "y_cv = y_cv.astype(np.float32)\n",
    "\n",
    "gc.collect()\n"
   ]
  },
  {
   "cell_type": "code",
   "execution_count": 18,
   "metadata": {},
   "outputs": [],
   "source": [
    "X_train.fillna(0,inplace=True)\n",
    "X_cv.fillna(0,inplace=True)\n",
    "X_test.fillna(0,inplace=True)"
   ]
  },
  {
   "cell_type": "code",
   "execution_count": 34,
   "metadata": {},
   "outputs": [],
   "source": [
    "y_train = y_train.clip(0,20)\n",
    "y_cv = y_cv.clip(0,20)"
   ]
  },
  {
   "cell_type": "markdown",
   "metadata": {},
   "source": [
    "#### memory issue\n",
    "1. reduce `date_block_num >= 12`  "
   ]
  },
  {
   "cell_type": "code",
   "execution_count": 101,
   "metadata": {},
   "outputs": [],
   "source": [
    "train_dates = X_train.date_block_num\n",
    "\n",
    "mask = train_dates >= 12\n",
    "X_train = X_train[mask]\n",
    "y_train = y_train[mask]\n",
    "\n",
    "level2_date_block = [27, 28, 29, 30, 31, 32]\n",
    "level2_mask = train_dates.isin(level2_date_block)\n",
    "train_dates_level2 = train_dates[level2_mask]\n",
    "train_y_level2 = y_train[level2_mask]\n",
    "\n",
    "train_dates = train_dates[mask]\n",
    "test_dates = X_test.date_block_num\n",
    "cv_dates = X_cv.date_block_num\n",
    "\n",
    "merge = pd.concat([X_train, X_cv, X_test], ignore_index=True)\n",
    "merge_dates = np.concatenate([train_dates,cv_dates, test_dates], axis=0)\n",
    "merge_y = np.concatenate([y_train,y_cv, np.zeros((len(test_dates),))], axis=0)"
   ]
  },
  {
   "cell_type": "code",
   "execution_count": 36,
   "metadata": {},
   "outputs": [],
   "source": [
    "stage2_train_dates = merge_dates[merge_dates>=level2_date_block[0]] ## 27 - 34\n",
    "stage2_train_mask = (stage2_train_dates <= level2_date_block[-1]) # train on : 27-32\n",
    "stage2_valid_mask = (stage2_train_dates == 33) ## validate on : 33\n",
    "stage2_final_train_mask = (stage2_train_dates <= 33) ## \n",
    "stage2_test_mask = (stage2_train_dates==34)\n",
    "stage2_train_y = merge_y[merge_dates>=level2_date_block[0]] ##"
   ]
  },
  {
   "cell_type": "code",
   "execution_count": 130,
   "metadata": {},
   "outputs": [
    {
     "data": {
      "text/plain": [
       "(1828564,)"
      ]
     },
     "execution_count": 130,
     "metadata": {},
     "output_type": "execute_result"
    }
   ],
   "source": [
    "pd.Series(stage2_train_y).shape"
   ]
  },
  {
   "cell_type": "code",
   "execution_count": 31,
   "metadata": {},
   "outputs": [
    {
     "name": "stdout",
     "output_type": "stream",
     "text": [
      "True     1376192\n",
      "False     452372\n",
      "dtype: int64\n",
      "False    1590392\n",
      "True      238172\n",
      "dtype: int64\n",
      "True     1614364\n",
      "False     214200\n",
      "dtype: int64\n",
      "False    1614364\n",
      "True      214200\n",
      "dtype: int64\n"
     ]
    }
   ],
   "source": [
    "# print(pd.Series(stage2_train_mask).value_counts())\n",
    "# print(pd.Series(stage2_valid_mask).value_counts())\n",
    "# print(pd.Series(stage2_final_train_mask).value_counts())\n",
    "# print(pd.Series(stage2_test_mask).value_counts())"
   ]
  },
  {
   "cell_type": "code",
   "execution_count": 46,
   "metadata": {},
   "outputs": [
    {
     "data": {
      "text/html": [
       "<div>\n",
       "<style>\n",
       "    .dataframe thead tr:only-child th {\n",
       "        text-align: right;\n",
       "    }\n",
       "\n",
       "    .dataframe thead th {\n",
       "        text-align: left;\n",
       "    }\n",
       "\n",
       "    .dataframe tbody tr th {\n",
       "        vertical-align: top;\n",
       "    }\n",
       "</style>\n",
       "<table border=\"1\" class=\"dataframe\">\n",
       "  <thead>\n",
       "    <tr style=\"text-align: right;\">\n",
       "      <th></th>\n",
       "      <th>rg</th>\n",
       "      <th>lasso</th>\n",
       "      <th>rf</th>\n",
       "      <th>lgbm</th>\n",
       "      <th>knn</th>\n",
       "      <th>kmean_dist_label</th>\n",
       "    </tr>\n",
       "  </thead>\n",
       "  <tbody>\n",
       "    <tr>\n",
       "      <th>rg</th>\n",
       "      <td>1.000000</td>\n",
       "      <td>0.991765</td>\n",
       "      <td>0.742040</td>\n",
       "      <td>0.697276</td>\n",
       "      <td>0.495558</td>\n",
       "      <td>0.196100</td>\n",
       "    </tr>\n",
       "    <tr>\n",
       "      <th>lasso</th>\n",
       "      <td>0.991765</td>\n",
       "      <td>1.000000</td>\n",
       "      <td>0.748991</td>\n",
       "      <td>0.705493</td>\n",
       "      <td>0.493394</td>\n",
       "      <td>0.177352</td>\n",
       "    </tr>\n",
       "    <tr>\n",
       "      <th>rf</th>\n",
       "      <td>0.742040</td>\n",
       "      <td>0.748991</td>\n",
       "      <td>1.000000</td>\n",
       "      <td>0.961878</td>\n",
       "      <td>0.506604</td>\n",
       "      <td>0.077598</td>\n",
       "    </tr>\n",
       "    <tr>\n",
       "      <th>lgbm</th>\n",
       "      <td>0.697276</td>\n",
       "      <td>0.705493</td>\n",
       "      <td>0.961878</td>\n",
       "      <td>1.000000</td>\n",
       "      <td>0.467184</td>\n",
       "      <td>0.072676</td>\n",
       "    </tr>\n",
       "    <tr>\n",
       "      <th>knn</th>\n",
       "      <td>0.495558</td>\n",
       "      <td>0.493394</td>\n",
       "      <td>0.506604</td>\n",
       "      <td>0.467184</td>\n",
       "      <td>1.000000</td>\n",
       "      <td>0.059852</td>\n",
       "    </tr>\n",
       "    <tr>\n",
       "      <th>kmean_dist_label</th>\n",
       "      <td>0.196100</td>\n",
       "      <td>0.177352</td>\n",
       "      <td>0.077598</td>\n",
       "      <td>0.072676</td>\n",
       "      <td>0.059852</td>\n",
       "      <td>1.000000</td>\n",
       "    </tr>\n",
       "  </tbody>\n",
       "</table>\n",
       "</div>"
      ],
      "text/plain": [
       "                        rg     lasso        rf      lgbm       knn  \\\n",
       "rg                1.000000  0.991765  0.742040  0.697276  0.495558   \n",
       "lasso             0.991765  1.000000  0.748991  0.705493  0.493394   \n",
       "rf                0.742040  0.748991  1.000000  0.961878  0.506604   \n",
       "lgbm              0.697276  0.705493  0.961878  1.000000  0.467184   \n",
       "knn               0.495558  0.493394  0.506604  0.467184  1.000000   \n",
       "kmean_dist_label  0.196100  0.177352  0.077598  0.072676  0.059852   \n",
       "\n",
       "                  kmean_dist_label  \n",
       "rg                        0.196100  \n",
       "lasso                     0.177352  \n",
       "rf                        0.077598  \n",
       "lgbm                      0.072676  \n",
       "knn                       0.059852  \n",
       "kmean_dist_label          1.000000  "
      ]
     },
     "execution_count": 46,
     "metadata": {},
     "output_type": "execute_result"
    }
   ],
   "source": [
    "model_cols = ['rg', 'lasso', 'rf', 'lgbm', 'knn', 'kmean_dist_label']\n",
    "# stage2_df.loc[:,model_cols].head()\n",
    "stage2_df[model_cols].corr()"
   ]
  },
  {
   "cell_type": "code",
   "execution_count": 51,
   "metadata": {},
   "outputs": [],
   "source": [
    "from scipy.stats.mstats import hmean, gmean"
   ]
  },
  {
   "cell_type": "code",
   "execution_count": 52,
   "metadata": {},
   "outputs": [],
   "source": [
    "model_cnt = stage2_df[model_cols].shape[1]"
   ]
  },
  {
   "cell_type": "code",
   "execution_count": 59,
   "metadata": {},
   "outputs": [
    {
     "data": {
      "text/plain": [
       "'kmean_dist_label'"
      ]
     },
     "execution_count": 59,
     "metadata": {},
     "output_type": "execute_result"
    }
   ],
   "source": [
    "model_cols[5]"
   ]
  },
  {
   "cell_type": "code",
   "execution_count": 91,
   "metadata": {},
   "outputs": [
    {
     "name": "stderr",
     "output_type": "stream",
     "text": [
      "C:\\Program Files\\Anaconda3\\envs\\py36\\lib\\site-packages\\scipy\\stats\\stats.py:314: RuntimeWarning: divide by zero encountered in log\n",
      "  log_a = np.log(a)\n"
     ]
    },
    {
     "data": {
      "text/plain": [
       "array([ 0.40926415,  1.56099583,  0.50727376, ...,  0.04115166,\n",
       "        0.0585324 ,  0.07933516])"
      ]
     },
     "execution_count": 91,
     "metadata": {},
     "output_type": "execute_result"
    }
   ],
   "source": [
    "# stage2_df[model_cols[1]].values\n",
    "# gmean(stage2_df.loc[:,model_cols[1]].values)\n"
   ]
  },
  {
   "cell_type": "code",
   "execution_count": 92,
   "metadata": {},
   "outputs": [],
   "source": [
    "def stage2_feat_engineer(df, model_cols=[]):\n",
    "    model_cnt = df[model_cols].shape[1]\n",
    "    \n",
    "    print('Calculating 2 g\\\\h\\\\m-mean')\n",
    "    for i in range(model_cnt-1): # i = 0 to model_cnt-2\n",
    "        for j in range(i+1, model_cnt): # j = i+1 to model_cnt-1\n",
    "            cols = [model_cols[i], model_cols[j]]\n",
    "            df.loc[:, 'gmean_' + str(i) + '_'+ str(j)] = gmean(df.loc[:,cols].values, axis=1)\n",
    "            df.loc[:, 'mean_' + str(i) + '_'+ str(j)] = np.mean(df.loc[:,cols].values, axis=1)\n",
    "\n",
    "    if model_cnt > 3:\n",
    "        print('Calculating 3 g\\\\h\\\\m-mean')        \n",
    "        for i in range(model_cnt-2): # i = 0 to model_cnt-3\n",
    "            for j in range(i+1, model_cnt-1): # j = i+1 to model_cnt-2\n",
    "                for k in range(j+1, model_cnt): # k = j+1 to model_cnt-1\n",
    "                    cols = [model_cols[i], model_cols[j], model_cols[k]]\n",
    "                    df.loc[:, 'gmean_' + str(i) + '_'+ str(j) + '_'+ str(k)] = gmean(df.loc[:,cols].values, axis=1)\n",
    "                    df.loc[:, 'mean_' + str(i) + '_'+ str(j) + '_'+ str(k)] = np.mean(df.loc[:,cols].values, axis=1)\n",
    "\n",
    "    print('Calculating all g\\\\h\\\\m-mean')             \n",
    "    df.loc[:, 'gmean_all'] = gmean(df.loc[:,model_cols].values, axis=1)\n",
    "    df.loc[:, 'mean'] = np.mean(df.loc[:,model_cols].values, axis=1)\n",
    "    df.loc[:, 'med'] = np.median(df.loc[:,model_cols].values, axis=1)\n",
    "    df.loc[:, 'max'] = np.amax(df.loc[:,model_cols].values, axis=1)\n",
    "    df.loc[:, 'min'] = np.amin(df.loc[:,model_cols].values, axis=1)\n",
    "    df.loc[:, 'std'] = np.std(df.loc[:,model_cols].values, axis=1)"
   ]
  },
  {
   "cell_type": "code",
   "execution_count": 93,
   "metadata": {},
   "outputs": [
    {
     "name": "stdout",
     "output_type": "stream",
     "text": [
      "Calculating 2 g\\h\\m-mean\n"
     ]
    },
    {
     "name": "stderr",
     "output_type": "stream",
     "text": [
      "C:\\Program Files\\Anaconda3\\envs\\py36\\lib\\site-packages\\scipy\\stats\\stats.py:314: RuntimeWarning: divide by zero encountered in log\n",
      "  log_a = np.log(a)\n"
     ]
    },
    {
     "name": "stdout",
     "output_type": "stream",
     "text": [
      "Calculating 3 g\\h\\m-mean\n",
      "Calculating all g\\h\\m-mean\n"
     ]
    }
   ],
   "source": [
    "stage2_feat_engineer(stage2_df,model_cols)"
   ]
  },
  {
   "cell_type": "code",
   "execution_count": 94,
   "metadata": {},
   "outputs": [
    {
     "data": {
      "text/html": [
       "<div>\n",
       "<style>\n",
       "    .dataframe thead tr:only-child th {\n",
       "        text-align: right;\n",
       "    }\n",
       "\n",
       "    .dataframe thead th {\n",
       "        text-align: left;\n",
       "    }\n",
       "\n",
       "    .dataframe tbody tr th {\n",
       "        vertical-align: top;\n",
       "    }\n",
       "</style>\n",
       "<table border=\"1\" class=\"dataframe\">\n",
       "  <thead>\n",
       "    <tr style=\"text-align: right;\">\n",
       "      <th></th>\n",
       "      <th>rg</th>\n",
       "      <th>lasso</th>\n",
       "      <th>rf</th>\n",
       "      <th>lgbm</th>\n",
       "      <th>knn</th>\n",
       "      <th>knn_dist_0</th>\n",
       "      <th>knn_dist_1</th>\n",
       "      <th>knn_dist_2</th>\n",
       "      <th>knn_dist_3</th>\n",
       "      <th>knn_dist_4</th>\n",
       "      <th>...</th>\n",
       "      <th>gmean_2_4_5</th>\n",
       "      <th>mean_2_4_5</th>\n",
       "      <th>gmean_3_4_5</th>\n",
       "      <th>mean_3_4_5</th>\n",
       "      <th>gmean_all</th>\n",
       "      <th>mean</th>\n",
       "      <th>med</th>\n",
       "      <th>max</th>\n",
       "      <th>min</th>\n",
       "      <th>std</th>\n",
       "    </tr>\n",
       "  </thead>\n",
       "  <tbody>\n",
       "    <tr>\n",
       "      <th>0</th>\n",
       "      <td>0.345505</td>\n",
       "      <td>0.299434</td>\n",
       "      <td>0.559380</td>\n",
       "      <td>0.687585</td>\n",
       "      <td>0.461946</td>\n",
       "      <td>15.000000</td>\n",
       "      <td>15.000000</td>\n",
       "      <td>15.000000</td>\n",
       "      <td>16.000000</td>\n",
       "      <td>16.000000</td>\n",
       "      <td>...</td>\n",
       "      <td>0.918628</td>\n",
       "      <td>1.340442</td>\n",
       "      <td>0.984041</td>\n",
       "      <td>1.383177</td>\n",
       "      <td>0.616950</td>\n",
       "      <td>0.892308</td>\n",
       "      <td>0.510663</td>\n",
       "      <td>3.000000</td>\n",
       "      <td>0.299434</td>\n",
       "      <td>0.951387</td>\n",
       "    </tr>\n",
       "    <tr>\n",
       "      <th>1</th>\n",
       "      <td>1.083458</td>\n",
       "      <td>1.036473</td>\n",
       "      <td>2.350962</td>\n",
       "      <td>2.604097</td>\n",
       "      <td>1.886891</td>\n",
       "      <td>7097.084351</td>\n",
       "      <td>7367.291954</td>\n",
       "      <td>7391.268279</td>\n",
       "      <td>7754.255436</td>\n",
       "      <td>7779.592759</td>\n",
       "      <td>...</td>\n",
       "      <td>2.809662</td>\n",
       "      <td>3.079284</td>\n",
       "      <td>2.907087</td>\n",
       "      <td>3.163663</td>\n",
       "      <td>2.004464</td>\n",
       "      <td>2.326980</td>\n",
       "      <td>2.118926</td>\n",
       "      <td>5.000000</td>\n",
       "      <td>1.036473</td>\n",
       "      <td>1.330904</td>\n",
       "    </tr>\n",
       "    <tr>\n",
       "      <th>2</th>\n",
       "      <td>0.432379</td>\n",
       "      <td>0.398738</td>\n",
       "      <td>0.645353</td>\n",
       "      <td>0.502553</td>\n",
       "      <td>0.400254</td>\n",
       "      <td>8810.403742</td>\n",
       "      <td>8901.891784</td>\n",
       "      <td>8916.891784</td>\n",
       "      <td>8944.502339</td>\n",
       "      <td>8967.156340</td>\n",
       "      <td>...</td>\n",
       "      <td>1.157253</td>\n",
       "      <td>2.348536</td>\n",
       "      <td>1.064690</td>\n",
       "      <td>2.300936</td>\n",
       "      <td>0.715599</td>\n",
       "      <td>1.396546</td>\n",
       "      <td>0.467466</td>\n",
       "      <td>6.000000</td>\n",
       "      <td>0.398738</td>\n",
       "      <td>2.060467</td>\n",
       "    </tr>\n",
       "    <tr>\n",
       "      <th>3</th>\n",
       "      <td>0.495248</td>\n",
       "      <td>0.437356</td>\n",
       "      <td>3.162069</td>\n",
       "      <td>5.001240</td>\n",
       "      <td>0.075603</td>\n",
       "      <td>11.000000</td>\n",
       "      <td>12.000000</td>\n",
       "      <td>12.000000</td>\n",
       "      <td>13.000000</td>\n",
       "      <td>13.000000</td>\n",
       "      <td>...</td>\n",
       "      <td>0.895110</td>\n",
       "      <td>2.079224</td>\n",
       "      <td>1.042906</td>\n",
       "      <td>2.692281</td>\n",
       "      <td>0.958799</td>\n",
       "      <td>2.028586</td>\n",
       "      <td>1.747624</td>\n",
       "      <td>5.001240</td>\n",
       "      <td>0.075603</td>\n",
       "      <td>1.814864</td>\n",
       "    </tr>\n",
       "    <tr>\n",
       "      <th>4</th>\n",
       "      <td>0.458267</td>\n",
       "      <td>0.401383</td>\n",
       "      <td>2.405929</td>\n",
       "      <td>3.038452</td>\n",
       "      <td>0.663293</td>\n",
       "      <td>9.000000</td>\n",
       "      <td>10.000000</td>\n",
       "      <td>10.000000</td>\n",
       "      <td>11.000000</td>\n",
       "      <td>11.000000</td>\n",
       "      <td>...</td>\n",
       "      <td>1.685401</td>\n",
       "      <td>2.023074</td>\n",
       "      <td>1.821768</td>\n",
       "      <td>2.233915</td>\n",
       "      <td>1.178257</td>\n",
       "      <td>1.661221</td>\n",
       "      <td>1.534611</td>\n",
       "      <td>3.038452</td>\n",
       "      <td>0.401383</td>\n",
       "      <td>1.174297</td>\n",
       "    </tr>\n",
       "  </tbody>\n",
       "</table>\n",
       "<p>5 rows × 105 columns</p>\n",
       "</div>"
      ],
      "text/plain": [
       "         rg     lasso        rf      lgbm       knn   knn_dist_0   knn_dist_1  \\\n",
       "0  0.345505  0.299434  0.559380  0.687585  0.461946    15.000000    15.000000   \n",
       "1  1.083458  1.036473  2.350962  2.604097  1.886891  7097.084351  7367.291954   \n",
       "2  0.432379  0.398738  0.645353  0.502553  0.400254  8810.403742  8901.891784   \n",
       "3  0.495248  0.437356  3.162069  5.001240  0.075603    11.000000    12.000000   \n",
       "4  0.458267  0.401383  2.405929  3.038452  0.663293     9.000000    10.000000   \n",
       "\n",
       "    knn_dist_2   knn_dist_3   knn_dist_4    ...     gmean_2_4_5  mean_2_4_5  \\\n",
       "0    15.000000    16.000000    16.000000    ...        0.918628    1.340442   \n",
       "1  7391.268279  7754.255436  7779.592759    ...        2.809662    3.079284   \n",
       "2  8916.891784  8944.502339  8967.156340    ...        1.157253    2.348536   \n",
       "3    12.000000    13.000000    13.000000    ...        0.895110    2.079224   \n",
       "4    10.000000    11.000000    11.000000    ...        1.685401    2.023074   \n",
       "\n",
       "   gmean_3_4_5  mean_3_4_5  gmean_all      mean       med       max       min  \\\n",
       "0     0.984041    1.383177   0.616950  0.892308  0.510663  3.000000  0.299434   \n",
       "1     2.907087    3.163663   2.004464  2.326980  2.118926  5.000000  1.036473   \n",
       "2     1.064690    2.300936   0.715599  1.396546  0.467466  6.000000  0.398738   \n",
       "3     1.042906    2.692281   0.958799  2.028586  1.747624  5.001240  0.075603   \n",
       "4     1.821768    2.233915   1.178257  1.661221  1.534611  3.038452  0.401383   \n",
       "\n",
       "        std  \n",
       "0  0.951387  \n",
       "1  1.330904  \n",
       "2  2.060467  \n",
       "3  1.814864  \n",
       "4  1.174297  \n",
       "\n",
       "[5 rows x 105 columns]"
      ]
     },
     "execution_count": 94,
     "metadata": {},
     "output_type": "execute_result"
    }
   ],
   "source": [
    "stage2_df.head()"
   ]
  },
  {
   "cell_type": "code",
   "execution_count": 95,
   "metadata": {},
   "outputs": [
    {
     "data": {
      "text/plain": [
       "5120"
      ]
     },
     "execution_count": 95,
     "metadata": {},
     "output_type": "execute_result"
    }
   ],
   "source": [
    "gc.collect()"
   ]
  },
  {
   "cell_type": "code",
   "execution_count": 105,
   "metadata": {},
   "outputs": [
    {
     "data": {
      "text/plain": [
       "(1828564, 105)"
      ]
     },
     "execution_count": 105,
     "metadata": {},
     "output_type": "execute_result"
    }
   ],
   "source": [
    "stage2_df.shape"
   ]
  },
  {
   "cell_type": "code",
   "execution_count": 107,
   "metadata": {},
   "outputs": [],
   "source": [
    "stage2_df = pd.concat([stage2_df, merge[merge_dates>=level2_date_block[0]].reset_index(drop=True)], axis=1)"
   ]
  },
  {
   "cell_type": "code",
   "execution_count": 108,
   "metadata": {},
   "outputs": [
    {
     "data": {
      "text/plain": [
       "(1828564, 159)"
      ]
     },
     "execution_count": 108,
     "metadata": {},
     "output_type": "execute_result"
    }
   ],
   "source": [
    "stage2_df.shape"
   ]
  },
  {
   "cell_type": "code",
   "execution_count": 110,
   "metadata": {},
   "outputs": [
    {
     "data": {
      "text/html": [
       "<div>\n",
       "<style>\n",
       "    .dataframe thead tr:only-child th {\n",
       "        text-align: right;\n",
       "    }\n",
       "\n",
       "    .dataframe thead th {\n",
       "        text-align: left;\n",
       "    }\n",
       "\n",
       "    .dataframe tbody tr th {\n",
       "        vertical-align: top;\n",
       "    }\n",
       "</style>\n",
       "<table border=\"1\" class=\"dataframe\">\n",
       "  <thead>\n",
       "    <tr style=\"text-align: right;\">\n",
       "      <th></th>\n",
       "      <th>0</th>\n",
       "      <th>1</th>\n",
       "      <th>2</th>\n",
       "    </tr>\n",
       "  </thead>\n",
       "  <tbody>\n",
       "    <tr>\n",
       "      <th>rg</th>\n",
       "      <td>0.345505</td>\n",
       "      <td>1.083458</td>\n",
       "      <td>0.432379</td>\n",
       "    </tr>\n",
       "    <tr>\n",
       "      <th>lasso</th>\n",
       "      <td>0.299434</td>\n",
       "      <td>1.036473</td>\n",
       "      <td>0.398738</td>\n",
       "    </tr>\n",
       "    <tr>\n",
       "      <th>rf</th>\n",
       "      <td>0.559380</td>\n",
       "      <td>2.350962</td>\n",
       "      <td>0.645353</td>\n",
       "    </tr>\n",
       "    <tr>\n",
       "      <th>lgbm</th>\n",
       "      <td>0.687585</td>\n",
       "      <td>2.604097</td>\n",
       "      <td>0.502553</td>\n",
       "    </tr>\n",
       "    <tr>\n",
       "      <th>knn</th>\n",
       "      <td>0.461946</td>\n",
       "      <td>1.886891</td>\n",
       "      <td>0.400254</td>\n",
       "    </tr>\n",
       "    <tr>\n",
       "      <th>knn_dist_0</th>\n",
       "      <td>15.000000</td>\n",
       "      <td>7097.084351</td>\n",
       "      <td>8810.403742</td>\n",
       "    </tr>\n",
       "    <tr>\n",
       "      <th>knn_dist_1</th>\n",
       "      <td>15.000000</td>\n",
       "      <td>7367.291954</td>\n",
       "      <td>8901.891784</td>\n",
       "    </tr>\n",
       "    <tr>\n",
       "      <th>knn_dist_2</th>\n",
       "      <td>15.000000</td>\n",
       "      <td>7391.268279</td>\n",
       "      <td>8916.891784</td>\n",
       "    </tr>\n",
       "    <tr>\n",
       "      <th>knn_dist_3</th>\n",
       "      <td>16.000000</td>\n",
       "      <td>7754.255436</td>\n",
       "      <td>8944.502339</td>\n",
       "    </tr>\n",
       "    <tr>\n",
       "      <th>knn_dist_4</th>\n",
       "      <td>16.000000</td>\n",
       "      <td>7779.592759</td>\n",
       "      <td>8967.156340</td>\n",
       "    </tr>\n",
       "    <tr>\n",
       "      <th>knn_dist_5</th>\n",
       "      <td>16.000000</td>\n",
       "      <td>7819.591077</td>\n",
       "      <td>8977.680930</td>\n",
       "    </tr>\n",
       "    <tr>\n",
       "      <th>knn_dist_6</th>\n",
       "      <td>16.000000</td>\n",
       "      <td>7830.676775</td>\n",
       "      <td>9023.499205</td>\n",
       "    </tr>\n",
       "    <tr>\n",
       "      <th>knn_dist_7</th>\n",
       "      <td>16.000000</td>\n",
       "      <td>7867.915540</td>\n",
       "      <td>9029.414672</td>\n",
       "    </tr>\n",
       "    <tr>\n",
       "      <th>knn_dist_8</th>\n",
       "      <td>17.000000</td>\n",
       "      <td>7931.644382</td>\n",
       "      <td>9030.499205</td>\n",
       "    </tr>\n",
       "    <tr>\n",
       "      <th>knn_dist_9</th>\n",
       "      <td>17.000000</td>\n",
       "      <td>7991.663709</td>\n",
       "      <td>9055.954235</td>\n",
       "    </tr>\n",
       "    <tr>\n",
       "      <th>knn_dist_10</th>\n",
       "      <td>17.000000</td>\n",
       "      <td>8051.430374</td>\n",
       "      <td>9056.891784</td>\n",
       "    </tr>\n",
       "    <tr>\n",
       "      <th>knn_dist_11</th>\n",
       "      <td>17.000000</td>\n",
       "      <td>8173.423018</td>\n",
       "      <td>9084.961986</td>\n",
       "    </tr>\n",
       "    <tr>\n",
       "      <th>knn_dist_12</th>\n",
       "      <td>17.000000</td>\n",
       "      <td>8284.936405</td>\n",
       "      <td>9086.499205</td>\n",
       "    </tr>\n",
       "    <tr>\n",
       "      <th>knn_dist_13</th>\n",
       "      <td>17.000000</td>\n",
       "      <td>8288.974285</td>\n",
       "      <td>9117.782312</td>\n",
       "    </tr>\n",
       "    <tr>\n",
       "      <th>knn_dist_14</th>\n",
       "      <td>17.000000</td>\n",
       "      <td>8422.030430</td>\n",
       "      <td>9150.136168</td>\n",
       "    </tr>\n",
       "    <tr>\n",
       "      <th>kmean_dist_label</th>\n",
       "      <td>3.000000</td>\n",
       "      <td>5.000000</td>\n",
       "      <td>6.000000</td>\n",
       "    </tr>\n",
       "    <tr>\n",
       "      <th>kmean_dist_0</th>\n",
       "      <td>16.171893</td>\n",
       "      <td>9.423429</td>\n",
       "      <td>8.785192</td>\n",
       "    </tr>\n",
       "    <tr>\n",
       "      <th>kmean_dist_1</th>\n",
       "      <td>16.788638</td>\n",
       "      <td>10.257709</td>\n",
       "      <td>8.794748</td>\n",
       "    </tr>\n",
       "    <tr>\n",
       "      <th>kmean_dist_2</th>\n",
       "      <td>13.484739</td>\n",
       "      <td>8.150730</td>\n",
       "      <td>6.493592</td>\n",
       "    </tr>\n",
       "    <tr>\n",
       "      <th>kmean_dist_3</th>\n",
       "      <td>10.455496</td>\n",
       "      <td>6.497106</td>\n",
       "      <td>6.395639</td>\n",
       "    </tr>\n",
       "    <tr>\n",
       "      <th>kmean_dist_4</th>\n",
       "      <td>163.121368</td>\n",
       "      <td>161.405323</td>\n",
       "      <td>161.372517</td>\n",
       "    </tr>\n",
       "    <tr>\n",
       "      <th>kmean_dist_5</th>\n",
       "      <td>14.736764</td>\n",
       "      <td>7.958082</td>\n",
       "      <td>8.162270</td>\n",
       "    </tr>\n",
       "    <tr>\n",
       "      <th>kmean_dist_6</th>\n",
       "      <td>17.483576</td>\n",
       "      <td>11.485983</td>\n",
       "      <td>10.156587</td>\n",
       "    </tr>\n",
       "    <tr>\n",
       "      <th>kmean_dist_7</th>\n",
       "      <td>35.278573</td>\n",
       "      <td>32.846975</td>\n",
       "      <td>32.766569</td>\n",
       "    </tr>\n",
       "    <tr>\n",
       "      <th>gmean_0_1</th>\n",
       "      <td>0.321646</td>\n",
       "      <td>1.059705</td>\n",
       "      <td>0.415218</td>\n",
       "    </tr>\n",
       "    <tr>\n",
       "      <th>...</th>\n",
       "      <td>...</td>\n",
       "      <td>...</td>\n",
       "      <td>...</td>\n",
       "    </tr>\n",
       "    <tr>\n",
       "      <th>item_id_avg_item_price_lag_3</th>\n",
       "      <td>0.000000</td>\n",
       "      <td>690.572754</td>\n",
       "      <td>288.781250</td>\n",
       "    </tr>\n",
       "    <tr>\n",
       "      <th>item_id_sum_item_cnt_day_lag_3</th>\n",
       "      <td>0.000000</td>\n",
       "      <td>74.000000</td>\n",
       "      <td>33.000000</td>\n",
       "    </tr>\n",
       "    <tr>\n",
       "      <th>item_id_avg_item_cnt_day_lag_3</th>\n",
       "      <td>0.000000</td>\n",
       "      <td>1.072464</td>\n",
       "      <td>1.031250</td>\n",
       "    </tr>\n",
       "    <tr>\n",
       "      <th>shop_id_avg_item_price_lag_3</th>\n",
       "      <td>0.000000</td>\n",
       "      <td>1359.080566</td>\n",
       "      <td>1359.080566</td>\n",
       "    </tr>\n",
       "    <tr>\n",
       "      <th>shop_id_sum_item_cnt_day_lag_3</th>\n",
       "      <td>0.000000</td>\n",
       "      <td>5660.000000</td>\n",
       "      <td>5660.000000</td>\n",
       "    </tr>\n",
       "    <tr>\n",
       "      <th>shop_id_avg_item_cnt_day_lag_3</th>\n",
       "      <td>0.000000</td>\n",
       "      <td>1.359270</td>\n",
       "      <td>1.359270</td>\n",
       "    </tr>\n",
       "    <tr>\n",
       "      <th>item_category_id_avg_item_price_lag_3</th>\n",
       "      <td>0.000000</td>\n",
       "      <td>1543.630005</td>\n",
       "      <td>293.450378</td>\n",
       "    </tr>\n",
       "    <tr>\n",
       "      <th>item_category_id_sum_item_cnt_day_lag_3</th>\n",
       "      <td>0.000000</td>\n",
       "      <td>6413.000000</td>\n",
       "      <td>9291.000000</td>\n",
       "    </tr>\n",
       "    <tr>\n",
       "      <th>item_category_id_avg_item_cnt_day_lag_3</th>\n",
       "      <td>0.000000</td>\n",
       "      <td>1.079811</td>\n",
       "      <td>1.028904</td>\n",
       "    </tr>\n",
       "    <tr>\n",
       "      <th>item_cnt_month_lag_3</th>\n",
       "      <td>0.000000</td>\n",
       "      <td>3.000000</td>\n",
       "      <td>0.000000</td>\n",
       "    </tr>\n",
       "    <tr>\n",
       "      <th>item_id_avg_item_price_lag_5</th>\n",
       "      <td>0.000000</td>\n",
       "      <td>699.000000</td>\n",
       "      <td>295.696960</td>\n",
       "    </tr>\n",
       "    <tr>\n",
       "      <th>item_id_sum_item_cnt_day_lag_5</th>\n",
       "      <td>0.000000</td>\n",
       "      <td>37.000000</td>\n",
       "      <td>33.000000</td>\n",
       "    </tr>\n",
       "    <tr>\n",
       "      <th>item_id_avg_item_cnt_day_lag_5</th>\n",
       "      <td>0.000000</td>\n",
       "      <td>1.027778</td>\n",
       "      <td>1.000000</td>\n",
       "    </tr>\n",
       "    <tr>\n",
       "      <th>shop_id_avg_item_price_lag_5</th>\n",
       "      <td>0.000000</td>\n",
       "      <td>1304.250610</td>\n",
       "      <td>1304.250610</td>\n",
       "    </tr>\n",
       "    <tr>\n",
       "      <th>shop_id_sum_item_cnt_day_lag_5</th>\n",
       "      <td>0.000000</td>\n",
       "      <td>4675.000000</td>\n",
       "      <td>4675.000000</td>\n",
       "    </tr>\n",
       "    <tr>\n",
       "      <th>shop_id_avg_item_cnt_day_lag_5</th>\n",
       "      <td>0.000000</td>\n",
       "      <td>1.390541</td>\n",
       "      <td>1.390541</td>\n",
       "    </tr>\n",
       "    <tr>\n",
       "      <th>item_category_id_avg_item_price_lag_5</th>\n",
       "      <td>0.000000</td>\n",
       "      <td>1800.733276</td>\n",
       "      <td>297.181396</td>\n",
       "    </tr>\n",
       "    <tr>\n",
       "      <th>item_category_id_sum_item_cnt_day_lag_5</th>\n",
       "      <td>0.000000</td>\n",
       "      <td>6134.000000</td>\n",
       "      <td>9809.000000</td>\n",
       "    </tr>\n",
       "    <tr>\n",
       "      <th>item_category_id_avg_item_cnt_day_lag_5</th>\n",
       "      <td>0.000000</td>\n",
       "      <td>1.144403</td>\n",
       "      <td>1.041406</td>\n",
       "    </tr>\n",
       "    <tr>\n",
       "      <th>item_cnt_month_lag_5</th>\n",
       "      <td>0.000000</td>\n",
       "      <td>4.000000</td>\n",
       "      <td>2.000000</td>\n",
       "    </tr>\n",
       "    <tr>\n",
       "      <th>item_id_avg_item_price_lag_12</th>\n",
       "      <td>0.000000</td>\n",
       "      <td>0.000000</td>\n",
       "      <td>288.696289</td>\n",
       "    </tr>\n",
       "    <tr>\n",
       "      <th>item_id_sum_item_cnt_day_lag_12</th>\n",
       "      <td>0.000000</td>\n",
       "      <td>0.000000</td>\n",
       "      <td>27.000000</td>\n",
       "    </tr>\n",
       "    <tr>\n",
       "      <th>item_id_avg_item_cnt_day_lag_12</th>\n",
       "      <td>0.000000</td>\n",
       "      <td>0.000000</td>\n",
       "      <td>1.000000</td>\n",
       "    </tr>\n",
       "    <tr>\n",
       "      <th>shop_id_avg_item_price_lag_12</th>\n",
       "      <td>0.000000</td>\n",
       "      <td>0.000000</td>\n",
       "      <td>967.860901</td>\n",
       "    </tr>\n",
       "    <tr>\n",
       "      <th>shop_id_sum_item_cnt_day_lag_12</th>\n",
       "      <td>0.000000</td>\n",
       "      <td>0.000000</td>\n",
       "      <td>4204.000000</td>\n",
       "    </tr>\n",
       "    <tr>\n",
       "      <th>shop_id_avg_item_cnt_day_lag_12</th>\n",
       "      <td>0.000000</td>\n",
       "      <td>0.000000</td>\n",
       "      <td>1.554159</td>\n",
       "    </tr>\n",
       "    <tr>\n",
       "      <th>item_category_id_avg_item_price_lag_12</th>\n",
       "      <td>0.000000</td>\n",
       "      <td>0.000000</td>\n",
       "      <td>286.598450</td>\n",
       "    </tr>\n",
       "    <tr>\n",
       "      <th>item_category_id_sum_item_cnt_day_lag_12</th>\n",
       "      <td>0.000000</td>\n",
       "      <td>0.000000</td>\n",
       "      <td>9336.000000</td>\n",
       "    </tr>\n",
       "    <tr>\n",
       "      <th>item_category_id_avg_item_cnt_day_lag_12</th>\n",
       "      <td>0.000000</td>\n",
       "      <td>0.000000</td>\n",
       "      <td>1.023796</td>\n",
       "    </tr>\n",
       "    <tr>\n",
       "      <th>item_cnt_month_lag_12</th>\n",
       "      <td>0.000000</td>\n",
       "      <td>0.000000</td>\n",
       "      <td>0.000000</td>\n",
       "    </tr>\n",
       "  </tbody>\n",
       "</table>\n",
       "<p>159 rows × 3 columns</p>\n",
       "</div>"
      ],
      "text/plain": [
       "                                                   0            1            2\n",
       "rg                                          0.345505     1.083458     0.432379\n",
       "lasso                                       0.299434     1.036473     0.398738\n",
       "rf                                          0.559380     2.350962     0.645353\n",
       "lgbm                                        0.687585     2.604097     0.502553\n",
       "knn                                         0.461946     1.886891     0.400254\n",
       "knn_dist_0                                 15.000000  7097.084351  8810.403742\n",
       "knn_dist_1                                 15.000000  7367.291954  8901.891784\n",
       "knn_dist_2                                 15.000000  7391.268279  8916.891784\n",
       "knn_dist_3                                 16.000000  7754.255436  8944.502339\n",
       "knn_dist_4                                 16.000000  7779.592759  8967.156340\n",
       "knn_dist_5                                 16.000000  7819.591077  8977.680930\n",
       "knn_dist_6                                 16.000000  7830.676775  9023.499205\n",
       "knn_dist_7                                 16.000000  7867.915540  9029.414672\n",
       "knn_dist_8                                 17.000000  7931.644382  9030.499205\n",
       "knn_dist_9                                 17.000000  7991.663709  9055.954235\n",
       "knn_dist_10                                17.000000  8051.430374  9056.891784\n",
       "knn_dist_11                                17.000000  8173.423018  9084.961986\n",
       "knn_dist_12                                17.000000  8284.936405  9086.499205\n",
       "knn_dist_13                                17.000000  8288.974285  9117.782312\n",
       "knn_dist_14                                17.000000  8422.030430  9150.136168\n",
       "kmean_dist_label                            3.000000     5.000000     6.000000\n",
       "kmean_dist_0                               16.171893     9.423429     8.785192\n",
       "kmean_dist_1                               16.788638    10.257709     8.794748\n",
       "kmean_dist_2                               13.484739     8.150730     6.493592\n",
       "kmean_dist_3                               10.455496     6.497106     6.395639\n",
       "kmean_dist_4                              163.121368   161.405323   161.372517\n",
       "kmean_dist_5                               14.736764     7.958082     8.162270\n",
       "kmean_dist_6                               17.483576    11.485983    10.156587\n",
       "kmean_dist_7                               35.278573    32.846975    32.766569\n",
       "gmean_0_1                                   0.321646     1.059705     0.415218\n",
       "...                                              ...          ...          ...\n",
       "item_id_avg_item_price_lag_3                0.000000   690.572754   288.781250\n",
       "item_id_sum_item_cnt_day_lag_3              0.000000    74.000000    33.000000\n",
       "item_id_avg_item_cnt_day_lag_3              0.000000     1.072464     1.031250\n",
       "shop_id_avg_item_price_lag_3                0.000000  1359.080566  1359.080566\n",
       "shop_id_sum_item_cnt_day_lag_3              0.000000  5660.000000  5660.000000\n",
       "shop_id_avg_item_cnt_day_lag_3              0.000000     1.359270     1.359270\n",
       "item_category_id_avg_item_price_lag_3       0.000000  1543.630005   293.450378\n",
       "item_category_id_sum_item_cnt_day_lag_3     0.000000  6413.000000  9291.000000\n",
       "item_category_id_avg_item_cnt_day_lag_3     0.000000     1.079811     1.028904\n",
       "item_cnt_month_lag_3                        0.000000     3.000000     0.000000\n",
       "item_id_avg_item_price_lag_5                0.000000   699.000000   295.696960\n",
       "item_id_sum_item_cnt_day_lag_5              0.000000    37.000000    33.000000\n",
       "item_id_avg_item_cnt_day_lag_5              0.000000     1.027778     1.000000\n",
       "shop_id_avg_item_price_lag_5                0.000000  1304.250610  1304.250610\n",
       "shop_id_sum_item_cnt_day_lag_5              0.000000  4675.000000  4675.000000\n",
       "shop_id_avg_item_cnt_day_lag_5              0.000000     1.390541     1.390541\n",
       "item_category_id_avg_item_price_lag_5       0.000000  1800.733276   297.181396\n",
       "item_category_id_sum_item_cnt_day_lag_5     0.000000  6134.000000  9809.000000\n",
       "item_category_id_avg_item_cnt_day_lag_5     0.000000     1.144403     1.041406\n",
       "item_cnt_month_lag_5                        0.000000     4.000000     2.000000\n",
       "item_id_avg_item_price_lag_12               0.000000     0.000000   288.696289\n",
       "item_id_sum_item_cnt_day_lag_12             0.000000     0.000000    27.000000\n",
       "item_id_avg_item_cnt_day_lag_12             0.000000     0.000000     1.000000\n",
       "shop_id_avg_item_price_lag_12               0.000000     0.000000   967.860901\n",
       "shop_id_sum_item_cnt_day_lag_12             0.000000     0.000000  4204.000000\n",
       "shop_id_avg_item_cnt_day_lag_12             0.000000     0.000000     1.554159\n",
       "item_category_id_avg_item_price_lag_12      0.000000     0.000000   286.598450\n",
       "item_category_id_sum_item_cnt_day_lag_12    0.000000     0.000000  9336.000000\n",
       "item_category_id_avg_item_cnt_day_lag_12    0.000000     0.000000     1.023796\n",
       "item_cnt_month_lag_12                       0.000000     0.000000     0.000000\n",
       "\n",
       "[159 rows x 3 columns]"
      ]
     },
     "execution_count": 110,
     "metadata": {},
     "output_type": "execute_result"
    }
   ],
   "source": [
    "stage2_df.head(3).T"
   ]
  },
  {
   "cell_type": "code",
   "execution_count": 125,
   "metadata": {},
   "outputs": [
    {
     "data": {
      "text/plain": [
       "(238172,)"
      ]
     },
     "execution_count": 125,
     "metadata": {},
     "output_type": "execute_result"
    }
   ],
   "source": [
    "y_cv.shape"
   ]
  },
  {
   "cell_type": "code",
   "execution_count": 126,
   "metadata": {},
   "outputs": [
    {
     "data": {
      "text/plain": [
       "(6186922,)"
      ]
     },
     "execution_count": 126,
     "metadata": {},
     "output_type": "execute_result"
    }
   ],
   "source": []
  },
  {
   "cell_type": "markdown",
   "metadata": {},
   "source": [
    "# Train on 2nd Level \n",
    "- train on `27-32` ,`stage2_train_mask`  \n",
    "- validate on `33`\n",
    "- final train on `27-33` and predict on `34`"
   ]
  },
  {
   "cell_type": "code",
   "execution_count": 118,
   "metadata": {},
   "outputs": [
    {
     "data": {
      "text/plain": [
       "(238172, 159)"
      ]
     },
     "execution_count": 118,
     "metadata": {},
     "output_type": "execute_result"
    }
   ],
   "source": [
    "# stage2_df[stage2_train_mask]\n",
    "stage2_df[stage2_valid_mask].shape"
   ]
  },
  {
   "cell_type": "code",
   "execution_count": 123,
   "metadata": {},
   "outputs": [
    {
     "data": {
      "text/plain": [
       "True     1614364\n",
       "False     214200\n",
       "dtype: int64"
      ]
     },
     "execution_count": 123,
     "metadata": {},
     "output_type": "execute_result"
    }
   ],
   "source": [
    "pd.Series(stage2_final_train_mask).value_counts()"
   ]
  },
  {
   "cell_type": "code",
   "execution_count": 143,
   "metadata": {},
   "outputs": [],
   "source": [
    "import lightgbm as lgb\n",
    "import copy \n",
    "from hyperopt import fmin, tpe, hp, STATUS_OK, Trials\n",
    "from sklearn.metrics import mean_squared_error"
   ]
  },
  {
   "cell_type": "code",
   "execution_count": 141,
   "metadata": {},
   "outputs": [],
   "source": [
    "def objective(params):\n",
    "    \n",
    "    clf = params.get('clf')\n",
    "    new_params = params.get('params') ## update params\n",
    "#     print(params,clf.get_params())\n",
    "\n",
    "    copy_clf = copy.deepcopy(clf)\n",
    "    original_params = copy_clf.get_params()\n",
    "    original_params.update(new_params)\n",
    "    copy_clf.set_params(**original_params) # update copy clf with trying new_params              \n",
    "    \n",
    "    ## simple hold out \n",
    "    \n",
    "    copy_clf.fit(stage2_df[stage2_train_mask].values, stage2_train_y[stage2_train_mask])    \n",
    "    \n",
    "    pred_y = copy_clf.predict(stage2_df[stage2_valid_mask].values)\n",
    "    pred_y = np.clip(pred_y, 0., 20.) # clip to (0,20)\n",
    "    rmse = mean_squared_error(stage2_train_y[stage2_valid_mask], pred_y)**.5\n",
    "    print('rmse: {:.5f} '.format(rmse), end='\\t')\n",
    "    print('params: {}'.format(new_params))\n",
    "    \n",
    "    return {'loss':rmse,'status':STATUS_OK}"
   ]
  },
  {
   "cell_type": "code",
   "execution_count": 145,
   "metadata": {},
   "outputs": [
    {
     "data": {
      "text/plain": [
       "LGBMRegressor(boosting_type='gbdt', class_weight=None, colsample_bytree=1.0,\n",
       "       learning_rate=0.1, max_depth=-1, min_child_samples=20,\n",
       "       min_child_weight=0.001, min_split_gain=0.0, n_estimators=100,\n",
       "       n_jobs=8, num_leaves=31, objective=None, random_state=0,\n",
       "       reg_alpha=0.0, reg_lambda=0.0, silent=True, subsample=1.0,\n",
       "       subsample_for_bin=200000, subsample_freq=1)"
      ]
     },
     "execution_count": 145,
     "metadata": {},
     "output_type": "execute_result"
    }
   ],
   "source": [
    "lgb_clf"
   ]
  },
  {
   "cell_type": "code",
   "execution_count": 161,
   "metadata": {},
   "outputs": [
    {
     "name": "stdout",
     "output_type": "stream",
     "text": [
      "rmse: 0.95168 \tparams: {'bagging_fraction': 0.8241366101364762, 'boosting_type': 'gbdt', 'feature_fraction': 0.8117256778270627, 'gamma': 0.4235898972332336, 'max_depth': 11, 'num_leaves': 86, 'reg_alpha': 0.2877542357666576, 'reg_lambda': 0.1052770711844655}\n",
      "rmse: 0.91783 \tparams: {'bagging_fraction': 0.8398052878818728, 'boosting_type': 'dart', 'feature_fraction': 0.6690387216785224, 'gamma': 0.17047456661651433, 'max_depth': 15, 'num_leaves': 18, 'reg_alpha': 0.3204963721783003, 'reg_lambda': 0.7066185373452311}\n",
      "rmse: 0.93673 \tparams: {'bagging_fraction': 0.7760534465744401, 'boosting_type': 'gbdt', 'feature_fraction': 0.6477871916992203, 'gamma': 0.4587998545467007, 'max_depth': 6, 'num_leaves': 34, 'reg_alpha': 0.47373316328453097, 'reg_lambda': 0.3324304334351037}\n",
      "rmse: 0.93930 \tparams: {'bagging_fraction': 0.9093468968359684, 'boosting_type': 'gbdt', 'feature_fraction': 0.9301793912074237, 'gamma': 0.276494492899382, 'max_depth': 5, 'num_leaves': 48, 'reg_alpha': 0.3685192937526284, 'reg_lambda': 0.7713905885740623}\n",
      "rmse: 0.92274 \tparams: {'bagging_fraction': 0.8517939944863122, 'boosting_type': 'dart', 'feature_fraction': 0.8422869278013903, 'gamma': 0.367987546867096, 'max_depth': 13, 'num_leaves': 26, 'reg_alpha': 0.8478670048036805, 'reg_lambda': 0.7847133764767412}\n",
      "rmse: 0.92607 \tparams: {'bagging_fraction': 0.9161437814837832, 'boosting_type': 'dart', 'feature_fraction': 0.52169011161097, 'gamma': 0.35894115034545926, 'max_depth': 7, 'num_leaves': 76, 'reg_alpha': 0.8550879630626274, 'reg_lambda': 0.1938873983483591}\n",
      "rmse: 0.93700 \tparams: {'bagging_fraction': 0.8226204097408264, 'boosting_type': 'gbdt', 'feature_fraction': 0.6442892227813297, 'gamma': 0.35886625982693376, 'max_depth': 9, 'num_leaves': 28, 'reg_alpha': 0.8847353783776797, 'reg_lambda': 0.548196917146905}\n",
      "rmse: 0.96315 \tparams: {'bagging_fraction': 0.8477842947485097, 'boosting_type': 'gbdt', 'feature_fraction': 0.8684424090799026, 'gamma': 0.1168531433890025, 'max_depth': 16, 'num_leaves': 64, 'reg_alpha': 0.6746627714148904, 'reg_lambda': 0.42907757067991315}\n",
      "rmse: 0.93285 \tparams: {'bagging_fraction': 0.885261990032722, 'boosting_type': 'dart', 'feature_fraction': 0.4927407650297378, 'gamma': 0.18393929740358508, 'max_depth': 14, 'num_leaves': 120, 'reg_alpha': 0.47610927059923636, 'reg_lambda': 0.34386077197794973}\n",
      "rmse: 0.95938 \tparams: {'bagging_fraction': 0.7384770305563586, 'boosting_type': 'gbdt', 'feature_fraction': 0.7330640822990646, 'gamma': 0.10045019070951092, 'max_depth': 12, 'num_leaves': 98, 'reg_alpha': 0.913926875362053, 'reg_lambda': 0.4929497782132435}\n",
      "rmse: 0.92480 \tparams: {'bagging_fraction': 0.9358748299452864, 'boosting_type': 'dart', 'feature_fraction': 0.5382299249541053, 'gamma': 0.40846100335571534, 'max_depth': 13, 'num_leaves': 46, 'reg_alpha': 0.11358746693782196, 'reg_lambda': 0.786881998184417}\n",
      "rmse: 0.94677 \tparams: {'bagging_fraction': 0.8203060125689264, 'boosting_type': 'gbdt', 'feature_fraction': 0.6646664402453324, 'gamma': 0.22575865506523166, 'max_depth': 11, 'num_leaves': 50, 'reg_alpha': 0.3047510647953243, 'reg_lambda': 0.3075239140183421}\n",
      "rmse: 0.92908 \tparams: {'bagging_fraction': 0.7320184984520322, 'boosting_type': 'gbdt', 'feature_fraction': 0.8483987711284022, 'gamma': 0.18435802735975151, 'max_depth': 4, 'num_leaves': 52, 'reg_alpha': 0.5737807849191215, 'reg_lambda': 0.3088708060469405}\n",
      "rmse: 0.95014 \tparams: {'bagging_fraction': 0.8551087318534176, 'boosting_type': 'gbdt', 'feature_fraction': 0.8388863228167178, 'gamma': 0.16178539795379843, 'max_depth': 14, 'num_leaves': 96, 'reg_alpha': 0.4146422907983762, 'reg_lambda': 0.7577990490806373}\n",
      "rmse: 0.92193 \tparams: {'bagging_fraction': 0.7994439255984496, 'boosting_type': 'dart', 'feature_fraction': 0.4045162900817999, 'gamma': 0.208636357272145, 'max_depth': 11, 'num_leaves': 34, 'reg_alpha': 0.0601993391175879, 'reg_lambda': 0.4375139940916818}\n",
      "rmse: 0.95327 \tparams: {'bagging_fraction': 0.8511992316516759, 'boosting_type': 'gbdt', 'feature_fraction': 0.6338165854357787, 'gamma': 0.2676582322332268, 'max_depth': 14, 'num_leaves': 122, 'reg_alpha': 0.7942260515583579, 'reg_lambda': 0.9401241996677675}\n",
      "rmse: 0.95584 \tparams: {'bagging_fraction': 0.931350646831662, 'boosting_type': 'gbdt', 'feature_fraction': 0.7445084531825259, 'gamma': 0.1802926126825876, 'max_depth': 11, 'num_leaves': 78, 'reg_alpha': 0.04691399613985514, 'reg_lambda': 0.08915714080760317}\n",
      "rmse: 0.94141 \tparams: {'bagging_fraction': 0.9864052534603397, 'boosting_type': 'gbdt', 'feature_fraction': 0.8102206057934092, 'gamma': 0.10709630520051312, 'max_depth': 6, 'num_leaves': 86, 'reg_alpha': 0.10100254664162456, 'reg_lambda': 0.06779504174613504}\n",
      "rmse: 0.92292 \tparams: {'bagging_fraction': 0.9674475352326899, 'boosting_type': 'dart', 'feature_fraction': 0.5439219189990564, 'gamma': 0.47030716114899196, 'max_depth': 14, 'num_leaves': 74, 'reg_alpha': 0.8475684287978792, 'reg_lambda': 0.6791247982571071}\n",
      "rmse: 0.92597 \tparams: {'bagging_fraction': 0.828603556714453, 'boosting_type': 'dart', 'feature_fraction': 0.6973883886170364, 'gamma': 0.3967818926371369, 'max_depth': 8, 'num_leaves': 38, 'reg_alpha': 0.12880281150452788, 'reg_lambda': 0.08129208285561773}\n",
      "rmse: 0.92837 \tparams: {'bagging_fraction': 0.7806198948993266, 'boosting_type': 'dart', 'feature_fraction': 0.3026212785625475, 'gamma': 0.2426965290835133, 'max_depth': 15, 'num_leaves': 104, 'reg_alpha': 0.19674761715334452, 'reg_lambda': 0.6228479036471406}\n",
      "rmse: 0.92671 \tparams: {'bagging_fraction': 0.7784391941055054, 'boosting_type': 'dart', 'feature_fraction': 0.32860940348273077, 'gamma': 0.3174336891454431, 'max_depth': 15, 'num_leaves': 66, 'reg_alpha': 0.2536077649242893, 'reg_lambda': 0.9615432091532262}\n",
      "rmse: 0.92399 \tparams: {'bagging_fraction': 0.7095279118068439, 'boosting_type': 'dart', 'feature_fraction': 0.39601751261039275, 'gamma': 0.14578967673026266, 'max_depth': 10, 'num_leaves': 44, 'reg_alpha': 0.0002972989394453632, 'reg_lambda': 0.8635797223648098}\n",
      "rmse: 0.92725 \tparams: {'bagging_fraction': 0.8880549480585217, 'boosting_type': 'dart', 'feature_fraction': 0.41767816347646075, 'gamma': 0.2117629544111619, 'max_depth': 15, 'num_leaves': 124, 'reg_alpha': 0.5913298528731192, 'reg_lambda': 0.6049934052860415}\n",
      "rmse: 0.92436 \tparams: {'bagging_fraction': 0.75450734023742, 'boosting_type': 'dart', 'feature_fraction': 0.5972073388773904, 'gamma': 0.13385907163687186, 'max_depth': 16, 'num_leaves': 18, 'reg_alpha': 0.2005025681867216, 'reg_lambda': 0.43894846370767676}\n",
      "rmse: 0.92607 \tparams: {'bagging_fraction': 0.8016413518056721, 'boosting_type': 'dart', 'feature_fraction': 0.4451664463544685, 'gamma': 0.2114789679275074, 'max_depth': 15, 'num_leaves': 118, 'reg_alpha': 0.029136311000615842, 'reg_lambda': 0.681051003382686}\n",
      "rmse: 0.92639 \tparams: {'bagging_fraction': 0.8742797731246135, 'boosting_type': 'dart', 'feature_fraction': 0.37406961149371487, 'gamma': 0.29802376296006655, 'max_depth': 5, 'num_leaves': 20, 'reg_alpha': 0.40418538177988556, 'reg_lambda': 0.21341316770175628}\n",
      "rmse: 0.92974 \tparams: {'bagging_fraction': 0.7908590332506779, 'boosting_type': 'dart', 'feature_fraction': 0.5909613669167866, 'gamma': 0.24436546620046204, 'max_depth': 8, 'num_leaves': 82, 'reg_alpha': 0.1920175726435253, 'reg_lambda': 0.5426334663487452}\n",
      "rmse: 0.93561 \tparams: {'bagging_fraction': 0.703404854919437, 'boosting_type': 'dart', 'feature_fraction': 0.9789498231446616, 'gamma': 0.31705670799193225, 'max_depth': 11, 'num_leaves': 110, 'reg_alpha': 0.31596308227012043, 'reg_lambda': 0.8778071410411342}\n",
      "rmse: 0.93318 \tparams: {'bagging_fraction': 0.7572093944862449, 'boosting_type': 'dart', 'feature_fraction': 0.779343157559523, 'gamma': 0.16120738876755059, 'max_depth': 9, 'num_leaves': 102, 'reg_alpha': 0.7034689107842416, 'reg_lambda': 0.4038135949190686}\n",
      "rmse: 0.92824 \tparams: {'bagging_fraction': 0.8051901876023442, 'boosting_type': 'dart', 'feature_fraction': 0.4742514567050543, 'gamma': 0.2688179789546809, 'max_depth': 12, 'num_leaves': 58, 'reg_alpha': 0.26327190363849146, 'reg_lambda': 0.6798357904350721}\n",
      "rmse: 0.92801 \tparams: {'bagging_fraction': 0.7613795160853557, 'boosting_type': 'dart', 'feature_fraction': 0.5881761588817868, 'gamma': 0.2010754258834111, 'max_depth': 7, 'num_leaves': 94, 'reg_alpha': 0.999120525370012, 'reg_lambda': 0.506873764180985}\n"
     ]
    },
    {
     "name": "stdout",
     "output_type": "stream",
     "text": [
      "rmse: 0.92175 \tparams: {'bagging_fraction': 0.8728097607242306, 'boosting_type': 'dart', 'feature_fraction': 0.34832760832578064, 'gamma': 0.13156555952296187, 'max_depth': 4, 'num_leaves': 90, 'reg_alpha': 0.5237915180486983, 'reg_lambda': 0.1991661012038736}\n",
      "rmse: 0.92292 \tparams: {'bagging_fraction': 0.9603747486014677, 'boosting_type': 'dart', 'feature_fraction': 0.9186026229643607, 'gamma': 0.12911852472532856, 'max_depth': 4, 'num_leaves': 90, 'reg_alpha': 0.5488257769705249, 'reg_lambda': 0.1545807859377144}\n",
      "rmse: 0.92123 \tparams: {'bagging_fraction': 0.9079073146052532, 'boosting_type': 'dart', 'feature_fraction': 0.35188332440998693, 'gamma': 0.15627684377726786, 'max_depth': 4, 'num_leaves': 106, 'reg_alpha': 0.36067095516320047, 'reg_lambda': 0.010975285483777186}\n",
      "rmse: 0.91999 \tparams: {'bagging_fraction': 0.896465969298457, 'boosting_type': 'dart', 'feature_fraction': 0.6907704262597025, 'gamma': 0.44777445058000864, 'max_depth': 10, 'num_leaves': 10, 'reg_alpha': 0.37424358601743957, 'reg_lambda': 0.02194303380198309}\n",
      "rmse: 0.92018 \tparams: {'bagging_fraction': 0.9067133716650918, 'boosting_type': 'dart', 'feature_fraction': 0.6999756205469998, 'gamma': 0.49903063342554754, 'max_depth': 10, 'num_leaves': 10, 'reg_alpha': 0.6609249269368931, 'reg_lambda': 0.008616849692847466}\n",
      "rmse: 0.91651 \tparams: {'bagging_fraction': 0.834750265236025, 'boosting_type': 'dart', 'feature_fraction': 0.7703258965795443, 'gamma': 0.4687491515287674, 'max_depth': 10, 'num_leaves': 18, 'reg_alpha': 0.45107691031250763, 'reg_lambda': 0.8878342456557001}\n",
      "rmse: 0.92164 \tparams: {'bagging_fraction': 0.8365256048082718, 'boosting_type': 'dart', 'feature_fraction': 0.9065436870006921, 'gamma': 0.3795251343652476, 'max_depth': 10, 'num_leaves': 18, 'reg_alpha': 0.44586682902530755, 'reg_lambda': 0.9949786529803848}\n",
      "rmse: 0.92366 \tparams: {'bagging_fraction': 0.8672930905418135, 'boosting_type': 'dart', 'feature_fraction': 0.7706561419257919, 'gamma': 0.44639882191184865, 'max_depth': 6, 'num_leaves': 24, 'reg_alpha': 0.4923978412654677, 'reg_lambda': 0.7564836145507831}\n",
      "rmse: 0.93903 \tparams: {'bagging_fraction': 0.8136337416825378, 'boosting_type': 'dart', 'feature_fraction': 0.8961278087284713, 'gamma': 0.3408679993378757, 'max_depth': 13, 'num_leaves': 112, 'reg_alpha': 0.7579787662689106, 'reg_lambda': 0.8716419102921448}\n",
      "rmse: 0.93728 \tparams: {'bagging_fraction': 0.8413851767821355, 'boosting_type': 'gbdt', 'feature_fraction': 0.8128435623207357, 'gamma': 0.42810656974448347, 'max_depth': 5, 'num_leaves': 40, 'reg_alpha': 0.6452303345421277, 'reg_lambda': 0.8153298029468575}\n",
      "rmse: 0.92261 \tparams: {'bagging_fraction': 0.9302159355929663, 'boosting_type': 'dart', 'feature_fraction': 0.951561364209843, 'gamma': 0.4927134494180913, 'max_depth': 9, 'num_leaves': 8, 'reg_alpha': 0.3370817599786919, 'reg_lambda': 0.9246507165658804}\n",
      "rmse: 0.94539 \tparams: {'bagging_fraction': 0.7368342607685197, 'boosting_type': 'gbdt', 'feature_fraction': 0.6375841153964336, 'gamma': 0.2953025355978598, 'max_depth': 16, 'num_leaves': 42, 'reg_alpha': 0.6143571378946344, 'reg_lambda': 0.718532064771454}\n",
      "rmse: 0.92996 \tparams: {'bagging_fraction': 0.8294688903059371, 'boosting_type': 'dart', 'feature_fraction': 0.7274889813144894, 'gamma': 0.3389981531107788, 'max_depth': 7, 'num_leaves': 84, 'reg_alpha': 0.44288304772919584, 'reg_lambda': 0.8302693531118805}\n",
      "rmse: 0.95249 \tparams: {'bagging_fraction': 0.866402294450378, 'boosting_type': 'gbdt', 'feature_fraction': 0.5619507540839196, 'gamma': 0.48074775601519343, 'max_depth': 12, 'num_leaves': 126, 'reg_alpha': 0.24178034998400036, 'reg_lambda': 0.9934862500033935}\n",
      "rmse: 0.92243 \tparams: {'bagging_fraction': 0.9189345972472188, 'boosting_type': 'dart', 'feature_fraction': 0.9967906228951477, 'gamma': 0.24832869732945365, 'max_depth': 10, 'num_leaves': 16, 'reg_alpha': 0.1439258150309092, 'reg_lambda': 0.6185259530009648}\n",
      "rmse: 0.92543 \tparams: {'bagging_fraction': 0.7166233112542095, 'boosting_type': 'dart', 'feature_fraction': 0.8762475083924804, 'gamma': 0.4098180372565694, 'max_depth': 15, 'num_leaves': 30, 'reg_alpha': 0.709336909171445, 'reg_lambda': 0.7223467071159139}\n",
      "rmse: 0.95252 \tparams: {'bagging_fraction': 0.9512043226003455, 'boosting_type': 'gbdt', 'feature_fraction': 0.765892052699989, 'gamma': 0.38187515008610884, 'max_depth': 13, 'num_leaves': 88, 'reg_alpha': 0.5243850660797129, 'reg_lambda': 0.9135405826636502}\n",
      "rmse: 0.92041 \tparams: {'bagging_fraction': 0.8123493435226586, 'boosting_type': 'dart', 'feature_fraction': 0.5189756583630974, 'gamma': 0.3486427309081614, 'max_depth': 6, 'num_leaves': 18, 'reg_alpha': 0.4608345591032112, 'reg_lambda': 0.808711691823711}\n",
      "rmse: 0.91946 \tparams: {'bagging_fraction': 0.8529404354019008, 'boosting_type': 'dart', 'feature_fraction': 0.6232632194017854, 'gamma': 0.10157191131599842, 'max_depth': 8, 'num_leaves': 12, 'reg_alpha': 0.9472249893137095, 'reg_lambda': 0.5630754131639207}\n",
      "rmse: 0.95323 \tparams: {'bagging_fraction': 0.8863614348888065, 'boosting_type': 'gbdt', 'feature_fraction': 0.66998164950264, 'gamma': 0.22884763325763233, 'max_depth': 15, 'num_leaves': 80, 'reg_alpha': 0.402245245224458, 'reg_lambda': 0.3887190261699566}\n",
      "rmse: 0.93780 \tparams: {'bagging_fraction': 0.7685392565143713, 'boosting_type': 'dart', 'feature_fraction': 0.7902136810698756, 'gamma': 0.2794912335332115, 'max_depth': 10, 'num_leaves': 116, 'reg_alpha': 0.2980978807073181, 'reg_lambda': 0.6504268704051033}\n",
      "rmse: 0.93349 \tparams: {'bagging_fraction': 0.7850345424373664, 'boosting_type': 'dart', 'feature_fraction': 0.8245874492529469, 'gamma': 0.18077224340530235, 'max_depth': 14, 'num_leaves': 70, 'reg_alpha': 0.8177466015080574, 'reg_lambda': 0.4843302085614056}\n",
      "rmse: 0.93657 \tparams: {'bagging_fraction': 0.9938042896215433, 'boosting_type': 'gbdt', 'feature_fraction': 0.7422092074591871, 'gamma': 0.31759029116270865, 'max_depth': 5, 'num_leaves': 128, 'reg_alpha': 0.06979362744539819, 'reg_lambda': 0.7322602284795021}\n",
      "rmse: 0.93102 \tparams: {'bagging_fraction': 0.8587816471349332, 'boosting_type': 'dart', 'feature_fraction': 0.8533830383382374, 'gamma': 0.43295094274750345, 'max_depth': 15, 'num_leaves': 60, 'reg_alpha': 0.5733112776578753, 'reg_lambda': 0.5808765043897681}\n",
      "rmse: 0.92060 \tparams: {'bagging_fraction': 0.8409368682555287, 'boosting_type': 'dart', 'feature_fraction': 0.9541001462571874, 'gamma': 0.36722934952644515, 'max_depth': 16, 'num_leaves': 14, 'reg_alpha': 0.14701534332012045, 'reg_lambda': 0.9590051600425682}\n",
      "rmse: 0.93442 \tparams: {'bagging_fraction': 0.7447123523839214, 'boosting_type': 'dart', 'feature_fraction': 0.7144979131350515, 'gamma': 0.19557839969474594, 'max_depth': 9, 'num_leaves': 114, 'reg_alpha': 0.7408647181602588, 'reg_lambda': 0.8461791405684673}\n",
      "rmse: 0.93946 \tparams: {'bagging_fraction': 0.7244995818540346, 'boosting_type': 'gbdt', 'feature_fraction': 0.6586151946962306, 'gamma': 0.4687463980606309, 'max_depth': 7, 'num_leaves': 36, 'reg_alpha': 0.2167179587997072, 'reg_lambda': 0.788360184938308}\n",
      "rmse: 0.92920 \tparams: {'bagging_fraction': 0.7929624903694791, 'boosting_type': 'dart', 'feature_fraction': 0.4865631697799083, 'gamma': 0.22756443629370238, 'max_depth': 11, 'num_leaves': 100, 'reg_alpha': 0.6165945690645902, 'reg_lambda': 0.8945029624903698}\n",
      "rmse: 0.91966 \tparams: {'bagging_fraction': 0.9776925399667543, 'boosting_type': 'dart', 'feature_fraction': 0.5601386746407738, 'gamma': 0.11289501893927462, 'max_depth': 12, 'num_leaves': 56, 'reg_alpha': 0.16731800226471777, 'reg_lambda': 0.5178129572604757}\n",
      "rmse: 0.92899 \tparams: {'bagging_fraction': 0.939798144802455, 'boosting_type': 'dart', 'feature_fraction': 0.6154336894307015, 'gamma': 0.2582012028584395, 'max_depth': 15, 'num_leaves': 62, 'reg_alpha': 0.09436029897466724, 'reg_lambda': 0.6650288529981225}\n",
      "rmse: 0.94976 \tparams: {'bagging_fraction': 0.8241066621411194, 'boosting_type': 'gbdt', 'feature_fraction': 0.5173040973907858, 'gamma': 0.4056349826029795, 'max_depth': 8, 'num_leaves': 108, 'reg_alpha': 0.001620986423399251, 'reg_lambda': 0.34258148650900155}\n",
      "rmse: 0.93425 \tparams: {'bagging_fraction': 0.8965271049265634, 'boosting_type': 'dart', 'feature_fraction': 0.8788615339417462, 'gamma': 0.28945886815651634, 'max_depth': 10, 'num_leaves': 72, 'reg_alpha': 0.34860781144139147, 'reg_lambda': 0.46924574800965824}\n"
     ]
    },
    {
     "name": "stdout",
     "output_type": "stream",
     "text": [
      "rmse: 0.92758 \tparams: {'bagging_fraction': 0.8781282725067074, 'boosting_type': 'dart', 'feature_fraction': 0.6755297520929628, 'gamma': 0.16997897623450886, 'max_depth': 13, 'num_leaves': 54, 'reg_alpha': 0.27152393554854404, 'reg_lambda': 0.7045091353336083}\n",
      "rmse: 0.92106 \tparams: {'bagging_fraction': 0.8522014896301852, 'boosting_type': 'dart', 'feature_fraction': 0.6201475657972695, 'gamma': 0.1380989849404548, 'max_depth': 8, 'num_leaves': 12, 'reg_alpha': 0.9661616378375898, 'reg_lambda': 0.5732333322672629}\n",
      "rmse: 0.92365 \tparams: {'bagging_fraction': 0.858657507574162, 'boosting_type': 'dart', 'feature_fraction': 0.43498443034629597, 'gamma': 0.10325046444077475, 'max_depth': 8, 'num_leaves': 68, 'reg_alpha': 0.38901239635586626, 'reg_lambda': 0.2962773625557014}\n",
      "rmse: 0.92122 \tparams: {'bagging_fraction': 0.8100725020671454, 'boosting_type': 'dart', 'feature_fraction': 0.7570688984498198, 'gamma': 0.14544235353069057, 'max_depth': 14, 'num_leaves': 22, 'reg_alpha': 0.4274720574072237, 'reg_lambda': 0.5488872677992099}\n",
      "rmse: 0.92107 \tparams: {'bagging_fraction': 0.8333174193085213, 'boosting_type': 'dart', 'feature_fraction': 0.46116388141143305, 'gamma': 0.12169255824099309, 'max_depth': 8, 'num_leaves': 32, 'reg_alpha': 0.5119081696407795, 'reg_lambda': 0.24884399561405274}\n",
      "rmse: 0.91918 \tparams: {'bagging_fraction': 0.77095747037792, 'boosting_type': 'dart', 'feature_fraction': 0.7920775904959596, 'gamma': 0.16832549631435398, 'max_depth': 8, 'num_leaves': 12, 'reg_alpha': 0.3193875228739125, 'reg_lambda': 0.3750688313615097}\n",
      "rmse: 0.92429 \tparams: {'bagging_fraction': 0.7717162857776046, 'boosting_type': 'dart', 'feature_fraction': 0.7968609859563325, 'gamma': 0.19192640451016785, 'max_depth': 6, 'num_leaves': 48, 'reg_alpha': 0.48772816818003906, 'reg_lambda': 0.3913395351187682}\n",
      "rmse: 0.93132 \tparams: {'bagging_fraction': 0.7956661517417929, 'boosting_type': 'dart', 'feature_fraction': 0.7132938012174137, 'gamma': 0.16867886526368658, 'max_depth': 10, 'num_leaves': 98, 'reg_alpha': 0.3189874231681515, 'reg_lambda': 0.14736200062702792}\n",
      "rmse: 0.92159 \tparams: {'bagging_fraction': 0.7494898043064357, 'boosting_type': 'dart', 'feature_fraction': 0.8444354594476849, 'gamma': 0.21284253538740536, 'max_depth': 15, 'num_leaves': 26, 'reg_alpha': 0.5515786539841863, 'reg_lambda': 0.28751935257242334}\n",
      "rmse: 0.93527 \tparams: {'bagging_fraction': 0.8202739269902076, 'boosting_type': 'dart', 'feature_fraction': 0.945352815960436, 'gamma': 0.308973206755257, 'max_depth': 8, 'num_leaves': 76, 'reg_alpha': 0.33569773659046653, 'reg_lambda': 0.7520681601418576}\n",
      "rmse: 0.91862 \tparams: {'bagging_fraction': 0.7807449544174138, 'boosting_type': 'dart', 'feature_fraction': 0.8242245976018686, 'gamma': 0.14905769845235295, 'max_depth': 4, 'num_leaves': 18, 'reg_alpha': 0.3754882091454062, 'reg_lambda': 0.4171696526478222}\n",
      "rmse: 0.91944 \tparams: {'bagging_fraction': 0.7809259648282577, 'boosting_type': 'dart', 'feature_fraction': 0.8253921638118634, 'gamma': 0.14749900918965597, 'max_depth': 4, 'num_leaves': 18, 'reg_alpha': 0.3738478014620044, 'reg_lambda': 0.4553074594275448}\n",
      "rmse: 0.91904 \tparams: {'bagging_fraction': 0.8030830425326348, 'boosting_type': 'dart', 'feature_fraction': 0.6859588017355658, 'gamma': 0.11887900643514349, 'max_depth': 4, 'num_leaves': 18, 'reg_alpha': 0.2779248774059187, 'reg_lambda': 0.6490784124330058}\n",
      "rmse: 0.92003 \tparams: {'bagging_fraction': 0.8471853517299803, 'boosting_type': 'dart', 'feature_fraction': 0.8624421219541153, 'gamma': 0.2373715790606033, 'max_depth': 4, 'num_leaves': 28, 'reg_alpha': 0.22907648181599405, 'reg_lambda': 0.6015379447282627}\n",
      "rmse: 0.91840 \tparams: {'bagging_fraction': 0.7875453333346351, 'boosting_type': 'dart', 'feature_fraction': 0.6489209133803701, 'gamma': 0.32714612511474034, 'max_depth': 4, 'num_leaves': 120, 'reg_alpha': 0.17655765831075068, 'reg_lambda': 0.5191431671243988}\n",
      "rmse: 0.94192 \tparams: {'bagging_fraction': 0.762789990247098, 'boosting_type': 'gbdt', 'feature_fraction': 0.653473123159467, 'gamma': 0.3923198731803323, 'max_depth': 5, 'num_leaves': 46, 'reg_alpha': 0.18748557210938113, 'reg_lambda': 0.776243910177214}\n",
      "rmse: 0.92791 \tparams: {'bagging_fraction': 0.9188804787330456, 'boosting_type': 'dart', 'feature_fraction': 0.591448379549011, 'gamma': 0.3266259835286713, 'max_depth': 11, 'num_leaves': 64, 'reg_alpha': 0.10265628818749072, 'reg_lambda': 0.96366548486966}\n",
      "rmse: 0.93348 \tparams: {'bagging_fraction': 0.900801309308883, 'boosting_type': 'dart', 'feature_fraction': 0.7553986160333592, 'gamma': 0.4189777953736553, 'max_depth': 16, 'num_leaves': 96, 'reg_alpha': 0.06892794235623345, 'reg_lambda': 0.526565663342472}\n",
      "rmse: 0.92977 \tparams: {'bagging_fraction': 0.8212967602365935, 'boosting_type': 'dart', 'feature_fraction': 0.5569019430388383, 'gamma': 0.4449117415762053, 'max_depth': 7, 'num_leaves': 50, 'reg_alpha': 0.25526051489585944, 'reg_lambda': 0.6952525655919672}\n",
      "rmse: 0.93436 \tparams: {'bagging_fraction': 0.7882790620582936, 'boosting_type': 'dart', 'feature_fraction': 0.7298427974448262, 'gamma': 0.4882503425679476, 'max_depth': 9, 'num_leaves': 120, 'reg_alpha': 0.46259426819922334, 'reg_lambda': 0.6383756729236798}\n",
      "rmse: 0.94664 \tparams: {'bagging_fraction': 0.8462979015930819, 'boosting_type': 'gbdt', 'feature_fraction': 0.574810443731053, 'gamma': 0.35587568417866083, 'max_depth': 12, 'num_leaves': 120, 'reg_alpha': 0.02000232910231481, 'reg_lambda': 0.8367256677568372}\n",
      "rmse: 0.91895 \tparams: {'bagging_fraction': 0.8808403886854667, 'boosting_type': 'dart', 'feature_fraction': 0.6339197232506972, 'gamma': 0.26178817250200187, 'max_depth': 4, 'num_leaves': 122, 'reg_alpha': 0.163494321066288, 'reg_lambda': 0.897504654180859}\n",
      "rmse: 0.92966 \tparams: {'bagging_fraction': 0.7274461423916729, 'boosting_type': 'dart', 'feature_fraction': 0.532309504490583, 'gamma': 0.4667069073059834, 'max_depth': 10, 'num_leaves': 92, 'reg_alpha': 0.29485933329017067, 'reg_lambda': 0.7967343618421532}\n",
      "rmse: 0.92918 \tparams: {'bagging_fraction': 0.8164295286818791, 'boosting_type': 'dart', 'feature_fraction': 0.705160976922164, 'gamma': 0.2756619461079366, 'max_depth': 15, 'num_leaves': 52, 'reg_alpha': 0.41192485191086786, 'reg_lambda': 0.7396575315468507}\n",
      "rmse: 0.94268 \tparams: {'bagging_fraction': 0.8330183350873975, 'boosting_type': 'gbdt', 'feature_fraction': 0.6057606780721438, 'gamma': 0.3317104349245738, 'max_depth': 13, 'num_leaves': 34, 'reg_alpha': 0.21468257794172219, 'reg_lambda': 0.5966460729764975}\n",
      "rmse: 0.92673 \tparams: {'bagging_fraction': 0.7982914633977741, 'boosting_type': 'dart', 'feature_fraction': 0.49676581388533114, 'gamma': 0.37812316043544736, 'max_depth': 6, 'num_leaves': 78, 'reg_alpha': 0.5375610893666475, 'reg_lambda': 0.9387334338191989}\n",
      "rmse: 0.92852 \tparams: {'bagging_fraction': 0.7007982672213413, 'boosting_type': 'dart', 'feature_fraction': 0.6856430058818782, 'gamma': 0.2874059658383937, 'max_depth': 10, 'num_leaves': 74, 'reg_alpha': 0.6186667176380507, 'reg_lambda': 0.8556081919622925}\n",
      "rmse: 0.93270 \tparams: {'bagging_fraction': 0.863109893703097, 'boosting_type': 'dart', 'feature_fraction': 0.6436969326081761, 'gamma': 0.4554406867186823, 'max_depth': 14, 'num_leaves': 124, 'reg_alpha': 0.12974197436448803, 'reg_lambda': 0.4944940701540264}\n",
      "rmse: 0.94609 \tparams: {'bagging_fraction': 0.7404763919554563, 'boosting_type': 'gbdt', 'feature_fraction': 0.7762366027280897, 'gamma': 0.22006612630786884, 'max_depth': 15, 'num_leaves': 38, 'reg_alpha': 0.043904778784456366, 'reg_lambda': 0.9883643027691774}\n",
      "rmse: 0.92116 \tparams: {'bagging_fraction': 0.8933101593587582, 'boosting_type': 'dart', 'feature_fraction': 0.7439077558339623, 'gamma': 0.43700084350462176, 'max_depth': 4, 'num_leaves': 104, 'reg_alpha': 0.43580353708149205, 'reg_lambda': 0.8256609995374908}\n",
      "rmse: 0.92312 \tparams: {'bagging_fraction': 0.8060202374933744, 'boosting_type': 'dart', 'feature_fraction': 0.8935150866874153, 'gamma': 0.41632379567094413, 'max_depth': 5, 'num_leaves': 118, 'reg_alpha': 0.4724245754566804, 'reg_lambda': 0.3704039114590531}\n",
      "rmse: 0.92399 \tparams: {'bagging_fraction': 0.8400679592952651, 'boosting_type': 'dart', 'feature_fraction': 0.5784631060219203, 'gamma': 0.306401410499004, 'max_depth': 11, 'num_leaves': 86, 'reg_alpha': 0.5804156203674083, 'reg_lambda': 0.6300908158007252}\n"
     ]
    },
    {
     "name": "stdout",
     "output_type": "stream",
     "text": [
      "rmse: 0.92485 \tparams: {'bagging_fraction': 0.7170813678328304, 'boosting_type': 'dart', 'feature_fraction': 0.7256200706023888, 'gamma': 0.3671881991137781, 'max_depth': 16, 'num_leaves': 44, 'reg_alpha': 0.6949671928779473, 'reg_lambda': 0.7606328463334753}\n",
      "rmse: 0.94709 \tparams: {'bagging_fraction': 0.7627412589895034, 'boosting_type': 'gbdt', 'feature_fraction': 0.3888910443208207, 'gamma': 0.25271928457533893, 'max_depth': 7, 'num_leaves': 66, 'reg_alpha': 0.1712090636093719, 'reg_lambda': 0.6694403758176385}\n",
      "rmse: 0.92090 \tparams: {'bagging_fraction': 0.9097237679224196, 'boosting_type': 'dart', 'feature_fraction': 0.49803292318996983, 'gamma': 0.39216130117104864, 'max_depth': 12, 'num_leaves': 20, 'reg_alpha': 0.6372041574246663, 'reg_lambda': 0.25712404955228424}\n",
      "rmse: 0.92874 \tparams: {'bagging_fraction': 0.8730111166549867, 'boosting_type': 'dart', 'feature_fraction': 0.5401827264671424, 'gamma': 0.40361335423813177, 'max_depth': 9, 'num_leaves': 110, 'reg_alpha': 0.08372208651617782, 'reg_lambda': 0.4401604737168068}\n"
     ]
    }
   ],
   "source": [
    "lgb_clf = lgb.LGBMRegressor(random_state=0, n_jobs=8)\n",
    "\n",
    "# 1. find an optimal n_esti for rather larger learning rate\n",
    "lgb_params = {\n",
    "    'clf' : lgb_clf,\n",
    "    'params': {\n",
    "        \n",
    "        'boosting_type': hp.choice('boosting_type',['gbdt', 'dart']), ## gbdt \n",
    "#         'boosting_type': 'gbdt',\n",
    "        'max_depth' : hp.choice(\"max_depth\", np.arange(4, 17, dtype=int)),    \n",
    "        'num_leaves'   : hp.choice('num_leaves', np.arange(8,129,2,dtype=int)),        \n",
    "        \n",
    "        'feature_fraction': hp.uniform('feature_fraction', 0.3, 1.0),\n",
    "        'bagging_fraction': hp.uniform ('bagging_fraction', 0.7, 1),\n",
    "        'reg_alpha' : hp.uniform('reg_alpha',0,1),\n",
    "        'reg_lambda': hp.uniform('reg_lambda',0,1),\n",
    "        'gamma' : hp.uniform('gamma', 0.1,0.5)\n",
    "    }\n",
    "    \n",
    "}\n",
    "best =fmin(fn = objective,\n",
    "           space = lgb_params,\n",
    "           algo = tpe.suggest,\n",
    "           max_evals = 100\n",
    "           )"
   ]
  },
  {
   "cell_type": "code",
   "execution_count": 162,
   "metadata": {},
   "outputs": [
    {
     "data": {
      "text/plain": [
       "{'bagging_fraction': 0.834750265236025,\n",
       " 'boosting_type': 1,\n",
       " 'feature_fraction': 0.7703258965795443,\n",
       " 'gamma': 0.4687491515287674,\n",
       " 'max_depth': 6,\n",
       " 'num_leaves': 5,\n",
       " 'reg_alpha': 0.45107691031250763,\n",
       " 'reg_lambda': 0.8878342456557001}"
      ]
     },
     "execution_count": 162,
     "metadata": {},
     "output_type": "execute_result"
    }
   ],
   "source": [
    "best"
   ]
  },
  {
   "cell_type": "code",
   "execution_count": 166,
   "metadata": {},
   "outputs": [
    {
     "name": "stdout",
     "output_type": "stream",
     "text": [
      "rmse: 0.91792 \tparams: {'boosting_type': 'dart', 'max_depth': 10, 'num_leaves': 13, 'feature_fraction': 0.7703258965795443, 'bagging_fraction': 0.834750265236025, 'reg_alpha': 0.45107691031250763, 'reg_lambda': 0.8878342456557001, 'gamma': 0.4687491515287674}\n"
     ]
    }
   ],
   "source": [
    "lgb_clf = lgb.LGBMRegressor(random_state=0, n_jobs=8)\n",
    "lgb_params = {\n",
    "    'clf' : lgb_clf,\n",
    "    'params': {\n",
    "        \n",
    "        'boosting_type': 'dart',\n",
    "        'max_depth' : 10, \n",
    "        'num_leaves'   : 13,         \n",
    "        'feature_fraction': 0.7703258965795443,\n",
    "        'bagging_fraction': 0.834750265236025,\n",
    "        'reg_alpha' : 0.45107691031250763,\n",
    "        'reg_lambda': 0.8878342456557001,\n",
    "        'gamma' : 0.4687491515287674\n",
    "    }    \n",
    "}\n",
    "best_lgb_2nd_val_loss = objective(lgb_params)"
   ]
  },
  {
   "cell_type": "markdown",
   "metadata": {},
   "source": [
    "> rmse: 0.91882 \t\n",
    "- params: `{'bagging_fraction': 0.8219608927918671, 'boosting_type': 'dart', 'feature_fraction': 0.8197533685642909, 'gamma': 0.4386326407529417, 'max_depth': 11, 'num_leaves': 10, 'reg_alpha': 0.7227955651016644, 'reg_lambda': 0.11999749478454569}`"
   ]
  },
  {
   "cell_type": "markdown",
   "metadata": {},
   "source": [
    "# Submission"
   ]
  },
  {
   "cell_type": "code",
   "execution_count": 149,
   "metadata": {},
   "outputs": [],
   "source": [
    "# lgb_train = lgb.Dataset(stage2_df[stage2_final_train_mask],stage2_train_y[stage2_final_train_mask])\n",
    "# params_best = {\n",
    "#         'boosting_type': 'dart',\n",
    "#         'max_depth' : 11,\n",
    "#         'num_leaves': 10,        \n",
    "#         'feature_fraction': 0.81975,\n",
    "#         'bagging_fraction': 0.82196,\n",
    "#         'reg_alpha' : 0.7228,\n",
    "#         'reg_lambda': 0.1200,\n",
    "#         'gamma' : 0.4386\n",
    "# }\n",
    "# # lgb_cv = lgb.Dataset(X_cv,y_cv,reference=lgb_train)\n",
    "# reg_sub = lgb.train(params_best,                    \n",
    "#                     train_set = lgb_train\n",
    "#                     )"
   ]
  },
  {
   "cell_type": "code",
   "execution_count": 168,
   "metadata": {},
   "outputs": [],
   "source": [
    "lgb_params = {                \n",
    "    'boosting_type': 'dart',\n",
    "    'max_depth' : 10, \n",
    "    'num_leaves'   : 13,         \n",
    "    'feature_fraction': 0.7703258965795443,\n",
    "    'bagging_fraction': 0.834750265236025,\n",
    "    'reg_alpha' : 0.45107691031250763,\n",
    "    'reg_lambda': 0.8878342456557001,\n",
    "    'gamma' : 0.4687491515287674\n",
    "}"
   ]
  },
  {
   "cell_type": "code",
   "execution_count": 170,
   "metadata": {},
   "outputs": [
    {
     "name": "stdout",
     "output_type": "stream",
     "text": [
      "rmse: 0.91792 \t"
     ]
    }
   ],
   "source": [
    "lgb_clf = lgb.LGBMRegressor(random_state=0, n_jobs=8,**lgb_params)\n",
    "\n",
    "## simple hold out \n",
    "\n",
    "lgb_clf.fit(stage2_df[stage2_train_mask].values, stage2_train_y[stage2_train_mask])    \n",
    "\n",
    "pred_y = lgb_clf.predict(stage2_df[stage2_valid_mask].values)\n",
    "pred_y = np.clip(pred_y, 0., 20.) # clip to (0,20)\n",
    "rmse = mean_squared_error(stage2_train_y[stage2_valid_mask], pred_y)**.5\n",
    "print('rmse: {:.5f} '.format(rmse), end='\\t')\n"
   ]
  },
  {
   "cell_type": "code",
   "execution_count": 1,
   "metadata": {
    "collapsed": true
   },
   "outputs": [
    {
     "ename": "NameError",
     "evalue": "name 'lgb' is not defined",
     "output_type": "error",
     "traceback": [
      "\u001b[1;31m---------------------------------------------------------------------------\u001b[0m",
      "\u001b[1;31mNameError\u001b[0m                                 Traceback (most recent call last)",
      "\u001b[1;32m<ipython-input-1-c57d23479bf0>\u001b[0m in \u001b[0;36m<module>\u001b[1;34m()\u001b[0m\n\u001b[1;32m----> 1\u001b[1;33m \u001b[0mlgb_clf\u001b[0m \u001b[1;33m=\u001b[0m \u001b[0mlgb\u001b[0m\u001b[1;33m.\u001b[0m\u001b[0mLGBMRegressor\u001b[0m\u001b[1;33m(\u001b[0m\u001b[0mrandom_state\u001b[0m\u001b[1;33m=\u001b[0m\u001b[1;36m0\u001b[0m\u001b[1;33m,\u001b[0m \u001b[0mn_jobs\u001b[0m\u001b[1;33m=\u001b[0m\u001b[1;36m8\u001b[0m\u001b[1;33m,\u001b[0m\u001b[1;33m**\u001b[0m\u001b[0mlgb_params\u001b[0m\u001b[1;33m)\u001b[0m\u001b[1;33m\u001b[0m\u001b[0m\n\u001b[0m\u001b[0;32m      2\u001b[0m \u001b[0mlgb_clf\u001b[0m\u001b[1;33m.\u001b[0m\u001b[0mfit\u001b[0m\u001b[1;33m(\u001b[0m\u001b[0mstage2_df\u001b[0m\u001b[1;33m[\u001b[0m\u001b[0mstage2_final_train_mask\u001b[0m\u001b[1;33m]\u001b[0m\u001b[1;33m.\u001b[0m\u001b[0mvalues\u001b[0m\u001b[1;33m,\u001b[0m\u001b[0mstage2_train_y\u001b[0m\u001b[1;33m[\u001b[0m\u001b[0mstage2_final_train_mask\u001b[0m\u001b[1;33m]\u001b[0m\u001b[1;33m)\u001b[0m\u001b[1;33m\u001b[0m\u001b[0m\n\u001b[0;32m      3\u001b[0m \u001b[0mpred_y\u001b[0m \u001b[1;33m=\u001b[0m \u001b[0mlgb_clf\u001b[0m\u001b[1;33m.\u001b[0m\u001b[0mpredict\u001b[0m\u001b[1;33m(\u001b[0m\u001b[0mstage2_df\u001b[0m\u001b[1;33m[\u001b[0m\u001b[0mstage2_test_mask\u001b[0m\u001b[1;33m]\u001b[0m\u001b[1;33m.\u001b[0m\u001b[0mvalues\u001b[0m\u001b[1;33m)\u001b[0m\u001b[1;33m\u001b[0m\u001b[0m\n\u001b[0;32m      4\u001b[0m \u001b[0mpred_y\u001b[0m \u001b[1;33m=\u001b[0m \u001b[0mnp\u001b[0m\u001b[1;33m.\u001b[0m\u001b[0mclip\u001b[0m\u001b[1;33m(\u001b[0m\u001b[0mpred_y\u001b[0m\u001b[1;33m,\u001b[0m\u001b[1;36m0\u001b[0m\u001b[1;33m,\u001b[0m\u001b[1;36m20\u001b[0m\u001b[1;33m)\u001b[0m\u001b[1;33m\u001b[0m\u001b[0m\n\u001b[0;32m      5\u001b[0m \u001b[1;31m##\u001b[0m\u001b[1;33m\u001b[0m\u001b[1;33m\u001b[0m\u001b[0m\n",
      "\u001b[1;31mNameError\u001b[0m: name 'lgb' is not defined"
     ]
    }
   ],
   "source": [
    "lgb_clf = lgb.LGBMRegressor(random_state=0, n_jobs=8,**lgb_params)\n",
    "lgb_clf.fit(stage2_df[stage2_final_train_mask].values,stage2_train_y[stage2_final_train_mask])\n",
    "pred_y = lgb_clf.predict(stage2_df[stage2_test_mask].values)\n",
    "pred_y = np.clip(pred_y,0,20)\n",
    "## "
   ]
  },
  {
   "cell_type": "code",
   "execution_count": 172,
   "metadata": {},
   "outputs": [],
   "source": [
    "y_submit = pd.DataFrame({'ID':range(len(pred_y)), 'item_cnt_month':pred_y}) # validate on 2015oct : 0.91732, LB: 0.94824\n",
    "y_submit.to_csv('../data/output/submission_lgbm5_stacking_finetune_params.csv',index=False) # stacking"
   ]
  }
 ],
 "metadata": {
  "kernelspec": {
   "display_name": "Python [conda env:py36]",
   "language": "python",
   "name": "conda-env-py36-py"
  },
  "language_info": {
   "codemirror_mode": {
    "name": "ipython",
    "version": 3
   },
   "file_extension": ".py",
   "mimetype": "text/x-python",
   "name": "python",
   "nbconvert_exporter": "python",
   "pygments_lexer": "ipython3",
   "version": "3.6.3"
  }
 },
 "nbformat": 4,
 "nbformat_minor": 1
}
