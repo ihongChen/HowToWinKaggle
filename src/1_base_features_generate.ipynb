{
 "cells": [
  {
   "cell_type": "markdown",
   "metadata": {},
   "source": [
    "# Features generation\n",
    "\n",
    "This script generate the basic features include\n",
    "1. mean encoding \n",
    "2. lag variable w.r.t last month\n",
    "3. text data"
   ]
  },
  {
   "cell_type": "code",
   "execution_count": 1,
   "metadata": {},
   "outputs": [],
   "source": [
    "import pandas as pd\n",
    "import numpy as np\n",
    "import os\n",
    "import matplotlib.pyplot as plt\n",
    "import gc"
   ]
  },
  {
   "cell_type": "code",
   "execution_count": 2,
   "metadata": {},
   "outputs": [],
   "source": [
    "transactions    = pd.read_csv('../data/sales_train.csv.gz')\n",
    "items           = pd.read_csv('../data/items.csv')\n",
    "item_categories = pd.read_csv('../data/item_categories.csv')\n",
    "shops           = pd.read_csv('../data/shops.csv')\n",
    "tests           = pd.read_csv('../data/test.csv.gz')"
   ]
  },
  {
   "cell_type": "code",
   "execution_count": 3,
   "metadata": {},
   "outputs": [],
   "source": [
    "## date \n",
    "trans_date = pd.to_datetime(transactions.date,format='%d.%m.%Y')\n",
    "transactions['date'] = trans_date\n",
    "transactions.set_index('date',inplace=True)\n",
    "tests['date_block_num'] = 34"
   ]
  },
  {
   "cell_type": "code",
   "execution_count": 4,
   "metadata": {},
   "outputs": [],
   "source": [
    "transactions['amount_price'] = transactions.item_price * transactions.item_cnt_day"
   ]
  },
  {
   "cell_type": "code",
   "execution_count": 5,
   "metadata": {},
   "outputs": [],
   "source": [
    "##  outlier\n",
    "cond = (transactions.item_price<100000) & (transactions.item_cnt_day <= 1000)\n",
    "trans_wo_outlier = transactions[cond]"
   ]
  },
  {
   "cell_type": "code",
   "execution_count": 6,
   "metadata": {},
   "outputs": [
    {
     "data": {
      "text/html": [
       "<div>\n",
       "<style>\n",
       "    .dataframe thead tr:only-child th {\n",
       "        text-align: right;\n",
       "    }\n",
       "\n",
       "    .dataframe thead th {\n",
       "        text-align: left;\n",
       "    }\n",
       "\n",
       "    .dataframe tbody tr th {\n",
       "        vertical-align: top;\n",
       "    }\n",
       "</style>\n",
       "<table border=\"1\" class=\"dataframe\">\n",
       "  <thead>\n",
       "    <tr style=\"text-align: right;\">\n",
       "      <th></th>\n",
       "      <th>date_block_num</th>\n",
       "      <th>shop_id</th>\n",
       "      <th>item_id</th>\n",
       "      <th>item_price</th>\n",
       "      <th>item_cnt_day</th>\n",
       "      <th>amount_price</th>\n",
       "    </tr>\n",
       "    <tr>\n",
       "      <th>date</th>\n",
       "      <th></th>\n",
       "      <th></th>\n",
       "      <th></th>\n",
       "      <th></th>\n",
       "      <th></th>\n",
       "      <th></th>\n",
       "    </tr>\n",
       "  </thead>\n",
       "  <tbody>\n",
       "    <tr>\n",
       "      <th>2013-01-02</th>\n",
       "      <td>0</td>\n",
       "      <td>59</td>\n",
       "      <td>22154</td>\n",
       "      <td>999.00</td>\n",
       "      <td>1.0</td>\n",
       "      <td>999.00</td>\n",
       "    </tr>\n",
       "    <tr>\n",
       "      <th>2013-01-03</th>\n",
       "      <td>0</td>\n",
       "      <td>25</td>\n",
       "      <td>2552</td>\n",
       "      <td>899.00</td>\n",
       "      <td>1.0</td>\n",
       "      <td>899.00</td>\n",
       "    </tr>\n",
       "    <tr>\n",
       "      <th>2013-01-05</th>\n",
       "      <td>0</td>\n",
       "      <td>25</td>\n",
       "      <td>2552</td>\n",
       "      <td>899.00</td>\n",
       "      <td>-1.0</td>\n",
       "      <td>-899.00</td>\n",
       "    </tr>\n",
       "    <tr>\n",
       "      <th>2013-01-06</th>\n",
       "      <td>0</td>\n",
       "      <td>25</td>\n",
       "      <td>2554</td>\n",
       "      <td>1709.05</td>\n",
       "      <td>1.0</td>\n",
       "      <td>1709.05</td>\n",
       "    </tr>\n",
       "    <tr>\n",
       "      <th>2013-01-15</th>\n",
       "      <td>0</td>\n",
       "      <td>25</td>\n",
       "      <td>2555</td>\n",
       "      <td>1099.00</td>\n",
       "      <td>1.0</td>\n",
       "      <td>1099.00</td>\n",
       "    </tr>\n",
       "  </tbody>\n",
       "</table>\n",
       "</div>"
      ],
      "text/plain": [
       "            date_block_num  shop_id  item_id  item_price  item_cnt_day  \\\n",
       "date                                                                     \n",
       "2013-01-02               0       59    22154      999.00           1.0   \n",
       "2013-01-03               0       25     2552      899.00           1.0   \n",
       "2013-01-05               0       25     2552      899.00          -1.0   \n",
       "2013-01-06               0       25     2554     1709.05           1.0   \n",
       "2013-01-15               0       25     2555     1099.00           1.0   \n",
       "\n",
       "            amount_price  \n",
       "date                      \n",
       "2013-01-02        999.00  \n",
       "2013-01-03        899.00  \n",
       "2013-01-05       -899.00  \n",
       "2013-01-06       1709.05  \n",
       "2013-01-15       1099.00  "
      ]
     },
     "execution_count": 6,
     "metadata": {},
     "output_type": "execute_result"
    }
   ],
   "source": [
    "trans_wo_outlier.head()"
   ]
  },
  {
   "cell_type": "markdown",
   "metadata": {},
   "source": [
    "* merge test with train"
   ]
  },
  {
   "cell_type": "code",
   "execution_count": 7,
   "metadata": {},
   "outputs": [],
   "source": [
    "trans_wo_outlier = pd.concat([trans_wo_outlier, tests])\n",
    "trans_wo_outlier = trans_wo_outlier.merge(items,on='item_id',how='left') ## add item name, item_Cat_id"
   ]
  },
  {
   "cell_type": "code",
   "execution_count": 8,
   "metadata": {},
   "outputs": [
    {
     "data": {
      "text/html": [
       "<div>\n",
       "<style>\n",
       "    .dataframe thead tr:only-child th {\n",
       "        text-align: right;\n",
       "    }\n",
       "\n",
       "    .dataframe thead th {\n",
       "        text-align: left;\n",
       "    }\n",
       "\n",
       "    .dataframe tbody tr th {\n",
       "        vertical-align: top;\n",
       "    }\n",
       "</style>\n",
       "<table border=\"1\" class=\"dataframe\">\n",
       "  <thead>\n",
       "    <tr style=\"text-align: right;\">\n",
       "      <th></th>\n",
       "      <th>ID</th>\n",
       "      <th>amount_price</th>\n",
       "      <th>date_block_num</th>\n",
       "      <th>item_cnt_day</th>\n",
       "      <th>item_id</th>\n",
       "      <th>item_price</th>\n",
       "      <th>shop_id</th>\n",
       "      <th>item_name</th>\n",
       "      <th>item_category_id</th>\n",
       "    </tr>\n",
       "  </thead>\n",
       "  <tbody>\n",
       "    <tr>\n",
       "      <th>2935847</th>\n",
       "      <td>0.0</td>\n",
       "      <td>NaN</td>\n",
       "      <td>34</td>\n",
       "      <td>NaN</td>\n",
       "      <td>5037</td>\n",
       "      <td>NaN</td>\n",
       "      <td>5</td>\n",
       "      <td>NHL 15 [PS3, русские субтитры]</td>\n",
       "      <td>19</td>\n",
       "    </tr>\n",
       "    <tr>\n",
       "      <th>2935848</th>\n",
       "      <td>1.0</td>\n",
       "      <td>NaN</td>\n",
       "      <td>34</td>\n",
       "      <td>NaN</td>\n",
       "      <td>5320</td>\n",
       "      <td>NaN</td>\n",
       "      <td>5</td>\n",
       "      <td>ONE DIRECTION  Made In The A.M.</td>\n",
       "      <td>55</td>\n",
       "    </tr>\n",
       "    <tr>\n",
       "      <th>2935849</th>\n",
       "      <td>2.0</td>\n",
       "      <td>NaN</td>\n",
       "      <td>34</td>\n",
       "      <td>NaN</td>\n",
       "      <td>5233</td>\n",
       "      <td>NaN</td>\n",
       "      <td>5</td>\n",
       "      <td>Need for Speed Rivals (Essentials) [PS3, русск...</td>\n",
       "      <td>19</td>\n",
       "    </tr>\n",
       "    <tr>\n",
       "      <th>2935850</th>\n",
       "      <td>3.0</td>\n",
       "      <td>NaN</td>\n",
       "      <td>34</td>\n",
       "      <td>NaN</td>\n",
       "      <td>5232</td>\n",
       "      <td>NaN</td>\n",
       "      <td>5</td>\n",
       "      <td>Need for Speed Rivals (Classics) [Xbox 360, ру...</td>\n",
       "      <td>23</td>\n",
       "    </tr>\n",
       "    <tr>\n",
       "      <th>2935851</th>\n",
       "      <td>4.0</td>\n",
       "      <td>NaN</td>\n",
       "      <td>34</td>\n",
       "      <td>NaN</td>\n",
       "      <td>5268</td>\n",
       "      <td>NaN</td>\n",
       "      <td>5</td>\n",
       "      <td>Need for Speed [PS4, русская версия]</td>\n",
       "      <td>20</td>\n",
       "    </tr>\n",
       "  </tbody>\n",
       "</table>\n",
       "</div>"
      ],
      "text/plain": [
       "          ID  amount_price  date_block_num  item_cnt_day  item_id  item_price  \\\n",
       "2935847  0.0           NaN              34           NaN     5037         NaN   \n",
       "2935848  1.0           NaN              34           NaN     5320         NaN   \n",
       "2935849  2.0           NaN              34           NaN     5233         NaN   \n",
       "2935850  3.0           NaN              34           NaN     5232         NaN   \n",
       "2935851  4.0           NaN              34           NaN     5268         NaN   \n",
       "\n",
       "         shop_id                                          item_name  \\\n",
       "2935847        5                     NHL 15 [PS3, русские субтитры]   \n",
       "2935848        5                    ONE DIRECTION  Made In The A.M.   \n",
       "2935849        5  Need for Speed Rivals (Essentials) [PS3, русск...   \n",
       "2935850        5  Need for Speed Rivals (Classics) [Xbox 360, ру...   \n",
       "2935851        5               Need for Speed [PS4, русская версия]   \n",
       "\n",
       "         item_category_id  \n",
       "2935847                19  \n",
       "2935848                55  \n",
       "2935849                19  \n",
       "2935850                23  \n",
       "2935851                20  "
      ]
     },
     "execution_count": 8,
     "metadata": {},
     "output_type": "execute_result"
    }
   ],
   "source": [
    "trans_wo_outlier[trans_wo_outlier.date_block_num==34].head()"
   ]
  },
  {
   "cell_type": "markdown",
   "metadata": {},
   "source": [
    "## Grid\n",
    "Created a dataframe of all `Date_block_num`, `Store` and `Item` combinations:"
   ]
  },
  {
   "cell_type": "code",
   "execution_count": 9,
   "metadata": {},
   "outputs": [
    {
     "data": {
      "text/plain": [
       "Index(['ID', 'amount_price', 'date_block_num', 'item_cnt_day', 'item_id',\n",
       "       'item_price', 'shop_id', 'item_name', 'item_category_id'],\n",
       "      dtype='object')"
      ]
     },
     "execution_count": 9,
     "metadata": {},
     "output_type": "execute_result"
    }
   ],
   "source": [
    "trans_wo_outlier.columns"
   ]
  },
  {
   "cell_type": "code",
   "execution_count": 10,
   "metadata": {},
   "outputs": [],
   "source": [
    "from itertools import product \n",
    "index_cols = ['shop_id','item_id','date_block_num']\n",
    "grid = []\n",
    "for block_num in trans_wo_outlier.date_block_num.unique():\n",
    "    cur_shops = trans_wo_outlier.loc[trans_wo_outlier.date_block_num == block_num, 'shop_id'].unique()\n",
    "    cur_items = trans_wo_outlier.loc[trans_wo_outlier.date_block_num == block_num, 'item_id'].unique()\n",
    "    grid.append(np.array(list(product(*[cur_shops, cur_items, [block_num]]))))\n",
    "\n",
    "\n",
    "grid = pd.DataFrame(np.vstack(grid), columns = index_cols, dtype=np.int32)"
   ]
  },
  {
   "cell_type": "code",
   "execution_count": 11,
   "metadata": {},
   "outputs": [
    {
     "data": {
      "text/html": [
       "<div>\n",
       "<style>\n",
       "    .dataframe thead tr:only-child th {\n",
       "        text-align: right;\n",
       "    }\n",
       "\n",
       "    .dataframe thead th {\n",
       "        text-align: left;\n",
       "    }\n",
       "\n",
       "    .dataframe tbody tr th {\n",
       "        vertical-align: top;\n",
       "    }\n",
       "</style>\n",
       "<table border=\"1\" class=\"dataframe\">\n",
       "  <thead>\n",
       "    <tr style=\"text-align: right;\">\n",
       "      <th></th>\n",
       "      <th>shop_id</th>\n",
       "      <th>item_id</th>\n",
       "      <th>date_block_num</th>\n",
       "    </tr>\n",
       "  </thead>\n",
       "  <tbody>\n",
       "    <tr>\n",
       "      <th>0</th>\n",
       "      <td>59</td>\n",
       "      <td>22154</td>\n",
       "      <td>0</td>\n",
       "    </tr>\n",
       "    <tr>\n",
       "      <th>1</th>\n",
       "      <td>59</td>\n",
       "      <td>2552</td>\n",
       "      <td>0</td>\n",
       "    </tr>\n",
       "    <tr>\n",
       "      <th>2</th>\n",
       "      <td>59</td>\n",
       "      <td>2554</td>\n",
       "      <td>0</td>\n",
       "    </tr>\n",
       "    <tr>\n",
       "      <th>3</th>\n",
       "      <td>59</td>\n",
       "      <td>2555</td>\n",
       "      <td>0</td>\n",
       "    </tr>\n",
       "    <tr>\n",
       "      <th>4</th>\n",
       "      <td>59</td>\n",
       "      <td>2564</td>\n",
       "      <td>0</td>\n",
       "    </tr>\n",
       "  </tbody>\n",
       "</table>\n",
       "</div>"
      ],
      "text/plain": [
       "   shop_id  item_id  date_block_num\n",
       "0       59    22154               0\n",
       "1       59     2552               0\n",
       "2       59     2554               0\n",
       "3       59     2555               0\n",
       "4       59     2564               0"
      ]
     },
     "execution_count": 11,
     "metadata": {},
     "output_type": "execute_result"
    }
   ],
   "source": [
    "grid.head()"
   ]
  },
  {
   "cell_type": "code",
   "execution_count": 12,
   "metadata": {},
   "outputs": [
    {
     "data": {
      "text/plain": [
       "(11128004, 3)"
      ]
     },
     "execution_count": 12,
     "metadata": {},
     "output_type": "execute_result"
    }
   ],
   "source": [
    "grid.shape"
   ]
  },
  {
   "cell_type": "markdown",
   "metadata": {},
   "source": [
    "## Create mean encoding"
   ]
  },
  {
   "cell_type": "code",
   "execution_count": 13,
   "metadata": {},
   "outputs": [
    {
     "data": {
      "text/html": [
       "<div>\n",
       "<style>\n",
       "    .dataframe thead tr:only-child th {\n",
       "        text-align: right;\n",
       "    }\n",
       "\n",
       "    .dataframe thead th {\n",
       "        text-align: left;\n",
       "    }\n",
       "\n",
       "    .dataframe tbody tr th {\n",
       "        vertical-align: top;\n",
       "    }\n",
       "</style>\n",
       "<table border=\"1\" class=\"dataframe\">\n",
       "  <thead>\n",
       "    <tr style=\"text-align: right;\">\n",
       "      <th></th>\n",
       "      <th>0</th>\n",
       "      <th>1</th>\n",
       "      <th>2</th>\n",
       "      <th>3</th>\n",
       "      <th>4</th>\n",
       "    </tr>\n",
       "  </thead>\n",
       "  <tbody>\n",
       "    <tr>\n",
       "      <th>ID</th>\n",
       "      <td>NaN</td>\n",
       "      <td>NaN</td>\n",
       "      <td>NaN</td>\n",
       "      <td>NaN</td>\n",
       "      <td>NaN</td>\n",
       "    </tr>\n",
       "    <tr>\n",
       "      <th>amount_price</th>\n",
       "      <td>999</td>\n",
       "      <td>899</td>\n",
       "      <td>-899</td>\n",
       "      <td>1709.05</td>\n",
       "      <td>1099</td>\n",
       "    </tr>\n",
       "    <tr>\n",
       "      <th>date_block_num</th>\n",
       "      <td>0</td>\n",
       "      <td>0</td>\n",
       "      <td>0</td>\n",
       "      <td>0</td>\n",
       "      <td>0</td>\n",
       "    </tr>\n",
       "    <tr>\n",
       "      <th>item_cnt_day</th>\n",
       "      <td>1</td>\n",
       "      <td>1</td>\n",
       "      <td>-1</td>\n",
       "      <td>1</td>\n",
       "      <td>1</td>\n",
       "    </tr>\n",
       "    <tr>\n",
       "      <th>item_id</th>\n",
       "      <td>22154</td>\n",
       "      <td>2552</td>\n",
       "      <td>2552</td>\n",
       "      <td>2554</td>\n",
       "      <td>2555</td>\n",
       "    </tr>\n",
       "    <tr>\n",
       "      <th>item_price</th>\n",
       "      <td>999</td>\n",
       "      <td>899</td>\n",
       "      <td>899</td>\n",
       "      <td>1709.05</td>\n",
       "      <td>1099</td>\n",
       "    </tr>\n",
       "    <tr>\n",
       "      <th>shop_id</th>\n",
       "      <td>59</td>\n",
       "      <td>25</td>\n",
       "      <td>25</td>\n",
       "      <td>25</td>\n",
       "      <td>25</td>\n",
       "    </tr>\n",
       "    <tr>\n",
       "      <th>item_name</th>\n",
       "      <td>ЯВЛЕНИЕ 2012 (BD)</td>\n",
       "      <td>DEEP PURPLE  The House Of Blue Light  LP</td>\n",
       "      <td>DEEP PURPLE  The House Of Blue Light  LP</td>\n",
       "      <td>DEEP PURPLE  Who Do You Think We Are  LP</td>\n",
       "      <td>DEEP PURPLE 30 Very Best Of 2CD (Фирм.)</td>\n",
       "    </tr>\n",
       "    <tr>\n",
       "      <th>item_category_id</th>\n",
       "      <td>37</td>\n",
       "      <td>58</td>\n",
       "      <td>58</td>\n",
       "      <td>58</td>\n",
       "      <td>56</td>\n",
       "    </tr>\n",
       "  </tbody>\n",
       "</table>\n",
       "</div>"
      ],
      "text/plain": [
       "                                  0                                         1  \\\n",
       "ID                              NaN                                       NaN   \n",
       "amount_price                    999                                       899   \n",
       "date_block_num                    0                                         0   \n",
       "item_cnt_day                      1                                         1   \n",
       "item_id                       22154                                      2552   \n",
       "item_price                      999                                       899   \n",
       "shop_id                          59                                        25   \n",
       "item_name         ЯВЛЕНИЕ 2012 (BD)  DEEP PURPLE  The House Of Blue Light  LP   \n",
       "item_category_id                 37                                        58   \n",
       "\n",
       "                                                         2  \\\n",
       "ID                                                     NaN   \n",
       "amount_price                                          -899   \n",
       "date_block_num                                           0   \n",
       "item_cnt_day                                            -1   \n",
       "item_id                                               2552   \n",
       "item_price                                             899   \n",
       "shop_id                                                 25   \n",
       "item_name         DEEP PURPLE  The House Of Blue Light  LP   \n",
       "item_category_id                                        58   \n",
       "\n",
       "                                                         3  \\\n",
       "ID                                                     NaN   \n",
       "amount_price                                       1709.05   \n",
       "date_block_num                                           0   \n",
       "item_cnt_day                                             1   \n",
       "item_id                                               2554   \n",
       "item_price                                         1709.05   \n",
       "shop_id                                                 25   \n",
       "item_name         DEEP PURPLE  Who Do You Think We Are  LP   \n",
       "item_category_id                                        58   \n",
       "\n",
       "                                                        4  \n",
       "ID                                                    NaN  \n",
       "amount_price                                         1099  \n",
       "date_block_num                                          0  \n",
       "item_cnt_day                                            1  \n",
       "item_id                                              2555  \n",
       "item_price                                           1099  \n",
       "shop_id                                                25  \n",
       "item_name         DEEP PURPLE 30 Very Best Of 2CD (Фирм.)  \n",
       "item_category_id                                       56  "
      ]
     },
     "execution_count": 13,
     "metadata": {},
     "output_type": "execute_result"
    }
   ],
   "source": [
    "trans_wo_outlier.head().T"
   ]
  },
  {
   "cell_type": "markdown",
   "metadata": {},
   "source": [
    "For a shopid,itemid avg `item_price`, and `item_cnt` (sold) per month, "
   ]
  },
  {
   "cell_type": "code",
   "execution_count": 14,
   "metadata": {},
   "outputs": [],
   "source": [
    "trans_m = trans_wo_outlier.groupby(['date_block_num','shop_id','item_id']).agg(\n",
    "    {'item_cnt_day':sum, 'item_price':np.mean}\n",
    ").reset_index()\n",
    "trans_m.rename(columns={'item_cnt_day':'item_cnt_month'},inplace=True)\n",
    "\n",
    "trans_m = pd.merge(grid,trans_m,on=['date_block_num','shop_id','item_id'],how='left').fillna(0) \n"
   ]
  },
  {
   "cell_type": "code",
   "execution_count": 15,
   "metadata": {},
   "outputs": [],
   "source": [
    "## join with items category id/item_name, \n",
    "trans_m = trans_m.merge(items,on='item_id',how='left')"
   ]
  },
  {
   "cell_type": "code",
   "execution_count": 16,
   "metadata": {},
   "outputs": [
    {
     "data": {
      "text/html": [
       "<div>\n",
       "<style>\n",
       "    .dataframe thead tr:only-child th {\n",
       "        text-align: right;\n",
       "    }\n",
       "\n",
       "    .dataframe thead th {\n",
       "        text-align: left;\n",
       "    }\n",
       "\n",
       "    .dataframe tbody tr th {\n",
       "        vertical-align: top;\n",
       "    }\n",
       "</style>\n",
       "<table border=\"1\" class=\"dataframe\">\n",
       "  <thead>\n",
       "    <tr style=\"text-align: right;\">\n",
       "      <th></th>\n",
       "      <th>shop_id</th>\n",
       "      <th>item_id</th>\n",
       "      <th>date_block_num</th>\n",
       "      <th>item_cnt_month</th>\n",
       "      <th>item_price</th>\n",
       "      <th>item_name</th>\n",
       "      <th>item_category_id</th>\n",
       "    </tr>\n",
       "  </thead>\n",
       "  <tbody>\n",
       "    <tr>\n",
       "      <th>10913804</th>\n",
       "      <td>5</td>\n",
       "      <td>5037</td>\n",
       "      <td>34</td>\n",
       "      <td>0.0</td>\n",
       "      <td>0.0</td>\n",
       "      <td>NHL 15 [PS3, русские субтитры]</td>\n",
       "      <td>19</td>\n",
       "    </tr>\n",
       "    <tr>\n",
       "      <th>10913805</th>\n",
       "      <td>5</td>\n",
       "      <td>5320</td>\n",
       "      <td>34</td>\n",
       "      <td>0.0</td>\n",
       "      <td>0.0</td>\n",
       "      <td>ONE DIRECTION  Made In The A.M.</td>\n",
       "      <td>55</td>\n",
       "    </tr>\n",
       "    <tr>\n",
       "      <th>10913806</th>\n",
       "      <td>5</td>\n",
       "      <td>5233</td>\n",
       "      <td>34</td>\n",
       "      <td>0.0</td>\n",
       "      <td>0.0</td>\n",
       "      <td>Need for Speed Rivals (Essentials) [PS3, русск...</td>\n",
       "      <td>19</td>\n",
       "    </tr>\n",
       "    <tr>\n",
       "      <th>10913807</th>\n",
       "      <td>5</td>\n",
       "      <td>5232</td>\n",
       "      <td>34</td>\n",
       "      <td>0.0</td>\n",
       "      <td>0.0</td>\n",
       "      <td>Need for Speed Rivals (Classics) [Xbox 360, ру...</td>\n",
       "      <td>23</td>\n",
       "    </tr>\n",
       "    <tr>\n",
       "      <th>10913808</th>\n",
       "      <td>5</td>\n",
       "      <td>5268</td>\n",
       "      <td>34</td>\n",
       "      <td>0.0</td>\n",
       "      <td>0.0</td>\n",
       "      <td>Need for Speed [PS4, русская версия]</td>\n",
       "      <td>20</td>\n",
       "    </tr>\n",
       "  </tbody>\n",
       "</table>\n",
       "</div>"
      ],
      "text/plain": [
       "          shop_id  item_id  date_block_num  item_cnt_month  item_price  \\\n",
       "10913804        5     5037              34             0.0         0.0   \n",
       "10913805        5     5320              34             0.0         0.0   \n",
       "10913806        5     5233              34             0.0         0.0   \n",
       "10913807        5     5232              34             0.0         0.0   \n",
       "10913808        5     5268              34             0.0         0.0   \n",
       "\n",
       "                                                  item_name  item_category_id  \n",
       "10913804                     NHL 15 [PS3, русские субтитры]                19  \n",
       "10913805                    ONE DIRECTION  Made In The A.M.                55  \n",
       "10913806  Need for Speed Rivals (Essentials) [PS3, русск...                19  \n",
       "10913807  Need for Speed Rivals (Classics) [Xbox 360, ру...                23  \n",
       "10913808               Need for Speed [PS4, русская версия]                20  "
      ]
     },
     "execution_count": 16,
     "metadata": {},
     "output_type": "execute_result"
    }
   ],
   "source": [
    "trans_m[trans_m.date_block_num==34].head()"
   ]
  },
  {
   "cell_type": "code",
   "execution_count": 17,
   "metadata": {},
   "outputs": [
    {
     "data": {
      "text/html": [
       "<div>\n",
       "<style>\n",
       "    .dataframe thead tr:only-child th {\n",
       "        text-align: right;\n",
       "    }\n",
       "\n",
       "    .dataframe thead th {\n",
       "        text-align: left;\n",
       "    }\n",
       "\n",
       "    .dataframe tbody tr th {\n",
       "        vertical-align: top;\n",
       "    }\n",
       "</style>\n",
       "<table border=\"1\" class=\"dataframe\">\n",
       "  <thead>\n",
       "    <tr style=\"text-align: right;\">\n",
       "      <th></th>\n",
       "      <th>item_price</th>\n",
       "      <th>item_id</th>\n",
       "      <th>date_block_num</th>\n",
       "    </tr>\n",
       "  </thead>\n",
       "  <tbody>\n",
       "    <tr>\n",
       "      <th>0</th>\n",
       "      <td>58.0</td>\n",
       "      <td>0</td>\n",
       "      <td>20</td>\n",
       "    </tr>\n",
       "    <tr>\n",
       "      <th>1</th>\n",
       "      <td>4490.0</td>\n",
       "      <td>1</td>\n",
       "      <td>15</td>\n",
       "    </tr>\n",
       "    <tr>\n",
       "      <th>2</th>\n",
       "      <td>4490.0</td>\n",
       "      <td>1</td>\n",
       "      <td>18</td>\n",
       "    </tr>\n",
       "    <tr>\n",
       "      <th>3</th>\n",
       "      <td>4490.0</td>\n",
       "      <td>1</td>\n",
       "      <td>19</td>\n",
       "    </tr>\n",
       "    <tr>\n",
       "      <th>4</th>\n",
       "      <td>4490.0</td>\n",
       "      <td>1</td>\n",
       "      <td>20</td>\n",
       "    </tr>\n",
       "  </tbody>\n",
       "</table>\n",
       "</div>"
      ],
      "text/plain": [
       "   item_price  item_id  date_block_num\n",
       "0        58.0        0              20\n",
       "1      4490.0        1              15\n",
       "2      4490.0        1              18\n",
       "3      4490.0        1              19\n",
       "4      4490.0        1              20"
      ]
     },
     "execution_count": 17,
     "metadata": {},
     "output_type": "execute_result"
    }
   ],
   "source": [
    "trans_wo_outlier.groupby(['item_id','date_block_num']).agg(np.mean).reset_index()[['item_price', 'item_id','date_block_num']].head()"
   ]
  },
  {
   "cell_type": "markdown",
   "metadata": {},
   "source": [
    "For a type_id(`item_id`) we encode aggtype(`avg`) of column_id(`item_price`) per month\n",
    "\n",
    "We have 3 type_id: \n",
    " - `item_id`,`shop_id`,`item_category_id`\n",
    " \n",
    "3 ways of combine column_id:\n",
    " - `mean` of `item_price`, `sum` of `item_cnt`, `mean` of `item_cnt`"
   ]
  },
  {
   "cell_type": "code",
   "execution_count": 18,
   "metadata": {},
   "outputs": [
    {
     "name": "stdout",
     "output_type": "stream",
     "text": [
      "item_id_avg_item_price\tmerge complete...\n",
      "item_id_sum_item_cnt_day\tmerge complete...\n",
      "item_id_avg_item_cnt_day\tmerge complete...\n",
      "shop_id_avg_item_price\tmerge complete...\n",
      "shop_id_sum_item_cnt_day\tmerge complete...\n",
      "shop_id_avg_item_cnt_day\tmerge complete...\n",
      "item_category_id_avg_item_price\tmerge complete...\n",
      "item_category_id_sum_item_cnt_day\tmerge complete...\n",
      "item_category_id_avg_item_cnt_day\tmerge complete...\n"
     ]
    }
   ],
   "source": [
    "for type_id in ['item_id','shop_id','item_category_id']:\n",
    "    for column_id, aggregator, aggtype in [('item_price',np.mean,'avg'),('item_cnt_day',np.sum,'sum'),('item_cnt_day',np.mean,'avg')]:\n",
    "        mean_df = trans_wo_outlier.groupby([type_id,'date_block_num']).aggregate(aggregator).reset_index()[[column_id,type_id,'date_block_num']]\n",
    "        mean_df.columns = [type_id+'_'+aggtype+'_'+column_id, type_id, 'date_block_num']\n",
    "        print('{}_{}_{}'.format(type_id, aggtype, column_id), end='\\t')\n",
    "        trans_m = pd.merge(trans_m,mean_df,on=['date_block_num',type_id],how='left')\n",
    "        print('merge complete...')"
   ]
  },
  {
   "cell_type": "markdown",
   "metadata": {},
   "source": [
    "## Lag variables"
   ]
  },
  {
   "cell_type": "code",
   "execution_count": 19,
   "metadata": {},
   "outputs": [
    {
     "data": {
      "text/plain": [
       "Index(['item_id_avg_item_price', 'item_id_sum_item_cnt_day',\n",
       "       'item_id_avg_item_cnt_day', 'shop_id_avg_item_price',\n",
       "       'shop_id_sum_item_cnt_day', 'shop_id_avg_item_cnt_day',\n",
       "       'item_category_id_avg_item_price', 'item_category_id_sum_item_cnt_day',\n",
       "       'item_category_id_avg_item_cnt_day'],\n",
       "      dtype='object')"
      ]
     },
     "execution_count": 19,
     "metadata": {},
     "output_type": "execute_result"
    }
   ],
   "source": [
    "trans_m.columns[7:]"
   ]
  },
  {
   "cell_type": "code",
   "execution_count": 20,
   "metadata": {},
   "outputs": [
    {
     "name": "stdout",
     "output_type": "stream",
     "text": [
      "lag:1 processing...\n",
      "lag:2 processing...\n",
      "lag:3 processing...\n",
      "lag:5 processing...\n",
      "lag:12 processing...\n"
     ]
    }
   ],
   "source": [
    "lag_variables  = list(trans_m.columns[7:])+['item_cnt_month']\n",
    "lag_df = [trans_m] # \n",
    "lags = [1,2,3,5,12]\n",
    "for lag in lags:\n",
    "    print('lag:{} processing...'.format(lag))\n",
    "    trans_new_df = trans_m.copy()\n",
    "    trans_new_df.date_block_num += lag\n",
    "    trans_new_df = trans_new_df[['date_block_num','shop_id','item_id']+lag_variables]\n",
    "    trans_new_df.columns = ['date_block_num','shop_id','item_id']+ [lag_feat+'_lag_'+str(lag) for lag_feat in lag_variables]\n",
    "    lag_df.append(trans_new_df)\n",
    "    del trans_new_df \n",
    "    gc.collect()\n",
    "#     trans_mean = pd.merge(trans_m, trans_new_df,on=['date_block_num','shop_id','item_id'] ,how='left') ###"
   ]
  },
  {
   "cell_type": "code",
   "execution_count": 21,
   "metadata": {},
   "outputs": [
    {
     "name": "stdout",
     "output_type": "stream",
     "text": [
      "idx:0\n",
      "idx:1\n",
      "idx:2\n",
      "idx:3\n",
      "idx:4\n",
      "idx:5\n"
     ]
    }
   ],
   "source": [
    "### stack it(less memory useage with gc)\n",
    "sizeof_lagdf = len(lag_df)\n",
    "for idx in range(sizeof_lagdf):\n",
    "    if idx == 0:\n",
    "        trans_final = lag_df.pop(0)\n",
    "    else:\n",
    "        lagdf_ele = lag_df.pop(0)\n",
    "        trans_final = pd.merge(trans_final,lagdf_ele, on=['date_block_num','shop_id','item_id'],how='left',copy=False)\n",
    "    print('idx:{}'.format(idx))"
   ]
  },
  {
   "cell_type": "code",
   "execution_count": 22,
   "metadata": {},
   "outputs": [
    {
     "data": {
      "text/plain": [
       "(11128004, 66)"
      ]
     },
     "execution_count": 22,
     "metadata": {},
     "output_type": "execute_result"
    }
   ],
   "source": [
    "trans_final.shape"
   ]
  },
  {
   "cell_type": "code",
   "execution_count": 23,
   "metadata": {},
   "outputs": [
    {
     "data": {
      "text/plain": [
       "1064"
      ]
     },
     "execution_count": 23,
     "metadata": {},
     "output_type": "execute_result"
    }
   ],
   "source": [
    "gc.collect()"
   ]
  },
  {
   "cell_type": "markdown",
   "metadata": {},
   "source": [
    "## Extract text features"
   ]
  },
  {
   "cell_type": "code",
   "execution_count": 47,
   "metadata": {},
   "outputs": [
    {
     "data": {
      "text/plain": [
       "42"
      ]
     },
     "execution_count": 47,
     "metadata": {},
     "output_type": "execute_result"
    }
   ],
   "source": [
    "X_text_feats = trans_final[['date_block_num','shop_id','item_id',]].merge(shops,how='left',on='shop_id')\n",
    "X_text_feats = X_text_feats.merge(items,how='left',on='item_id')\n",
    "X_text_feats = X_text_feats.merge(item_categories,how='left',on='item_category_id')\n",
    "gc.collect()"
   ]
  },
  {
   "cell_type": "code",
   "execution_count": 48,
   "metadata": {},
   "outputs": [],
   "source": [
    "col_for_text = [\n",
    "    'date_block_num',\n",
    "    'item_name',\n",
    "    'item_category_name',\n",
    "    'shop_name'\n",
    "]"
   ]
  },
  {
   "cell_type": "code",
   "execution_count": 49,
   "metadata": {},
   "outputs": [
    {
     "data": {
      "text/html": [
       "<div>\n",
       "<style>\n",
       "    .dataframe thead tr:only-child th {\n",
       "        text-align: right;\n",
       "    }\n",
       "\n",
       "    .dataframe thead th {\n",
       "        text-align: left;\n",
       "    }\n",
       "\n",
       "    .dataframe tbody tr th {\n",
       "        vertical-align: top;\n",
       "    }\n",
       "</style>\n",
       "<table border=\"1\" class=\"dataframe\">\n",
       "  <thead>\n",
       "    <tr style=\"text-align: right;\">\n",
       "      <th></th>\n",
       "      <th>date_block_num</th>\n",
       "      <th>item_name</th>\n",
       "      <th>item_category_name</th>\n",
       "      <th>shop_name</th>\n",
       "    </tr>\n",
       "  </thead>\n",
       "  <tbody>\n",
       "    <tr>\n",
       "      <th>0</th>\n",
       "      <td>0</td>\n",
       "      <td>ЯВЛЕНИЕ 2012 (BD)</td>\n",
       "      <td>Кино - Blu-Ray</td>\n",
       "      <td>Ярославль ТЦ \"Альтаир\"</td>\n",
       "    </tr>\n",
       "    <tr>\n",
       "      <th>1</th>\n",
       "      <td>0</td>\n",
       "      <td>DEEP PURPLE  The House Of Blue Light  LP</td>\n",
       "      <td>Музыка - Винил</td>\n",
       "      <td>Ярославль ТЦ \"Альтаир\"</td>\n",
       "    </tr>\n",
       "    <tr>\n",
       "      <th>2</th>\n",
       "      <td>0</td>\n",
       "      <td>DEEP PURPLE  Who Do You Think We Are  LP</td>\n",
       "      <td>Музыка - Винил</td>\n",
       "      <td>Ярославль ТЦ \"Альтаир\"</td>\n",
       "    </tr>\n",
       "    <tr>\n",
       "      <th>3</th>\n",
       "      <td>0</td>\n",
       "      <td>DEEP PURPLE 30 Very Best Of 2CD (Фирм.)</td>\n",
       "      <td>Музыка - CD фирменного производства</td>\n",
       "      <td>Ярославль ТЦ \"Альтаир\"</td>\n",
       "    </tr>\n",
       "    <tr>\n",
       "      <th>4</th>\n",
       "      <td>0</td>\n",
       "      <td>DEEP PURPLE Perihelion: Live In Concert DVD (К...</td>\n",
       "      <td>Музыка - Музыкальное видео</td>\n",
       "      <td>Ярославль ТЦ \"Альтаир\"</td>\n",
       "    </tr>\n",
       "  </tbody>\n",
       "</table>\n",
       "</div>"
      ],
      "text/plain": [
       "   date_block_num                                          item_name  \\\n",
       "0               0                                  ЯВЛЕНИЕ 2012 (BD)   \n",
       "1               0           DEEP PURPLE  The House Of Blue Light  LP   \n",
       "2               0           DEEP PURPLE  Who Do You Think We Are  LP   \n",
       "3               0            DEEP PURPLE 30 Very Best Of 2CD (Фирм.)   \n",
       "4               0  DEEP PURPLE Perihelion: Live In Concert DVD (К...   \n",
       "\n",
       "                    item_category_name               shop_name  \n",
       "0                       Кино - Blu-Ray  Ярославль ТЦ \"Альтаир\"  \n",
       "1                       Музыка - Винил  Ярославль ТЦ \"Альтаир\"  \n",
       "2                       Музыка - Винил  Ярославль ТЦ \"Альтаир\"  \n",
       "3  Музыка - CD фирменного производства  Ярославль ТЦ \"Альтаир\"  \n",
       "4           Музыка - Музыкальное видео  Ярославль ТЦ \"Альтаир\"  "
      ]
     },
     "execution_count": 49,
     "metadata": {},
     "output_type": "execute_result"
    }
   ],
   "source": [
    "X_text_feats[col_for_text].head()"
   ]
  },
  {
   "cell_type": "markdown",
   "metadata": {},
   "source": [
    "# Storage \n",
    "- text"
   ]
  },
  {
   "cell_type": "code",
   "execution_count": 50,
   "metadata": {},
   "outputs": [],
   "source": [
    "test_mask = X_text_feats['date_block_num']==34\n",
    "cv_mask = X_text_feats['date_block_num']==33\n",
    "train_mask = X_text_feats['date_block_num'] < 33"
   ]
  },
  {
   "cell_type": "code",
   "execution_count": null,
   "metadata": {},
   "outputs": [],
   "source": [
    "## save it to h5 \n",
    "text_store = pd.HDFStore('../data/feat/text_feats.h5')\n",
    "text_store['X_text_feats_test'] = X_text_feats[col_for_text][test_mask]\n",
    "text_store['X_text_feats_train'] = X_text_feats[col_for_text][train_mask]\n",
    "text_store['X_text_feats_cv'] = X_text_feats[col_for_text][cv_mask]\n",
    "text_store.close()"
   ]
  },
  {
   "cell_type": "markdown",
   "metadata": {},
   "source": [
    "- for numerical features"
   ]
  },
  {
   "cell_type": "code",
   "execution_count": 24,
   "metadata": {},
   "outputs": [],
   "source": [
    "def downcast_dtypes(df):\n",
    "    '''\n",
    "        Changes column types in the dataframe: \n",
    "                \n",
    "                `float64` type to `float32`\n",
    "                `int64`   type to `int32`\n",
    "    '''\n",
    "    \n",
    "    # Select columns to downcast\n",
    "    float_cols = [c for c in df if df[c].dtype == \"float64\"]\n",
    "    int_cols =   [c for c in df if df[c].dtype == \"int64\"]\n",
    "    \n",
    "    # Downcast\n",
    "    df[float_cols] = df[float_cols].astype(np.float32)\n",
    "    df[int_cols]   = df[int_cols].astype(np.int32)\n",
    "    \n",
    "    return df"
   ]
  },
  {
   "cell_type": "code",
   "execution_count": 25,
   "metadata": {},
   "outputs": [],
   "source": [
    "col_to_drop  = [\n",
    "    'item_cnt_month','item_price','item_name',\n",
    "    'item_id_avg_item_price','item_id_sum_item_cnt_day','item_id_avg_item_cnt_day',\n",
    "    'shop_id_avg_item_price','shop_id_sum_item_cnt_day','shop_id_avg_item_cnt_day', \n",
    "    'item_category_id_avg_item_price','item_category_id_sum_item_cnt_day','item_category_id_avg_item_cnt_day'\n",
    "]\n",
    "\n",
    "trans_df = trans_final.drop(col_to_drop,axis=1) ### downcast to float32, int32\n",
    "trans_df = downcast_dtypes(trans_df) "
   ]
  },
  {
   "cell_type": "code",
   "execution_count": 27,
   "metadata": {},
   "outputs": [],
   "source": [
    "X_test = trans_df[trans_df['date_block_num']==34]\n",
    "X_train = trans_df[trans_df['date_block_num']<33]\n",
    "X_cv = trans_df[trans_df['date_block_num']==33]\n",
    "\n",
    "y_train = trans_final[trans_final['date_block_num']<33].item_cnt_month.astype(np.int32)\n",
    "y_cv = trans_final[trans_final['date_block_num']==33].item_cnt_month.astype(np.int32)"
   ]
  },
  {
   "cell_type": "code",
   "execution_count": 29,
   "metadata": {},
   "outputs": [
    {
     "data": {
      "text/plain": [
       "shop_id                                       int32\n",
       "item_id                                       int32\n",
       "date_block_num                                int32\n",
       "item_category_id                              int32\n",
       "item_id_avg_item_price_lag_1                float32\n",
       "item_id_sum_item_cnt_day_lag_1              float32\n",
       "item_id_avg_item_cnt_day_lag_1              float32\n",
       "shop_id_avg_item_price_lag_1                float32\n",
       "shop_id_sum_item_cnt_day_lag_1              float32\n",
       "shop_id_avg_item_cnt_day_lag_1              float32\n",
       "item_category_id_avg_item_price_lag_1       float32\n",
       "item_category_id_sum_item_cnt_day_lag_1     float32\n",
       "item_category_id_avg_item_cnt_day_lag_1     float32\n",
       "item_cnt_month_lag_1                        float32\n",
       "item_id_avg_item_price_lag_2                float32\n",
       "item_id_sum_item_cnt_day_lag_2              float32\n",
       "item_id_avg_item_cnt_day_lag_2              float32\n",
       "shop_id_avg_item_price_lag_2                float32\n",
       "shop_id_sum_item_cnt_day_lag_2              float32\n",
       "shop_id_avg_item_cnt_day_lag_2              float32\n",
       "item_category_id_avg_item_price_lag_2       float32\n",
       "item_category_id_sum_item_cnt_day_lag_2     float32\n",
       "item_category_id_avg_item_cnt_day_lag_2     float32\n",
       "item_cnt_month_lag_2                        float32\n",
       "item_id_avg_item_price_lag_3                float32\n",
       "item_id_sum_item_cnt_day_lag_3              float32\n",
       "item_id_avg_item_cnt_day_lag_3              float32\n",
       "shop_id_avg_item_price_lag_3                float32\n",
       "shop_id_sum_item_cnt_day_lag_3              float32\n",
       "shop_id_avg_item_cnt_day_lag_3              float32\n",
       "item_category_id_avg_item_price_lag_3       float32\n",
       "item_category_id_sum_item_cnt_day_lag_3     float32\n",
       "item_category_id_avg_item_cnt_day_lag_3     float32\n",
       "item_cnt_month_lag_3                        float32\n",
       "item_id_avg_item_price_lag_5                float32\n",
       "item_id_sum_item_cnt_day_lag_5              float32\n",
       "item_id_avg_item_cnt_day_lag_5              float32\n",
       "shop_id_avg_item_price_lag_5                float32\n",
       "shop_id_sum_item_cnt_day_lag_5              float32\n",
       "shop_id_avg_item_cnt_day_lag_5              float32\n",
       "item_category_id_avg_item_price_lag_5       float32\n",
       "item_category_id_sum_item_cnt_day_lag_5     float32\n",
       "item_category_id_avg_item_cnt_day_lag_5     float32\n",
       "item_cnt_month_lag_5                        float32\n",
       "item_id_avg_item_price_lag_12               float32\n",
       "item_id_sum_item_cnt_day_lag_12             float32\n",
       "item_id_avg_item_cnt_day_lag_12             float32\n",
       "shop_id_avg_item_price_lag_12               float32\n",
       "shop_id_sum_item_cnt_day_lag_12             float32\n",
       "shop_id_avg_item_cnt_day_lag_12             float32\n",
       "item_category_id_avg_item_price_lag_12      float32\n",
       "item_category_id_sum_item_cnt_day_lag_12    float32\n",
       "item_category_id_avg_item_cnt_day_lag_12    float32\n",
       "item_cnt_month_lag_12                       float32\n",
       "dtype: object"
      ]
     },
     "execution_count": 29,
     "metadata": {},
     "output_type": "execute_result"
    }
   ],
   "source": [
    "X_test.dtypes"
   ]
  },
  {
   "cell_type": "code",
   "execution_count": 30,
   "metadata": {},
   "outputs": [],
   "source": [
    "store = pd.HDFStore('../data/feat/data.h5')\n",
    "store['X_test'] = X_test\n",
    "store['X_train'] = X_train\n",
    "store['X_cv'] = X_cv\n",
    "store['y_train'] = y_train\n",
    "store['y_cv'] = y_cv\n",
    "store.close()"
   ]
  }
 ],
 "metadata": {
  "anaconda-cloud": {},
  "kernelspec": {
   "display_name": "Python [conda env:py36]",
   "language": "python",
   "name": "conda-env-py36-py"
  },
  "language_info": {
   "codemirror_mode": {
    "name": "ipython",
    "version": 3
   },
   "file_extension": ".py",
   "mimetype": "text/x-python",
   "name": "python",
   "nbconvert_exporter": "python",
   "pygments_lexer": "ipython3",
   "version": "3.6.3"
  }
 },
 "nbformat": 4,
 "nbformat_minor": 1
}
