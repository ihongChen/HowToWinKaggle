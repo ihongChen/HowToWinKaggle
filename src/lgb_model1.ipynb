{
 "cells": [
  {
   "cell_type": "markdown",
   "metadata": {},
   "source": [
    "# Lightgbm model"
   ]
  },
  {
   "cell_type": "code",
   "execution_count": 1,
   "metadata": {},
   "outputs": [],
   "source": [
    "import pandas as pd \n",
    "import lightgbm as lgb\n",
    "from sklearn.metrics import mean_squared_error\n",
    "import gc"
   ]
  },
  {
   "cell_type": "code",
   "execution_count": 2,
   "metadata": {},
   "outputs": [
    {
     "name": "stdout",
     "output_type": "stream",
     "text": [
      "['/X_cv', '/X_test', '/X_train', '/y_cv', '/y_train']\n"
     ]
    }
   ],
   "source": [
    "with pd.HDFStore('../data/feat/data.h5') as store:\n",
    "    print(store.keys())\n",
    "    X_train = store['X_train']\n",
    "    X_cv = store['X_cv']\n",
    "    y_train = store['y_train']\n",
    "    y_cv = store['y_cv']\n",
    "    X_test = store['X_test']"
   ]
  },
  {
   "cell_type": "markdown",
   "metadata": {},
   "source": [
    "# clip \n",
    "* `to [0,20]`\n",
    "* `to [0,40]`"
   ]
  },
  {
   "cell_type": "code",
   "execution_count": 3,
   "metadata": {},
   "outputs": [],
   "source": [
    "y_train = y_train.clip(0,20)\n",
    "y_cv = y_cv.clip(0,20)\n"
   ]
  },
  {
   "cell_type": "markdown",
   "metadata": {},
   "source": [
    "# training"
   ]
  },
  {
   "cell_type": "code",
   "execution_count": 4,
   "metadata": {},
   "outputs": [],
   "source": [
    "feature_name = list(X_train.columns)\n",
    "# specify your configurations as a dict\n",
    "params = {\n",
    "    'task': 'train',\n",
    "    'boosting_type': 'gbdt',\n",
    "    'objective': 'regression',\n",
    "    'metric': {'l2', 'rmse'},\n",
    "    'num_leaves': 31,\n",
    "    'learning_rate': 0.05,\n",
    "    'feature_fraction': 0.9,\n",
    "    'bagging_fraction': 0.8,\n",
    "    'bagging_freq': 5,\n",
    "    'verbose': 0,\n",
    "    'feature_name' : feature_name\n",
    "}"
   ]
  },
  {
   "cell_type": "code",
   "execution_count": 6,
   "metadata": {},
   "outputs": [
    {
     "name": "stderr",
     "output_type": "stream",
     "text": [
      "C:\\Program Files\\Anaconda3\\envs\\py36\\lib\\site-packages\\lightgbm\\basic.py:657: UserWarning: feature_name keyword has been found in `params` and will be ignored. Please use feature_name argument of the Dataset constructor to pass this parameter.\n",
      "  'Please use {0} argument of the Dataset constructor to pass this parameter.'.format(key))\n"
     ]
    },
    {
     "name": "stdout",
     "output_type": "stream",
     "text": [
      "[1]\tvalid_0's rmse: 1.11882\n",
      "[2]\tvalid_0's rmse: 1.1019\n",
      "[3]\tvalid_0's rmse: 1.08643\n",
      "[4]\tvalid_0's rmse: 1.07392\n",
      "[5]\tvalid_0's rmse: 1.06105\n",
      "[6]\tvalid_0's rmse: 1.05029\n",
      "[7]\tvalid_0's rmse: 1.03988\n",
      "[8]\tvalid_0's rmse: 1.03043\n",
      "[9]\tvalid_0's rmse: 1.02194\n",
      "[10]\tvalid_0's rmse: 1.01485\n",
      "[11]\tvalid_0's rmse: 1.00792\n",
      "[12]\tvalid_0's rmse: 1.00209\n",
      "[13]\tvalid_0's rmse: 0.997167\n",
      "[14]\tvalid_0's rmse: 0.992442\n",
      "[15]\tvalid_0's rmse: 0.98783\n",
      "[16]\tvalid_0's rmse: 0.984423\n",
      "[17]\tvalid_0's rmse: 0.980853\n",
      "[18]\tvalid_0's rmse: 0.977162\n",
      "[19]\tvalid_0's rmse: 0.974068\n",
      "[20]\tvalid_0's rmse: 0.971363\n",
      "[21]\tvalid_0's rmse: 0.968459\n",
      "[22]\tvalid_0's rmse: 0.966184\n",
      "[23]\tvalid_0's rmse: 0.964173\n",
      "[24]\tvalid_0's rmse: 0.96256\n",
      "[25]\tvalid_0's rmse: 0.960972\n",
      "[26]\tvalid_0's rmse: 0.959446\n",
      "[27]\tvalid_0's rmse: 0.957661\n",
      "[28]\tvalid_0's rmse: 0.956553\n",
      "[29]\tvalid_0's rmse: 0.955508\n",
      "[30]\tvalid_0's rmse: 0.954409\n",
      "[31]\tvalid_0's rmse: 0.953578\n",
      "[32]\tvalid_0's rmse: 0.952902\n",
      "[33]\tvalid_0's rmse: 0.952213\n",
      "[34]\tvalid_0's rmse: 0.951412\n",
      "[35]\tvalid_0's rmse: 0.950425\n",
      "[36]\tvalid_0's rmse: 0.949675\n",
      "[37]\tvalid_0's rmse: 0.949145\n",
      "[38]\tvalid_0's rmse: 0.948551\n",
      "[39]\tvalid_0's rmse: 0.948145\n",
      "[40]\tvalid_0's rmse: 0.947604\n",
      "[41]\tvalid_0's rmse: 0.947191\n",
      "[42]\tvalid_0's rmse: 0.946995\n",
      "[43]\tvalid_0's rmse: 0.946618\n",
      "[44]\tvalid_0's rmse: 0.946423\n",
      "[45]\tvalid_0's rmse: 0.946214\n",
      "[46]\tvalid_0's rmse: 0.945611\n",
      "[47]\tvalid_0's rmse: 0.945071\n",
      "[48]\tvalid_0's rmse: 0.944803\n",
      "[49]\tvalid_0's rmse: 0.944571\n",
      "[50]\tvalid_0's rmse: 0.944256\n",
      "[51]\tvalid_0's rmse: 0.943979\n",
      "[52]\tvalid_0's rmse: 0.943639\n",
      "[53]\tvalid_0's rmse: 0.943523\n",
      "[54]\tvalid_0's rmse: 0.94302\n",
      "[55]\tvalid_0's rmse: 0.942724\n",
      "[56]\tvalid_0's rmse: 0.942421\n",
      "[57]\tvalid_0's rmse: 0.942208\n",
      "[58]\tvalid_0's rmse: 0.941499\n",
      "[59]\tvalid_0's rmse: 0.94141\n",
      "[60]\tvalid_0's rmse: 0.941092\n",
      "[61]\tvalid_0's rmse: 0.940741\n",
      "[62]\tvalid_0's rmse: 0.940397\n",
      "[63]\tvalid_0's rmse: 0.940173\n",
      "[64]\tvalid_0's rmse: 0.939706\n",
      "[65]\tvalid_0's rmse: 0.939577\n",
      "[66]\tvalid_0's rmse: 0.939486\n",
      "[67]\tvalid_0's rmse: 0.939344\n",
      "[68]\tvalid_0's rmse: 0.93914\n",
      "[69]\tvalid_0's rmse: 0.939012\n",
      "[70]\tvalid_0's rmse: 0.938892\n",
      "[71]\tvalid_0's rmse: 0.938694\n",
      "[72]\tvalid_0's rmse: 0.938528\n",
      "[73]\tvalid_0's rmse: 0.938347\n",
      "[74]\tvalid_0's rmse: 0.937837\n",
      "[75]\tvalid_0's rmse: 0.937688\n",
      "[76]\tvalid_0's rmse: 0.937862\n",
      "[77]\tvalid_0's rmse: 0.937546\n",
      "[78]\tvalid_0's rmse: 0.937373\n",
      "[79]\tvalid_0's rmse: 0.937167\n",
      "[80]\tvalid_0's rmse: 0.937046\n",
      "[81]\tvalid_0's rmse: 0.936827\n",
      "[82]\tvalid_0's rmse: 0.936654\n",
      "[83]\tvalid_0's rmse: 0.936529\n",
      "[84]\tvalid_0's rmse: 0.936454\n",
      "[85]\tvalid_0's rmse: 0.936254\n",
      "[86]\tvalid_0's rmse: 0.93631\n",
      "[87]\tvalid_0's rmse: 0.935938\n",
      "[88]\tvalid_0's rmse: 0.935753\n",
      "[89]\tvalid_0's rmse: 0.936128\n",
      "[90]\tvalid_0's rmse: 0.93598\n",
      "[91]\tvalid_0's rmse: 0.935388\n",
      "[92]\tvalid_0's rmse: 0.935175\n",
      "[93]\tvalid_0's rmse: 0.934935\n",
      "[94]\tvalid_0's rmse: 0.934721\n",
      "[95]\tvalid_0's rmse: 0.93465\n",
      "[96]\tvalid_0's rmse: 0.934627\n",
      "[97]\tvalid_0's rmse: 0.934542\n",
      "[98]\tvalid_0's rmse: 0.934299\n",
      "[99]\tvalid_0's rmse: 0.93414\n",
      "[100]\tvalid_0's rmse: 0.934104\n"
     ]
    },
    {
     "data": {
      "text/plain": [
       "LGBMRegressor(bagging_fraction=0.8, bagging_freq=5, boosting_type='gbdt',\n",
       "       class_weight=None, colsample_bytree=1.0, feature_fraction=0.9,\n",
       "       feature_name=['shop_id', 'item_id', 'date_block_num', 'item_category_id', 'item_id_avg_item_price_lag_1', 'item_id_sum_item_cnt_day_lag_1', 'item_id_avg_item_cnt_day_lag_1', 'shop_id_avg_item_price_lag_1', 'shop_id_sum_item_cnt_day_lag_1', 'shop_id_avg_item_cnt_day_lag_1', 'item_category_id_avg_item...ry_id_sum_item_cnt_day_lag_12', 'item_category_id_avg_item_cnt_day_lag_12', 'item_cnt_month_lag_12'],\n",
       "       learning_rate=0.05, max_depth=-1, metric={'mse', 'l2'},\n",
       "       min_child_samples=20, min_child_weight=0.001, min_split_gain=0.0,\n",
       "       n_estimators=100, n_jobs=-1, num_leaves=31, objective='regression',\n",
       "       random_state=0, reg_alpha=0.0, reg_lambda=0.0, silent=True,\n",
       "       subsample=1.0, subsample_for_bin=200000, subsample_freq=1,\n",
       "       task='train', verbose=0)"
      ]
     },
     "execution_count": 6,
     "metadata": {},
     "output_type": "execute_result"
    }
   ],
   "source": [
    "gbm = lgb.LGBMRegressor(**params,random_state=0)\n",
    "gbm.fit(X_train,y_train,eval_metric='rmse',eval_set=[(X_cv,y_cv)],verbose=True)"
   ]
  },
  {
   "cell_type": "code",
   "execution_count": 7,
   "metadata": {},
   "outputs": [],
   "source": [
    "def extract_importance(gbm,topn=20):\n",
    "    return pd.DataFrame(\n",
    "        {'features':gbm.feature_name,'importance':gbm.feature_importances_}).sort_values(by='importance',ascending=False).head(topn)"
   ]
  },
  {
   "cell_type": "code",
   "execution_count": 8,
   "metadata": {},
   "outputs": [
    {
     "data": {
      "text/html": [
       "<div>\n",
       "<style>\n",
       "    .dataframe thead tr:only-child th {\n",
       "        text-align: right;\n",
       "    }\n",
       "\n",
       "    .dataframe thead th {\n",
       "        text-align: left;\n",
       "    }\n",
       "\n",
       "    .dataframe tbody tr th {\n",
       "        vertical-align: top;\n",
       "    }\n",
       "</style>\n",
       "<table border=\"1\" class=\"dataframe\">\n",
       "  <thead>\n",
       "    <tr style=\"text-align: right;\">\n",
       "      <th></th>\n",
       "      <th>features</th>\n",
       "      <th>importance</th>\n",
       "    </tr>\n",
       "  </thead>\n",
       "  <tbody>\n",
       "    <tr>\n",
       "      <th>5</th>\n",
       "      <td>item_id_sum_item_cnt_day_lag_1</td>\n",
       "      <td>352</td>\n",
       "    </tr>\n",
       "    <tr>\n",
       "      <th>6</th>\n",
       "      <td>item_id_avg_item_cnt_day_lag_1</td>\n",
       "      <td>239</td>\n",
       "    </tr>\n",
       "    <tr>\n",
       "      <th>13</th>\n",
       "      <td>item_cnt_month_lag_1</td>\n",
       "      <td>224</td>\n",
       "    </tr>\n",
       "    <tr>\n",
       "      <th>3</th>\n",
       "      <td>item_category_id</td>\n",
       "      <td>213</td>\n",
       "    </tr>\n",
       "    <tr>\n",
       "      <th>23</th>\n",
       "      <td>item_cnt_month_lag_2</td>\n",
       "      <td>182</td>\n",
       "    </tr>\n",
       "    <tr>\n",
       "      <th>8</th>\n",
       "      <td>shop_id_sum_item_cnt_day_lag_1</td>\n",
       "      <td>168</td>\n",
       "    </tr>\n",
       "    <tr>\n",
       "      <th>2</th>\n",
       "      <td>date_block_num</td>\n",
       "      <td>139</td>\n",
       "    </tr>\n",
       "    <tr>\n",
       "      <th>33</th>\n",
       "      <td>item_cnt_month_lag_3</td>\n",
       "      <td>119</td>\n",
       "    </tr>\n",
       "    <tr>\n",
       "      <th>43</th>\n",
       "      <td>item_cnt_month_lag_5</td>\n",
       "      <td>112</td>\n",
       "    </tr>\n",
       "    <tr>\n",
       "      <th>0</th>\n",
       "      <td>shop_id</td>\n",
       "      <td>94</td>\n",
       "    </tr>\n",
       "    <tr>\n",
       "      <th>11</th>\n",
       "      <td>item_category_id_sum_item_cnt_day_lag_1</td>\n",
       "      <td>88</td>\n",
       "    </tr>\n",
       "    <tr>\n",
       "      <th>4</th>\n",
       "      <td>item_id_avg_item_price_lag_1</td>\n",
       "      <td>85</td>\n",
       "    </tr>\n",
       "    <tr>\n",
       "      <th>22</th>\n",
       "      <td>item_category_id_avg_item_cnt_day_lag_2</td>\n",
       "      <td>68</td>\n",
       "    </tr>\n",
       "    <tr>\n",
       "      <th>10</th>\n",
       "      <td>item_category_id_avg_item_price_lag_1</td>\n",
       "      <td>61</td>\n",
       "    </tr>\n",
       "    <tr>\n",
       "      <th>1</th>\n",
       "      <td>item_id</td>\n",
       "      <td>60</td>\n",
       "    </tr>\n",
       "    <tr>\n",
       "      <th>12</th>\n",
       "      <td>item_category_id_avg_item_cnt_day_lag_1</td>\n",
       "      <td>58</td>\n",
       "    </tr>\n",
       "    <tr>\n",
       "      <th>15</th>\n",
       "      <td>item_id_sum_item_cnt_day_lag_2</td>\n",
       "      <td>55</td>\n",
       "    </tr>\n",
       "    <tr>\n",
       "      <th>53</th>\n",
       "      <td>item_cnt_month_lag_12</td>\n",
       "      <td>52</td>\n",
       "    </tr>\n",
       "    <tr>\n",
       "      <th>32</th>\n",
       "      <td>item_category_id_avg_item_cnt_day_lag_3</td>\n",
       "      <td>47</td>\n",
       "    </tr>\n",
       "    <tr>\n",
       "      <th>29</th>\n",
       "      <td>shop_id_avg_item_cnt_day_lag_3</td>\n",
       "      <td>45</td>\n",
       "    </tr>\n",
       "    <tr>\n",
       "      <th>18</th>\n",
       "      <td>shop_id_sum_item_cnt_day_lag_2</td>\n",
       "      <td>43</td>\n",
       "    </tr>\n",
       "    <tr>\n",
       "      <th>21</th>\n",
       "      <td>item_category_id_sum_item_cnt_day_lag_2</td>\n",
       "      <td>42</td>\n",
       "    </tr>\n",
       "    <tr>\n",
       "      <th>16</th>\n",
       "      <td>item_id_avg_item_cnt_day_lag_2</td>\n",
       "      <td>42</td>\n",
       "    </tr>\n",
       "    <tr>\n",
       "      <th>35</th>\n",
       "      <td>item_id_sum_item_cnt_day_lag_5</td>\n",
       "      <td>31</td>\n",
       "    </tr>\n",
       "    <tr>\n",
       "      <th>26</th>\n",
       "      <td>item_id_avg_item_cnt_day_lag_3</td>\n",
       "      <td>31</td>\n",
       "    </tr>\n",
       "    <tr>\n",
       "      <th>25</th>\n",
       "      <td>item_id_sum_item_cnt_day_lag_3</td>\n",
       "      <td>29</td>\n",
       "    </tr>\n",
       "    <tr>\n",
       "      <th>31</th>\n",
       "      <td>item_category_id_sum_item_cnt_day_lag_3</td>\n",
       "      <td>28</td>\n",
       "    </tr>\n",
       "    <tr>\n",
       "      <th>20</th>\n",
       "      <td>item_category_id_avg_item_price_lag_2</td>\n",
       "      <td>25</td>\n",
       "    </tr>\n",
       "    <tr>\n",
       "      <th>9</th>\n",
       "      <td>shop_id_avg_item_cnt_day_lag_1</td>\n",
       "      <td>23</td>\n",
       "    </tr>\n",
       "    <tr>\n",
       "      <th>34</th>\n",
       "      <td>item_id_avg_item_price_lag_5</td>\n",
       "      <td>21</td>\n",
       "    </tr>\n",
       "    <tr>\n",
       "      <th>14</th>\n",
       "      <td>item_id_avg_item_price_lag_2</td>\n",
       "      <td>21</td>\n",
       "    </tr>\n",
       "    <tr>\n",
       "      <th>41</th>\n",
       "      <td>item_category_id_sum_item_cnt_day_lag_5</td>\n",
       "      <td>20</td>\n",
       "    </tr>\n",
       "    <tr>\n",
       "      <th>38</th>\n",
       "      <td>shop_id_sum_item_cnt_day_lag_5</td>\n",
       "      <td>18</td>\n",
       "    </tr>\n",
       "    <tr>\n",
       "      <th>48</th>\n",
       "      <td>shop_id_sum_item_cnt_day_lag_12</td>\n",
       "      <td>17</td>\n",
       "    </tr>\n",
       "    <tr>\n",
       "      <th>42</th>\n",
       "      <td>item_category_id_avg_item_cnt_day_lag_5</td>\n",
       "      <td>14</td>\n",
       "    </tr>\n",
       "    <tr>\n",
       "      <th>45</th>\n",
       "      <td>item_id_sum_item_cnt_day_lag_12</td>\n",
       "      <td>14</td>\n",
       "    </tr>\n",
       "    <tr>\n",
       "      <th>49</th>\n",
       "      <td>shop_id_avg_item_cnt_day_lag_12</td>\n",
       "      <td>12</td>\n",
       "    </tr>\n",
       "    <tr>\n",
       "      <th>36</th>\n",
       "      <td>item_id_avg_item_cnt_day_lag_5</td>\n",
       "      <td>12</td>\n",
       "    </tr>\n",
       "    <tr>\n",
       "      <th>30</th>\n",
       "      <td>item_category_id_avg_item_price_lag_3</td>\n",
       "      <td>12</td>\n",
       "    </tr>\n",
       "    <tr>\n",
       "      <th>24</th>\n",
       "      <td>item_id_avg_item_price_lag_3</td>\n",
       "      <td>11</td>\n",
       "    </tr>\n",
       "  </tbody>\n",
       "</table>\n",
       "</div>"
      ],
      "text/plain": [
       "                                   features  importance\n",
       "5            item_id_sum_item_cnt_day_lag_1         352\n",
       "6            item_id_avg_item_cnt_day_lag_1         239\n",
       "13                     item_cnt_month_lag_1         224\n",
       "3                          item_category_id         213\n",
       "23                     item_cnt_month_lag_2         182\n",
       "8            shop_id_sum_item_cnt_day_lag_1         168\n",
       "2                            date_block_num         139\n",
       "33                     item_cnt_month_lag_3         119\n",
       "43                     item_cnt_month_lag_5         112\n",
       "0                                   shop_id          94\n",
       "11  item_category_id_sum_item_cnt_day_lag_1          88\n",
       "4              item_id_avg_item_price_lag_1          85\n",
       "22  item_category_id_avg_item_cnt_day_lag_2          68\n",
       "10    item_category_id_avg_item_price_lag_1          61\n",
       "1                                   item_id          60\n",
       "12  item_category_id_avg_item_cnt_day_lag_1          58\n",
       "15           item_id_sum_item_cnt_day_lag_2          55\n",
       "53                    item_cnt_month_lag_12          52\n",
       "32  item_category_id_avg_item_cnt_day_lag_3          47\n",
       "29           shop_id_avg_item_cnt_day_lag_3          45\n",
       "18           shop_id_sum_item_cnt_day_lag_2          43\n",
       "21  item_category_id_sum_item_cnt_day_lag_2          42\n",
       "16           item_id_avg_item_cnt_day_lag_2          42\n",
       "35           item_id_sum_item_cnt_day_lag_5          31\n",
       "26           item_id_avg_item_cnt_day_lag_3          31\n",
       "25           item_id_sum_item_cnt_day_lag_3          29\n",
       "31  item_category_id_sum_item_cnt_day_lag_3          28\n",
       "20    item_category_id_avg_item_price_lag_2          25\n",
       "9            shop_id_avg_item_cnt_day_lag_1          23\n",
       "34             item_id_avg_item_price_lag_5          21\n",
       "14             item_id_avg_item_price_lag_2          21\n",
       "41  item_category_id_sum_item_cnt_day_lag_5          20\n",
       "38           shop_id_sum_item_cnt_day_lag_5          18\n",
       "48          shop_id_sum_item_cnt_day_lag_12          17\n",
       "42  item_category_id_avg_item_cnt_day_lag_5          14\n",
       "45          item_id_sum_item_cnt_day_lag_12          14\n",
       "49          shop_id_avg_item_cnt_day_lag_12          12\n",
       "36           item_id_avg_item_cnt_day_lag_5          12\n",
       "30    item_category_id_avg_item_price_lag_3          12\n",
       "24             item_id_avg_item_price_lag_3          11"
      ]
     },
     "execution_count": 8,
     "metadata": {},
     "output_type": "execute_result"
    }
   ],
   "source": [
    "extract_importance(gbm,40)"
   ]
  },
  {
   "cell_type": "markdown",
   "metadata": {},
   "source": [
    "* use `lgb.train`\n",
    "* `lgb.Dataset`"
   ]
  },
  {
   "cell_type": "code",
   "execution_count": 66,
   "metadata": {},
   "outputs": [],
   "source": [
    "lgb_train = lgb.Dataset(X_train,y_train)\n",
    "lgb_cv = lgb.Dataset(X_cv,y_cv,reference=lgb_train)"
   ]
  },
  {
   "cell_type": "code",
   "execution_count": 67,
   "metadata": {},
   "outputs": [
    {
     "name": "stdout",
     "output_type": "stream",
     "text": [
      "Start training...\n"
     ]
    },
    {
     "name": "stderr",
     "output_type": "stream",
     "text": [
      "C:\\Program Files\\Anaconda3\\envs\\py36\\lib\\site-packages\\lightgbm\\basic.py:657: UserWarning: feature_name keyword has been found in `params` and will be ignored. Please use feature_name argument of the Dataset constructor to pass this parameter.\n",
      "  'Please use {0} argument of the Dataset constructor to pass this parameter.'.format(key))\n"
     ]
    },
    {
     "name": "stdout",
     "output_type": "stream",
     "text": [
      "[1]\tvalid_0's l2: 1.25112\tvalid_0's l2: 1.25112\n",
      "[2]\tvalid_0's l2: 1.21476\tvalid_0's l2: 1.21476\n",
      "[3]\tvalid_0's l2: 1.18125\tvalid_0's l2: 1.18125\n",
      "[4]\tvalid_0's l2: 1.15188\tvalid_0's l2: 1.15188\n",
      "[5]\tvalid_0's l2: 1.1268\tvalid_0's l2: 1.1268\n",
      "[6]\tvalid_0's l2: 1.10553\tvalid_0's l2: 1.10553\n",
      "[7]\tvalid_0's l2: 1.0829\tvalid_0's l2: 1.0829\n",
      "[8]\tvalid_0's l2: 1.06514\tvalid_0's l2: 1.06514\n",
      "[9]\tvalid_0's l2: 1.04681\tvalid_0's l2: 1.04681\n",
      "[10]\tvalid_0's l2: 1.03218\tvalid_0's l2: 1.03218\n",
      "[11]\tvalid_0's l2: 1.01917\tvalid_0's l2: 1.01917\n",
      "[12]\tvalid_0's l2: 1.0073\tvalid_0's l2: 1.0073\n",
      "[13]\tvalid_0's l2: 0.997146\tvalid_0's l2: 0.997146\n",
      "[14]\tvalid_0's l2: 0.987576\tvalid_0's l2: 0.987576\n",
      "[15]\tvalid_0's l2: 0.979684\tvalid_0's l2: 0.979684\n",
      "[16]\tvalid_0's l2: 0.971877\tvalid_0's l2: 0.971877\n",
      "[17]\tvalid_0's l2: 0.964579\tvalid_0's l2: 0.964579\n",
      "[18]\tvalid_0's l2: 0.958288\tvalid_0's l2: 0.958288\n",
      "[19]\tvalid_0's l2: 0.952578\tvalid_0's l2: 0.952578\n",
      "[20]\tvalid_0's l2: 0.946659\tvalid_0's l2: 0.946659\n",
      "[21]\tvalid_0's l2: 0.941658\tvalid_0's l2: 0.941658\n",
      "[22]\tvalid_0's l2: 0.937524\tvalid_0's l2: 0.937524\n",
      "[23]\tvalid_0's l2: 0.933119\tvalid_0's l2: 0.933119\n",
      "[24]\tvalid_0's l2: 0.930093\tvalid_0's l2: 0.930093\n",
      "[25]\tvalid_0's l2: 0.927006\tvalid_0's l2: 0.927006\n",
      "[26]\tvalid_0's l2: 0.924199\tvalid_0's l2: 0.924199\n",
      "[27]\tvalid_0's l2: 0.921861\tvalid_0's l2: 0.921861\n",
      "[28]\tvalid_0's l2: 0.919828\tvalid_0's l2: 0.919828\n",
      "[29]\tvalid_0's l2: 0.917089\tvalid_0's l2: 0.917089\n",
      "[30]\tvalid_0's l2: 0.914766\tvalid_0's l2: 0.914766\n",
      "[31]\tvalid_0's l2: 0.912982\tvalid_0's l2: 0.912982\n",
      "[32]\tvalid_0's l2: 0.911246\tvalid_0's l2: 0.911246\n",
      "[33]\tvalid_0's l2: 0.909394\tvalid_0's l2: 0.909394\n",
      "[34]\tvalid_0's l2: 0.907603\tvalid_0's l2: 0.907603\n",
      "[35]\tvalid_0's l2: 0.905799\tvalid_0's l2: 0.905799\n",
      "[36]\tvalid_0's l2: 0.904743\tvalid_0's l2: 0.904743\n",
      "[37]\tvalid_0's l2: 0.904026\tvalid_0's l2: 0.904026\n",
      "[38]\tvalid_0's l2: 0.902963\tvalid_0's l2: 0.902963\n",
      "[39]\tvalid_0's l2: 0.902052\tvalid_0's l2: 0.902052\n",
      "[40]\tvalid_0's l2: 0.901264\tvalid_0's l2: 0.901264\n",
      "[41]\tvalid_0's l2: 0.900353\tvalid_0's l2: 0.900353\n",
      "[42]\tvalid_0's l2: 0.899646\tvalid_0's l2: 0.899646\n",
      "[43]\tvalid_0's l2: 0.899023\tvalid_0's l2: 0.899023\n",
      "[44]\tvalid_0's l2: 0.89872\tvalid_0's l2: 0.89872\n",
      "[45]\tvalid_0's l2: 0.898225\tvalid_0's l2: 0.898225\n",
      "[46]\tvalid_0's l2: 0.897529\tvalid_0's l2: 0.897529\n",
      "[47]\tvalid_0's l2: 0.896858\tvalid_0's l2: 0.896858\n",
      "[48]\tvalid_0's l2: 0.896436\tvalid_0's l2: 0.896436\n",
      "[49]\tvalid_0's l2: 0.896124\tvalid_0's l2: 0.896124\n",
      "[50]\tvalid_0's l2: 0.895084\tvalid_0's l2: 0.895084\n",
      "[51]\tvalid_0's l2: 0.894392\tvalid_0's l2: 0.894392\n",
      "[52]\tvalid_0's l2: 0.893429\tvalid_0's l2: 0.893429\n",
      "[53]\tvalid_0's l2: 0.892481\tvalid_0's l2: 0.892481\n",
      "[54]\tvalid_0's l2: 0.891883\tvalid_0's l2: 0.891883\n",
      "[55]\tvalid_0's l2: 0.891474\tvalid_0's l2: 0.891474\n",
      "[56]\tvalid_0's l2: 0.890797\tvalid_0's l2: 0.890797\n",
      "[57]\tvalid_0's l2: 0.890532\tvalid_0's l2: 0.890532\n",
      "[58]\tvalid_0's l2: 0.889702\tvalid_0's l2: 0.889702\n",
      "[59]\tvalid_0's l2: 0.889725\tvalid_0's l2: 0.889725\n",
      "[60]\tvalid_0's l2: 0.889332\tvalid_0's l2: 0.889332\n",
      "[61]\tvalid_0's l2: 0.889152\tvalid_0's l2: 0.889152\n",
      "[62]\tvalid_0's l2: 0.888789\tvalid_0's l2: 0.888789\n",
      "[63]\tvalid_0's l2: 0.888415\tvalid_0's l2: 0.888415\n",
      "[64]\tvalid_0's l2: 0.888081\tvalid_0's l2: 0.888081\n",
      "[65]\tvalid_0's l2: 0.887662\tvalid_0's l2: 0.887662\n",
      "[66]\tvalid_0's l2: 0.886945\tvalid_0's l2: 0.886945\n",
      "[67]\tvalid_0's l2: 0.886732\tvalid_0's l2: 0.886732\n",
      "[68]\tvalid_0's l2: 0.886467\tvalid_0's l2: 0.886467\n",
      "[69]\tvalid_0's l2: 0.88648\tvalid_0's l2: 0.88648\n",
      "[70]\tvalid_0's l2: 0.88531\tvalid_0's l2: 0.88531\n",
      "[71]\tvalid_0's l2: 0.884292\tvalid_0's l2: 0.884292\n",
      "[72]\tvalid_0's l2: 0.883722\tvalid_0's l2: 0.883722\n",
      "[73]\tvalid_0's l2: 0.883546\tvalid_0's l2: 0.883546\n",
      "[74]\tvalid_0's l2: 0.882458\tvalid_0's l2: 0.882458\n",
      "[75]\tvalid_0's l2: 0.88165\tvalid_0's l2: 0.88165\n",
      "[76]\tvalid_0's l2: 0.881303\tvalid_0's l2: 0.881303\n",
      "[77]\tvalid_0's l2: 0.880988\tvalid_0's l2: 0.880988\n",
      "[78]\tvalid_0's l2: 0.880686\tvalid_0's l2: 0.880686\n",
      "[79]\tvalid_0's l2: 0.880285\tvalid_0's l2: 0.880285\n",
      "[80]\tvalid_0's l2: 0.87966\tvalid_0's l2: 0.87966\n",
      "[81]\tvalid_0's l2: 0.87943\tvalid_0's l2: 0.87943\n",
      "[82]\tvalid_0's l2: 0.879064\tvalid_0's l2: 0.879064\n",
      "[83]\tvalid_0's l2: 0.878787\tvalid_0's l2: 0.878787\n",
      "[84]\tvalid_0's l2: 0.878387\tvalid_0's l2: 0.878387\n",
      "[85]\tvalid_0's l2: 0.878206\tvalid_0's l2: 0.878206\n",
      "[86]\tvalid_0's l2: 0.877945\tvalid_0's l2: 0.877945\n",
      "[87]\tvalid_0's l2: 0.877656\tvalid_0's l2: 0.877656\n",
      "[88]\tvalid_0's l2: 0.877173\tvalid_0's l2: 0.877173\n",
      "[89]\tvalid_0's l2: 0.876656\tvalid_0's l2: 0.876656\n",
      "[90]\tvalid_0's l2: 0.876424\tvalid_0's l2: 0.876424\n",
      "[91]\tvalid_0's l2: 0.876824\tvalid_0's l2: 0.876824\n",
      "[92]\tvalid_0's l2: 0.876232\tvalid_0's l2: 0.876232\n",
      "[93]\tvalid_0's l2: 0.875911\tvalid_0's l2: 0.875911\n",
      "[94]\tvalid_0's l2: 0.875512\tvalid_0's l2: 0.875512\n",
      "[95]\tvalid_0's l2: 0.875343\tvalid_0's l2: 0.875343\n",
      "[96]\tvalid_0's l2: 0.874728\tvalid_0's l2: 0.874728\n",
      "[97]\tvalid_0's l2: 0.874537\tvalid_0's l2: 0.874537\n",
      "[98]\tvalid_0's l2: 0.875488\tvalid_0's l2: 0.875488\n",
      "[99]\tvalid_0's l2: 0.875112\tvalid_0's l2: 0.875112\n",
      "[100]\tvalid_0's l2: 0.875045\tvalid_0's l2: 0.875045\n",
      "end training\n"
     ]
    }
   ],
   "source": [
    "print('Start training...')\n",
    "# train\n",
    "gbm = lgb.train(params,\n",
    "                lgb_train,                \n",
    "                valid_sets=lgb_cv)\n",
    "print('end training')\n",
    "# print('Save model...')\n",
    "# save model to file\n",
    "# gbm.save_model('../data/model/lgb_model1.txt')"
   ]
  },
  {
   "cell_type": "code",
   "execution_count": 9,
   "metadata": {},
   "outputs": [
    {
     "name": "stdout",
     "output_type": "stream",
     "text": [
      "Feature importances: [3, 20, 19, 70, 1, 61, 36, 0, 33, 0, 3, 5, 0, 121, 2, 4, 2, 0, 7, 0, 0, 0, 4, 55, 0, 1, 0, 0, 6, 0, 0, 0, 7, 58, 2, 9, 3, 0, 4, 0, 0, 0, 1, 47, 0, 8, 0, 0, 1, 1, 0, 0, 0, 6]\n"
     ]
    }
   ],
   "source": [
    "print('Feature importances:', list(gbm.feature_importance()))"
   ]
  },
  {
   "cell_type": "code",
   "execution_count": 22,
   "metadata": {},
   "outputs": [
    {
     "data": {
      "text/html": [
       "<div>\n",
       "<style>\n",
       "    .dataframe thead tr:only-child th {\n",
       "        text-align: right;\n",
       "    }\n",
       "\n",
       "    .dataframe thead th {\n",
       "        text-align: left;\n",
       "    }\n",
       "\n",
       "    .dataframe tbody tr th {\n",
       "        vertical-align: top;\n",
       "    }\n",
       "</style>\n",
       "<table border=\"1\" class=\"dataframe\">\n",
       "  <thead>\n",
       "    <tr style=\"text-align: right;\">\n",
       "      <th></th>\n",
       "      <th>features</th>\n",
       "      <th>importance</th>\n",
       "    </tr>\n",
       "  </thead>\n",
       "  <tbody>\n",
       "    <tr>\n",
       "      <th>5</th>\n",
       "      <td>item_id_sum_item_cnt_day_lag_1</td>\n",
       "      <td>326</td>\n",
       "    </tr>\n",
       "    <tr>\n",
       "      <th>6</th>\n",
       "      <td>item_id_avg_item_cnt_day_lag_1</td>\n",
       "      <td>244</td>\n",
       "    </tr>\n",
       "    <tr>\n",
       "      <th>3</th>\n",
       "      <td>item_category_id</td>\n",
       "      <td>238</td>\n",
       "    </tr>\n",
       "    <tr>\n",
       "      <th>13</th>\n",
       "      <td>item_cnt_month_lag_1</td>\n",
       "      <td>230</td>\n",
       "    </tr>\n",
       "    <tr>\n",
       "      <th>23</th>\n",
       "      <td>item_cnt_month_lag_2</td>\n",
       "      <td>185</td>\n",
       "    </tr>\n",
       "    <tr>\n",
       "      <th>8</th>\n",
       "      <td>shop_id_sum_item_cnt_day_lag_1</td>\n",
       "      <td>167</td>\n",
       "    </tr>\n",
       "    <tr>\n",
       "      <th>2</th>\n",
       "      <td>date_block_num</td>\n",
       "      <td>159</td>\n",
       "    </tr>\n",
       "    <tr>\n",
       "      <th>33</th>\n",
       "      <td>item_cnt_month_lag_3</td>\n",
       "      <td>119</td>\n",
       "    </tr>\n",
       "    <tr>\n",
       "      <th>43</th>\n",
       "      <td>item_cnt_month_lag_5</td>\n",
       "      <td>106</td>\n",
       "    </tr>\n",
       "    <tr>\n",
       "      <th>0</th>\n",
       "      <td>shop_id</td>\n",
       "      <td>93</td>\n",
       "    </tr>\n",
       "    <tr>\n",
       "      <th>1</th>\n",
       "      <td>item_id</td>\n",
       "      <td>91</td>\n",
       "    </tr>\n",
       "    <tr>\n",
       "      <th>4</th>\n",
       "      <td>item_id_avg_item_price_lag_1</td>\n",
       "      <td>85</td>\n",
       "    </tr>\n",
       "    <tr>\n",
       "      <th>11</th>\n",
       "      <td>item_category_id_sum_item_cnt_day_lag_1</td>\n",
       "      <td>81</td>\n",
       "    </tr>\n",
       "    <tr>\n",
       "      <th>22</th>\n",
       "      <td>item_category_id_avg_item_cnt_day_lag_2</td>\n",
       "      <td>76</td>\n",
       "    </tr>\n",
       "    <tr>\n",
       "      <th>12</th>\n",
       "      <td>item_category_id_avg_item_cnt_day_lag_1</td>\n",
       "      <td>58</td>\n",
       "    </tr>\n",
       "    <tr>\n",
       "      <th>10</th>\n",
       "      <td>item_category_id_avg_item_price_lag_1</td>\n",
       "      <td>51</td>\n",
       "    </tr>\n",
       "    <tr>\n",
       "      <th>15</th>\n",
       "      <td>item_id_sum_item_cnt_day_lag_2</td>\n",
       "      <td>46</td>\n",
       "    </tr>\n",
       "    <tr>\n",
       "      <th>18</th>\n",
       "      <td>shop_id_sum_item_cnt_day_lag_2</td>\n",
       "      <td>45</td>\n",
       "    </tr>\n",
       "    <tr>\n",
       "      <th>53</th>\n",
       "      <td>item_cnt_month_lag_12</td>\n",
       "      <td>45</td>\n",
       "    </tr>\n",
       "    <tr>\n",
       "      <th>21</th>\n",
       "      <td>item_category_id_sum_item_cnt_day_lag_2</td>\n",
       "      <td>43</td>\n",
       "    </tr>\n",
       "  </tbody>\n",
       "</table>\n",
       "</div>"
      ],
      "text/plain": [
       "                                   features  importance\n",
       "5            item_id_sum_item_cnt_day_lag_1         326\n",
       "6            item_id_avg_item_cnt_day_lag_1         244\n",
       "3                          item_category_id         238\n",
       "13                     item_cnt_month_lag_1         230\n",
       "23                     item_cnt_month_lag_2         185\n",
       "8            shop_id_sum_item_cnt_day_lag_1         167\n",
       "2                            date_block_num         159\n",
       "33                     item_cnt_month_lag_3         119\n",
       "43                     item_cnt_month_lag_5         106\n",
       "0                                   shop_id          93\n",
       "1                                   item_id          91\n",
       "4              item_id_avg_item_price_lag_1          85\n",
       "11  item_category_id_sum_item_cnt_day_lag_1          81\n",
       "22  item_category_id_avg_item_cnt_day_lag_2          76\n",
       "12  item_category_id_avg_item_cnt_day_lag_1          58\n",
       "10    item_category_id_avg_item_price_lag_1          51\n",
       "15           item_id_sum_item_cnt_day_lag_2          46\n",
       "18           shop_id_sum_item_cnt_day_lag_2          45\n",
       "53                    item_cnt_month_lag_12          45\n",
       "21  item_category_id_sum_item_cnt_day_lag_2          43"
      ]
     },
     "execution_count": 22,
     "metadata": {},
     "output_type": "execute_result"
    }
   ],
   "source": [
    "pd.DataFrame({'features':gbm.feature_name(),'importance':gbm.feature_importance()}).sort_values(by='importance',ascending=False).head(20)"
   ]
  },
  {
   "cell_type": "code",
   "execution_count": 23,
   "metadata": {},
   "outputs": [
    {
     "data": {
      "text/plain": [
       "2713"
      ]
     },
     "execution_count": 23,
     "metadata": {},
     "output_type": "execute_result"
    }
   ],
   "source": [
    "gc.collect()"
   ]
  },
  {
   "cell_type": "code",
   "execution_count": 16,
   "metadata": {},
   "outputs": [],
   "source": [
    "gbm.save_model('../data/model/lgb_model1.txt')"
   ]
  },
  {
   "cell_type": "code",
   "execution_count": 25,
   "metadata": {},
   "outputs": [
    {
     "name": "stdout",
     "output_type": "stream",
     "text": [
      "Start predicting...\n",
      "The mse of prediction on cv(test) is: 0.935438500234\n"
     ]
    }
   ],
   "source": [
    "print('Start predicting...')\n",
    "# predict\n",
    "y_pred = gbm.predict(X_cv, num_iteration=gbm.best_iteration)\n",
    "# eval\n",
    "print('The mse of prediction on cv(test) is:', mean_squared_error(y_cv, y_pred)**0.5)"
   ]
  },
  {
   "cell_type": "markdown",
   "metadata": {},
   "source": [
    "# pred "
   ]
  },
  {
   "cell_type": "code",
   "execution_count": 58,
   "metadata": {},
   "outputs": [],
   "source": [
    "tests = pd.read_csv('../data/test.csv')"
   ]
  },
  {
   "cell_type": "code",
   "execution_count": 59,
   "metadata": {},
   "outputs": [
    {
     "name": "stdout",
     "output_type": "stream",
     "text": [
      "shape of test :(214200, 3)\n"
     ]
    },
    {
     "data": {
      "text/html": [
       "<div>\n",
       "<style>\n",
       "    .dataframe thead tr:only-child th {\n",
       "        text-align: right;\n",
       "    }\n",
       "\n",
       "    .dataframe thead th {\n",
       "        text-align: left;\n",
       "    }\n",
       "\n",
       "    .dataframe tbody tr th {\n",
       "        vertical-align: top;\n",
       "    }\n",
       "</style>\n",
       "<table border=\"1\" class=\"dataframe\">\n",
       "  <thead>\n",
       "    <tr style=\"text-align: right;\">\n",
       "      <th></th>\n",
       "      <th>ID</th>\n",
       "      <th>shop_id</th>\n",
       "      <th>item_id</th>\n",
       "    </tr>\n",
       "  </thead>\n",
       "  <tbody>\n",
       "    <tr>\n",
       "      <th>0</th>\n",
       "      <td>0</td>\n",
       "      <td>5</td>\n",
       "      <td>5037</td>\n",
       "    </tr>\n",
       "    <tr>\n",
       "      <th>1</th>\n",
       "      <td>1</td>\n",
       "      <td>5</td>\n",
       "      <td>5320</td>\n",
       "    </tr>\n",
       "    <tr>\n",
       "      <th>2</th>\n",
       "      <td>2</td>\n",
       "      <td>5</td>\n",
       "      <td>5233</td>\n",
       "    </tr>\n",
       "    <tr>\n",
       "      <th>3</th>\n",
       "      <td>3</td>\n",
       "      <td>5</td>\n",
       "      <td>5232</td>\n",
       "    </tr>\n",
       "    <tr>\n",
       "      <th>4</th>\n",
       "      <td>4</td>\n",
       "      <td>5</td>\n",
       "      <td>5268</td>\n",
       "    </tr>\n",
       "  </tbody>\n",
       "</table>\n",
       "</div>"
      ],
      "text/plain": [
       "   ID  shop_id  item_id\n",
       "0   0        5     5037\n",
       "1   1        5     5320\n",
       "2   2        5     5233\n",
       "3   3        5     5232\n",
       "4   4        5     5268"
      ]
     },
     "execution_count": 59,
     "metadata": {},
     "output_type": "execute_result"
    }
   ],
   "source": [
    "print('shape of test :{}'.format(tests.shape))\n",
    "tests.head()"
   ]
  },
  {
   "cell_type": "code",
   "execution_count": 63,
   "metadata": {},
   "outputs": [],
   "source": [
    "X_test = X_test[X_test.date_block_num ==34].merge(tests, on = ['shop_id','item_id'],how='inner')\n",
    "assert X_test.shape[0] == tests.shape[0]"
   ]
  },
  {
   "cell_type": "code",
   "execution_count": 64,
   "metadata": {},
   "outputs": [
    {
     "data": {
      "text/html": [
       "<div>\n",
       "<style>\n",
       "    .dataframe thead tr:only-child th {\n",
       "        text-align: right;\n",
       "    }\n",
       "\n",
       "    .dataframe thead th {\n",
       "        text-align: left;\n",
       "    }\n",
       "\n",
       "    .dataframe tbody tr th {\n",
       "        vertical-align: top;\n",
       "    }\n",
       "</style>\n",
       "<table border=\"1\" class=\"dataframe\">\n",
       "  <thead>\n",
       "    <tr style=\"text-align: right;\">\n",
       "      <th></th>\n",
       "      <th>ID</th>\n",
       "      <th>shop_id</th>\n",
       "      <th>item_id</th>\n",
       "    </tr>\n",
       "  </thead>\n",
       "  <tbody>\n",
       "    <tr>\n",
       "      <th>0</th>\n",
       "      <td>0</td>\n",
       "      <td>5</td>\n",
       "      <td>5037</td>\n",
       "    </tr>\n",
       "    <tr>\n",
       "      <th>1</th>\n",
       "      <td>1</td>\n",
       "      <td>5</td>\n",
       "      <td>5320</td>\n",
       "    </tr>\n",
       "    <tr>\n",
       "      <th>2</th>\n",
       "      <td>2</td>\n",
       "      <td>5</td>\n",
       "      <td>5233</td>\n",
       "    </tr>\n",
       "    <tr>\n",
       "      <th>3</th>\n",
       "      <td>3</td>\n",
       "      <td>5</td>\n",
       "      <td>5232</td>\n",
       "    </tr>\n",
       "    <tr>\n",
       "      <th>4</th>\n",
       "      <td>4</td>\n",
       "      <td>5</td>\n",
       "      <td>5268</td>\n",
       "    </tr>\n",
       "  </tbody>\n",
       "</table>\n",
       "</div>"
      ],
      "text/plain": [
       "   ID  shop_id  item_id\n",
       "0   0        5     5037\n",
       "1   1        5     5320\n",
       "2   2        5     5233\n",
       "3   3        5     5232\n",
       "4   4        5     5268"
      ]
     },
     "execution_count": 64,
     "metadata": {},
     "output_type": "execute_result"
    }
   ],
   "source": [
    "X_test.loc[:,['ID','shop_id','item_id']].head()"
   ]
  },
  {
   "cell_type": "code",
   "execution_count": 65,
   "metadata": {},
   "outputs": [],
   "source": [
    "X_test = X_test.drop('ID',axis=1)"
   ]
  },
  {
   "cell_type": "code",
   "execution_count": 69,
   "metadata": {},
   "outputs": [],
   "source": [
    "y_test = gbm.predict(X_test)#,num_iteration=gbm.best_iteration)"
   ]
  },
  {
   "cell_type": "code",
   "execution_count": 70,
   "metadata": {},
   "outputs": [],
   "source": [
    "y_submit = pd.DataFrame({'ID':range(len(y_test)), 'item_cnt_month':y_test})"
   ]
  },
  {
   "cell_type": "code",
   "execution_count": 71,
   "metadata": {},
   "outputs": [],
   "source": [
    "y_submit.to_csv('../data/output/submission_lgbm2.csv',index=False)"
   ]
  },
  {
   "cell_type": "markdown",
   "metadata": {},
   "source": [
    "____"
   ]
  },
  {
   "cell_type": "markdown",
   "metadata": {},
   "source": [
    "# Grid search"
   ]
  },
  {
   "cell_type": "code",
   "execution_count": 7,
   "metadata": {},
   "outputs": [],
   "source": [
    "from sklearn.model_selection import GridSearchCV"
   ]
  },
  {
   "cell_type": "code",
   "execution_count": 8,
   "metadata": {},
   "outputs": [],
   "source": [
    "estimator = lgb.LGBMRegressor(boosting_type='gbdt',\n",
    "                              objective='regression',                              \n",
    "                              num_leaves=31,\n",
    "                              learning_rate=0.01,n_estimators=40)"
   ]
  },
  {
   "cell_type": "code",
   "execution_count": 9,
   "metadata": {},
   "outputs": [],
   "source": [
    "param_grid = {\n",
    "    'learning_rate': [0.01, 0.1, 1],\n",
    "    'n_estimators': [20, 40]\n",
    "}"
   ]
  },
  {
   "cell_type": "code",
   "execution_count": 10,
   "metadata": {
    "collapsed": true
   },
   "outputs": [
    {
     "ename": "KeyboardInterrupt",
     "evalue": "",
     "output_type": "error",
     "traceback": [
      "\u001b[1;31m---------------------------------------------------------------------------\u001b[0m",
      "\u001b[1;31mKeyboardInterrupt\u001b[0m                         Traceback (most recent call last)",
      "\u001b[1;32m<ipython-input-10-323dc9347285>\u001b[0m in \u001b[0;36m<module>\u001b[1;34m()\u001b[0m\n\u001b[0;32m      1\u001b[0m \u001b[0mgsearch\u001b[0m \u001b[1;33m=\u001b[0m \u001b[0mGridSearchCV\u001b[0m\u001b[1;33m(\u001b[0m\u001b[0mestimator\u001b[0m\u001b[1;33m,\u001b[0m \u001b[0mparam_grid\u001b[0m\u001b[1;33m)\u001b[0m\u001b[1;33m\u001b[0m\u001b[0m\n\u001b[1;32m----> 2\u001b[1;33m \u001b[0mgsearch\u001b[0m\u001b[1;33m.\u001b[0m\u001b[0mfit\u001b[0m\u001b[1;33m(\u001b[0m\u001b[0mX_train\u001b[0m\u001b[1;33m,\u001b[0m\u001b[0my_train\u001b[0m\u001b[1;33m)\u001b[0m\u001b[1;33m\u001b[0m\u001b[0m\n\u001b[0m",
      "\u001b[1;32mC:\\Program Files\\Anaconda3\\envs\\py36\\lib\\site-packages\\sklearn\\model_selection\\_search.py\u001b[0m in \u001b[0;36mfit\u001b[1;34m(self, X, y, groups, **fit_params)\u001b[0m\n\u001b[0;32m    637\u001b[0m                                   error_score=self.error_score)\n\u001b[0;32m    638\u001b[0m           for parameters, (train, test) in product(candidate_params,\n\u001b[1;32m--> 639\u001b[1;33m                                                    cv.split(X, y, groups)))\n\u001b[0m\u001b[0;32m    640\u001b[0m \u001b[1;33m\u001b[0m\u001b[0m\n\u001b[0;32m    641\u001b[0m         \u001b[1;31m# if one choose to see train score, \"out\" will contain train score info\u001b[0m\u001b[1;33m\u001b[0m\u001b[1;33m\u001b[0m\u001b[0m\n",
      "\u001b[1;32mC:\\Program Files\\Anaconda3\\envs\\py36\\lib\\site-packages\\sklearn\\externals\\joblib\\parallel.py\u001b[0m in \u001b[0;36m__call__\u001b[1;34m(self, iterable)\u001b[0m\n\u001b[0;32m    777\u001b[0m             \u001b[1;31m# was dispatched. In particular this covers the edge\u001b[0m\u001b[1;33m\u001b[0m\u001b[1;33m\u001b[0m\u001b[0m\n\u001b[0;32m    778\u001b[0m             \u001b[1;31m# case of Parallel used with an exhausted iterator.\u001b[0m\u001b[1;33m\u001b[0m\u001b[1;33m\u001b[0m\u001b[0m\n\u001b[1;32m--> 779\u001b[1;33m             \u001b[1;32mwhile\u001b[0m \u001b[0mself\u001b[0m\u001b[1;33m.\u001b[0m\u001b[0mdispatch_one_batch\u001b[0m\u001b[1;33m(\u001b[0m\u001b[0miterator\u001b[0m\u001b[1;33m)\u001b[0m\u001b[1;33m:\u001b[0m\u001b[1;33m\u001b[0m\u001b[0m\n\u001b[0m\u001b[0;32m    780\u001b[0m                 \u001b[0mself\u001b[0m\u001b[1;33m.\u001b[0m\u001b[0m_iterating\u001b[0m \u001b[1;33m=\u001b[0m \u001b[1;32mTrue\u001b[0m\u001b[1;33m\u001b[0m\u001b[0m\n\u001b[0;32m    781\u001b[0m             \u001b[1;32melse\u001b[0m\u001b[1;33m:\u001b[0m\u001b[1;33m\u001b[0m\u001b[0m\n",
      "\u001b[1;32mC:\\Program Files\\Anaconda3\\envs\\py36\\lib\\site-packages\\sklearn\\externals\\joblib\\parallel.py\u001b[0m in \u001b[0;36mdispatch_one_batch\u001b[1;34m(self, iterator)\u001b[0m\n\u001b[0;32m    623\u001b[0m                 \u001b[1;32mreturn\u001b[0m \u001b[1;32mFalse\u001b[0m\u001b[1;33m\u001b[0m\u001b[0m\n\u001b[0;32m    624\u001b[0m             \u001b[1;32melse\u001b[0m\u001b[1;33m:\u001b[0m\u001b[1;33m\u001b[0m\u001b[0m\n\u001b[1;32m--> 625\u001b[1;33m                 \u001b[0mself\u001b[0m\u001b[1;33m.\u001b[0m\u001b[0m_dispatch\u001b[0m\u001b[1;33m(\u001b[0m\u001b[0mtasks\u001b[0m\u001b[1;33m)\u001b[0m\u001b[1;33m\u001b[0m\u001b[0m\n\u001b[0m\u001b[0;32m    626\u001b[0m                 \u001b[1;32mreturn\u001b[0m \u001b[1;32mTrue\u001b[0m\u001b[1;33m\u001b[0m\u001b[0m\n\u001b[0;32m    627\u001b[0m \u001b[1;33m\u001b[0m\u001b[0m\n",
      "\u001b[1;32mC:\\Program Files\\Anaconda3\\envs\\py36\\lib\\site-packages\\sklearn\\externals\\joblib\\parallel.py\u001b[0m in \u001b[0;36m_dispatch\u001b[1;34m(self, batch)\u001b[0m\n\u001b[0;32m    586\u001b[0m         \u001b[0mdispatch_timestamp\u001b[0m \u001b[1;33m=\u001b[0m \u001b[0mtime\u001b[0m\u001b[1;33m.\u001b[0m\u001b[0mtime\u001b[0m\u001b[1;33m(\u001b[0m\u001b[1;33m)\u001b[0m\u001b[1;33m\u001b[0m\u001b[0m\n\u001b[0;32m    587\u001b[0m         \u001b[0mcb\u001b[0m \u001b[1;33m=\u001b[0m \u001b[0mBatchCompletionCallBack\u001b[0m\u001b[1;33m(\u001b[0m\u001b[0mdispatch_timestamp\u001b[0m\u001b[1;33m,\u001b[0m \u001b[0mlen\u001b[0m\u001b[1;33m(\u001b[0m\u001b[0mbatch\u001b[0m\u001b[1;33m)\u001b[0m\u001b[1;33m,\u001b[0m \u001b[0mself\u001b[0m\u001b[1;33m)\u001b[0m\u001b[1;33m\u001b[0m\u001b[0m\n\u001b[1;32m--> 588\u001b[1;33m         \u001b[0mjob\u001b[0m \u001b[1;33m=\u001b[0m \u001b[0mself\u001b[0m\u001b[1;33m.\u001b[0m\u001b[0m_backend\u001b[0m\u001b[1;33m.\u001b[0m\u001b[0mapply_async\u001b[0m\u001b[1;33m(\u001b[0m\u001b[0mbatch\u001b[0m\u001b[1;33m,\u001b[0m \u001b[0mcallback\u001b[0m\u001b[1;33m=\u001b[0m\u001b[0mcb\u001b[0m\u001b[1;33m)\u001b[0m\u001b[1;33m\u001b[0m\u001b[0m\n\u001b[0m\u001b[0;32m    589\u001b[0m         \u001b[0mself\u001b[0m\u001b[1;33m.\u001b[0m\u001b[0m_jobs\u001b[0m\u001b[1;33m.\u001b[0m\u001b[0mappend\u001b[0m\u001b[1;33m(\u001b[0m\u001b[0mjob\u001b[0m\u001b[1;33m)\u001b[0m\u001b[1;33m\u001b[0m\u001b[0m\n\u001b[0;32m    590\u001b[0m \u001b[1;33m\u001b[0m\u001b[0m\n",
      "\u001b[1;32mC:\\Program Files\\Anaconda3\\envs\\py36\\lib\\site-packages\\sklearn\\externals\\joblib\\_parallel_backends.py\u001b[0m in \u001b[0;36mapply_async\u001b[1;34m(self, func, callback)\u001b[0m\n\u001b[0;32m    109\u001b[0m     \u001b[1;32mdef\u001b[0m \u001b[0mapply_async\u001b[0m\u001b[1;33m(\u001b[0m\u001b[0mself\u001b[0m\u001b[1;33m,\u001b[0m \u001b[0mfunc\u001b[0m\u001b[1;33m,\u001b[0m \u001b[0mcallback\u001b[0m\u001b[1;33m=\u001b[0m\u001b[1;32mNone\u001b[0m\u001b[1;33m)\u001b[0m\u001b[1;33m:\u001b[0m\u001b[1;33m\u001b[0m\u001b[0m\n\u001b[0;32m    110\u001b[0m         \u001b[1;34m\"\"\"Schedule a func to be run\"\"\"\u001b[0m\u001b[1;33m\u001b[0m\u001b[0m\n\u001b[1;32m--> 111\u001b[1;33m         \u001b[0mresult\u001b[0m \u001b[1;33m=\u001b[0m \u001b[0mImmediateResult\u001b[0m\u001b[1;33m(\u001b[0m\u001b[0mfunc\u001b[0m\u001b[1;33m)\u001b[0m\u001b[1;33m\u001b[0m\u001b[0m\n\u001b[0m\u001b[0;32m    112\u001b[0m         \u001b[1;32mif\u001b[0m \u001b[0mcallback\u001b[0m\u001b[1;33m:\u001b[0m\u001b[1;33m\u001b[0m\u001b[0m\n\u001b[0;32m    113\u001b[0m             \u001b[0mcallback\u001b[0m\u001b[1;33m(\u001b[0m\u001b[0mresult\u001b[0m\u001b[1;33m)\u001b[0m\u001b[1;33m\u001b[0m\u001b[0m\n",
      "\u001b[1;32mC:\\Program Files\\Anaconda3\\envs\\py36\\lib\\site-packages\\sklearn\\externals\\joblib\\_parallel_backends.py\u001b[0m in \u001b[0;36m__init__\u001b[1;34m(self, batch)\u001b[0m\n\u001b[0;32m    330\u001b[0m         \u001b[1;31m# Don't delay the application, to avoid keeping the input\u001b[0m\u001b[1;33m\u001b[0m\u001b[1;33m\u001b[0m\u001b[0m\n\u001b[0;32m    331\u001b[0m         \u001b[1;31m# arguments in memory\u001b[0m\u001b[1;33m\u001b[0m\u001b[1;33m\u001b[0m\u001b[0m\n\u001b[1;32m--> 332\u001b[1;33m         \u001b[0mself\u001b[0m\u001b[1;33m.\u001b[0m\u001b[0mresults\u001b[0m \u001b[1;33m=\u001b[0m \u001b[0mbatch\u001b[0m\u001b[1;33m(\u001b[0m\u001b[1;33m)\u001b[0m\u001b[1;33m\u001b[0m\u001b[0m\n\u001b[0m\u001b[0;32m    333\u001b[0m \u001b[1;33m\u001b[0m\u001b[0m\n\u001b[0;32m    334\u001b[0m     \u001b[1;32mdef\u001b[0m \u001b[0mget\u001b[0m\u001b[1;33m(\u001b[0m\u001b[0mself\u001b[0m\u001b[1;33m)\u001b[0m\u001b[1;33m:\u001b[0m\u001b[1;33m\u001b[0m\u001b[0m\n",
      "\u001b[1;32mC:\\Program Files\\Anaconda3\\envs\\py36\\lib\\site-packages\\sklearn\\externals\\joblib\\parallel.py\u001b[0m in \u001b[0;36m__call__\u001b[1;34m(self)\u001b[0m\n\u001b[0;32m    129\u001b[0m \u001b[1;33m\u001b[0m\u001b[0m\n\u001b[0;32m    130\u001b[0m     \u001b[1;32mdef\u001b[0m \u001b[0m__call__\u001b[0m\u001b[1;33m(\u001b[0m\u001b[0mself\u001b[0m\u001b[1;33m)\u001b[0m\u001b[1;33m:\u001b[0m\u001b[1;33m\u001b[0m\u001b[0m\n\u001b[1;32m--> 131\u001b[1;33m         \u001b[1;32mreturn\u001b[0m \u001b[1;33m[\u001b[0m\u001b[0mfunc\u001b[0m\u001b[1;33m(\u001b[0m\u001b[1;33m*\u001b[0m\u001b[0margs\u001b[0m\u001b[1;33m,\u001b[0m \u001b[1;33m**\u001b[0m\u001b[0mkwargs\u001b[0m\u001b[1;33m)\u001b[0m \u001b[1;32mfor\u001b[0m \u001b[0mfunc\u001b[0m\u001b[1;33m,\u001b[0m \u001b[0margs\u001b[0m\u001b[1;33m,\u001b[0m \u001b[0mkwargs\u001b[0m \u001b[1;32min\u001b[0m \u001b[0mself\u001b[0m\u001b[1;33m.\u001b[0m\u001b[0mitems\u001b[0m\u001b[1;33m]\u001b[0m\u001b[1;33m\u001b[0m\u001b[0m\n\u001b[0m\u001b[0;32m    132\u001b[0m \u001b[1;33m\u001b[0m\u001b[0m\n\u001b[0;32m    133\u001b[0m     \u001b[1;32mdef\u001b[0m \u001b[0m__len__\u001b[0m\u001b[1;33m(\u001b[0m\u001b[0mself\u001b[0m\u001b[1;33m)\u001b[0m\u001b[1;33m:\u001b[0m\u001b[1;33m\u001b[0m\u001b[0m\n",
      "\u001b[1;32mC:\\Program Files\\Anaconda3\\envs\\py36\\lib\\site-packages\\sklearn\\externals\\joblib\\parallel.py\u001b[0m in \u001b[0;36m<listcomp>\u001b[1;34m(.0)\u001b[0m\n\u001b[0;32m    129\u001b[0m \u001b[1;33m\u001b[0m\u001b[0m\n\u001b[0;32m    130\u001b[0m     \u001b[1;32mdef\u001b[0m \u001b[0m__call__\u001b[0m\u001b[1;33m(\u001b[0m\u001b[0mself\u001b[0m\u001b[1;33m)\u001b[0m\u001b[1;33m:\u001b[0m\u001b[1;33m\u001b[0m\u001b[0m\n\u001b[1;32m--> 131\u001b[1;33m         \u001b[1;32mreturn\u001b[0m \u001b[1;33m[\u001b[0m\u001b[0mfunc\u001b[0m\u001b[1;33m(\u001b[0m\u001b[1;33m*\u001b[0m\u001b[0margs\u001b[0m\u001b[1;33m,\u001b[0m \u001b[1;33m**\u001b[0m\u001b[0mkwargs\u001b[0m\u001b[1;33m)\u001b[0m \u001b[1;32mfor\u001b[0m \u001b[0mfunc\u001b[0m\u001b[1;33m,\u001b[0m \u001b[0margs\u001b[0m\u001b[1;33m,\u001b[0m \u001b[0mkwargs\u001b[0m \u001b[1;32min\u001b[0m \u001b[0mself\u001b[0m\u001b[1;33m.\u001b[0m\u001b[0mitems\u001b[0m\u001b[1;33m]\u001b[0m\u001b[1;33m\u001b[0m\u001b[0m\n\u001b[0m\u001b[0;32m    132\u001b[0m \u001b[1;33m\u001b[0m\u001b[0m\n\u001b[0;32m    133\u001b[0m     \u001b[1;32mdef\u001b[0m \u001b[0m__len__\u001b[0m\u001b[1;33m(\u001b[0m\u001b[0mself\u001b[0m\u001b[1;33m)\u001b[0m\u001b[1;33m:\u001b[0m\u001b[1;33m\u001b[0m\u001b[0m\n",
      "\u001b[1;32mC:\\Program Files\\Anaconda3\\envs\\py36\\lib\\site-packages\\sklearn\\model_selection\\_validation.py\u001b[0m in \u001b[0;36m_fit_and_score\u001b[1;34m(estimator, X, y, scorer, train, test, verbose, parameters, fit_params, return_train_score, return_parameters, return_n_test_samples, return_times, error_score)\u001b[0m\n\u001b[0;32m    456\u001b[0m             \u001b[0mestimator\u001b[0m\u001b[1;33m.\u001b[0m\u001b[0mfit\u001b[0m\u001b[1;33m(\u001b[0m\u001b[0mX_train\u001b[0m\u001b[1;33m,\u001b[0m \u001b[1;33m**\u001b[0m\u001b[0mfit_params\u001b[0m\u001b[1;33m)\u001b[0m\u001b[1;33m\u001b[0m\u001b[0m\n\u001b[0;32m    457\u001b[0m         \u001b[1;32melse\u001b[0m\u001b[1;33m:\u001b[0m\u001b[1;33m\u001b[0m\u001b[0m\n\u001b[1;32m--> 458\u001b[1;33m             \u001b[0mestimator\u001b[0m\u001b[1;33m.\u001b[0m\u001b[0mfit\u001b[0m\u001b[1;33m(\u001b[0m\u001b[0mX_train\u001b[0m\u001b[1;33m,\u001b[0m \u001b[0my_train\u001b[0m\u001b[1;33m,\u001b[0m \u001b[1;33m**\u001b[0m\u001b[0mfit_params\u001b[0m\u001b[1;33m)\u001b[0m\u001b[1;33m\u001b[0m\u001b[0m\n\u001b[0m\u001b[0;32m    459\u001b[0m \u001b[1;33m\u001b[0m\u001b[0m\n\u001b[0;32m    460\u001b[0m     \u001b[1;32mexcept\u001b[0m \u001b[0mException\u001b[0m \u001b[1;32mas\u001b[0m \u001b[0me\u001b[0m\u001b[1;33m:\u001b[0m\u001b[1;33m\u001b[0m\u001b[0m\n",
      "\u001b[1;32mC:\\Program Files\\Anaconda3\\envs\\py36\\lib\\site-packages\\lightgbm\\sklearn.py\u001b[0m in \u001b[0;36mfit\u001b[1;34m(self, X, y, sample_weight, init_score, eval_set, eval_names, eval_sample_weight, eval_init_score, eval_metric, early_stopping_rounds, verbose, feature_name, categorical_feature, callbacks)\u001b[0m\n\u001b[0;32m    616\u001b[0m                                        \u001b[0mverbose\u001b[0m\u001b[1;33m=\u001b[0m\u001b[0mverbose\u001b[0m\u001b[1;33m,\u001b[0m \u001b[0mfeature_name\u001b[0m\u001b[1;33m=\u001b[0m\u001b[0mfeature_name\u001b[0m\u001b[1;33m,\u001b[0m\u001b[1;33m\u001b[0m\u001b[0m\n\u001b[0;32m    617\u001b[0m                                        \u001b[0mcategorical_feature\u001b[0m\u001b[1;33m=\u001b[0m\u001b[0mcategorical_feature\u001b[0m\u001b[1;33m,\u001b[0m\u001b[1;33m\u001b[0m\u001b[0m\n\u001b[1;32m--> 618\u001b[1;33m                                        callbacks=callbacks)\n\u001b[0m\u001b[0;32m    619\u001b[0m         \u001b[1;32mreturn\u001b[0m \u001b[0mself\u001b[0m\u001b[1;33m\u001b[0m\u001b[0m\n\u001b[0;32m    620\u001b[0m \u001b[1;33m\u001b[0m\u001b[0m\n",
      "\u001b[1;32mC:\\Program Files\\Anaconda3\\envs\\py36\\lib\\site-packages\\lightgbm\\sklearn.py\u001b[0m in \u001b[0;36mfit\u001b[1;34m(self, X, y, sample_weight, init_score, group, eval_set, eval_names, eval_sample_weight, eval_class_weight, eval_init_score, eval_group, eval_metric, early_stopping_rounds, verbose, feature_name, categorical_feature, callbacks)\u001b[0m\n\u001b[0;32m    471\u001b[0m                               \u001b[0mverbose_eval\u001b[0m\u001b[1;33m=\u001b[0m\u001b[0mverbose\u001b[0m\u001b[1;33m,\u001b[0m \u001b[0mfeature_name\u001b[0m\u001b[1;33m=\u001b[0m\u001b[0mfeature_name\u001b[0m\u001b[1;33m,\u001b[0m\u001b[1;33m\u001b[0m\u001b[0m\n\u001b[0;32m    472\u001b[0m                               \u001b[0mcategorical_feature\u001b[0m\u001b[1;33m=\u001b[0m\u001b[0mcategorical_feature\u001b[0m\u001b[1;33m,\u001b[0m\u001b[1;33m\u001b[0m\u001b[0m\n\u001b[1;32m--> 473\u001b[1;33m                               callbacks=callbacks)\n\u001b[0m\u001b[0;32m    474\u001b[0m \u001b[1;33m\u001b[0m\u001b[0m\n\u001b[0;32m    475\u001b[0m         \u001b[1;32mif\u001b[0m \u001b[0mevals_result\u001b[0m\u001b[1;33m:\u001b[0m\u001b[1;33m\u001b[0m\u001b[0m\n",
      "\u001b[1;32mC:\\Program Files\\Anaconda3\\envs\\py36\\lib\\site-packages\\lightgbm\\engine.py\u001b[0m in \u001b[0;36mtrain\u001b[1;34m(params, train_set, num_boost_round, valid_sets, valid_names, fobj, feval, init_model, feature_name, categorical_feature, early_stopping_rounds, evals_result, verbose_eval, learning_rates, keep_training_booster, callbacks)\u001b[0m\n\u001b[0;32m    178\u001b[0m     \u001b[1;31m# construct booster\u001b[0m\u001b[1;33m\u001b[0m\u001b[1;33m\u001b[0m\u001b[0m\n\u001b[0;32m    179\u001b[0m     \u001b[1;32mtry\u001b[0m\u001b[1;33m:\u001b[0m\u001b[1;33m\u001b[0m\u001b[0m\n\u001b[1;32m--> 180\u001b[1;33m         \u001b[0mbooster\u001b[0m \u001b[1;33m=\u001b[0m \u001b[0mBooster\u001b[0m\u001b[1;33m(\u001b[0m\u001b[0mparams\u001b[0m\u001b[1;33m=\u001b[0m\u001b[0mparams\u001b[0m\u001b[1;33m,\u001b[0m \u001b[0mtrain_set\u001b[0m\u001b[1;33m=\u001b[0m\u001b[0mtrain_set\u001b[0m\u001b[1;33m)\u001b[0m\u001b[1;33m\u001b[0m\u001b[0m\n\u001b[0m\u001b[0;32m    181\u001b[0m         \u001b[1;32mif\u001b[0m \u001b[0mis_valid_contain_train\u001b[0m\u001b[1;33m:\u001b[0m\u001b[1;33m\u001b[0m\u001b[0m\n\u001b[0;32m    182\u001b[0m             \u001b[0mbooster\u001b[0m\u001b[1;33m.\u001b[0m\u001b[0mset_train_data_name\u001b[0m\u001b[1;33m(\u001b[0m\u001b[0mtrain_data_name\u001b[0m\u001b[1;33m)\u001b[0m\u001b[1;33m\u001b[0m\u001b[0m\n",
      "\u001b[1;32mC:\\Program Files\\Anaconda3\\envs\\py36\\lib\\site-packages\\lightgbm\\basic.py\u001b[0m in \u001b[0;36m__init__\u001b[1;34m(self, params, train_set, model_file, silent)\u001b[0m\n\u001b[0;32m   1300\u001b[0m             \u001b[0mself\u001b[0m\u001b[1;33m.\u001b[0m\u001b[0mhandle\u001b[0m \u001b[1;33m=\u001b[0m \u001b[0mctypes\u001b[0m\u001b[1;33m.\u001b[0m\u001b[0mc_void_p\u001b[0m\u001b[1;33m(\u001b[0m\u001b[1;33m)\u001b[0m\u001b[1;33m\u001b[0m\u001b[0m\n\u001b[0;32m   1301\u001b[0m             _safe_call(_LIB.LGBM_BoosterCreate(\n\u001b[1;32m-> 1302\u001b[1;33m                 \u001b[0mtrain_set\u001b[0m\u001b[1;33m.\u001b[0m\u001b[0mconstruct\u001b[0m\u001b[1;33m(\u001b[0m\u001b[1;33m)\u001b[0m\u001b[1;33m.\u001b[0m\u001b[0mhandle\u001b[0m\u001b[1;33m,\u001b[0m\u001b[1;33m\u001b[0m\u001b[0m\n\u001b[0m\u001b[0;32m   1303\u001b[0m                 \u001b[0mc_str\u001b[0m\u001b[1;33m(\u001b[0m\u001b[0mparams_str\u001b[0m\u001b[1;33m)\u001b[0m\u001b[1;33m,\u001b[0m\u001b[1;33m\u001b[0m\u001b[0m\n\u001b[0;32m   1304\u001b[0m                 ctypes.byref(self.handle)))\n",
      "\u001b[1;32mC:\\Program Files\\Anaconda3\\envs\\py36\\lib\\site-packages\\lightgbm\\basic.py\u001b[0m in \u001b[0;36mconstruct\u001b[1;34m(self)\u001b[0m\n\u001b[0;32m    855\u001b[0m                                 \u001b[0mpredictor\u001b[0m\u001b[1;33m=\u001b[0m\u001b[0mself\u001b[0m\u001b[1;33m.\u001b[0m\u001b[0m_predictor\u001b[0m\u001b[1;33m,\u001b[0m \u001b[0msilent\u001b[0m\u001b[1;33m=\u001b[0m\u001b[0mself\u001b[0m\u001b[1;33m.\u001b[0m\u001b[0msilent\u001b[0m\u001b[1;33m,\u001b[0m \u001b[0mfeature_name\u001b[0m\u001b[1;33m=\u001b[0m\u001b[0mself\u001b[0m\u001b[1;33m.\u001b[0m\u001b[0mfeature_name\u001b[0m\u001b[1;33m,\u001b[0m\u001b[1;33m\u001b[0m\u001b[0m\n\u001b[0;32m    856\u001b[0m                                 categorical_feature=self.categorical_feature, params=self.params)\n\u001b[1;32m--> 857\u001b[1;33m             \u001b[1;32mif\u001b[0m \u001b[0mself\u001b[0m\u001b[1;33m.\u001b[0m\u001b[0mfree_raw_data\u001b[0m\u001b[1;33m:\u001b[0m\u001b[1;33m\u001b[0m\u001b[0m\n\u001b[0m\u001b[0;32m    858\u001b[0m                 \u001b[0mself\u001b[0m\u001b[1;33m.\u001b[0m\u001b[0mdata\u001b[0m \u001b[1;33m=\u001b[0m \u001b[1;32mNone\u001b[0m\u001b[1;33m\u001b[0m\u001b[0m\n\u001b[0;32m    859\u001b[0m         \u001b[1;32mreturn\u001b[0m \u001b[0mself\u001b[0m\u001b[1;33m\u001b[0m\u001b[0m\n",
      "\u001b[1;31mKeyboardInterrupt\u001b[0m: "
     ]
    }
   ],
   "source": [
    "gsearch = GridSearchCV(estimator, param_grid) ## memory use a lot\n",
    "gsearch.fit(X_train,y_train)"
   ]
  },
  {
   "cell_type": "code",
   "execution_count": 11,
   "metadata": {},
   "outputs": [
    {
     "data": {
      "text/plain": [
       "352"
      ]
     },
     "execution_count": 11,
     "metadata": {},
     "output_type": "execute_result"
    }
   ],
   "source": [
    "gc.collect()"
   ]
  },
  {
   "cell_type": "markdown",
   "metadata": {},
   "source": [
    "# HyperOpt"
   ]
  },
  {
   "cell_type": "code",
   "execution_count": 38,
   "metadata": {},
   "outputs": [],
   "source": [
    "from hyperopt import fmin,tpe,hp,Trials, STATUS_OK"
   ]
  },
  {
   "cell_type": "code",
   "execution_count": 7,
   "metadata": {},
   "outputs": [
    {
     "data": {
      "text/plain": [
       "<hyperopt.pyll.base.Apply at 0x9cd84c2080>"
      ]
     },
     "execution_count": 7,
     "metadata": {},
     "output_type": "execute_result"
    }
   ],
   "source": [
    "# from sklearn.metrics import mean_squared_error\n",
    "# import xgboost as xgb\n",
    "# from hyperopt import hp, fmin, tpe, STATUS_OK, Trials\n",
    "# import numpy as np\n",
    "\n",
    "# def objective(space):\n",
    "#     ## stolen from :\n",
    "#     print(space)\n",
    "#     clf = xgb.XGBRegressor(n_estimators =1000,colsample_bytree=space['colsample_bytree'],\n",
    "#                            learning_rate = .3,\n",
    "#                             max_depth = int(space['max_depth']),\n",
    "#                             min_child_weight = space['min_child_weight'],\n",
    "#                             subsample = space['subsample'],\n",
    "#                            gamma = space['gamma'],\n",
    "#                            reg_lambda = space['reg_lambda'],)\n",
    "\n",
    "#     eval_set  = [( X, y), ( Xcv, ycv)]\n",
    "\n",
    "#     clf.fit(X, y,\n",
    "#             eval_set=eval_set, eval_metric=\"rmse\",\n",
    "#             early_stopping_rounds=10,verbose=False)\n",
    "\n",
    "#     pred = clf.predict(Xcv)\n",
    "#     mse_scr = mean_squared_error(ycv, pred)\n",
    "#     print \"SCORE:\", np.sqrt(mse_scr)\n",
    "#     #change the metric if you like\n",
    "#     return {'loss':mse_scr, 'status': STATUS_OK }\n",
    "\n",
    "\n",
    "# space ={'max_depth': hp.quniform(\"x_max_depth\", 4, 16, 1),\n",
    "#         'min_child_weight': hp.quniform ('x_min_child', 1, 10, 1),\n",
    "#         'subsample': hp.uniform ('x_subsample', 0.7, 1),\n",
    "#         'gamma' : hp.uniform ('x_gamma', 0.1,0.5),\n",
    "#         'colsample_bytree' : hp.uniform ('x_colsample_bytree', 0.7,1),\n",
    "#         'reg_lambda' : hp.uniform ('x_reg_lambda', 0,1)\n",
    "#     }\n",
    "\n",
    "\n",
    "# trials = Trials()\n",
    "# best = fmin(fn=objective,\n",
    "#             space=space,\n",
    "#             algo=tpe.suggest,\n",
    "#             max_evals=100,\n",
    "#             trials=trials)\n",
    "\n",
    "# print best"
   ]
  },
  {
   "cell_type": "code",
   "execution_count": 3,
   "metadata": {},
   "outputs": [],
   "source": [
    "import pickle\n",
    "import time\n",
    "from hyperopt import fmin, tpe, hp, STATUS_OK\n",
    "\n",
    "def objective(x):\n",
    "    return {'loss': x ** 2, 'status': STATUS_OK }\n",
    "\n",
    "best = fmin(objective,\n",
    "    space=hp.uniform('x', -10, 10),\n",
    "    algo=tpe.suggest,\n",
    "    max_evals=100)"
   ]
  },
  {
   "cell_type": "code",
   "execution_count": 11,
   "metadata": {},
   "outputs": [
    {
     "data": {
      "text/plain": [
       "'ok'"
      ]
     },
     "execution_count": 11,
     "metadata": {},
     "output_type": "execute_result"
    }
   ],
   "source": [
    "STATUS_OK"
   ]
  },
  {
   "cell_type": "code",
   "execution_count": 10,
   "metadata": {},
   "outputs": [],
   "source": [
    "from sklearn.metrics import mean_squared_error"
   ]
  },
  {
   "cell_type": "code",
   "execution_count": 34,
   "metadata": {},
   "outputs": [],
   "source": [
    "import numpy as np "
   ]
  },
  {
   "cell_type": "code",
   "execution_count": null,
   "metadata": {},
   "outputs": [],
   "source": [
    "params = {\n",
    "    'task': 'train',\n",
    "    'boosting_type': 'gbdt',\n",
    "    'objective': 'regression',\n",
    "    'metric': {'l2', 'mse'},\n",
    "    'num_leaves': 31,\n",
    "    'learning_rate': 0.05,\n",
    "    'feature_fraction': 0.9,\n",
    "    'bagging_fraction': 0.8,\n",
    "    'bagging_freq': 5,\n",
    "    'verbose': 0\n",
    "}"
   ]
  },
  {
   "cell_type": "code",
   "execution_count": 102,
   "metadata": {},
   "outputs": [],
   "source": [
    "def lgbm_objective(params):\n",
    "    ## stolen from :https://github.com/hyperopt/hyperopt/issues/357\n",
    "    lgb_train = lgb.Dataset(X_train,y_train)\n",
    "    lgb_cv = lgb.Dataset(X_cv,y_cv,reference=lgb_train)\n",
    "    params_set = {\n",
    "        'bossting_type':'gbdt',\n",
    "        'objective': 'regression',\n",
    "        'metric': 'rmse',        \n",
    "        'max_depth' : int(params['max_depth']),\n",
    "        'num_leaves': int(params['num_leaves']),\n",
    "        'feature_fraction': '{:.3f}'.format(params['feature_fraction']),\n",
    "        'bagging_fraction' : '{:.3f}'.format(params['bagging_fraction']),\n",
    "        'reg_lambda' : '{:.3f}'.format(params['reg_lambda']),\n",
    "        'gamma' : '{:.3f}'.format(params['gamma'])        \n",
    "    }\n",
    "    reg = lgb.train(params_set,\n",
    "                    early_stopping_rounds = 5,\n",
    "                    train_set = lgb_train,\n",
    "                    valid_sets=lgb_cv,\n",
    "                    verbose_eval = False)\n",
    "#     score = cross_val_score(reg, X_train,y_train, cv=StratifiedKFold()).mean()\n",
    "    print('params:{}'.format(params))\n",
    "    pred = reg.predict(X_cv, num_iteration=reg.best_iteration)\n",
    "    mse = mean_squared_error(y_cv, pred)\n",
    "    rmse = mse**0.5\n",
    "    print(\"SCORE:{:.5f}\".format(rmse))\n",
    "    return {'loss':rmse, 'status': STATUS_OK }"
   ]
  },
  {
   "cell_type": "code",
   "execution_count": 103,
   "metadata": {},
   "outputs": [
    {
     "name": "stdout",
     "output_type": "stream",
     "text": [
      "params:{'bagging_fraction': 0.8460151149931732, 'feature_fraction': 0.8427806633874917, 'gamma': 0.24601059580847584, 'max_depth': 12.0, 'num_leaves': 60.0, 'reg_lambda': 0.5178707655430725}\n",
      "SCORE:0.93338\n",
      "params:{'bagging_fraction': 0.7946363213572958, 'feature_fraction': 0.44432171431103207, 'gamma': 0.30905812049880055, 'max_depth': 5.0, 'num_leaves': 110.0, 'reg_lambda': 0.3532894187706621}\n",
      "SCORE:0.93351\n",
      "params:{'bagging_fraction': 0.8994224108856765, 'feature_fraction': 0.9306706501441817, 'gamma': 0.17464294503316152, 'max_depth': 13.0, 'num_leaves': 120.0, 'reg_lambda': 0.2816150459059076}\n",
      "SCORE:0.93293\n",
      "params:{'bagging_fraction': 0.9487511904150518, 'feature_fraction': 0.3868872691181628, 'gamma': 0.4543479971044322, 'max_depth': 16.0, 'num_leaves': 44.0, 'reg_lambda': 0.8781978025348828}\n",
      "SCORE:0.93484\n",
      "params:{'bagging_fraction': 0.7408426448796761, 'feature_fraction': 0.49194718434949414, 'gamma': 0.39565802025828833, 'max_depth': 14.0, 'num_leaves': 122.0, 'reg_lambda': 0.8045362587737287}\n",
      "SCORE:0.92951\n",
      "params:{'bagging_fraction': 0.8880366559813849, 'feature_fraction': 0.6917870721101059, 'gamma': 0.17036667366569636, 'max_depth': 9.0, 'num_leaves': 68.0, 'reg_lambda': 0.14881954432939637}\n",
      "SCORE:0.92390\n",
      "params:{'bagging_fraction': 0.8315166739413951, 'feature_fraction': 0.8536390760941082, 'gamma': 0.1529025724449336, 'max_depth': 12.0, 'num_leaves': 44.0, 'reg_lambda': 0.4497002669306278}\n",
      "SCORE:0.92948\n",
      "params:{'bagging_fraction': 0.9134910701143091, 'feature_fraction': 0.5602549607247326, 'gamma': 0.18180093319687862, 'max_depth': 13.0, 'num_leaves': 60.0, 'reg_lambda': 0.055101286776568004}\n",
      "SCORE:0.92429\n",
      "params:{'bagging_fraction': 0.749852974071261, 'feature_fraction': 0.738158610724822, 'gamma': 0.3589091676926428, 'max_depth': 14.0, 'num_leaves': 126.0, 'reg_lambda': 0.9839340701328092}\n",
      "SCORE:0.93610\n",
      "params:{'bagging_fraction': 0.8884279253931876, 'feature_fraction': 0.815554222427761, 'gamma': 0.23374816101199897, 'max_depth': 7.0, 'num_leaves': 116.0, 'reg_lambda': 0.7943732403433286}\n",
      "SCORE:0.92553\n",
      "params:{'bagging_fraction': 0.8630901701322066, 'feature_fraction': 0.41177942629635544, 'gamma': 0.4311998951724475, 'max_depth': 10.0, 'num_leaves': 78.0, 'reg_lambda': 0.6323448048099058}\n",
      "SCORE:0.92452\n",
      "params:{'bagging_fraction': 0.7516519631612291, 'feature_fraction': 0.8695277850601091, 'gamma': 0.23469875131192947, 'max_depth': 13.0, 'num_leaves': 46.0, 'reg_lambda': 0.0341630563131311}\n",
      "SCORE:0.93322\n",
      "params:{'bagging_fraction': 0.9568845079308161, 'feature_fraction': 0.6203248801718259, 'gamma': 0.39624896070423066, 'max_depth': 12.0, 'num_leaves': 64.0, 'reg_lambda': 0.38856229720270463}\n",
      "SCORE:0.92296\n",
      "params:{'bagging_fraction': 0.9792699836854859, 'feature_fraction': 0.35986754328731047, 'gamma': 0.48330132910414425, 'max_depth': 14.0, 'num_leaves': 24.0, 'reg_lambda': 0.01767648441488423}\n",
      "SCORE:0.93154\n",
      "params:{'bagging_fraction': 0.7072499087632067, 'feature_fraction': 0.6060392820772484, 'gamma': 0.285024605636254, 'max_depth': 13.0, 'num_leaves': 86.0, 'reg_lambda': 0.8078603564275328}\n",
      "SCORE:0.93598\n",
      "params:{'bagging_fraction': 0.886302346025307, 'feature_fraction': 0.9134301401589531, 'gamma': 0.3899825701924675, 'max_depth': 15.0, 'num_leaves': 128.0, 'reg_lambda': 0.8244108779177356}\n",
      "SCORE:0.93459\n",
      "params:{'bagging_fraction': 0.8234084515875041, 'feature_fraction': 0.4277277021599127, 'gamma': 0.47088421042263107, 'max_depth': 14.0, 'num_leaves': 76.0, 'reg_lambda': 0.4700046980577991}\n",
      "SCORE:0.92992\n",
      "params:{'bagging_fraction': 0.9249564237016872, 'feature_fraction': 0.5502056716884239, 'gamma': 0.26169370828393435, 'max_depth': 5.0, 'num_leaves': 122.0, 'reg_lambda': 0.8450763951657488}\n",
      "SCORE:0.93408\n",
      "params:{'bagging_fraction': 0.9829504898848597, 'feature_fraction': 0.7102388972846364, 'gamma': 0.3230952242383734, 'max_depth': 8.0, 'num_leaves': 56.0, 'reg_lambda': 0.4867368839137176}\n",
      "SCORE:0.93262\n",
      "params:{'bagging_fraction': 0.9888483777219288, 'feature_fraction': 0.6412277451920444, 'gamma': 0.2782745212101092, 'max_depth': 12.0, 'num_leaves': 74.0, 'reg_lambda': 0.40811421415647375}\n",
      "SCORE:0.93106\n",
      "params:{'bagging_fraction': 0.9492477540123592, 'feature_fraction': 0.73046567540907, 'gamma': 0.10577160802640605, 'max_depth': 10.0, 'num_leaves': 94.0, 'reg_lambda': 0.17215985927704755}\n",
      "SCORE:0.93090\n",
      "params:{'bagging_fraction': 0.9545850390893401, 'feature_fraction': 0.30207519751538414, 'gamma': 0.10768823604159924, 'max_depth': 8.0, 'num_leaves': 22.0, 'reg_lambda': 0.1819020589976119}\n",
      "SCORE:0.93406\n",
      "params:{'bagging_fraction': 0.86474403715681, 'feature_fraction': 0.7771748986688192, 'gamma': 0.34376104734284496, 'max_depth': 9.0, 'num_leaves': 100.0, 'reg_lambda': 0.17141243969810885}\n",
      "SCORE:0.92911\n",
      "params:{'bagging_fraction': 0.9336461966068362, 'feature_fraction': 0.6791275813874472, 'gamma': 0.41550487015882903, 'max_depth': 11.0, 'num_leaves': 12.0, 'reg_lambda': 0.6016295457657669}\n",
      "SCORE:0.94197\n",
      "params:{'bagging_fraction': 0.8005245276379108, 'feature_fraction': 0.6070244780120437, 'gamma': 0.36495067535484066, 'max_depth': 6.0, 'num_leaves': 32.0, 'reg_lambda': 0.2919220101539945}\n",
      "SCORE:0.92931\n",
      "params:{'bagging_fraction': 0.9667362601763565, 'feature_fraction': 0.5343122814640278, 'gamma': 0.21042183219565758, 'max_depth': 11.0, 'num_leaves': 68.0, 'reg_lambda': 0.10538655803301858}\n",
      "SCORE:0.92621\n",
      "params:{'bagging_fraction': 0.9965679899587093, 'feature_fraction': 0.6540822125997581, 'gamma': 0.4416662399625228, 'max_depth': 9.0, 'num_leaves': 86.0, 'reg_lambda': 0.2700596945512628}\n",
      "SCORE:0.92841\n",
      "params:{'bagging_fraction': 0.907777144592487, 'feature_fraction': 0.7779369523810559, 'gamma': 0.14350928939207158, 'max_depth': 9.0, 'num_leaves': 50.0, 'reg_lambda': 0.6156678907282831}\n",
      "SCORE:0.93376\n",
      "params:{'bagging_fraction': 0.8657296505952833, 'feature_fraction': 0.5967009772232418, 'gamma': 0.20567428325364298, 'max_depth': 11.0, 'num_leaves': 64.0, 'reg_lambda': 0.567183689736577}\n",
      "SCORE:0.93218\n",
      "params:{'bagging_fraction': 0.9326962763809006, 'feature_fraction': 0.5070722522425057, 'gamma': 0.49580416851617487, 'max_depth': 7.0, 'num_leaves': 34.0, 'reg_lambda': 0.3584287233902522}\n",
      "SCORE:0.93345\n",
      "params:{'bagging_fraction': 0.8395534938568388, 'feature_fraction': 0.9789608265649999, 'gamma': 0.32617902182670966, 'max_depth': 4.0, 'num_leaves': 106.0, 'reg_lambda': 0.3599777725879363}\n",
      "SCORE:0.94189\n",
      "params:{'bagging_fraction': 0.8027896922675237, 'feature_fraction': 0.4717194886137138, 'gamma': 0.304247944020708, 'max_depth': 12.0, 'num_leaves': 86.0, 'reg_lambda': 0.689321209578682}\n",
      "SCORE:0.93112\n",
      "params:{'bagging_fraction': 0.890567207283364, 'feature_fraction': 0.6873772663552801, 'gamma': 0.38551949049535805, 'max_depth': 16.0, 'num_leaves': 56.0, 'reg_lambda': 0.2441560411242592}\n",
      "SCORE:0.92877\n",
      "params:{'bagging_fraction': 0.7774246309780541, 'feature_fraction': 0.7658947516600132, 'gamma': 0.141559522515675, 'max_depth': 8.0, 'num_leaves': 34.0, 'reg_lambda': 0.09748236401382138}\n",
      "SCORE:0.93254\n",
      "params:{'bagging_fraction': 0.9668981368577407, 'feature_fraction': 0.8156094794815044, 'gamma': 0.41054867615577934, 'max_depth': 10.0, 'num_leaves': 98.0, 'reg_lambda': 0.5461563542286202}\n",
      "SCORE:0.92868\n",
      "params:{'bagging_fraction': 0.8197510520238427, 'feature_fraction': 0.9856668971671727, 'gamma': 0.17685885148120686, 'max_depth': 15.0, 'num_leaves': 68.0, 'reg_lambda': 0.7216547620696793}\n",
      "SCORE:0.93213\n",
      "params:{'bagging_fraction': 0.9174412358621238, 'feature_fraction': 0.578404995231325, 'gamma': 0.4645750693293782, 'max_depth': 12.0, 'num_leaves': 52.0, 'reg_lambda': 0.3971126031909686}\n",
      "SCORE:0.92787\n",
      "params:{'bagging_fraction': 0.8543298448850681, 'feature_fraction': 0.8998980882147943, 'gamma': 0.2583866514871057, 'max_depth': 6.0, 'num_leaves': 42.0, 'reg_lambda': 0.21206161036473642}\n",
      "SCORE:0.93075\n",
      "params:{'bagging_fraction': 0.879417280027246, 'feature_fraction': 0.6509465497120129, 'gamma': 0.3507227113781084, 'max_depth': 11.0, 'num_leaves': 80.0, 'reg_lambda': 0.3148978403504708}\n",
      "SCORE:0.93128\n",
      "params:{'bagging_fraction': 0.9334714986073755, 'feature_fraction': 0.3532491083417337, 'gamma': 0.20464703527072564, 'max_depth': 7.0, 'num_leaves': 64.0, 'reg_lambda': 0.12645943124726344}\n",
      "SCORE:0.93699\n",
      "params:{'bagging_fraction': 0.9103907252098883, 'feature_fraction': 0.5144292084402269, 'gamma': 0.11858119814127588, 'max_depth': 9.0, 'num_leaves': 8.0, 'reg_lambda': 0.9898919134577346}\n"
     ]
    },
    {
     "name": "stdout",
     "output_type": "stream",
     "text": [
      "SCORE:0.95030\n",
      "params:{'bagging_fraction': 0.9993507342849083, 'feature_fraction': 0.82587553407689, 'gamma': 0.16011545601200106, 'max_depth': 15.0, 'num_leaves': 108.0, 'reg_lambda': 0.426209054481027}\n",
      "SCORE:0.93558\n",
      "params:{'bagging_fraction': 0.7005601057321159, 'feature_fraction': 0.4786373593854183, 'gamma': 0.38045165222442645, 'max_depth': 13.0, 'num_leaves': 92.0, 'reg_lambda': 0.9108965249808549}\n",
      "SCORE:0.93080\n",
      "params:{'bagging_fraction': 0.90095845688285, 'feature_fraction': 0.8604838642395956, 'gamma': 0.32760502981527456, 'max_depth': 10.0, 'num_leaves': 40.0, 'reg_lambda': 8.594886003798763e-06}\n",
      "SCORE:0.92835\n",
      "params:{'bagging_fraction': 0.726831091241271, 'feature_fraction': 0.7307735605541289, 'gamma': 0.28801038586602246, 'max_depth': 6.0, 'num_leaves': 82.0, 'reg_lambda': 0.06213711415080825}\n",
      "SCORE:0.92953\n",
      "params:{'bagging_fraction': 0.9663375507516703, 'feature_fraction': 0.944412204410428, 'gamma': 0.4336892486435121, 'max_depth': 13.0, 'num_leaves': 74.0, 'reg_lambda': 0.5151873259832065}\n",
      "SCORE:0.93783\n",
      "params:{'bagging_fraction': 0.7798485039040007, 'feature_fraction': 0.4529811511904339, 'gamma': 0.24547932036254255, 'max_depth': 12.0, 'num_leaves': 26.0, 'reg_lambda': 0.3238338658944341}\n",
      "SCORE:0.93658\n",
      "params:{'bagging_fraction': 0.8728174587429395, 'feature_fraction': 0.6261931011846782, 'gamma': 0.4955795711568992, 'max_depth': 8.0, 'num_leaves': 60.0, 'reg_lambda': 0.24277030999155602}\n",
      "SCORE:0.92789\n",
      "params:{'bagging_fraction': 0.8450743607239108, 'feature_fraction': 0.5698165429111314, 'gamma': 0.36781440879937016, 'max_depth': 16.0, 'num_leaves': 50.0, 'reg_lambda': 0.6806737916630929}\n",
      "SCORE:0.92940\n",
      "params:{'bagging_fraction': 0.9414172186643308, 'feature_fraction': 0.39414174687414694, 'gamma': 0.2195468504186403, 'max_depth': 5.0, 'num_leaves': 116.0, 'reg_lambda': 0.06394404874893835}\n",
      "SCORE:0.93730\n",
      "params:{'bagging_fraction': 0.8959479397388423, 'feature_fraction': 0.6677289654326105, 'gamma': 0.40872446615932956, 'max_depth': 14.0, 'num_leaves': 72.0, 'reg_lambda': 0.4622287230957867}\n",
      "SCORE:0.93047\n",
      "params:{'bagging_fraction': 0.9214724471354282, 'feature_fraction': 0.708354553579767, 'gamma': 0.18575551028901297, 'max_depth': 4.0, 'num_leaves': 16.0, 'reg_lambda': 0.7594666532478125}\n",
      "SCORE:0.94224\n",
      "params:{'bagging_fraction': 0.955748355841117, 'feature_fraction': 0.5392445178656222, 'gamma': 0.4475454530339402, 'max_depth': 13.0, 'num_leaves': 94.0, 'reg_lambda': 0.1347160297931122}\n",
      "SCORE:0.92823\n",
      "params:{'bagging_fraction': 0.8158058512330153, 'feature_fraction': 0.763988030667959, 'gamma': 0.2769953169815216, 'max_depth': 11.0, 'num_leaves': 60.0, 'reg_lambda': 0.3858315495166853}\n",
      "SCORE:0.92669\n",
      "params:{'bagging_fraction': 0.9774641957658936, 'feature_fraction': 0.32915231781506743, 'gamma': 0.31462040381322276, 'max_depth': 7.0, 'num_leaves': 104.0, 'reg_lambda': 0.20215649882918124}\n",
      "SCORE:0.93321\n",
      "params:{'bagging_fraction': 0.8529484933002447, 'feature_fraction': 0.8901294446059604, 'gamma': 0.1255300410474135, 'max_depth': 9.0, 'num_leaves': 38.0, 'reg_lambda': 0.5413741817573232}\n",
      "SCORE:0.93277\n",
      "params:{'bagging_fraction': 0.8346395217191349, 'feature_fraction': 0.796120629989902, 'gamma': 0.33958632619322215, 'max_depth': 10.0, 'num_leaves': 46.0, 'reg_lambda': 0.32351943765254354}\n",
      "SCORE:0.93139\n",
      "params:{'bagging_fraction': 0.9907224361147262, 'feature_fraction': 0.7115262230992, 'gamma': 0.46936423008375217, 'max_depth': 15.0, 'num_leaves': 90.0, 'reg_lambda': 0.9236368576727415}\n",
      "SCORE:0.92580\n",
      "params:{'bagging_fraction': 0.884909513183909, 'feature_fraction': 0.5921359340320358, 'gamma': 0.22621300886908258, 'max_depth': 14.0, 'num_leaves': 56.0, 'reg_lambda': 0.42719243997570533}\n",
      "SCORE:0.92792\n",
      "params:{'bagging_fraction': 0.7744886885590135, 'feature_fraction': 0.9455265819556408, 'gamma': 0.42575946093343864, 'max_depth': 12.0, 'num_leaves': 28.0, 'reg_lambda': 0.021528734171413877}\n",
      "SCORE:0.93097\n",
      "params:{'bagging_fraction': 0.7619024094745201, 'feature_fraction': 0.6294370151606581, 'gamma': 0.4010842345026775, 'max_depth': 11.0, 'num_leaves': 70.0, 'reg_lambda': 0.1465602387652954}\n",
      "SCORE:0.92965\n",
      "params:{'bagging_fraction': 0.9053734648895122, 'feature_fraction': 0.43322329458370135, 'gamma': 0.19435688714466423, 'max_depth': 8.0, 'num_leaves': 64.0, 'reg_lambda': 0.27304772004700767}\n",
      "SCORE:0.92741\n",
      "params:{'bagging_fraction': 0.941187798636438, 'feature_fraction': 0.8354224177907255, 'gamma': 0.16066769228585198, 'max_depth': 10.0, 'num_leaves': 20.0, 'reg_lambda': 0.4934778302138114}\n",
      "SCORE:0.93379\n",
      "params:{'bagging_fraction': 0.9242138550202031, 'feature_fraction': 0.7505183555486518, 'gamma': 0.2665603727969687, 'max_depth': 5.0, 'num_leaves': 118.0, 'reg_lambda': 0.6552666549401214}\n",
      "SCORE:0.93525\n",
      "params:{'bagging_fraction': 0.9756077355745022, 'feature_fraction': 0.7920921303434063, 'gamma': 0.3789305465728021, 'max_depth': 9.0, 'num_leaves': 112.0, 'reg_lambda': 0.23943184183160435}\n",
      "SCORE:0.93021\n",
      "params:{'bagging_fraction': 0.8734205713457537, 'feature_fraction': 0.5195340389233158, 'gamma': 0.24415604676910616, 'max_depth': 13.0, 'num_leaves': 52.0, 'reg_lambda': 0.042714897178084646}\n",
      "SCORE:0.93789\n",
      "params:{'bagging_fraction': 0.9152886975223736, 'feature_fraction': 0.5686192374539906, 'gamma': 0.1465159719446369, 'max_depth': 14.0, 'num_leaves': 78.0, 'reg_lambda': 0.10388751088843343}\n",
      "SCORE:0.93746\n",
      "params:{'bagging_fraction': 0.9591997313894989, 'feature_fraction': 0.6834395845078207, 'gamma': 0.1006807566488444, 'max_depth': 12.0, 'num_leaves': 60.0, 'reg_lambda': 0.2042350163616226}\n",
      "SCORE:0.92638\n",
      "params:{'bagging_fraction': 0.9480818236530537, 'feature_fraction': 0.550658220935892, 'gamma': 0.174309092346173, 'max_depth': 13.0, 'num_leaves': 82.0, 'reg_lambda': 0.1578814234911275}\n",
      "SCORE:0.93616\n",
      "params:{'bagging_fraction': 0.8954496690544992, 'feature_fraction': 0.6158467812773086, 'gamma': 0.12580965620256673, 'max_depth': 11.0, 'num_leaves': 48.0, 'reg_lambda': 0.0009591020890868107}\n",
      "SCORE:0.92715\n",
      "params:{'bagging_fraction': 0.8638961549773793, 'feature_fraction': 0.660068592249899, 'gamma': 0.23692963856519955, 'max_depth': 15.0, 'num_leaves': 64.0, 'reg_lambda': 0.3738174555367775}\n",
      "SCORE:0.92842\n",
      "params:{'bagging_fraction': 0.8114402347647974, 'feature_fraction': 0.7020720796218757, 'gamma': 0.2950479092640751, 'max_depth': 12.0, 'num_leaves': 76.0, 'reg_lambda': 0.07117927866242985}\n",
      "SCORE:0.93283\n",
      "params:{'bagging_fraction': 0.9312156775286523, 'feature_fraction': 0.4548354512120204, 'gamma': 0.19447281361671276, 'max_depth': 11.0, 'num_leaves': 88.0, 'reg_lambda': 0.5944714575410528}\n",
      "SCORE:0.92781\n",
      "params:{'bagging_fraction': 0.8791182584645637, 'feature_fraction': 0.4144085538326406, 'gamma': 0.2575533099686197, 'max_depth': 10.0, 'num_leaves': 98.0, 'reg_lambda': 0.28897863614702646}\n",
      "SCORE:0.92707\n",
      "params:{'bagging_fraction': 0.9408406912834163, 'feature_fraction': 0.5880529726118842, 'gamma': 0.13481330885285173, 'max_depth': 14.0, 'num_leaves': 54.0, 'reg_lambda': 0.3467643091527093}\n",
      "SCORE:0.92592\n",
      "params:{'bagging_fraction': 0.8283016541318817, 'feature_fraction': 0.49021763617841513, 'gamma': 0.16584676633872072, 'max_depth': 16.0, 'num_leaves': 66.0, 'reg_lambda': 0.2271914908509008}\n",
      "SCORE:0.92974\n",
      "params:{'bagging_fraction': 0.8567473875764945, 'feature_fraction': 0.37462537734407153, 'gamma': 0.1110710624159859, 'max_depth': 9.0, 'num_leaves': 38.0, 'reg_lambda': 0.4385586417985837}\n",
      "SCORE:0.93437\n",
      "params:{'bagging_fraction': 0.9910274536590985, 'feature_fraction': 0.5598698761739679, 'gamma': 0.2153705140658295, 'max_depth': 7.0, 'num_leaves': 44.0, 'reg_lambda': 0.1727902794452935}\n",
      "SCORE:0.92975\n",
      "params:{'bagging_fraction': 0.9133586319452065, 'feature_fraction': 0.6463563457887316, 'gamma': 0.4587170508021396, 'max_depth': 12.0, 'num_leaves': 70.0, 'reg_lambda': 0.08188998911351661}\n",
      "SCORE:0.92577\n",
      "params:{'bagging_fraction': 0.9683693400118714, 'feature_fraction': 0.6318302917803131, 'gamma': 0.4813834516966964, 'max_depth': 8.0, 'num_leaves': 84.0, 'reg_lambda': 0.12058383490250246}\n",
      "SCORE:0.92881\n",
      "params:{'bagging_fraction': 0.9022523717538316, 'feature_fraction': 0.5332002830200752, 'gamma': 0.3131996412515632, 'max_depth': 15.0, 'num_leaves': 58.0, 'reg_lambda': 0.2646968116562625}\n",
      "SCORE:0.93003\n"
     ]
    },
    {
     "name": "stdout",
     "output_type": "stream",
     "text": [
      "params:{'bagging_fraction': 0.9462624700192365, 'feature_fraction': 0.7214391808996808, 'gamma': 0.3519592459749137, 'max_depth': 13.0, 'num_leaves': 74.0, 'reg_lambda': 0.03850405491267084}\n",
      "SCORE:0.93254\n",
      "params:{'bagging_fraction': 0.8407271471583676, 'feature_fraction': 0.6064289321013199, 'gamma': 0.22615109880768522, 'max_depth': 11.0, 'num_leaves': 32.0, 'reg_lambda': 0.34180778870025375}\n",
      "SCORE:0.93818\n",
      "params:{'bagging_fraction': 0.9297083541932376, 'feature_fraction': 0.49641041955590975, 'gamma': 0.15282870543806434, 'max_depth': 14.0, 'num_leaves': 102.0, 'reg_lambda': 0.18777533730295443}\n",
      "SCORE:0.92752\n",
      "params:{'bagging_fraction': 0.9595171460701322, 'feature_fraction': 0.6703540075166412, 'gamma': 0.1776425634981456, 'max_depth': 10.0, 'num_leaves': 78.0, 'reg_lambda': 0.30325268208965594}\n",
      "SCORE:0.92934\n",
      "params:{'bagging_fraction': 0.8876022881183826, 'feature_fraction': 0.7508498555324167, 'gamma': 0.26894455624139435, 'max_depth': 16.0, 'num_leaves': 94.0, 'reg_lambda': 0.572524144459159}\n",
      "SCORE:0.93631\n",
      "params:{'bagging_fraction': 0.8708478495920339, 'feature_fraction': 0.6934318838496238, 'gamma': 0.20041324748609982, 'max_depth': 13.0, 'num_leaves': 62.0, 'reg_lambda': 0.4030158325361061}\n",
      "SCORE:0.93275\n",
      "params:{'bagging_fraction': 0.8601536558181795, 'feature_fraction': 0.3163842861726659, 'gamma': 0.33271935220372834, 'max_depth': 12.0, 'num_leaves': 42.0, 'reg_lambda': 0.007281964482153701}\n",
      "SCORE:0.93444\n",
      "params:{'bagging_fraction': 0.9096050269430564, 'feature_fraction': 0.46865565736290316, 'gamma': 0.36420175663117854, 'max_depth': 6.0, 'num_leaves': 68.0, 'reg_lambda': 0.4767942431090654}\n",
      "SCORE:0.92850\n",
      "params:{'bagging_fraction': 0.8470404767475012, 'feature_fraction': 0.5208285105701307, 'gamma': 0.29915407220462614, 'max_depth': 8.0, 'num_leaves': 50.0, 'reg_lambda': 0.7472829410555205}\n",
      "SCORE:0.93092\n",
      "params:{'bagging_fraction': 0.9196044522983056, 'feature_fraction': 0.8015995662310831, 'gamma': 0.39708933165820526, 'max_depth': 11.0, 'num_leaves': 54.0, 'reg_lambda': 0.08976661484479785}\n",
      "SCORE:0.92766\n",
      "params:{'bagging_fraction': 0.9844555841168421, 'feature_fraction': 0.5812431633264816, 'gamma': 0.13284242895998946, 'max_depth': 10.0, 'num_leaves': 30.0, 'reg_lambda': 0.5273174142692445}\n",
      "SCORE:0.93116\n",
      "params:{'bagging_fraction': 0.8973828055465853, 'feature_fraction': 0.8799746172901057, 'gamma': 0.41891504769636617, 'max_depth': 9.0, 'num_leaves': 36.0, 'reg_lambda': 0.2220323085858978}\n",
      "SCORE:0.92944\n",
      "params:{'bagging_fraction': 0.9711872335091299, 'feature_fraction': 0.849812209847195, 'gamma': 0.18550583128218648, 'max_depth': 7.0, 'num_leaves': 72.0, 'reg_lambda': 0.04654141339653909}\n",
      "SCORE:0.93042\n",
      "params:{'bagging_fraction': 0.9954796051351038, 'feature_fraction': 0.6400986383609657, 'gamma': 0.281674339248766, 'max_depth': 9.0, 'num_leaves': 46.0, 'reg_lambda': 0.6415625259289219}\n",
      "SCORE:0.93588\n",
      "params:{'bagging_fraction': 0.8823925566024703, 'feature_fraction': 0.6175831409851932, 'gamma': 0.25194902536534475, 'max_depth': 15.0, 'num_leaves': 88.0, 'reg_lambda': 0.45695147640036116}\n",
      "SCORE:0.92651\n",
      "params:{'bagging_fraction': 0.9533373091960503, 'feature_fraction': 0.7371628528656152, 'gamma': 0.4395171819351125, 'max_depth': 14.0, 'num_leaves': 128.0, 'reg_lambda': 0.11505208534540681}\n",
      "SCORE:0.94106\n",
      "params:{'bagging_fraction': 0.7945620650895282, 'feature_fraction': 0.5449676001490517, 'gamma': 0.3741663629773258, 'max_depth': 13.0, 'num_leaves': 80.0, 'reg_lambda': 0.26065856990220326}\n",
      "SCORE:0.93459\n",
      "params:{'bagging_fraction': 0.8917320861155787, 'feature_fraction': 0.7701049274057892, 'gamma': 0.3895266881499147, 'max_depth': 12.0, 'num_leaves': 20.0, 'reg_lambda': 0.1595390750602297}\n",
      "SCORE:0.93269\n",
      "params:{'bagging_fraction': 0.7222519349056331, 'feature_fraction': 0.3917709882597799, 'gamma': 0.11529599231648202, 'max_depth': 11.0, 'num_leaves': 58.0, 'reg_lambda': 0.8651418995260518}\n",
      "SCORE:0.92780\n"
     ]
    }
   ],
   "source": [
    "lgbm_space = { \n",
    "    'max_depth' : hp.quniform(\"max_depth\", 4, 16, 1),\n",
    "    'num_leaves': hp.quniform('num_leaves', 8, 128, 2),\n",
    "    'feature_fraction': hp.uniform('feature_fraction', 0.3, 1.0),\n",
    "    'bagging_fraction': hp.uniform ('bagging_fraction', 0.7, 1),\n",
    "    'reg_lambda': hp.uniform('reg_lambda',0,1),\n",
    "    'gamma' : hp.uniform('gamma', 0.1,0.5),\n",
    "}\n",
    "\n",
    "trials = Trials()\n",
    "lgbm_best = fmin(fn=lgbm_objective,\n",
    "            space=lgbm_space,\n",
    "            algo=tpe.suggest,\n",
    "            trials = trials,\n",
    "            max_evals=100)"
   ]
  },
  {
   "cell_type": "code",
   "execution_count": 104,
   "metadata": {},
   "outputs": [],
   "source": [
    "lgbm_best['num_leaves'] = int(lgbm_best['num_leaves'])\n",
    "lgbm_best['max_depth'] = int(lgbm_best['max_depth'])"
   ]
  },
  {
   "cell_type": "code",
   "execution_count": 105,
   "metadata": {},
   "outputs": [
    {
     "data": {
      "text/plain": [
       "{'bagging_fraction': 0.9568845079308161,\n",
       " 'feature_fraction': 0.6203248801718259,\n",
       " 'gamma': 0.39624896070423066,\n",
       " 'max_depth': 12,\n",
       " 'num_leaves': 64,\n",
       " 'reg_lambda': 0.38856229720270463}"
      ]
     },
     "execution_count": 105,
     "metadata": {},
     "output_type": "execute_result"
    }
   ],
   "source": [
    "lgbm_best"
   ]
  },
  {
   "cell_type": "code",
   "execution_count": 107,
   "metadata": {},
   "outputs": [
    {
     "data": {
      "text/plain": [
       "{'book_time': datetime.datetime(2018, 2, 7, 9, 47, 10, 734000),\n",
       " 'exp_key': None,\n",
       " 'misc': {'cmd': ('domain_attachment', 'FMinIter_Domain'),\n",
       "  'idxs': {'bagging_fraction': [12],\n",
       "   'feature_fraction': [12],\n",
       "   'gamma': [12],\n",
       "   'max_depth': [12],\n",
       "   'num_leaves': [12],\n",
       "   'reg_lambda': [12]},\n",
       "  'tid': 12,\n",
       "  'vals': {'bagging_fraction': [0.9568845079308161],\n",
       "   'feature_fraction': [0.6203248801718259],\n",
       "   'gamma': [0.39624896070423066],\n",
       "   'max_depth': [12.0],\n",
       "   'num_leaves': [64.0],\n",
       "   'reg_lambda': [0.38856229720270463]},\n",
       "  'workdir': None},\n",
       " 'owner': None,\n",
       " 'refresh_time': datetime.datetime(2018, 2, 7, 9, 48, 18, 902000),\n",
       " 'result': {'loss': 0.9229616663760128, 'status': 'ok'},\n",
       " 'spec': None,\n",
       " 'state': 2,\n",
       " 'tid': 12,\n",
       " 'version': 0}"
      ]
     },
     "execution_count": 107,
     "metadata": {},
     "output_type": "execute_result"
    }
   ],
   "source": [
    "trials.best_trial"
   ]
  },
  {
   "cell_type": "markdown",
   "metadata": {},
   "source": [
    "______"
   ]
  },
  {
   "cell_type": "markdown",
   "metadata": {},
   "source": [
    "# SUBMISSION TASK"
   ]
  },
  {
   "cell_type": "code",
   "execution_count": 130,
   "metadata": {},
   "outputs": [],
   "source": [
    "tests = pd.read_csv('../data/test.csv')"
   ]
  },
  {
   "cell_type": "code",
   "execution_count": 131,
   "metadata": {},
   "outputs": [
    {
     "name": "stdout",
     "output_type": "stream",
     "text": [
      "shape of test :(214200, 3)\n"
     ]
    },
    {
     "data": {
      "text/html": [
       "<div>\n",
       "<style>\n",
       "    .dataframe thead tr:only-child th {\n",
       "        text-align: right;\n",
       "    }\n",
       "\n",
       "    .dataframe thead th {\n",
       "        text-align: left;\n",
       "    }\n",
       "\n",
       "    .dataframe tbody tr th {\n",
       "        vertical-align: top;\n",
       "    }\n",
       "</style>\n",
       "<table border=\"1\" class=\"dataframe\">\n",
       "  <thead>\n",
       "    <tr style=\"text-align: right;\">\n",
       "      <th></th>\n",
       "      <th>ID</th>\n",
       "      <th>shop_id</th>\n",
       "      <th>item_id</th>\n",
       "    </tr>\n",
       "  </thead>\n",
       "  <tbody>\n",
       "    <tr>\n",
       "      <th>0</th>\n",
       "      <td>0</td>\n",
       "      <td>5</td>\n",
       "      <td>5037</td>\n",
       "    </tr>\n",
       "    <tr>\n",
       "      <th>1</th>\n",
       "      <td>1</td>\n",
       "      <td>5</td>\n",
       "      <td>5320</td>\n",
       "    </tr>\n",
       "    <tr>\n",
       "      <th>2</th>\n",
       "      <td>2</td>\n",
       "      <td>5</td>\n",
       "      <td>5233</td>\n",
       "    </tr>\n",
       "    <tr>\n",
       "      <th>3</th>\n",
       "      <td>3</td>\n",
       "      <td>5</td>\n",
       "      <td>5232</td>\n",
       "    </tr>\n",
       "    <tr>\n",
       "      <th>4</th>\n",
       "      <td>4</td>\n",
       "      <td>5</td>\n",
       "      <td>5268</td>\n",
       "    </tr>\n",
       "  </tbody>\n",
       "</table>\n",
       "</div>"
      ],
      "text/plain": [
       "   ID  shop_id  item_id\n",
       "0   0        5     5037\n",
       "1   1        5     5320\n",
       "2   2        5     5233\n",
       "3   3        5     5232\n",
       "4   4        5     5268"
      ]
     },
     "execution_count": 131,
     "metadata": {},
     "output_type": "execute_result"
    }
   ],
   "source": [
    "print('shape of test :{}'.format(tests.shape))\n",
    "tests.head()"
   ]
  },
  {
   "cell_type": "code",
   "execution_count": 132,
   "metadata": {},
   "outputs": [],
   "source": [
    "X_test = X_test[X_test.date_block_num ==34].merge(tests, on = ['shop_id','item_id'],how='inner')\n",
    "assert X_test.shape[0] == tests.shape[0]"
   ]
  },
  {
   "cell_type": "code",
   "execution_count": 133,
   "metadata": {},
   "outputs": [
    {
     "data": {
      "text/html": [
       "<div>\n",
       "<style>\n",
       "    .dataframe thead tr:only-child th {\n",
       "        text-align: right;\n",
       "    }\n",
       "\n",
       "    .dataframe thead th {\n",
       "        text-align: left;\n",
       "    }\n",
       "\n",
       "    .dataframe tbody tr th {\n",
       "        vertical-align: top;\n",
       "    }\n",
       "</style>\n",
       "<table border=\"1\" class=\"dataframe\">\n",
       "  <thead>\n",
       "    <tr style=\"text-align: right;\">\n",
       "      <th></th>\n",
       "      <th>ID</th>\n",
       "      <th>shop_id</th>\n",
       "      <th>item_id</th>\n",
       "    </tr>\n",
       "  </thead>\n",
       "  <tbody>\n",
       "    <tr>\n",
       "      <th>0</th>\n",
       "      <td>0</td>\n",
       "      <td>5</td>\n",
       "      <td>5037</td>\n",
       "    </tr>\n",
       "    <tr>\n",
       "      <th>1</th>\n",
       "      <td>1</td>\n",
       "      <td>5</td>\n",
       "      <td>5320</td>\n",
       "    </tr>\n",
       "    <tr>\n",
       "      <th>2</th>\n",
       "      <td>2</td>\n",
       "      <td>5</td>\n",
       "      <td>5233</td>\n",
       "    </tr>\n",
       "    <tr>\n",
       "      <th>3</th>\n",
       "      <td>3</td>\n",
       "      <td>5</td>\n",
       "      <td>5232</td>\n",
       "    </tr>\n",
       "    <tr>\n",
       "      <th>4</th>\n",
       "      <td>4</td>\n",
       "      <td>5</td>\n",
       "      <td>5268</td>\n",
       "    </tr>\n",
       "  </tbody>\n",
       "</table>\n",
       "</div>"
      ],
      "text/plain": [
       "   ID  shop_id  item_id\n",
       "0   0        5     5037\n",
       "1   1        5     5320\n",
       "2   2        5     5233\n",
       "3   3        5     5232\n",
       "4   4        5     5268"
      ]
     },
     "execution_count": 133,
     "metadata": {},
     "output_type": "execute_result"
    }
   ],
   "source": [
    "X_test.loc[:,['ID','shop_id','item_id']].head()"
   ]
  },
  {
   "cell_type": "code",
   "execution_count": 134,
   "metadata": {},
   "outputs": [],
   "source": [
    "X_test = X_test.drop('ID',axis=1)"
   ]
  },
  {
   "cell_type": "markdown",
   "metadata": {},
   "source": [
    "only verify data on 2015 Oct `rmse = 0.92296`, if we submit this model to LB"
   ]
  },
  {
   "cell_type": "code",
   "execution_count": 110,
   "metadata": {},
   "outputs": [],
   "source": [
    "defalut_params = {\n",
    "    'bossting_type':'gbdt',\n",
    "    'objective': 'regression',\n",
    "    'metric': 'rmse'\n",
    "}"
   ]
  },
  {
   "cell_type": "code",
   "execution_count": 112,
   "metadata": {},
   "outputs": [
    {
     "data": {
      "text/plain": [
       "{'bagging_fraction': 0.9568845079308161,\n",
       " 'bossting_type': 'gbdt',\n",
       " 'feature_fraction': 0.6203248801718259,\n",
       " 'gamma': 0.39624896070423066,\n",
       " 'max_depth': 12,\n",
       " 'metric': 'rmse',\n",
       " 'num_leaves': 64,\n",
       " 'objective': 'regression',\n",
       " 'reg_lambda': 0.38856229720270463,\n",
       " 'verbose': 1}"
      ]
     },
     "execution_count": 112,
     "metadata": {},
     "output_type": "execute_result"
    }
   ],
   "source": [
    "params_best = {**defalut_params,**lgbm_best}\n",
    "params_best"
   ]
  },
  {
   "cell_type": "code",
   "execution_count": 113,
   "metadata": {},
   "outputs": [
    {
     "name": "stdout",
     "output_type": "stream",
     "text": [
      "[1]\tvalid_0's rmse: 1.09962\n",
      "Training until validation scores don't improve for 5 rounds.\n",
      "[2]\tvalid_0's rmse: 1.07412\n",
      "[3]\tvalid_0's rmse: 1.05276\n",
      "[4]\tvalid_0's rmse: 1.03218\n",
      "[5]\tvalid_0's rmse: 1.01344\n",
      "[6]\tvalid_0's rmse: 1.00072\n",
      "[7]\tvalid_0's rmse: 0.988391\n",
      "[8]\tvalid_0's rmse: 0.978198\n",
      "[9]\tvalid_0's rmse: 0.970309\n",
      "[10]\tvalid_0's rmse: 0.9634\n",
      "[11]\tvalid_0's rmse: 0.957548\n",
      "[12]\tvalid_0's rmse: 0.952815\n",
      "[13]\tvalid_0's rmse: 0.950651\n",
      "[14]\tvalid_0's rmse: 0.946677\n",
      "[15]\tvalid_0's rmse: 0.943847\n",
      "[16]\tvalid_0's rmse: 0.94178\n",
      "[17]\tvalid_0's rmse: 0.939557\n",
      "[18]\tvalid_0's rmse: 0.938239\n",
      "[19]\tvalid_0's rmse: 0.937224\n",
      "[20]\tvalid_0's rmse: 0.936522\n",
      "[21]\tvalid_0's rmse: 0.936182\n",
      "[22]\tvalid_0's rmse: 0.934861\n",
      "[23]\tvalid_0's rmse: 0.933711\n",
      "[24]\tvalid_0's rmse: 0.932294\n",
      "[25]\tvalid_0's rmse: 0.931933\n",
      "[26]\tvalid_0's rmse: 0.931333\n",
      "[27]\tvalid_0's rmse: 0.930696\n",
      "[28]\tvalid_0's rmse: 0.930352\n",
      "[29]\tvalid_0's rmse: 0.930218\n",
      "[30]\tvalid_0's rmse: 0.930417\n",
      "[31]\tvalid_0's rmse: 0.930262\n",
      "[32]\tvalid_0's rmse: 0.929401\n",
      "[33]\tvalid_0's rmse: 0.929951\n",
      "[34]\tvalid_0's rmse: 0.929052\n",
      "[35]\tvalid_0's rmse: 0.929039\n",
      "[36]\tvalid_0's rmse: 0.929527\n",
      "[37]\tvalid_0's rmse: 0.928981\n",
      "[38]\tvalid_0's rmse: 0.928906\n",
      "[39]\tvalid_0's rmse: 0.928897\n",
      "[40]\tvalid_0's rmse: 0.928846\n",
      "[41]\tvalid_0's rmse: 0.928837\n",
      "[42]\tvalid_0's rmse: 0.928553\n",
      "[43]\tvalid_0's rmse: 0.928642\n",
      "[44]\tvalid_0's rmse: 0.929016\n",
      "[45]\tvalid_0's rmse: 0.928538\n",
      "[46]\tvalid_0's rmse: 0.928101\n",
      "[47]\tvalid_0's rmse: 0.928069\n",
      "[48]\tvalid_0's rmse: 0.927641\n",
      "[49]\tvalid_0's rmse: 0.927603\n",
      "[50]\tvalid_0's rmse: 0.927224\n",
      "[51]\tvalid_0's rmse: 0.927199\n",
      "[52]\tvalid_0's rmse: 0.926915\n",
      "[53]\tvalid_0's rmse: 0.926879\n",
      "[54]\tvalid_0's rmse: 0.926759\n",
      "[55]\tvalid_0's rmse: 0.926894\n",
      "[56]\tvalid_0's rmse: 0.926784\n",
      "[57]\tvalid_0's rmse: 0.926586\n",
      "[58]\tvalid_0's rmse: 0.926487\n",
      "[59]\tvalid_0's rmse: 0.926404\n",
      "[60]\tvalid_0's rmse: 0.926272\n",
      "[61]\tvalid_0's rmse: 0.926147\n",
      "[62]\tvalid_0's rmse: 0.926247\n",
      "[63]\tvalid_0's rmse: 0.926153\n",
      "[64]\tvalid_0's rmse: 0.926155\n",
      "[65]\tvalid_0's rmse: 0.925975\n",
      "[66]\tvalid_0's rmse: 0.925673\n",
      "[67]\tvalid_0's rmse: 0.925595\n",
      "[68]\tvalid_0's rmse: 0.925687\n",
      "[69]\tvalid_0's rmse: 0.92548\n",
      "[70]\tvalid_0's rmse: 0.925439\n",
      "[71]\tvalid_0's rmse: 0.925532\n",
      "[72]\tvalid_0's rmse: 0.925558\n",
      "[73]\tvalid_0's rmse: 0.925559\n",
      "[74]\tvalid_0's rmse: 0.925404\n",
      "[75]\tvalid_0's rmse: 0.925292\n",
      "[76]\tvalid_0's rmse: 0.925033\n",
      "[77]\tvalid_0's rmse: 0.924969\n",
      "[78]\tvalid_0's rmse: 0.924916\n",
      "[79]\tvalid_0's rmse: 0.924918\n",
      "[80]\tvalid_0's rmse: 0.924845\n",
      "[81]\tvalid_0's rmse: 0.925092\n",
      "[82]\tvalid_0's rmse: 0.925141\n",
      "[83]\tvalid_0's rmse: 0.924732\n",
      "[84]\tvalid_0's rmse: 0.924846\n",
      "[85]\tvalid_0's rmse: 0.924558\n",
      "[86]\tvalid_0's rmse: 0.924359\n",
      "[87]\tvalid_0's rmse: 0.924348\n",
      "[88]\tvalid_0's rmse: 0.924382\n",
      "[89]\tvalid_0's rmse: 0.92428\n",
      "[90]\tvalid_0's rmse: 0.924188\n",
      "[91]\tvalid_0's rmse: 0.924178\n",
      "[92]\tvalid_0's rmse: 0.923796\n",
      "[93]\tvalid_0's rmse: 0.923705\n",
      "[94]\tvalid_0's rmse: 0.923631\n",
      "[95]\tvalid_0's rmse: 0.92362\n",
      "[96]\tvalid_0's rmse: 0.923652\n",
      "[97]\tvalid_0's rmse: 0.923174\n",
      "[98]\tvalid_0's rmse: 0.922962\n",
      "[99]\tvalid_0's rmse: 0.922964\n",
      "[100]\tvalid_0's rmse: 0.924353\n",
      "Did not meet early stopping. Best iteration is:\n",
      "[98]\tvalid_0's rmse: 0.922962\n"
     ]
    }
   ],
   "source": [
    "lgb_train = lgb.Dataset(X_train,y_train)\n",
    "lgb_cv = lgb.Dataset(X_cv,y_cv,reference=lgb_train)\n",
    "reg = lgb.train(params_best,\n",
    "                    early_stopping_rounds = 5,\n",
    "                    train_set = lgb_train,\n",
    "                    valid_sets=lgb_cv,\n",
    "                    verbose_eval = True)"
   ]
  },
  {
   "cell_type": "code",
   "execution_count": 128,
   "metadata": {},
   "outputs": [],
   "source": [
    "lgb_train = lgb.Dataset(pd.concat([X_train,X_cv]),np.concatenate([y_train,y_cv]))\n",
    "\n",
    "# lgb_cv = lgb.Dataset(X_cv,y_cv,reference=lgb_train)\n",
    "reg_sub = lgb.train(params_best,                    \n",
    "                    train_set = lgb_train,                    \n",
    "                    verbose_eval = False)"
   ]
  },
  {
   "cell_type": "code",
   "execution_count": 135,
   "metadata": {},
   "outputs": [],
   "source": [
    "y_pred = reg_sub.predict(X_test)"
   ]
  },
  {
   "cell_type": "code",
   "execution_count": 141,
   "metadata": {},
   "outputs": [],
   "source": [
    "y_submit = pd.DataFrame({'ID':range(len(y_pred)), 'item_cnt_month':y_pred}) # validate on 2015oct : 0.92296, LB: 0.93418\n",
    "y_submit.to_csv('../data/output/submission_lgbm3.csv',index=False)"
   ]
  }
 ],
 "metadata": {
  "anaconda-cloud": {},
  "kernelspec": {
   "display_name": "Python [conda env:py36]",
   "language": "python",
   "name": "conda-env-py36-py"
  },
  "language_info": {
   "codemirror_mode": {
    "name": "ipython",
    "version": 3
   },
   "file_extension": ".py",
   "mimetype": "text/x-python",
   "name": "python",
   "nbconvert_exporter": "python",
   "pygments_lexer": "ipython3",
   "version": "3.6.3"
  }
 },
 "nbformat": 4,
 "nbformat_minor": 2
}
