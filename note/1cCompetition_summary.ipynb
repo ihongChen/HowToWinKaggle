{
 "cells": [
  {
   "cell_type": "markdown",
   "metadata": {},
   "source": [
    "# How To Win a Data Science Competition\n",
    "這是喵喵第一次正式參加kaggle上的[比賽](https://www.kaggle.com/c/competitive-data-science-final-project/)(雖然非正式賽而是**inclass**的賽事)，也是第二次集中精神/全力以赴/堅持不懈/~~拋妻棄子~~(誤)的好好上完一門線上課程(第一次應該是看youtube學Andrew Ng大神的Machine Learning)。學到很多新的東西(技法)，非常非常推薦這門課程--[How to win a data science competition](https://www.coursera.org/learn/competitive-data-science/home/welcome)，雖然很多上課內容自己消化的不是很好，但是透過**實戰**(比賽)也能建立一種可行的分析pipeline，課程是有上完，可是有機會一定要再來回顧一下這些豐富的上課內容!\n",
    "\n",
    "\n",
    "這篇文章會總結一下自己如何在Final的電商比賽中取得7/502的名次。\n",
    "\n",
    "主要能取得好的成績不是自己厲害而是站在巨人肩膀上，參考（~~抄襲~~）高手的作法，包括\n",
    "1. [mlwhiz](http://mlwhiz.com/blog/2017/12/26/How_to_win_a_data_science_competition/) 大大提供的特徵工程\n",
    "2. [Kun Hao Yeh](https://www.coursera.org/learn/competitive-data-science/peer/QJDGf/final-project/review/iMHChiAdEeiO5Qq-C5q6-A) 的model pipeline, stacking, 和text features作法 \n",
    "\n",
    "加上good luck...\n",
    "\n",
    "\n",
    "# 競賽問題描述\n",
    "一家俄羅斯的電子商務公司(1C company)提供的商品銷售數據，數據是201301-201510每家店的逐日商品交易明細。目標是預測201511(public test)的銷售量每家店/每個商品，是一個時間序列上預測數量的問題。評估的方式(metrics)是`RMSE`，預測的值限制在`[0-20]`之間。\n",
    "\n",
    "# 作法概述\n",
    "\n",
    "- 特徵工程部分    \n",
    "    - 數值特徵        \n",
    "        1. mean encoding (by shopid, itemid, item_category_id)\n",
    "        2. Lag operator \n",
    "        3. monthly / season tag        \n",
    "    - 文字特徵\n",
    "        1. tfidf + truncated svd / with binary \n",
    "        2. hashing + truncated svd /with binary\n",
    "- 最優化方法\n",
    "    - hyperopt    \n",
    "- 模型選用\n",
    "    - lightgbm\n",
    "    - 僅使用`date_block_num` 在區間[12,34]來訓練模型"
   ]
  },
  {
   "cell_type": "markdown",
   "metadata": {},
   "source": [
    "# 補充\n",
    "\n",
    "有嘗試過使用高級的`stacking`技巧，但是成績上沒有提昇，不如直接使用lightgbm。我想是第一層的base model在這些特徵下只有GBDT類型的模型學的最好，其他的模型無法補足GBDT的不足導致。之後有機會需要練習用stacking的技巧解問題!\n",
    "\n",
    "喵喵詳細的作法可以參考羞羞臉的github\n",
    "\n",
    "1. [Feature Generation](http://nbviewer.jupyter.org/github/ihongChen/HowToWinKaggle/blob/master/src/1_base_features_generate.ipynb)\n",
    "2. [Text Feature Generation](http://nbviewer.jupyter.org/github/ihongChen/HowToWinKaggle/blob/master/src/2_text_feat_generate.ipynb)\n",
    "3. [Hyperparameter tuning](http://nbviewer.jupyter.org/github/ihongChen/HowToWinKaggle/blob/master/src/3_hyper_param_tuning.ipynb)\n",
    "\n",
    "最後開心秀一下[結業證書](https://www.coursera.org/account/accomplishments/verify/URZ7X7KBHQ2J)和kaggle排名YA...![kaggle排名](./my_rank.png)\n"
   ]
  }
 ],
 "metadata": {
  "anaconda-cloud": {},
  "kernelspec": {
   "display_name": "Python 3",
   "language": "python",
   "name": "python3"
  },
  "language_info": {
   "codemirror_mode": {
    "name": "ipython",
    "version": 3
   },
   "file_extension": ".py",
   "mimetype": "text/x-python",
   "name": "python",
   "nbconvert_exporter": "python",
   "pygments_lexer": "ipython3",
   "version": "3.6.3"
  }
 },
 "nbformat": 4,
 "nbformat_minor": 1
}
