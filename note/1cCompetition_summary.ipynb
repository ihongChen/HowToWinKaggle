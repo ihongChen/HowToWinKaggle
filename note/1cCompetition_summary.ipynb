{
 "cells": [
  {
   "cell_type": "markdown",
   "metadata": {},
   "source": [
    "這是喵喵第一次正式參加kaggle上的[比賽](https://www.kaggle.com/c/competitive-data-science-final-project/)(雖然非正式賽而是**inclass**的賽事)，也是第一次集中精神/全力以赴/堅持不懈/~~拋妻棄子~~(誤)的好好上完一門線上課程。學到很多新的東西(技法)，非常非常推薦這門課程--[How to win a data science competition](https://www.coursera.org/learn/competitive-data-science/home/welcome)，雖然很多上課內容自己消化的不是很好，但是透過**實戰**(比賽)也能建立一種可行的分析pipeline，課程是有上完，可是有機會一定要再來回顧一下這些豐富的上課內容!\n",
    "\n",
    "\n",
    "這篇文章會總結一下自己如何在Final的電商比賽中取得7/502的名次。\n",
    "\n",
    "主要能取得好的成績大部分參考高手的作法，包括\n",
    "1. [mlwhiz](http://mlwhiz.com/blog/2017/12/26/How_to_win_a_data_science_competition/) 大大提供的特徵工程\n",
    "2. [Kun Hao Yeh](https://www.coursera.org/learn/competitive-data-science/peer/QJDGf/final-project/review/iMHChiAdEeiO5Qq-C5q6-A) 的model pipeline, stacking, 和text features作法 \n",
    "\n",
    "\n",
    "# 問題描述\n",
    "一家俄羅斯的電子商務公司(1C company)提供的商品銷售數據，數據是201301-201510每家店的逐日商品交易明細。目標是預測201511(public test)的銷售量每家店/每個商品，是一個時間序列上預測數量的問題。評估的分數是`RMSE`，預測的值限制在`[0-20]`之間。\n",
    "\n",
    "# 作法概述\n",
    "\n",
    "- 特徵工程部分\n",
    "    - 數值特徵\n",
    "        1. mean encoding (by shopid, itemid, item_category_id)\n",
    "        2. Lag operator \n",
    "        3. monthly / season tag\n",
    "    - 文字特徵\n",
    "        1. tfidf + truncated svd / with binary \n",
    "        2. hashing + truncated svd /with binary\n",
    "- 最優化方法\n",
    "    - hyperopt\n",
    "- 模型選用\n",
    "    - lightgbm    \n",
    "\n"
   ]
  },
  {
   "cell_type": "code",
   "execution_count": null,
   "metadata": {},
   "outputs": [],
   "source": []
  },
  {
   "cell_type": "code",
   "execution_count": null,
   "metadata": {},
   "outputs": [],
   "source": []
  }
 ],
 "metadata": {
  "anaconda-cloud": {},
  "kernelspec": {
   "display_name": "Python [conda root]",
   "language": "python",
   "name": "conda-root-py"
  },
  "language_info": {
   "codemirror_mode": {
    "name": "ipython",
    "version": 3
   },
   "file_extension": ".py",
   "mimetype": "text/x-python",
   "name": "python",
   "nbconvert_exporter": "python",
   "pygments_lexer": "ipython3",
   "version": "3.5.2"
  }
 },
 "nbformat": 4,
 "nbformat_minor": 1
}
