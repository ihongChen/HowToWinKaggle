{
 "cells": [
  {
   "cell_type": "code",
   "execution_count": 1,
   "metadata": {},
   "outputs": [
    {
     "name": "stdout",
     "output_type": "stream",
     "text": [
      "['proc_test.csv.gz', 'proc_train.csv.gz', 'test_id.csv']\n"
     ]
    }
   ],
   "source": [
    "# This Python 3 environment comes with many helpful analytics libraries installed\n",
    "# It is defined by the kaggle/python docker image: https://github.com/kaggle/docker-python\n",
    "# For example, here's several helpful packages to load in \n",
    "\n",
    "import numpy as np # linear algebra\n",
    "import pandas as pd # data processing, CSV file I/O (e.g. pd.read_csv)\n",
    "\n",
    "# Input data files are available in the \"../input/\" directory.\n",
    "# For example, running this (by clicking run or pressing Shift+Enter) will list the files in the input directory\n",
    "\n",
    "import os\n",
    "print(os.listdir(\"input\"))\n",
    "\n",
    "# Any results you write to the current directory are saved as output.\n",
    "import gc\n",
    "gc.enable()"
   ]
  },
  {
   "cell_type": "markdown",
   "metadata": {},
   "source": [
    "# Model, and First Level Results Loading"
   ]
  },
  {
   "cell_type": "markdown",
   "metadata": {},
   "source": [
    "> First level results generation took long.. so I dump the intermediate result and use it here"
   ]
  },
  {
   "cell_type": "code",
   "execution_count": null,
   "metadata": {
    "collapsed": true
   },
   "outputs": [],
   "source": [
    "usecols = [\n",
    "    'date_block_num',\n",
    "    'shop_id',\n",
    "    'item_id',\n",
    "    'item_category_id',\n",
    "    'cum_shop_num',\n",
    "    'cum_item_num',\n",
    "    'cum_item_cat',\n",
    "    'cum_item_sales',\n",
    "    'exp_mean_enc_shop_item_target',\n",
    "    'exp_mean_enc_shop_item_target_std',\n",
    "    'exp_mean_enc_shop_item_trans_days',\n",
    "    'exp_mean_enc_shop_item_price_med',\n",
    "    'exp_mean_enc_shop_item_price_mean',\n",
    "    'exp_mean_enc_shop_item_price_std',\n",
    "    'exp_mean_enc_shop_target',\n",
    "    'exp_mean_enc_shop_target_med',\n",
    "    'exp_mean_enc_shop_target_mean',\n",
    "    'exp_mean_enc_shop_target_std',\n",
    "    'exp_mean_enc_shop_price_med',\n",
    "    'exp_mean_enc_shop_price_mean',\n",
    "    'exp_mean_enc_shop_price_std',\n",
    "    'exp_mean_enc_item_target',\n",
    "    'exp_mean_enc_item_target_med',\n",
    "    'exp_mean_enc_item_target_mean',\n",
    "    'exp_mean_enc_item_target_std',\n",
    "    'exp_mean_enc_item_price_med',\n",
    "    'exp_mean_enc_item_price_mean',\n",
    "    'exp_mean_enc_item_price_std',\n",
    "    'target'\n",
    "]\n",
    "train = pd.read_csv('input/proc_train.csv.gz', usecols=usecols)\n",
    "test = pd.read_csv('input/proc_test.csv.gz', usecols=usecols)"
   ]
  },
  {
   "cell_type": "code",
   "execution_count": null,
   "metadata": {
    "collapsed": true
   },
   "outputs": [],
   "source": [
    "train.head()"
   ]
  },
  {
   "cell_type": "code",
   "execution_count": null,
   "metadata": {
    "collapsed": true
   },
   "outputs": [],
   "source": [
    "test.head()"
   ]
  },
  {
   "cell_type": "code",
   "execution_count": null,
   "metadata": {
    "collapsed": true
   },
   "outputs": [],
   "source": [
    "train_dates = train.date_block_num.values\n",
    "test_dates = test.date_block_num.values\n",
    "train_y = train.target.values\n",
    "drop_cols = ['date_block_num', 'target']"
   ]
  },
  {
   "cell_type": "code",
   "execution_count": null,
   "metadata": {
    "collapsed": true
   },
   "outputs": [],
   "source": [
    "train.drop(drop_cols, axis=1, inplace=True)\n",
    "test.drop(drop_cols, axis=1, inplace=True)\n",
    "gc.collect()"
   ]
  },
  {
   "cell_type": "code",
   "execution_count": null,
   "metadata": {
    "collapsed": true
   },
   "outputs": [],
   "source": [
    "mask = train_dates >= 12\n",
    "train = train[mask].reset_index(drop=True)\n",
    "train_y = train_y[mask]\n",
    "train_dates = train_dates[mask]\n",
    "print(pd.Series(train_dates).value_counts())"
   ]
  },
  {
   "cell_type": "code",
   "execution_count": null,
   "metadata": {
    "collapsed": true
   },
   "outputs": [],
   "source": [
    "merge = pd.concat([train, test], ignore_index=True)\n",
    "merge_dates = np.concatenate([train_dates, test_dates], axis=0)\n",
    "\n",
    "merge_y = np.concatenate([train_y, np.zeros((len(test_dates),))], axis=0)\n",
    "print(merge_y.shape)\n",
    "\n",
    "stage2_train_dates = merge_dates[merge_dates>=level2_date_block[0]]\n",
    "print(pd.Series(stage2_train_dates).value_counts())\n",
    "stage2_train_mask = (stage2_train_dates <= level2_date_block[-1])\n",
    "stage2_valid_mask = (stage2_train_dates == 33)\n",
    "stage2_final_train_mask = (stage2_train_dates <= 33)\n",
    "stage2_test_mask = (stage2_train_dates==34)\n",
    "stage2_train_y = merge_y[merge_dates>=level2_date_block[0]]\n",
    "\n",
    "print(pd.Series(stage2_train_mask).value_counts())\n",
    "print(pd.Series(stage2_valid_mask).value_counts())\n",
    "print(pd.Series(stage2_final_train_mask).value_counts())\n",
    "print(pd.Series(stage2_test_mask).value_counts())"
   ]
  },
  {
   "cell_type": "code",
   "execution_count": null,
   "metadata": {
    "collapsed": true
   },
   "outputs": [],
   "source": [
    "import pickle\n",
    "with open('stage2_data.dataframe', 'rb') as handle:\n",
    "    stage2_df = pickle.load(handle)\n",
    "    print(stage2_df.shape)\n",
    "    print(type(stage2_df))\n",
    "    \n",
    "with open('stage2_data_text.dataframe', 'rb') as handle:\n",
    "    stage2_data_text = pickle.load(handle)\n",
    "    print(stage2_data_text.shape)\n",
    "    print(type(stage2_data_text))"
   ]
  },
  {
   "cell_type": "code",
   "execution_count": null,
   "metadata": {
    "collapsed": true
   },
   "outputs": [],
   "source": [
    "stage2_df.loc[:, 'rg_text'] = stage2_data_text"
   ]
  },
  {
   "cell_type": "code",
   "execution_count": null,
   "metadata": {
    "collapsed": true
   },
   "outputs": [],
   "source": [
    "stage2_df.head(5)"
   ]
  },
  {
   "cell_type": "code",
   "execution_count": null,
   "metadata": {
    "collapsed": true
   },
   "outputs": [],
   "source": [
    "model_cols = ['rg', 'lasso', 'rf', 'lgbm', 'knn', 'rg_text']\n",
    "#stage2_df = stage2_df[model_cols]\n",
    "stage2_df = stage2_df[['rg', 'lasso', 'rf', 'lgbm', 'knn', 'rg_text', 'kmean_dist_label']]\n",
    "stage2_df[model_cols].corr()"
   ]
  },
  {
   "cell_type": "code",
   "execution_count": null,
   "metadata": {
    "collapsed": true
   },
   "outputs": [],
   "source": [
    "from scipy.stats.mstats import hmean, gmean"
   ]
  },
  {
   "cell_type": "code",
   "execution_count": null,
   "metadata": {
    "collapsed": true
   },
   "outputs": [],
   "source": [
    "def stage2_feat_engineer(df, model_cols=[]):\n",
    "    model_cnt = df[model_cols].shape[1]\n",
    "    \n",
    "    print('Calculating 2 g\\\\h\\\\m-mean')\n",
    "    for i in range(model_cnt-1): # i = 0 to model_cnt-2\n",
    "        for j in range(i+1, model_cnt): # j = i+1 to model_cnt-1\n",
    "            cols = [model_cols[i], model_cols[j]]\n",
    "            df.loc[:, 'gmean_' + str(i) + '_'+ str(j)] = gmean(df.loc[:,cols].values, axis=1)\n",
    "            df.loc[:, 'mean_' + str(i) + '_'+ str(j)] = np.mean(df.loc[:,cols].values, axis=1)\n",
    "\n",
    "    if model_cnt > 3:\n",
    "        print('Calculating 3 g\\\\h\\\\m-mean')        \n",
    "        for i in range(model_cnt-2): # i = 0 to model_cnt-3\n",
    "            for j in range(i+1, model_cnt-1): # j = i+1 to model_cnt-2\n",
    "                for k in range(j+1, model_cnt): # k = j+1 to model_cnt-1\n",
    "                    cols = [model_cols[i], model_cols[j], model_cols[k]]\n",
    "                    df.loc[:, 'gmean_' + str(i) + '_'+ str(j) + '_'+ str(k)] = gmean(df.loc[:,cols].values, axis=1)\n",
    "                    df.loc[:, 'mean_' + str(i) + '_'+ str(j) + '_'+ str(k)] = np.mean(df.loc[:,cols].values, axis=1)\n",
    "\n",
    "    print('Calculating all g\\\\h\\\\m-mean')             \n",
    "    df.loc[:, 'gmean_all'] = gmean(df.loc[:,model_cols].values, axis=1)\n",
    "    df.loc[:, 'mean'] = np.mean(df.loc[:,model_cols].values, axis=1)\n",
    "    df.loc[:, 'med'] = np.median(df.loc[:,model_cols].values, axis=1)\n",
    "    df.loc[:, 'max'] = np.amax(df.loc[:,model_cols].values, axis=1)\n",
    "    df.loc[:, 'min'] = np.amin(df.loc[:,model_cols].values, axis=1)\n",
    "    df.loc[:, 'std'] = np.std(df.loc[:,model_cols].values, axis=1)"
   ]
  },
  {
   "cell_type": "code",
   "execution_count": null,
   "metadata": {
    "collapsed": true
   },
   "outputs": [],
   "source": [
    "stage2_feat_engineer(stage2_df, model_cols)\n",
    "stage2_df.head()"
   ]
  },
  {
   "cell_type": "code",
   "execution_count": null,
   "metadata": {
    "collapsed": true
   },
   "outputs": [],
   "source": [
    "stage2_df = pd.concat([stage2_df, merge[merge_dates>=level2_date_block[0]].reset_index(drop=True)], axis=1)\n",
    "print(stage2_df.shape)\n",
    "stage2_df.head(3)"
   ]
  },
  {
   "cell_type": "markdown",
   "metadata": {},
   "source": [
    "# Generate Submission"
   ]
  },
  {
   "cell_type": "code",
   "execution_count": null,
   "metadata": {
    "collapsed": true
   },
   "outputs": [],
   "source": [
    "import lightgbm as lgb"
   ]
  },
  {
   "cell_type": "code",
   "execution_count": null,
   "metadata": {
    "collapsed": true
   },
   "outputs": [],
   "source": [
    "'''\n",
    "lgbm = lgb.LGBMRegressor(boosting_type='gbdt', learning_rate=0.075, n_estimators=80,\n",
    "                         max_depth=6, min_split_gain=0.0, min_child_samples=40,\n",
    "                         colsample_bytree=.95, subsample=.9,\n",
    "                         reg_alpha=.0, reg_lambda=.4,    \n",
    "                         random_state=0, n_jobs =4)\n",
    "'''\n",
    "with open('lgb_stage2.model', 'rb') as handle:\n",
    "    lgbm = pickle.load(handle)\n",
    "    print('lgb model loaded')    "
   ]
  },
  {
   "cell_type": "code",
   "execution_count": null,
   "metadata": {
    "collapsed": true
   },
   "outputs": [],
   "source": [
    "test_ID = pd.read_csv('input/test_id.csv')\n",
    "print(test_ID.shape)\n",
    "test_ID.head()"
   ]
  },
  {
   "cell_type": "code",
   "execution_count": null,
   "metadata": {
    "collapsed": true
   },
   "outputs": [],
   "source": [
    "val_pred = lgbm.predict(stage2_df[stage2_final_train_mask].values)\n",
    "val_pred = np.clip(val_pred, 0., 20.)\n",
    "print('Train rmse=', mean_squared_error(stage2_train_y[stage2_final_train_mask], val_pred)**.5)\n",
    "\n",
    "lgbm_test_pred = lgbm.predict(stage2_df[stage2_test_mask].values)\n",
    "lgbm_test_pred = np.clip(lgbm_test_pred, 0., 20.)\n",
    "test_ID.loc[:, 'item_cnt_month'] = lgbm_test_pred\n",
    "\n",
    "test_ID.to_csv('lgb_submission.csv', index=False)"
   ]
  }
 ],
 "metadata": {
  "anaconda-cloud": {},
  "kernelspec": {
   "display_name": "Python [default]",
   "language": "python",
   "name": "python3"
  },
  "language_info": {
   "codemirror_mode": {
    "name": "ipython",
    "version": 3
   },
   "file_extension": ".py",
   "mimetype": "text/x-python",
   "name": "python",
   "nbconvert_exporter": "python",
   "pygments_lexer": "ipython3",
   "version": "3.5.2"
  }
 },
 "nbformat": 4,
 "nbformat_minor": 2
}
