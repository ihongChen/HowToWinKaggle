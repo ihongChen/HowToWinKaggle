{
 "cells": [
  {
   "cell_type": "code",
   "execution_count": 1,
   "metadata": {
    "_cell_guid": "b1076dfc-b9ad-4769-8c92-a6c4dae69d19",
    "_uuid": "8f2839f25d086af736a60e9eeb907d3b93b6e0e5"
   },
   "outputs": [
    {
     "name": "stdout",
     "output_type": "stream",
     "text": [
      "['proc_test.csv.gz', 'proc_train.csv.gz', 'test_id.csv']\n"
     ]
    }
   ],
   "source": [
    "# This Python 3 environment comes with many helpful analytics libraries installed\n",
    "# It is defined by the kaggle/python docker image: https://github.com/kaggle/docker-python\n",
    "# For example, here's several helpful packages to load in \n",
    "\n",
    "import numpy as np # linear algebra\n",
    "import pandas as pd # data processing, CSV file I/O (e.g. pd.read_csv)\n",
    "\n",
    "# Input data files are available in the \"../input/\" directory.\n",
    "# For example, running this (by clicking run or pressing Shift+Enter) will list the files in the input directory\n",
    "\n",
    "import os\n",
    "print(os.listdir(\"input\"))\n",
    "\n",
    "# Any results you write to the current directory are saved as output.\n",
    "import gc\n",
    "gc.enable()"
   ]
  },
  {
   "cell_type": "code",
   "execution_count": 2,
   "metadata": {
    "_cell_guid": "79c7e3d0-c299-4dcb-8224-4455121ee9b0",
    "_uuid": "d629ff2d2480ee46fbb7e2d37f6b5fab8052498a",
    "collapsed": true
   },
   "outputs": [],
   "source": [
    "usecols = [\n",
    "    'date_block_num',\n",
    "    'shop_id',\n",
    "    'item_id',\n",
    "    'item_category_id',\n",
    "    'cum_shop_num',\n",
    "    'cum_item_num',\n",
    "    'cum_item_cat',\n",
    "    'cum_item_sales',\n",
    "    'exp_mean_enc_shop_item_target',\n",
    "    'exp_mean_enc_shop_item_target_std',\n",
    "    'exp_mean_enc_shop_item_trans_days',\n",
    "    'exp_mean_enc_shop_item_price_med',\n",
    "    'exp_mean_enc_shop_item_price_mean',\n",
    "    'exp_mean_enc_shop_item_price_std',\n",
    "    'exp_mean_enc_shop_target',\n",
    "    'exp_mean_enc_shop_target_med',\n",
    "    'exp_mean_enc_shop_target_mean',\n",
    "    'exp_mean_enc_shop_target_std',\n",
    "    'exp_mean_enc_shop_price_med',\n",
    "    'exp_mean_enc_shop_price_mean',\n",
    "    'exp_mean_enc_shop_price_std',\n",
    "    'exp_mean_enc_item_target',\n",
    "    'exp_mean_enc_item_target_med',\n",
    "    'exp_mean_enc_item_target_mean',\n",
    "    'exp_mean_enc_item_target_std',\n",
    "    'exp_mean_enc_item_price_med',\n",
    "    'exp_mean_enc_item_price_mean',\n",
    "    'exp_mean_enc_item_price_std',\n",
    "    'target'\n",
    "]\n",
    "train = pd.read_csv('input/proc_train.csv.gz', usecols=usecols)\n",
    "test = pd.read_csv('input/proc_test.csv.gz', usecols=usecols)"
   ]
  },
  {
   "cell_type": "code",
   "execution_count": 3,
   "metadata": {
    "_cell_guid": "176b889b-7213-4741-9df6-738f0061efa6",
    "_uuid": "908bd910c4b79552d3ebaf986f41e2a53441ea40"
   },
   "outputs": [
    {
     "data": {
      "text/html": [
       "<div>\n",
       "<style scoped>\n",
       "    .dataframe tbody tr th:only-of-type {\n",
       "        vertical-align: middle;\n",
       "    }\n",
       "\n",
       "    .dataframe tbody tr th {\n",
       "        vertical-align: top;\n",
       "    }\n",
       "\n",
       "    .dataframe thead th {\n",
       "        text-align: right;\n",
       "    }\n",
       "</style>\n",
       "<table border=\"1\" class=\"dataframe\">\n",
       "  <thead>\n",
       "    <tr style=\"text-align: right;\">\n",
       "      <th></th>\n",
       "      <th>date_block_num</th>\n",
       "      <th>shop_id</th>\n",
       "      <th>item_id</th>\n",
       "      <th>item_category_id</th>\n",
       "      <th>cum_shop_num</th>\n",
       "      <th>cum_item_num</th>\n",
       "      <th>cum_item_cat</th>\n",
       "      <th>cum_item_sales</th>\n",
       "      <th>exp_mean_enc_shop_item_target</th>\n",
       "      <th>exp_mean_enc_shop_item_target_std</th>\n",
       "      <th>...</th>\n",
       "      <th>exp_mean_enc_shop_price_mean</th>\n",
       "      <th>exp_mean_enc_shop_price_std</th>\n",
       "      <th>exp_mean_enc_item_target</th>\n",
       "      <th>exp_mean_enc_item_target_med</th>\n",
       "      <th>exp_mean_enc_item_target_mean</th>\n",
       "      <th>exp_mean_enc_item_target_std</th>\n",
       "      <th>exp_mean_enc_item_price_med</th>\n",
       "      <th>exp_mean_enc_item_price_mean</th>\n",
       "      <th>exp_mean_enc_item_price_std</th>\n",
       "      <th>target</th>\n",
       "    </tr>\n",
       "  </thead>\n",
       "  <tbody>\n",
       "    <tr>\n",
       "      <th>0</th>\n",
       "      <td>0</td>\n",
       "      <td>59</td>\n",
       "      <td>22154</td>\n",
       "      <td>37</td>\n",
       "      <td>0.0</td>\n",
       "      <td>0.0</td>\n",
       "      <td>0.0</td>\n",
       "      <td>0.0</td>\n",
       "      <td>0.0</td>\n",
       "      <td>0.0</td>\n",
       "      <td>...</td>\n",
       "      <td>0.0</td>\n",
       "      <td>0.0</td>\n",
       "      <td>0.0</td>\n",
       "      <td>0.0</td>\n",
       "      <td>0.0</td>\n",
       "      <td>0.0</td>\n",
       "      <td>0.0</td>\n",
       "      <td>0.0</td>\n",
       "      <td>0.0</td>\n",
       "      <td>1</td>\n",
       "    </tr>\n",
       "    <tr>\n",
       "      <th>1</th>\n",
       "      <td>0</td>\n",
       "      <td>59</td>\n",
       "      <td>2552</td>\n",
       "      <td>58</td>\n",
       "      <td>0.0</td>\n",
       "      <td>0.0</td>\n",
       "      <td>0.0</td>\n",
       "      <td>0.0</td>\n",
       "      <td>0.0</td>\n",
       "      <td>0.0</td>\n",
       "      <td>...</td>\n",
       "      <td>0.0</td>\n",
       "      <td>0.0</td>\n",
       "      <td>0.0</td>\n",
       "      <td>0.0</td>\n",
       "      <td>0.0</td>\n",
       "      <td>0.0</td>\n",
       "      <td>0.0</td>\n",
       "      <td>0.0</td>\n",
       "      <td>0.0</td>\n",
       "      <td>0</td>\n",
       "    </tr>\n",
       "    <tr>\n",
       "      <th>2</th>\n",
       "      <td>0</td>\n",
       "      <td>59</td>\n",
       "      <td>2554</td>\n",
       "      <td>58</td>\n",
       "      <td>0.0</td>\n",
       "      <td>0.0</td>\n",
       "      <td>0.0</td>\n",
       "      <td>0.0</td>\n",
       "      <td>0.0</td>\n",
       "      <td>0.0</td>\n",
       "      <td>...</td>\n",
       "      <td>0.0</td>\n",
       "      <td>0.0</td>\n",
       "      <td>0.0</td>\n",
       "      <td>0.0</td>\n",
       "      <td>0.0</td>\n",
       "      <td>0.0</td>\n",
       "      <td>0.0</td>\n",
       "      <td>0.0</td>\n",
       "      <td>0.0</td>\n",
       "      <td>0</td>\n",
       "    </tr>\n",
       "    <tr>\n",
       "      <th>3</th>\n",
       "      <td>0</td>\n",
       "      <td>59</td>\n",
       "      <td>2555</td>\n",
       "      <td>56</td>\n",
       "      <td>0.0</td>\n",
       "      <td>0.0</td>\n",
       "      <td>0.0</td>\n",
       "      <td>0.0</td>\n",
       "      <td>0.0</td>\n",
       "      <td>0.0</td>\n",
       "      <td>...</td>\n",
       "      <td>0.0</td>\n",
       "      <td>0.0</td>\n",
       "      <td>0.0</td>\n",
       "      <td>0.0</td>\n",
       "      <td>0.0</td>\n",
       "      <td>0.0</td>\n",
       "      <td>0.0</td>\n",
       "      <td>0.0</td>\n",
       "      <td>0.0</td>\n",
       "      <td>0</td>\n",
       "    </tr>\n",
       "    <tr>\n",
       "      <th>4</th>\n",
       "      <td>0</td>\n",
       "      <td>59</td>\n",
       "      <td>2564</td>\n",
       "      <td>59</td>\n",
       "      <td>0.0</td>\n",
       "      <td>0.0</td>\n",
       "      <td>0.0</td>\n",
       "      <td>0.0</td>\n",
       "      <td>0.0</td>\n",
       "      <td>0.0</td>\n",
       "      <td>...</td>\n",
       "      <td>0.0</td>\n",
       "      <td>0.0</td>\n",
       "      <td>0.0</td>\n",
       "      <td>0.0</td>\n",
       "      <td>0.0</td>\n",
       "      <td>0.0</td>\n",
       "      <td>0.0</td>\n",
       "      <td>0.0</td>\n",
       "      <td>0.0</td>\n",
       "      <td>0</td>\n",
       "    </tr>\n",
       "  </tbody>\n",
       "</table>\n",
       "<p>5 rows × 29 columns</p>\n",
       "</div>"
      ],
      "text/plain": [
       "   date_block_num  shop_id  item_id  item_category_id  cum_shop_num  \\\n",
       "0               0       59    22154                37           0.0   \n",
       "1               0       59     2552                58           0.0   \n",
       "2               0       59     2554                58           0.0   \n",
       "3               0       59     2555                56           0.0   \n",
       "4               0       59     2564                59           0.0   \n",
       "\n",
       "   cum_item_num  cum_item_cat  cum_item_sales  exp_mean_enc_shop_item_target  \\\n",
       "0           0.0           0.0             0.0                            0.0   \n",
       "1           0.0           0.0             0.0                            0.0   \n",
       "2           0.0           0.0             0.0                            0.0   \n",
       "3           0.0           0.0             0.0                            0.0   \n",
       "4           0.0           0.0             0.0                            0.0   \n",
       "\n",
       "   exp_mean_enc_shop_item_target_std   ...    exp_mean_enc_shop_price_mean  \\\n",
       "0                                0.0   ...                             0.0   \n",
       "1                                0.0   ...                             0.0   \n",
       "2                                0.0   ...                             0.0   \n",
       "3                                0.0   ...                             0.0   \n",
       "4                                0.0   ...                             0.0   \n",
       "\n",
       "   exp_mean_enc_shop_price_std  exp_mean_enc_item_target  \\\n",
       "0                          0.0                       0.0   \n",
       "1                          0.0                       0.0   \n",
       "2                          0.0                       0.0   \n",
       "3                          0.0                       0.0   \n",
       "4                          0.0                       0.0   \n",
       "\n",
       "   exp_mean_enc_item_target_med  exp_mean_enc_item_target_mean  \\\n",
       "0                           0.0                            0.0   \n",
       "1                           0.0                            0.0   \n",
       "2                           0.0                            0.0   \n",
       "3                           0.0                            0.0   \n",
       "4                           0.0                            0.0   \n",
       "\n",
       "   exp_mean_enc_item_target_std  exp_mean_enc_item_price_med  \\\n",
       "0                           0.0                          0.0   \n",
       "1                           0.0                          0.0   \n",
       "2                           0.0                          0.0   \n",
       "3                           0.0                          0.0   \n",
       "4                           0.0                          0.0   \n",
       "\n",
       "   exp_mean_enc_item_price_mean  exp_mean_enc_item_price_std  target  \n",
       "0                           0.0                          0.0       1  \n",
       "1                           0.0                          0.0       0  \n",
       "2                           0.0                          0.0       0  \n",
       "3                           0.0                          0.0       0  \n",
       "4                           0.0                          0.0       0  \n",
       "\n",
       "[5 rows x 29 columns]"
      ]
     },
     "execution_count": 3,
     "metadata": {},
     "output_type": "execute_result"
    }
   ],
   "source": [
    "train.head()"
   ]
  },
  {
   "cell_type": "code",
   "execution_count": 4,
   "metadata": {
    "_cell_guid": "c87d4ef2-7b1a-4044-92bc-978f4615cab9",
    "_uuid": "0f2651d9176f9c625aa3ea70728aaed42785b00a"
   },
   "outputs": [
    {
     "data": {
      "text/html": [
       "<div>\n",
       "<style scoped>\n",
       "    .dataframe tbody tr th:only-of-type {\n",
       "        vertical-align: middle;\n",
       "    }\n",
       "\n",
       "    .dataframe tbody tr th {\n",
       "        vertical-align: top;\n",
       "    }\n",
       "\n",
       "    .dataframe thead th {\n",
       "        text-align: right;\n",
       "    }\n",
       "</style>\n",
       "<table border=\"1\" class=\"dataframe\">\n",
       "  <thead>\n",
       "    <tr style=\"text-align: right;\">\n",
       "      <th></th>\n",
       "      <th>date_block_num</th>\n",
       "      <th>shop_id</th>\n",
       "      <th>item_id</th>\n",
       "      <th>item_category_id</th>\n",
       "      <th>cum_shop_num</th>\n",
       "      <th>cum_item_num</th>\n",
       "      <th>cum_item_cat</th>\n",
       "      <th>cum_item_sales</th>\n",
       "      <th>exp_mean_enc_shop_item_target</th>\n",
       "      <th>exp_mean_enc_shop_item_target_std</th>\n",
       "      <th>...</th>\n",
       "      <th>exp_mean_enc_shop_price_mean</th>\n",
       "      <th>exp_mean_enc_shop_price_std</th>\n",
       "      <th>exp_mean_enc_item_target</th>\n",
       "      <th>exp_mean_enc_item_target_med</th>\n",
       "      <th>exp_mean_enc_item_target_mean</th>\n",
       "      <th>exp_mean_enc_item_target_std</th>\n",
       "      <th>exp_mean_enc_item_price_med</th>\n",
       "      <th>exp_mean_enc_item_price_mean</th>\n",
       "      <th>exp_mean_enc_item_price_std</th>\n",
       "      <th>target</th>\n",
       "    </tr>\n",
       "  </thead>\n",
       "  <tbody>\n",
       "    <tr>\n",
       "      <th>0</th>\n",
       "      <td>34</td>\n",
       "      <td>5</td>\n",
       "      <td>5037</td>\n",
       "      <td>19</td>\n",
       "      <td>46.64706</td>\n",
       "      <td>6879.735352</td>\n",
       "      <td>61.088234</td>\n",
       "      <td>95732.9375</td>\n",
       "      <td>0.928571</td>\n",
       "      <td>0.000000</td>\n",
       "      <td>...</td>\n",
       "      <td>6.241771</td>\n",
       "      <td>1.229897</td>\n",
       "      <td>90.714287</td>\n",
       "      <td>1.0</td>\n",
       "      <td>1.108943</td>\n",
       "      <td>0.471185</td>\n",
       "      <td>7.470664</td>\n",
       "      <td>7.510129</td>\n",
       "      <td>0.093198</td>\n",
       "      <td>0</td>\n",
       "    </tr>\n",
       "    <tr>\n",
       "      <th>1</th>\n",
       "      <td>34</td>\n",
       "      <td>5</td>\n",
       "      <td>5320</td>\n",
       "      <td>55</td>\n",
       "      <td>46.64706</td>\n",
       "      <td>6879.735352</td>\n",
       "      <td>61.088234</td>\n",
       "      <td>95732.9375</td>\n",
       "      <td>0.000000</td>\n",
       "      <td>0.000000</td>\n",
       "      <td>...</td>\n",
       "      <td>0.000000</td>\n",
       "      <td>0.000000</td>\n",
       "      <td>0.000000</td>\n",
       "      <td>0.0</td>\n",
       "      <td>0.000000</td>\n",
       "      <td>0.000000</td>\n",
       "      <td>0.000000</td>\n",
       "      <td>0.000000</td>\n",
       "      <td>0.000000</td>\n",
       "      <td>0</td>\n",
       "    </tr>\n",
       "    <tr>\n",
       "      <th>2</th>\n",
       "      <td>34</td>\n",
       "      <td>5</td>\n",
       "      <td>5233</td>\n",
       "      <td>19</td>\n",
       "      <td>46.64706</td>\n",
       "      <td>6879.735352</td>\n",
       "      <td>61.088234</td>\n",
       "      <td>95732.9375</td>\n",
       "      <td>1.428571</td>\n",
       "      <td>0.101015</td>\n",
       "      <td>...</td>\n",
       "      <td>6.215620</td>\n",
       "      <td>1.249180</td>\n",
       "      <td>72.428574</td>\n",
       "      <td>1.0</td>\n",
       "      <td>1.094411</td>\n",
       "      <td>0.301311</td>\n",
       "      <td>6.694379</td>\n",
       "      <td>6.771785</td>\n",
       "      <td>0.150868</td>\n",
       "      <td>0</td>\n",
       "    </tr>\n",
       "    <tr>\n",
       "      <th>3</th>\n",
       "      <td>34</td>\n",
       "      <td>5</td>\n",
       "      <td>5232</td>\n",
       "      <td>23</td>\n",
       "      <td>46.64706</td>\n",
       "      <td>6879.735352</td>\n",
       "      <td>61.088234</td>\n",
       "      <td>95732.9375</td>\n",
       "      <td>0.333333</td>\n",
       "      <td>0.000000</td>\n",
       "      <td>...</td>\n",
       "      <td>6.298834</td>\n",
       "      <td>1.195290</td>\n",
       "      <td>47.000000</td>\n",
       "      <td>1.0</td>\n",
       "      <td>1.060172</td>\n",
       "      <td>0.340631</td>\n",
       "      <td>6.628256</td>\n",
       "      <td>6.683076</td>\n",
       "      <td>0.160430</td>\n",
       "      <td>0</td>\n",
       "    </tr>\n",
       "    <tr>\n",
       "      <th>4</th>\n",
       "      <td>34</td>\n",
       "      <td>5</td>\n",
       "      <td>5268</td>\n",
       "      <td>20</td>\n",
       "      <td>46.64706</td>\n",
       "      <td>6879.735352</td>\n",
       "      <td>61.088234</td>\n",
       "      <td>95732.9375</td>\n",
       "      <td>0.000000</td>\n",
       "      <td>0.000000</td>\n",
       "      <td>...</td>\n",
       "      <td>0.000000</td>\n",
       "      <td>0.000000</td>\n",
       "      <td>0.000000</td>\n",
       "      <td>0.0</td>\n",
       "      <td>0.000000</td>\n",
       "      <td>0.000000</td>\n",
       "      <td>0.000000</td>\n",
       "      <td>0.000000</td>\n",
       "      <td>0.000000</td>\n",
       "      <td>0</td>\n",
       "    </tr>\n",
       "  </tbody>\n",
       "</table>\n",
       "<p>5 rows × 29 columns</p>\n",
       "</div>"
      ],
      "text/plain": [
       "   date_block_num  shop_id  item_id  item_category_id  cum_shop_num  \\\n",
       "0              34        5     5037                19      46.64706   \n",
       "1              34        5     5320                55      46.64706   \n",
       "2              34        5     5233                19      46.64706   \n",
       "3              34        5     5232                23      46.64706   \n",
       "4              34        5     5268                20      46.64706   \n",
       "\n",
       "   cum_item_num  cum_item_cat  cum_item_sales  exp_mean_enc_shop_item_target  \\\n",
       "0   6879.735352     61.088234      95732.9375                       0.928571   \n",
       "1   6879.735352     61.088234      95732.9375                       0.000000   \n",
       "2   6879.735352     61.088234      95732.9375                       1.428571   \n",
       "3   6879.735352     61.088234      95732.9375                       0.333333   \n",
       "4   6879.735352     61.088234      95732.9375                       0.000000   \n",
       "\n",
       "   exp_mean_enc_shop_item_target_std   ...    exp_mean_enc_shop_price_mean  \\\n",
       "0                           0.000000   ...                        6.241771   \n",
       "1                           0.000000   ...                        0.000000   \n",
       "2                           0.101015   ...                        6.215620   \n",
       "3                           0.000000   ...                        6.298834   \n",
       "4                           0.000000   ...                        0.000000   \n",
       "\n",
       "   exp_mean_enc_shop_price_std  exp_mean_enc_item_target  \\\n",
       "0                     1.229897                 90.714287   \n",
       "1                     0.000000                  0.000000   \n",
       "2                     1.249180                 72.428574   \n",
       "3                     1.195290                 47.000000   \n",
       "4                     0.000000                  0.000000   \n",
       "\n",
       "   exp_mean_enc_item_target_med  exp_mean_enc_item_target_mean  \\\n",
       "0                           1.0                       1.108943   \n",
       "1                           0.0                       0.000000   \n",
       "2                           1.0                       1.094411   \n",
       "3                           1.0                       1.060172   \n",
       "4                           0.0                       0.000000   \n",
       "\n",
       "   exp_mean_enc_item_target_std  exp_mean_enc_item_price_med  \\\n",
       "0                      0.471185                     7.470664   \n",
       "1                      0.000000                     0.000000   \n",
       "2                      0.301311                     6.694379   \n",
       "3                      0.340631                     6.628256   \n",
       "4                      0.000000                     0.000000   \n",
       "\n",
       "   exp_mean_enc_item_price_mean  exp_mean_enc_item_price_std  target  \n",
       "0                      7.510129                     0.093198       0  \n",
       "1                      0.000000                     0.000000       0  \n",
       "2                      6.771785                     0.150868       0  \n",
       "3                      6.683076                     0.160430       0  \n",
       "4                      0.000000                     0.000000       0  \n",
       "\n",
       "[5 rows x 29 columns]"
      ]
     },
     "execution_count": 4,
     "metadata": {},
     "output_type": "execute_result"
    }
   ],
   "source": [
    "test.head()"
   ]
  },
  {
   "cell_type": "code",
   "execution_count": 5,
   "metadata": {
    "_cell_guid": "8e8bca6d-d592-43c2-a8df-59cf10d24eec",
    "_uuid": "f882fc817f0c4471da3cccfdf71405413f8dc732",
    "collapsed": true
   },
   "outputs": [],
   "source": [
    "train_dates = train.date_block_num.values\n",
    "train_y = train.target.values\n",
    "drop_cols = ['date_block_num', 'target']"
   ]
  },
  {
   "cell_type": "code",
   "execution_count": 6,
   "metadata": {
    "_cell_guid": "d98af4d8-79ca-41b9-9242-167bc62f0f4c",
    "_uuid": "401991c3d35a9e5686b5cb3a90b060672b526205",
    "collapsed": true
   },
   "outputs": [],
   "source": [
    "test_dates = test.date_block_num.values"
   ]
  },
  {
   "cell_type": "code",
   "execution_count": 7,
   "metadata": {
    "_cell_guid": "ca42adef-230b-448b-8a09-4c60606b6f43",
    "_uuid": "9fd1ecc653d3c2ecbfa13a1d963514dd8b99366f"
   },
   "outputs": [
    {
     "data": {
      "text/plain": [
       "84"
      ]
     },
     "execution_count": 7,
     "metadata": {},
     "output_type": "execute_result"
    }
   ],
   "source": [
    "train.drop(drop_cols, axis=1, inplace=True)\n",
    "test.drop(drop_cols, axis=1, inplace=True)\n",
    "gc.collect()"
   ]
  },
  {
   "cell_type": "code",
   "execution_count": 8,
   "metadata": {
    "_cell_guid": "c5e2e472-dd24-4c1c-aeea-983399854c96",
    "_uuid": "b6311ead1ee69aab8d3636577dc4c174058588f8",
    "scrolled": true
   },
   "outputs": [
    {
     "name": "stdout",
     "output_type": "stream",
     "text": [
      "12    347346\n",
      "14    342816\n",
      "15    331926\n",
      "18    330550\n",
      "23    330250\n",
      "21    329368\n",
      "13    328164\n",
      "16    327565\n",
      "17    327369\n",
      "19    324513\n",
      "22    316100\n",
      "24    306950\n",
      "20    303550\n",
      "25    284491\n",
      "26    279772\n",
      "27    257372\n",
      "33    238172\n",
      "28    232452\n",
      "30    228889\n",
      "29    224288\n",
      "32    218655\n",
      "31    214536\n",
      "dtype: int64\n"
     ]
    }
   ],
   "source": [
    "mask = train_dates >= 12\n",
    "train = train[mask].reset_index(drop=True)\n",
    "train_y = train_y[mask]\n",
    "train_dates = train_dates[mask]\n",
    "print(pd.Series(train_dates).value_counts())"
   ]
  },
  {
   "cell_type": "code",
   "execution_count": 9,
   "metadata": {
    "_cell_guid": "8249486d-89cd-4903-afd9-f814568d1656",
    "_uuid": "b9d4c2c1af94659ea29fe13751ea8d6efda3e0a4"
   },
   "outputs": [
    {
     "data": {
      "text/plain": [
       "15"
      ]
     },
     "execution_count": 9,
     "metadata": {},
     "output_type": "execute_result"
    }
   ],
   "source": [
    "gc.collect()"
   ]
  },
  {
   "cell_type": "markdown",
   "metadata": {
    "_cell_guid": "07bf6615-0b08-4a0b-afdd-80b7b1200d46",
    "_uuid": "488631d462bbf3fbdca2d45427b3679ec47e2269"
   },
   "source": [
    "# First Level Model Training"
   ]
  },
  {
   "cell_type": "code",
   "execution_count": 10,
   "metadata": {
    "_cell_guid": "661aeafb-33f0-41f0-94cc-92a6d5969da2",
    "_uuid": "f6a441a67cf5de0dd7fcd0f484f661e7c09bdfd9",
    "collapsed": true
   },
   "outputs": [],
   "source": [
    "level2_date_block = [27, 28, 29, 30, 31, 32]\n",
    "level2_mask = pd.Series(train_dates).isin(level2_date_block)\n",
    "train_dates_level2 = train_dates[level2_mask]\n",
    "train_y_level2 = train_y[level2_mask]"
   ]
  },
  {
   "cell_type": "code",
   "execution_count": 11,
   "metadata": {
    "_cell_guid": "b55e3e5c-2976-4945-a2be-ef5a5f784ab6",
    "_uuid": "8523f46c37e6291382c84643fbb3ee1455514ed6",
    "collapsed": true
   },
   "outputs": [],
   "source": [
    "from sklearn.base import clone\n",
    "import copy\n",
    "from sklearn.model_selection import ParameterGrid\n",
    "from sklearn.metrics import mean_squared_error\n",
    "import matplotlib.pyplot as plt\n",
    "%matplotlib inline\n",
    "\n",
    "def customized_grid_search_cv_evaluate(clf, X, y, param_grid):\n",
    "    \n",
    "    params_list = list(ParameterGrid(param_grid))\n",
    "    res_df = pd.DataFrame(data=np.zeros((len(params_list),3)), columns=['params', 'mean_test_score', 'std_test_score'])\n",
    "    res_df.loc[:,'params'] = params_list\n",
    "    \n",
    "    for i, params in enumerate(params_list):\n",
    "        scores = []\n",
    "        print('Fitting: ', params, '...', end='\\n\\tscores= ')\n",
    "        for cur_block in level2_date_block:\n",
    "            copy_clf = copy.deepcopy(clf)\n",
    "            original_param = copy_clf.get_params()\n",
    "            original_param.update(params)\n",
    "            copy_clf.set_params(**original_param) # update copy clf with trying params \n",
    "            \n",
    "            copy_clf.fit(train[train_dates < cur_block].values, train_y[train_dates < cur_block])\n",
    "            pred_y = copy_clf.predict(train[train_dates == cur_block].values)\n",
    "            pred_y = np.clip(pred_y, 0., 20.)\n",
    "            score = mean_squared_error(train_y[train_dates == cur_block], pred_y)**.5\n",
    "            print('{:.5f} '.format(score), end='')\n",
    "            scores.append(score)\n",
    "            del copy_clf; gc.collect()\n",
    "        \n",
    "        print('')\n",
    "        res_df.loc[i, 'mean_test_score'] = np.mean(scores)\n",
    "        res_df.loc[i, 'std_test_score'] = np.std(scores)\n",
    "        \n",
    "    print('Fitting finished')\n",
    "    res_df = res_df.sort_values(by=['mean_test_score', 'std_test_score'], ascending=True).reset_index(drop=True)\n",
    "    best_params = res_df.loc[0, 'params']\n",
    "    \n",
    "    print('Selected hyper-params:', best_params)\n",
    "    print('cv score: {:.4f}, std: {:.4f}'.format(res_df.loc[0, 'mean_test_score'], res_df.loc[0, 'std_test_score']))\n",
    "    del res_df, params_list; gc.collect()"
   ]
  },
  {
   "cell_type": "code",
   "execution_count": 12,
   "metadata": {
    "_cell_guid": "8c631ea7-c3b8-4310-8f27-c0ee8d77a097",
    "_uuid": "68683125d25ee7c6482cd12e1acc3160093be9de",
    "collapsed": true
   },
   "outputs": [],
   "source": [
    "def customized_grid_search_simple_holdout_evaluate(clf, X, y, param_grid):\n",
    "    \n",
    "    params_list = list(ParameterGrid(param_grid))\n",
    "    res_df = pd.DataFrame(data=np.zeros((len(params_list),2)), columns=['params', 'val_score'])\n",
    "    res_df.loc[:,'params'] = params_list\n",
    "    \n",
    "    train_mask = train_dates < level2_date_block[0]\n",
    "    validation_mask = (train_dates >= level2_date_block[0]) & (train_dates <= level2_date_block[-1])\n",
    "    for i, params in enumerate(params_list):\n",
    "        print('Fitting: ', params, '...', end='\\n\\tscore= ')\n",
    "        \n",
    "        copy_clf = copy.deepcopy(clf)\n",
    "        original_param = copy_clf.get_params()\n",
    "        original_param.update(params)\n",
    "        copy_clf.set_params(**original_param) # update copy clf with trying params \n",
    "\n",
    "        copy_clf.fit(train[train_mask].values, train_y[train_mask])\n",
    "        pred_y = copy_clf.predict(train[validation_mask].values)\n",
    "        pred_y = np.clip(pred_y, 0., 20.)\n",
    "        score = mean_squared_error(train_y[validation_mask], pred_y)**.5\n",
    "        print('{:.5f} '.format(score), end='\\n')\n",
    "        del copy_clf; gc.collect()\n",
    "\n",
    "        res_df.loc[i, 'val_score'] = score\n",
    "        \n",
    "    print('Fitting finished')\n",
    "    res_df = res_df.sort_values(by=['val_score'], ascending=True).reset_index(drop=True)\n",
    "    best_params = res_df.loc[0, 'params']\n",
    "    \n",
    "    print('Selected hyper-params:', best_params)\n",
    "    print('cv score: {:.4f}'.format(res_df.loc[0, 'val_score']))\n",
    "    del res_df, params_list; gc.collect()"
   ]
  },
  {
   "cell_type": "markdown",
   "metadata": {
    "_cell_guid": "e1ea5dc6-5c68-4f50-a218-2cc636b0d2d5",
    "_uuid": "896c79ef04990f934351ceef27d8d4eb12c5ce2a"
   },
   "source": [
    "> since we have enough data, I'll just use customized_grid_search_simple_holdout_evaluate, to speed up hyper-param optimization process"
   ]
  },
  {
   "cell_type": "markdown",
   "metadata": {
    "_cell_guid": "444c7f79-0c87-4749-9400-ee1fe9c14e64",
    "_uuid": "e40eee8d3f8614c339e17d66a6cf968921f9dd98"
   },
   "source": [
    "### Hyper-parameter optimization with cv/grid search"
   ]
  },
  {
   "cell_type": "markdown",
   "metadata": {
    "_cell_guid": "1598b705-f5b6-4418-931a-08cdc29eccda",
    "_uuid": "4b27bfa17e5836f7df358a94c80a45311eff65b2"
   },
   "source": [
    "#### Linear Models"
   ]
  },
  {
   "cell_type": "code",
   "execution_count": 13,
   "metadata": {
    "_cell_guid": "5f7fff19-a69e-4032-a3f1-4dd7bf1d2d97",
    "_uuid": "e5e737cc0c7def4755573bb8f7f932a39d5d032b",
    "collapsed": true
   },
   "outputs": [],
   "source": [
    "from sklearn.linear_model import Ridge, Lasso #featuring L2/L1 regularized linear models\n",
    "from sklearn.preprocessing import StandardScaler\n",
    "from sklearn.pipeline import Pipeline"
   ]
  },
  {
   "cell_type": "code",
   "execution_count": 15,
   "metadata": {
    "_cell_guid": "202e6972-9a38-403d-b4ef-de463e963f92",
    "_uuid": "a2d74d94d555477ee10d236eb48c9dcb1a7eb442",
    "collapsed": true
   },
   "outputs": [],
   "source": [
    "rg_clf = Pipeline([\n",
    "    ('standardscaler', StandardScaler(copy=False, with_mean=True, with_std=True)),\n",
    "    ('rg', Ridge(fit_intercept=True, normalize=True, max_iter=2000, random_state=0))\n",
    "])\n",
    "\n",
    "rg_params = {\n",
    "    'rg__alpha': [0.1, 1., 2., 4.],\n",
    "}\n",
    "#customized_grid_search_simple_holdout_evaluate(rg_clf, train, train_y, rg_params)"
   ]
  },
  {
   "cell_type": "code",
   "execution_count": 16,
   "metadata": {
    "_cell_guid": "d2fbdc27-9cb7-40ec-bf06-aa758f1a84c9",
    "_uuid": "24651918548c9453174ece1b365ee5fe0809630b",
    "collapsed": true
   },
   "outputs": [],
   "source": [
    "rg_clf = Pipeline([\n",
    "    ('standardscaler', StandardScaler(copy=False, with_mean=True, with_std=True)),\n",
    "    ('rg', Ridge(fit_intercept=True, normalize=True, max_iter=2000, random_state=0))\n",
    "])\n",
    "\n",
    "rg_params = {\n",
    "    'rg__alpha': [0.01, 0.05, 0.1, 0.25, 0.5],\n",
    "}\n",
    "#customized_grid_search_simple_holdout_evaluate(rg_clf, train, train_y, rg_params)"
   ]
  },
  {
   "cell_type": "markdown",
   "metadata": {
    "_cell_guid": "655d0c23-d514-4eb3-95c7-4c22e17a5335",
    "_uuid": "bc532cbc5048d02b0bab5d4561fce6e61ab3790d"
   },
   "source": [
    "> alpha = 0.01 is the best"
   ]
  },
  {
   "cell_type": "code",
   "execution_count": 17,
   "metadata": {
    "_cell_guid": "d3ef6807-c272-41db-acc7-863a781acbd9",
    "_uuid": "cea02dc4337c2cbf949d24477f271b6ad0ca683b",
    "collapsed": true
   },
   "outputs": [],
   "source": [
    "lasso_clf = Pipeline([\n",
    "    ('standardscaler', StandardScaler(copy=False, with_mean=True, with_std=True)),\n",
    "    ('lasso', Lasso(normalize=False, fit_intercept=True, max_iter=2000, random_state=0))\n",
    "])\n",
    "\n",
    "lasso_params = {\n",
    "    'lasso__alpha': [0.1, 1., 2., 4.],\n",
    "}\n",
    "#customized_grid_search_simple_holdout_evaluate(lasso_clf, train, train_y, lasso_params)"
   ]
  },
  {
   "cell_type": "code",
   "execution_count": 18,
   "metadata": {
    "_cell_guid": "31bf6510-4898-4ded-a8e2-72688c6de888",
    "_uuid": "b986675ccf0541fbff19305e32ed0b42babbbe33",
    "collapsed": true
   },
   "outputs": [],
   "source": [
    "lasso_clf = Pipeline([\n",
    "    ('standardscaler', StandardScaler(copy=False, with_mean=True, with_std=True)),\n",
    "    ('lasso', Lasso(normalize=False, fit_intercept=True, max_iter=2000, random_state=0))\n",
    "])\n",
    "\n",
    "lasso_params = {\n",
    "    'lasso__alpha': [0.01, 0.05, 0.1, 0.25, 0.5],\n",
    "}\n",
    "#customized_grid_search_simple_holdout_evaluate(lasso_clf, train, train_y, lasso_params)"
   ]
  },
  {
   "cell_type": "markdown",
   "metadata": {
    "_cell_guid": "efc7be05-cba2-4f05-8b75-843ad5c57c0e",
    "_uuid": "b7fbb2ea40df5906e55665097fd2debdc0913107"
   },
   "source": [
    "> alpha = 0.05 is the best"
   ]
  },
  {
   "cell_type": "markdown",
   "metadata": {
    "_cell_guid": "7933afcb-37d0-402c-8f49-ec5093f10bc5",
    "_uuid": "f4534477b4fe1529cfab778af254c3fa38d86a0f",
    "collapsed": true
   },
   "source": [
    "#### Random Forests"
   ]
  },
  {
   "cell_type": "code",
   "execution_count": 1,
   "metadata": {
    "_cell_guid": "bcb9a392-dc6b-40cf-8eba-285ce6d39a33",
    "_uuid": "a54c06da2fea592b829b122b9eca75103f0a107c"
   },
   "outputs": [
    {
     "data": {
      "text/plain": [
       "RandomForestRegressor(bootstrap=True, criterion='mse', max_depth=None,\n",
       "           max_features='auto', max_leaf_nodes=None,\n",
       "           min_impurity_decrease=0.0, min_impurity_split=None,\n",
       "           min_samples_leaf=1, min_samples_split=2,\n",
       "           min_weight_fraction_leaf=0.0, n_estimators=10, n_jobs=1,\n",
       "           oob_score=False, random_state=None, verbose=0, warm_start=False)"
      ]
     },
     "execution_count": 1,
     "metadata": {},
     "output_type": "execute_result"
    }
   ],
   "source": [
    "from sklearn.ensemble import RandomForestRegressor\n",
    "\n",
    "RandomForestRegressor()"
   ]
  },
  {
   "cell_type": "code",
   "execution_count": 20,
   "metadata": {
    "_cell_guid": "df69c5d6-482d-44fb-85f4-80d10844cab2",
    "_uuid": "dcb9c81edebc61aab7058e4b85ef60ab335e62a1"
   },
   "outputs": [
    {
     "name": "stdout",
     "output_type": "stream",
     "text": [
      "6425094\n"
     ]
    }
   ],
   "source": [
    "print(train.shape[0])"
   ]
  },
  {
   "cell_type": "code",
   "execution_count": 21,
   "metadata": {
    "_cell_guid": "f25a9a7b-e32e-4e0d-87cd-dc25d01e7e2d",
    "_uuid": "b48b4a34ee8ed42d4a14196355c9f86a685db2a7",
    "collapsed": true
   },
   "outputs": [],
   "source": [
    "rf_clf = RandomForestRegressor(min_samples_split=300, min_samples_leaf=30, max_features='sqrt',\n",
    "                               max_depth=4, n_jobs=4, criterion='mse')\n",
    "\n",
    "rf_params = {\n",
    "    'n_estimators': [50, 100, 200, 400],\n",
    "}\n",
    "#customized_grid_search_simple_holdout_evaluate(rf_clf, train, train_y, rf_params)"
   ]
  },
  {
   "cell_type": "code",
   "execution_count": 22,
   "metadata": {
    "_cell_guid": "6132f8d6-c485-434c-a934-4cdbd9d6e524",
    "_uuid": "a36da7c317a4f104840f1b58acfb041454931adb",
    "collapsed": true,
    "scrolled": true
   },
   "outputs": [],
   "source": [
    "rf_clf = RandomForestRegressor(n_estimators=200,\n",
    "                               min_samples_split=300, min_samples_leaf=30, max_features='sqrt',\n",
    "                               max_depth=4, n_jobs=4, criterion='mse', random_state=0)\n",
    "\n",
    "rf_params = {\n",
    "    'max_depth': [4, 8, 12],\n",
    "}\n",
    "#customized_grid_search_simple_holdout_evaluate(rf_clf, train, train_y, rf_params)"
   ]
  },
  {
   "cell_type": "markdown",
   "metadata": {
    "_cell_guid": "a52be5cd-46a8-4059-b708-4cda7b7bacf3",
    "_uuid": "c29fd8a122ca36b7f3f82bffe83a01c7e3516e59"
   },
   "source": [
    "> best: n_estimators=200, max_depth=8"
   ]
  },
  {
   "cell_type": "markdown",
   "metadata": {
    "_cell_guid": "56f23cd3-4852-4acf-b9c2-8f874baacfa4",
    "_uuid": "6582af83be3f895d6086c1948cf92f41a1686e21"
   },
   "source": [
    "#### Gradient Boosting Trees: Prediction and Leaves Indices Features"
   ]
  },
  {
   "cell_type": "code",
   "execution_count": 23,
   "metadata": {
    "_cell_guid": "8506bbc4-c210-4a0b-a18b-dd7f51d3d566",
    "_uuid": "ca7590bb336fa584d0b21699fdc3c51cccbd377b",
    "collapsed": true
   },
   "outputs": [],
   "source": [
    "import lightgbm as lgb"
   ]
  },
  {
   "cell_type": "code",
   "execution_count": 24,
   "metadata": {
    "_cell_guid": "2f547e9e-78f1-429e-8b33-e782efab43a1",
    "_uuid": "ea6bdcfc0802ebed2b1b4777b622245e24d01bb1"
   },
   "outputs": [
    {
     "data": {
      "text/plain": [
       "LGBMRegressor(boosting_type='gbdt', colsample_bytree=1.0, learning_rate=0.1,\n",
       "       max_bin=255, max_depth=-1, min_child_samples=10, min_child_weight=5,\n",
       "       min_split_gain=0.0, n_estimators=10, n_jobs=-1, num_leaves=31,\n",
       "       objective=None, random_state=0, reg_alpha=0.0, reg_lambda=0.0,\n",
       "       silent=True, subsample=1.0, subsample_for_bin=50000,\n",
       "       subsample_freq=1)"
      ]
     },
     "execution_count": 24,
     "metadata": {},
     "output_type": "execute_result"
    }
   ],
   "source": [
    "lgb.LGBMRegressor()"
   ]
  },
  {
   "cell_type": "code",
   "execution_count": 25,
   "metadata": {
    "_cell_guid": "33a7ecc1-deb2-4925-8b41-258aa98aec60",
    "_uuid": "d5fe3a4e3b10d31834c3fdf64d993744b51dbef2",
    "collapsed": true
   },
   "outputs": [],
   "source": [
    "lgb_clf = lgb.LGBMRegressor(random_state=0, n_jobs=4)\n",
    "\n",
    "# 1. find an optimal n_esti for rather larger learning rate\n",
    "lgb_params = {\n",
    "    'boosting_type': ['gbdt', 'dart']\n",
    "}\n",
    "#customized_grid_search_simple_holdout_evaluate(lgb_clf, train, train_y, lgb_params)"
   ]
  },
  {
   "cell_type": "code",
   "execution_count": 26,
   "metadata": {
    "_cell_guid": "5101a346-2044-4a89-a8a4-432cb8be281e",
    "_uuid": "9a750cb93615b91242e8d0d630884f5346725a00",
    "collapsed": true,
    "scrolled": true
   },
   "outputs": [],
   "source": [
    "lgb_clf = lgb.LGBMRegressor(boosting_type='dart', learning_rate=0.1, random_state=0, n_jobs =4)\n",
    "\n",
    "# 1. find an optimal n_esti for rather larger learning rate\n",
    "lgb_params = {\n",
    "    'n_estimators': [10, 20, 40, 60, 80],\n",
    "    'learning_rate': [0.2, 0.1, 0.075, 0.05]\n",
    "}\n",
    "#customized_grid_search_simple_holdout_evaluate(lgb_clf, train, train_y, lgb_params)"
   ]
  },
  {
   "cell_type": "code",
   "execution_count": 27,
   "metadata": {
    "_cell_guid": "5d7d8a09-e111-4437-a8e0-2ec1fd0cc3a6",
    "_uuid": "83c7d373f6acdfaa2453b229c7d3fa021807b124",
    "collapsed": true
   },
   "outputs": [],
   "source": [
    "lgb_clf = lgb.LGBMRegressor(boosting_type='dart', learning_rate=0.1, n_estimators=40,\n",
    "                            random_state=0, n_jobs =4)\n",
    "\n",
    "\n",
    "\n",
    "# 2. tune tree-specific params\n",
    "lgb_params = {\n",
    "    'max_depth': [4, 6, 8, 10, 12],\n",
    "}\n",
    "#customized_grid_search_simple_holdout_evaluate(lgb_clf, train, train_y, lgb_params)"
   ]
  },
  {
   "cell_type": "code",
   "execution_count": 28,
   "metadata": {
    "_cell_guid": "72ac1b5b-0f43-4262-845f-621dfd13546f",
    "_uuid": "e708da04c222dc581e2dc2eac74956af3dc2c09a",
    "collapsed": true,
    "scrolled": true
   },
   "outputs": [],
   "source": [
    "lgb_clf = lgb.LGBMRegressor(boosting_type='dart', learning_rate=0.1, n_estimators=40,\n",
    "                            max_depth=12, \n",
    "                            random_state=0, n_jobs =4)\n",
    "\n",
    "\n",
    "# 2. tune tree-specific params\n",
    "lgb_params = {\n",
    "    'min_split_gain': [.0, .1, .2],\n",
    "    'min_child_samples': [20, 40, 80],\n",
    "}\n",
    "#customized_grid_search_simple_holdout_evaluate(lgb_clf, train, train_y, lgb_params)"
   ]
  },
  {
   "cell_type": "code",
   "execution_count": 29,
   "metadata": {
    "_cell_guid": "2aaaca4a-9658-4965-a057-e6e660c00b06",
    "_uuid": "12ad58ac2a51ee086fdf73524ad50e9144d0bc7e",
    "collapsed": true,
    "scrolled": true
   },
   "outputs": [],
   "source": [
    "lgb_clf = lgb.LGBMRegressor(boosting_type='dart', learning_rate=0.1, n_estimators=40,\n",
    "                            max_depth=12, min_child_samples=20, min_split_gain=0.0,\n",
    "                            random_state=0, n_jobs=4)\n",
    "\n",
    "# 2. tune tree-specific params\n",
    "lgb_params = {\n",
    "    'subsample': [.2, .4, .6, .8, 1.],\n",
    "    'colsample_bytree': [.2, .4, .6, .8, 1.]\n",
    "}\n",
    "#customized_grid_search_simple_holdout_evaluate(lgb_clf, train, train_y, lgb_params)"
   ]
  },
  {
   "cell_type": "code",
   "execution_count": 30,
   "metadata": {
    "_cell_guid": "25d3d99f-75ed-4117-aade-dc629e85e7cc",
    "_uuid": "5135474d0507b73698093663dfc84a0125730bd8",
    "collapsed": true,
    "scrolled": true
   },
   "outputs": [],
   "source": [
    "lgb_clf = lgb.LGBMRegressor(boosting_type='dart', learning_rate=0.1, n_estimators=40,\n",
    "                            max_depth=12, min_child_samples=20, min_split_gain=0.0,\n",
    "                            random_state=0, n_jobs=4)\n",
    "\n",
    "# 2. tune tree-specific params\n",
    "lgb_params = {\n",
    "    'subsample': [.45, .5, .55, .6, .65, .7, .75],\n",
    "    'colsample_bytree': [.45, .5, .55, .6, .65, .7, .75]\n",
    "}\n",
    "#customized_grid_search_simple_holdout_evaluate(lgb_clf, train, train_y, lgb_params)"
   ]
  },
  {
   "cell_type": "code",
   "execution_count": 31,
   "metadata": {
    "_cell_guid": "d7ec46aa-56d5-4c19-afb8-bafe1ad3d15c",
    "_uuid": "f0665b5c82c44e0f57a1b0cdd8af82a709947dbc",
    "collapsed": true,
    "scrolled": true
   },
   "outputs": [],
   "source": [
    "lgb_clf = lgb.LGBMRegressor(boosting_type='dart', learning_rate=0.1, n_estimators=40,\n",
    "                            max_depth=12, min_child_samples=20, min_split_gain=0.0,\n",
    "                            subsample=.55, colsample_bytree=.75,\n",
    "                            random_state=0, n_jobs=4)\n",
    "\n",
    "# 2. tune tree-specific params\n",
    "lgb_params = {\n",
    "    'reg_alpha': [.0, .2, .4, .6, .8, 1., 2.],\n",
    "    'reg_lambda': [.0, .2, .4, .6, .8, 1., 2.]\n",
    "}\n",
    "#customized_grid_search_simple_holdout_evaluate(lgb_clf, train, train_y, lgb_params)"
   ]
  },
  {
   "cell_type": "code",
   "execution_count": 32,
   "metadata": {
    "_cell_guid": "45899669-ef58-4e4e-af2c-32f3bd4564ec",
    "_uuid": "b20dc39ece7c466f9057647db474360660d6f949",
    "collapsed": true,
    "scrolled": true
   },
   "outputs": [],
   "source": [
    "lgb_clf = lgb.LGBMRegressor(boosting_type='dart', learning_rate=0.1, n_estimators=40,\n",
    "                            max_depth=12, min_child_samples=20, min_split_gain=0.0,\n",
    "                            subsample=.55, colsample_bytree=.75,\n",
    "                            random_state=0, n_jobs=4)\n",
    "\n",
    "# 2. tune tree-specific params\n",
    "lgb_params = {\n",
    "    'reg_alpha': [.0, .05, .1, .15, .2],\n",
    "    'reg_lambda': [.0, .05, .1, .15, .2]\n",
    "}\n",
    "#customized_grid_search_simple_holdout_evaluate(lgb_clf, train, train_y, lgb_params)"
   ]
  },
  {
   "cell_type": "code",
   "execution_count": 33,
   "metadata": {
    "_cell_guid": "b39c1377-dc3b-4746-bdb2-e47c2327a53c",
    "_uuid": "f0778a75df66033f2239322d0ddd28c8f8dedf09",
    "collapsed": true
   },
   "outputs": [],
   "source": [
    "lgb_clf = lgb.LGBMRegressor(boosting_type='dart', learning_rate=0.1, n_estimators=40,\n",
    "                            max_depth=12, min_child_samples=20, min_split_gain=0.0,\n",
    "                            subsample=.55, colsample_bytree=.75,\n",
    "                            random_state=0, n_jobs=4)\n",
    "\n",
    "# 3. increase the n_estimator and decrease lr\n",
    "lgb_params = [\n",
    "    {'n_estimators': [40], 'learning_rate': [0.1]},\n",
    "    {'n_estimators': [80], 'learning_rate': [0.05]},\n",
    "    {'n_estimators': [400], 'learning_rate': [0.01]},\n",
    "    {'n_estimators': [800], 'learning_rate': [0.005]}\n",
    "]\n",
    "\n",
    "#customized_grid_search_simple_holdout_evaluate(lgb_clf, train, train_y, lgb_params)"
   ]
  },
  {
   "cell_type": "markdown",
   "metadata": {
    "_cell_guid": "02a6ed55-0994-493c-bf5b-600ecced3d3d",
    "_uuid": "b9c6ffc6882d8f9235b7285f3e129e3918849ae0"
   },
   "source": [
    "lgb_clf = lgb.LGBMRegressor(boosting_type='dart', learning_rate=0.1, n_estimators=40,\n",
    "                            max_depth=12, min_child_samples=20, min_split_gain=0.0,\n",
    "                            subsample=.55, colsample_bytree=.75,\n",
    "                            random_state=0, n_jobs=4)"
   ]
  },
  {
   "cell_type": "markdown",
   "metadata": {
    "_cell_guid": "916720ce-c182-4db7-a0c4-eb7811872022",
    "_uuid": "23399cf99d666c30420f7aa1f648f1ff392f5417",
    "collapsed": true
   },
   "source": [
    "#### KNN: Prediction and Neighbor distances features"
   ]
  },
  {
   "cell_type": "code",
   "execution_count": 34,
   "metadata": {
    "_cell_guid": "966d442b-0165-407f-8b3c-bd172a4ba08e",
    "_uuid": "59ca37f605112bab97a1dffb62c566fd213ddc99"
   },
   "outputs": [
    {
     "data": {
      "text/plain": [
       "KNeighborsRegressor(algorithm='auto', leaf_size=30, metric='minkowski',\n",
       "          metric_params=None, n_jobs=1, n_neighbors=5, p=2,\n",
       "          weights='uniform')"
      ]
     },
     "execution_count": 34,
     "metadata": {},
     "output_type": "execute_result"
    }
   ],
   "source": [
    "from sklearn.neighbors import KNeighborsRegressor\n",
    "KNeighborsRegressor()"
   ]
  },
  {
   "cell_type": "code",
   "execution_count": 35,
   "metadata": {
    "_cell_guid": "fa02a1da-4cfc-462d-9fa4-536ea6f8dce1",
    "_uuid": "b9f3ebc7fbf3c2e8818129d2d7e6d230ba0a0173",
    "collapsed": true
   },
   "outputs": [],
   "source": [
    "knn_clf = KNeighborsRegressor(algorithm='auto', leaf_size=30, metric='minkowski',\n",
    "                              metric_params=None, n_jobs=4, n_neighbors=5, p=1,\n",
    "                              weights='uniform')\n",
    "\n",
    "knn_params = {\n",
    "    'weights': ['uniform', 'distance'],\n",
    "    'n_neighbors': [5, 10, 20]\n",
    "}\n",
    "#customized_grid_search_simple_holdout_evaluate(knn_clf, train, train_y, knn_params)"
   ]
  },
  {
   "cell_type": "markdown",
   "metadata": {
    "_cell_guid": "0e0ea5a6-8e41-4a2a-bdf4-2e3d5be5e148",
    "_uuid": "03f25da644b288898b148f438037a2de1d9d6357"
   },
   "source": [
    "* Fitting:  {'n_neighbors': 5, 'weights': 'uniform'} ...\n",
    "\tscore= 1.20860 \n",
    "* Fitting:  {'n_neighbors': 5, 'weights': 'distance'} ...\n",
    "\tscore= 1.20883 \n",
    "* Fitting:  {'n_neighbors': 10, 'weights': 'uniform'} ...\n",
    "\tscore= 1.12451 \n",
    "* Fitting:  {'n_neighbors': 10, 'weights': 'distance'} ...\n",
    "\tscore= 1.12480 \n",
    "* Fitting:  {'n_neighbors': 20, 'weights': 'uniform'} ...\n",
    "\tscore= 1.07028 \n",
    "* Fitting:  {'n_neighbors': 20, 'weights': 'distance'} ...\n",
    "\tscore= 1.07042 \n",
    "* Fitting finished\n",
    "* Selected hyper-params: {'n_neighbors': 20, 'weights': 'uniform'}\n",
    "* cv score: 1.0703"
   ]
  },
  {
   "cell_type": "markdown",
   "metadata": {
    "_cell_guid": "0000d990-ac08-4fcc-af84-88b2ef8b1148",
    "_uuid": "39e1b0697b31dda1ad0aa404f7a82a92b62978b8",
    "collapsed": true
   },
   "source": [
    "#### T-SNE: Casting to 2-D space features"
   ]
  },
  {
   "cell_type": "markdown",
   "metadata": {
    "_cell_guid": "014a6d18-a48b-4fa3-a871-c3d5f6361ec9",
    "_uuid": "5bc378ae4b995869e2ab2042d94b2f6570946cfd",
    "collapsed": true
   },
   "source": [
    "> TSNE runs too long... I gave it up and use other unsupervised learning instead"
   ]
  },
  {
   "cell_type": "markdown",
   "metadata": {
    "_cell_guid": "eb133c30-7a63-486b-9d91-6bf0796e0405",
    "_uuid": "6ec394c7509895b9dd78d18f8e34c00bda65b09d"
   },
   "source": [
    "#### Minibatch kmeans: Casting to low dimension space features"
   ]
  },
  {
   "cell_type": "code",
   "execution_count": 36,
   "metadata": {
    "_cell_guid": "b7531582-dac7-4ffd-ad5a-1b59269e0002",
    "_uuid": "402a7aeda46a38b2d9d6565b93eb5e93145fb3d0",
    "collapsed": true
   },
   "outputs": [],
   "source": [
    "from sklearn.cluster import MiniBatchKMeans, KMeans\n",
    "from sklearn.metrics import calinski_harabaz_score"
   ]
  },
  {
   "cell_type": "code",
   "execution_count": 37,
   "metadata": {
    "_cell_guid": "55fc1360-3d5e-4804-9904-52fa1a7ad5a9",
    "_uuid": "1361e3ddc88a9b7073302f98bcdf3275d6d8bd8b",
    "collapsed": true
   },
   "outputs": [],
   "source": [
    "merge = pd.concat([train, test], ignore_index=True)"
   ]
  },
  {
   "cell_type": "code",
   "execution_count": 38,
   "metadata": {
    "_cell_guid": "a0c5a900-672b-459b-8887-c6cb8e5e41b3",
    "_uuid": "01399f65eec4e30dc97240ed546ad102597d7495"
   },
   "outputs": [
    {
     "data": {
      "text/plain": [
       "6639294"
      ]
     },
     "execution_count": 38,
     "metadata": {},
     "output_type": "execute_result"
    }
   ],
   "source": [
    "merge.shape[0]"
   ]
  },
  {
   "cell_type": "code",
   "execution_count": 39,
   "metadata": {
    "_cell_guid": "26dea2b6-0f4a-46b8-904c-40ec5e3415bc",
    "_uuid": "32983ee63d92e20b705008c4763c14b4c2d76508",
    "scrolled": true
   },
   "outputs": [
    {
     "name": "stdout",
     "output_type": "stream",
     "text": [
      "n_clusters = 4 score= n_clusters = 6 score= n_clusters = 8 score= n_clusters = 10 score= n_clusters = 12 score= n_clusters = 14 score= "
     ]
    }
   ],
   "source": [
    "for c in np.arange(4,16,2):\n",
    "    print('n_clusters =', c, end=' score= ')\n",
    "    km = Pipeline([\n",
    "        ('standardscaler', StandardScaler(copy=False, with_mean=True, with_std=True)),\n",
    "        ('kmean', MiniBatchKMeans(n_clusters=c, max_no_improvement=30, \n",
    "                                  verbose=0, batch_size=1000000, random_state=0))\n",
    "    ])\n",
    "    #mini_kmean = MiniBatchKMeans(n_clusters=8, batch_size=10000, verbose=2, random_state=0)\n",
    "    #labels = km.fit_predict(merge)\n",
    "    #print(calinski_harabaz_score(merge, labels))"
   ]
  },
  {
   "cell_type": "markdown",
   "metadata": {
    "_cell_guid": "4e8a3fb2-4801-4401-a69e-8e7429934da4",
    "_uuid": "7bc03d00907972525f69e2bb4802f9b6944257af"
   },
   "source": [
    "* n_clusters = 4 score= 771847.201916\n",
    "* n_clusters = 6 score= 690328.823533\n",
    "* n_clusters = 8 score= 353126.465837\n",
    "* n_clusters = 10 score= 398070.180033\n",
    "* n_clusters = 12 score= 326250.806692\n",
    "* n_clusters = 14 score= 298831.871131"
   ]
  },
  {
   "cell_type": "markdown",
   "metadata": {
    "_cell_guid": "af3399d7-3793-40de-b0de-9df1ff68a300",
    "_uuid": "42907813f58df55d1a1eaf61cf0f4dabd9610d83",
    "collapsed": true
   },
   "source": [
    "> p.s. The score is higher when clusters are dense and well separated, which relates to a standard concept of a cluster."
   ]
  },
  {
   "cell_type": "code",
   "execution_count": 40,
   "metadata": {
    "_cell_guid": "b3da282f-3746-4bdd-8880-00ec5fc59dcb",
    "_uuid": "35eb35aa0f1c8a5c238ee9729d8ba884cb81662b",
    "collapsed": true
   },
   "outputs": [],
   "source": [
    "merge_dates = np.concatenate([train_dates, test_dates], axis=0)"
   ]
  },
  {
   "cell_type": "code",
   "execution_count": 41,
   "metadata": {
    "_cell_guid": "882a9088-a0c0-4318-999f-88d8f10dc3a6",
    "_uuid": "e56782300c83384a691ec2d477b1f12bb2597e53"
   },
   "outputs": [
    {
     "name": "stdout",
     "output_type": "stream",
     "text": [
      "6639294\n"
     ]
    }
   ],
   "source": [
    "print(len(merge_dates))"
   ]
  },
  {
   "cell_type": "code",
   "execution_count": 42,
   "metadata": {
    "_cell_guid": "ce48aa20-c8e6-4bfb-8e21-b421a9583ca6",
    "_uuid": "87fd0ed635dddb7e7eb78075a1a840ede7ddc423"
   },
   "outputs": [
    {
     "name": "stdout",
     "output_type": "stream",
     "text": [
      "(6639294,)\n"
     ]
    }
   ],
   "source": [
    "merge_y = np.concatenate([train_y, np.zeros((len(test_dates),))], axis=0)\n",
    "print(merge_y.shape)"
   ]
  },
  {
   "cell_type": "code",
   "execution_count": 43,
   "metadata": {
    "_cell_guid": "fec05e65-dbce-49f8-a1cd-fecc6c6ed0f1",
    "_uuid": "ce57685c10c4b8140f5395829e61f4e2734f7e73",
    "collapsed": true
   },
   "outputs": [],
   "source": [
    "stage2_train_dates = merge_dates[merge_dates>=level2_date_block[0]]\n",
    "stage2_train_mask = (stage2_train_dates <= level2_date_block[-1])\n",
    "stage2_valid_mask = (stage2_train_dates == 33)\n",
    "stage2_final_train_mask = (stage2_train_dates <= 33)\n",
    "stage2_test_mask = (stage2_train_dates==34)\n",
    "stage2_train_y = merge_y[merge_dates>=level2_date_block[0]]"
   ]
  },
  {
   "cell_type": "code",
   "execution_count": 48,
   "metadata": {
    "_cell_guid": "d8008778-d65b-49b3-866b-104c0acf0f89",
    "_uuid": "b92a904a1aecff787ef4394081e5ce46cc853650",
    "collapsed": true
   },
   "outputs": [],
   "source": [
    "supervised_models = {\n",
    "    'rg': Pipeline([\n",
    "                ('standardscaler', StandardScaler(copy=False, with_mean=True, with_std=True)),\n",
    "                ('rg', Ridge(alpha=0.01, fit_intercept=True, normalize=True, max_iter=2000, random_state=0))\n",
    "            ]),\n",
    "    'lasso':Pipeline([\n",
    "                    ('standardscaler', StandardScaler(copy=False, with_mean=True, with_std=True)),\n",
    "                    ('lasso', Lasso(alpha=0.05, normalize=False, fit_intercept=True, max_iter=2000, random_state=0))\n",
    "                ]),\n",
    "    'rf': RandomForestRegressor(n_estimators=200,\n",
    "                               min_samples_split=300, min_samples_leaf=30, max_features='sqrt',\n",
    "                               max_depth=8, n_jobs=4, criterion='mse', random_state=0),\n",
    "    'lgbm': lgb.LGBMRegressor(boosting_type='dart', learning_rate=0.1, n_estimators=40,\n",
    "                            max_depth=12, min_child_samples=20, min_split_gain=0.0,\n",
    "                            subsample=.55, colsample_bytree=.75,\n",
    "                            random_state=0, n_jobs=4),\n",
    "}\n",
    "\n",
    "knn = KNeighborsRegressor(algorithm='auto', leaf_size=30, metric='minkowski',\n",
    "                              metric_params=None, n_jobs=4, n_neighbors=20, p=1,\n",
    "                              weights='uniform')\n",
    "\n",
    "mini_kmean = Pipeline([\n",
    "                ('standardscaler', StandardScaler(copy=False, with_mean=True, with_std=True)),\n",
    "                ('kmean', MiniBatchKMeans(n_clusters=4, max_no_improvement=30, \n",
    "                                          verbose=0, batch_size=1000000, random_state=0))\n",
    "            ])"
   ]
  },
  {
   "cell_type": "code",
   "execution_count": 50,
   "metadata": {
    "_cell_guid": "c7ddfa51-4422-4984-94d0-f35d7a7c0745",
    "_uuid": "b26bc2fcf20cad0e22333db9ccf540b2ed2c3f4b",
    "collapsed": true
   },
   "outputs": [],
   "source": [
    "def stage2_feature_generate():\n",
    "    \n",
    "    print('Training supervised models')\n",
    "    \n",
    "    all_preds = []\n",
    "    for model_name, model in supervised_models.items():\n",
    "        \n",
    "        print(model_name, end=': ')\n",
    "        preds = []\n",
    "        for cur_block in np.arange(27, 35, 1):\n",
    "            X_tr = merge[merge_dates < cur_block].values\n",
    "            y_tr = merge_y[merge_dates < cur_block]\n",
    "            X_test = merge[merge_dates == cur_block].values\n",
    "            \n",
    "            copy_clf = copy.deepcopy(model)\n",
    "            copy_clf.fit(X_tr, y_tr)\n",
    "            pred_test = copy_clf.predict(X_test)\n",
    "            pred_test = np.clip(pred_test, 0., 20.)\n",
    "            preds.append(pred_test)\n",
    "            print(cur_block, end=' ')\n",
    "\n",
    "        preds = np.concatenate(preds, axis=0)\n",
    "        preds = preds.reshape((len(preds), 1))\n",
    "        all_preds.append(preds)\n",
    "    \n",
    "        print('')\n",
    "        \n",
    "    #knn:\n",
    "    print('knn')\n",
    "    X_tr = merge[merge_dates < 27].values\n",
    "    y_tr = merge_y[merge_dates < 27]\n",
    "\n",
    "    X_test = merge[merge_dates >= 27].values\n",
    "    knn.fit(X_tr, y_tr)\n",
    "    knn_pred = knn.predict(X_test)\n",
    "    knn_pred = np.clip(knn_pred, 0., 20.).reshape((len(knn_pred), 1))\n",
    "    knn_dist = knn.kneighbors(X_test, return_distance=True)[0] # distances\n",
    "    print(np.array(knn_dist).shape)\n",
    "    all_preds.append(knn_pred)\n",
    "    all_preds.append(knn_dist)\n",
    "    \n",
    "    # kmeans\n",
    "    mini_kmean.fit(merge.values)\n",
    "    kmean_pred = mini_kmean.predict(X_test)\n",
    "    kmean_dist = mini_kmean.transform(X_test)\n",
    "    \n",
    "    kmean_pred = np.array(kmean_pred).reshape((len(kmean_pred),1))\n",
    "    all_preds.append(kmean_pred)\n",
    "    all_preds.append(kmean_dist)\n",
    "    \n",
    "    return np.concatenate(all_preds, axis=1)"
   ]
  },
  {
   "cell_type": "code",
   "execution_count": 51,
   "metadata": {
    "_cell_guid": "c59dafe6-6a06-4455-9d18-7ac180adac10",
    "_uuid": "0e9cbc967ce972dc190492fb896b192f3e4f1ce8"
   },
   "outputs": [
    {
     "name": "stdout",
     "output_type": "stream",
     "text": [
      "Training supervised models\n",
      "rg: 27 28 29 30 31 32 33 34 \n",
      "lasso: 27 28 29 30 31 32 33 34 \n",
      "rf: 27 28 29 30 31 32 33 34 \n",
      "lgbm: 27 28 29 30 31 32 33 34 \n",
      "knn\n",
      "(1828564, 20)\n"
     ]
    }
   ],
   "source": [
    "stage2_data = stage2_feature_generate()"
   ]
  },
  {
   "cell_type": "code",
   "execution_count": 52,
   "metadata": {
    "_cell_guid": "c2613214-6f54-4845-b67d-7b41906cb3ed",
    "_uuid": "4a66eb8b4d6fbb39051f8834dee884bc2727144d"
   },
   "outputs": [
    {
     "data": {
      "text/plain": [
       "(1828564, 30)"
      ]
     },
     "execution_count": 52,
     "metadata": {},
     "output_type": "execute_result"
    }
   ],
   "source": [
    "stage2_data.shape"
   ]
  },
  {
   "cell_type": "code",
   "execution_count": 55,
   "metadata": {
    "scrolled": true
   },
   "outputs": [
    {
     "name": "stdout",
     "output_type": "stream",
     "text": [
      "30\n"
     ]
    },
    {
     "data": {
      "text/plain": [
       "['rg',\n",
       " 'lasso',\n",
       " 'rf',\n",
       " 'lgbm',\n",
       " 'knn',\n",
       " 'knn_dist_0',\n",
       " 'knn_dist_1',\n",
       " 'knn_dist_2',\n",
       " 'knn_dist_3',\n",
       " 'knn_dist_4',\n",
       " 'knn_dist_5',\n",
       " 'knn_dist_6',\n",
       " 'knn_dist_7',\n",
       " 'knn_dist_8',\n",
       " 'knn_dist_9',\n",
       " 'knn_dist_10',\n",
       " 'knn_dist_11',\n",
       " 'knn_dist_12',\n",
       " 'knn_dist_13',\n",
       " 'knn_dist_14',\n",
       " 'knn_dist_15',\n",
       " 'knn_dist_16',\n",
       " 'knn_dist_17',\n",
       " 'knn_dist_18',\n",
       " 'knn_dist_19',\n",
       " 'kmean_dist_label',\n",
       " 'kmean_dist_0',\n",
       " 'kmean_dist_1',\n",
       " 'kmean_dist_2',\n",
       " 'kmean_dist_3']"
      ]
     },
     "execution_count": 55,
     "metadata": {},
     "output_type": "execute_result"
    }
   ],
   "source": [
    "columns = ['rg', 'lasso', 'rf', 'lgbm', 'knn']\n",
    "columns.extend(['knn_dist_'+str(i) for i in range(20)])\n",
    "columns.extend(['kmean_dist_label'])\n",
    "columns.extend(['kmean_dist_'+str(i) for i in range(4)])\n",
    "print(len(columns))\n",
    "columns"
   ]
  },
  {
   "cell_type": "code",
   "execution_count": 56,
   "metadata": {
    "collapsed": true
   },
   "outputs": [],
   "source": [
    "stage2_df = pd.DataFrame(data=stage2_data, columns=columns)"
   ]
  },
  {
   "cell_type": "code",
   "execution_count": 58,
   "metadata": {
    "collapsed": true
   },
   "outputs": [],
   "source": [
    "import pickle\n",
    "with open('stage2_data.dataframe', 'wb') as handle:\n",
    "    pickle.dump(stage2_df, handle, protocol=pickle.HIGHEST_PROTOCOL)\n",
    "    \n",
    "'''\n",
    "with open('stage2_data.dataframe', 'rb') as handle:\n",
    "    stage2_df = pickle.load(handle)\n",
    "'''"
   ]
  },
  {
   "cell_type": "markdown",
   "metadata": {
    "_cell_guid": "e06c7bd0-c601-461d-a09d-9b0ab2efbac4",
    "_uuid": "0a508b6903c61c29c5bc380e0b2befe4b93afbad"
   },
   "source": [
    "# Extract text features"
   ]
  },
  {
   "cell_type": "code",
   "execution_count": 2,
   "metadata": {
    "_cell_guid": "3c3575a8-10f4-499c-8702-9903fce7f801",
    "_uuid": "4bd9bba0c0a138030a50afb8756c0782c320d5ac",
    "collapsed": true
   },
   "outputs": [],
   "source": [
    "text_cols = ['date_block_num', 'item_name', 'item_category_name', 'shop_name']"
   ]
  },
  {
   "cell_type": "code",
   "execution_count": 3,
   "metadata": {
    "_cell_guid": "a52513b5-2607-4d1a-94bc-8202adbcc0ae",
    "_uuid": "91f599d5e75291dfa9d53b3e8c446dc3c845cf3f",
    "collapsed": true
   },
   "outputs": [],
   "source": [
    "train_text_df = pd.read_csv('input/proc_train.csv.gz', usecols=text_cols)\n",
    "test_text_df = pd.read_csv('input/proc_test.csv.gz', usecols=text_cols)"
   ]
  },
  {
   "cell_type": "code",
   "execution_count": 4,
   "metadata": {
    "_cell_guid": "08f133ff-4776-4f13-b692-5a5d9f18b057",
    "_uuid": "fe75c924b0fefec2a24c5ca4113d9a2b0e5c0584"
   },
   "outputs": [
    {
     "data": {
      "text/plain": [
       "11128004"
      ]
     },
     "execution_count": 4,
     "metadata": {},
     "output_type": "execute_result"
    }
   ],
   "source": [
    "train_dates = train_text_df.date_block_num.values\n",
    "mask = train_dates >= 12\n",
    "train_text_df.shape[0]+test_text_df.shape[0]"
   ]
  },
  {
   "cell_type": "code",
   "execution_count": 5,
   "metadata": {
    "_cell_guid": "529178cb-36a2-4540-962d-2d15c2048e12",
    "_uuid": "fb90b7d5df2797cf49afe932cf1c2780f52ac41b"
   },
   "outputs": [
    {
     "data": {
      "text/plain": [
       "6639294"
      ]
     },
     "execution_count": 5,
     "metadata": {},
     "output_type": "execute_result"
    }
   ],
   "source": [
    "train_text_df = train_text_df[mask]\n",
    "train_text_df.shape[0]+test_text_df.shape[0]"
   ]
  },
  {
   "cell_type": "code",
   "execution_count": 6,
   "metadata": {
    "_cell_guid": "617eb4b7-6fca-4648-94e0-b593ebb8bca6",
    "_uuid": "cef66f7b315133de171cc0324142e4fb089559f2",
    "collapsed": true
   },
   "outputs": [],
   "source": [
    "train_texts = train_text_df['item_name'].map(str) + ' ' + train_text_df['item_category_name'].map(str) + ' ' + train_text_df['shop_name'].map(str)\n",
    "test_texts = test_text_df['item_name'].map(str) + ' ' + test_text_df['item_category_name'].map(str) + ' ' + test_text_df['shop_name'].map(str)"
   ]
  },
  {
   "cell_type": "code",
   "execution_count": 7,
   "metadata": {
    "_cell_guid": "7f534acd-3cec-462a-b2e3-02aafbd4a347",
    "_uuid": "da12c0f4793bf93b5f1a953b781873711ebebf99"
   },
   "outputs": [
    {
     "data": {
      "text/plain": [
       "(6639294,)"
      ]
     },
     "execution_count": 7,
     "metadata": {},
     "output_type": "execute_result"
    }
   ],
   "source": [
    "all_texts = pd.Series(np.concatenate([train_texts, test_texts], axis=0))\n",
    "del train_text_df, test_text_df, train_texts, test_texts; gc.collect()\n",
    "all_texts.shape"
   ]
  },
  {
   "cell_type": "markdown",
   "metadata": {
    "_cell_guid": "e920b270-a6b9-4391-b74b-8e4ba3b81250",
    "_uuid": "0ff9e9a57975307ce2038457c5b23e8e01e3d687"
   },
   "source": [
    "### 1. TF-IDF + TruncSVD"
   ]
  },
  {
   "cell_type": "code",
   "execution_count": 8,
   "metadata": {
    "_cell_guid": "ee173a9a-28b7-4583-abc6-d2c1e9bfd0b6",
    "_uuid": "e95c3455463bf40f8804cb95894c5392b26db943",
    "collapsed": true
   },
   "outputs": [],
   "source": [
    "from sklearn.feature_extraction.text import TfidfVectorizer\n",
    "tv = TfidfVectorizer(lowercase=False, ngram_range=(1,2))"
   ]
  },
  {
   "cell_type": "code",
   "execution_count": 9,
   "metadata": {
    "_cell_guid": "5b333b8f-e2dc-44b7-8ca1-71e684402c68",
    "_uuid": "aa2ce1ac0c150284d5572ef3b15e529dd4984346"
   },
   "outputs": [
    {
     "data": {
      "text/plain": [
       "(6639294, 63999)"
      ]
     },
     "execution_count": 9,
     "metadata": {},
     "output_type": "execute_result"
    }
   ],
   "source": [
    "tv_features = tv.fit_transform(all_texts)\n",
    "tv_features.shape"
   ]
  },
  {
   "cell_type": "code",
   "execution_count": 13,
   "metadata": {
    "collapsed": true
   },
   "outputs": [],
   "source": [
    "from sklearn.decomposition import TruncatedSVD"
   ]
  },
  {
   "cell_type": "code",
   "execution_count": 15,
   "metadata": {
    "collapsed": true
   },
   "outputs": [],
   "source": [
    "svd = TruncatedSVD(n_components=20, random_state=0)\n",
    "tv_svd_features = svd.fit_transform(tv_features)"
   ]
  },
  {
   "cell_type": "code",
   "execution_count": 16,
   "metadata": {},
   "outputs": [
    {
     "data": {
      "text/plain": [
       "(6639294, 20)"
      ]
     },
     "execution_count": 16,
     "metadata": {},
     "output_type": "execute_result"
    }
   ],
   "source": [
    "tv_svd_features.shape"
   ]
  },
  {
   "cell_type": "code",
   "execution_count": 19,
   "metadata": {},
   "outputs": [
    {
     "data": {
      "text/plain": [
       "0.9893320053815842"
      ]
     },
     "execution_count": 19,
     "metadata": {},
     "output_type": "execute_result"
    }
   ],
   "source": [
    "import sys\n",
    "sys.getsizeof(tv_svd_features)/(1024*1024*1024)"
   ]
  },
  {
   "cell_type": "markdown",
   "metadata": {},
   "source": [
    "### 2. TF-IDF (Binarized) + TruncSVD"
   ]
  },
  {
   "cell_type": "code",
   "execution_count": 20,
   "metadata": {},
   "outputs": [
    {
     "data": {
      "text/plain": [
       "196"
      ]
     },
     "execution_count": 20,
     "metadata": {},
     "output_type": "execute_result"
    }
   ],
   "source": [
    "tvb_features = tv_features.astype(bool).astype(float)\n",
    "del tv_features; gc.collect()"
   ]
  },
  {
   "cell_type": "code",
   "execution_count": 22,
   "metadata": {},
   "outputs": [
    {
     "data": {
      "text/plain": [
       "(6639294, 20)"
      ]
     },
     "execution_count": 22,
     "metadata": {},
     "output_type": "execute_result"
    }
   ],
   "source": [
    "svd = TruncatedSVD(n_components=20, random_state=0)\n",
    "tvb_svd_features = svd.fit_transform(tvb_features)\n",
    "tvb_svd_features.shape"
   ]
  },
  {
   "cell_type": "code",
   "execution_count": 23,
   "metadata": {},
   "outputs": [
    {
     "data": {
      "text/plain": [
       "0.9893320053815842"
      ]
     },
     "execution_count": 23,
     "metadata": {},
     "output_type": "execute_result"
    }
   ],
   "source": [
    "sys.getsizeof(tvb_svd_features)/(1024*1024*1024)"
   ]
  },
  {
   "cell_type": "code",
   "execution_count": 24,
   "metadata": {},
   "outputs": [
    {
     "data": {
      "text/plain": [
       "63"
      ]
     },
     "execution_count": 24,
     "metadata": {},
     "output_type": "execute_result"
    }
   ],
   "source": [
    "del tvb_features; gc.collect()"
   ]
  },
  {
   "cell_type": "markdown",
   "metadata": {},
   "source": [
    "### 3. Hashing Vector + TruncSVD"
   ]
  },
  {
   "cell_type": "code",
   "execution_count": 25,
   "metadata": {
    "collapsed": true
   },
   "outputs": [],
   "source": [
    "from sklearn.feature_extraction.text import HashingVectorizer\n",
    "hv = HashingVectorizer(ngram_range=(1, 2), lowercase=False)"
   ]
  },
  {
   "cell_type": "code",
   "execution_count": 26,
   "metadata": {},
   "outputs": [
    {
     "data": {
      "text/plain": [
       "(6639294, 1048576)"
      ]
     },
     "execution_count": 26,
     "metadata": {},
     "output_type": "execute_result"
    }
   ],
   "source": [
    "hv_features = hv.fit_transform(all_texts).tocsr()\n",
    "hv_features.shape"
   ]
  },
  {
   "cell_type": "code",
   "execution_count": 27,
   "metadata": {},
   "outputs": [
    {
     "data": {
      "text/plain": [
       "(6639294, 20)"
      ]
     },
     "execution_count": 27,
     "metadata": {},
     "output_type": "execute_result"
    }
   ],
   "source": [
    "svd = TruncatedSVD(n_components=20, random_state=0)\n",
    "hv_svd_features = svd.fit_transform(hv_features)\n",
    "hv_svd_features.shape"
   ]
  },
  {
   "cell_type": "code",
   "execution_count": 28,
   "metadata": {},
   "outputs": [
    {
     "data": {
      "text/plain": [
       "0.9893320053815842"
      ]
     },
     "execution_count": 28,
     "metadata": {},
     "output_type": "execute_result"
    }
   ],
   "source": [
    "sys.getsizeof(hv_svd_features)/(1024*1024*1024)"
   ]
  },
  {
   "cell_type": "markdown",
   "metadata": {},
   "source": [
    "### 4. Hashing Vector (Binarized) + TruncSVD"
   ]
  },
  {
   "cell_type": "code",
   "execution_count": 29,
   "metadata": {
    "_cell_guid": "cbf0ac52-1f3c-4c87-98ae-d7a2a6324fd7",
    "_uuid": "2711b36dc876a0a8fb590f02e545c5d53cb07257"
   },
   "outputs": [
    {
     "data": {
      "text/plain": [
       "0"
      ]
     },
     "execution_count": 29,
     "metadata": {},
     "output_type": "execute_result"
    }
   ],
   "source": [
    "hvb_features = hv_features.astype(bool).astype(float)\n",
    "del hv_features; gc.collect()"
   ]
  },
  {
   "cell_type": "code",
   "execution_count": 30,
   "metadata": {
    "_cell_guid": "a8fefa80-1ecc-476e-9907-6af234b91a19",
    "_uuid": "069135b5bd86d9ea27e5c84fb50ace14b650b1b6"
   },
   "outputs": [
    {
     "data": {
      "text/plain": [
       "(6639294, 20)"
      ]
     },
     "execution_count": 30,
     "metadata": {},
     "output_type": "execute_result"
    }
   ],
   "source": [
    "svd = TruncatedSVD(n_components=20, random_state=0)\n",
    "hvb_svd_features = svd.fit_transform(hvb_features)\n",
    "hvb_svd_features.shape"
   ]
  },
  {
   "cell_type": "code",
   "execution_count": 31,
   "metadata": {},
   "outputs": [
    {
     "name": "stdout",
     "output_type": "stream",
     "text": [
      "0.9893320053815842\n"
     ]
    },
    {
     "data": {
      "text/plain": [
       "0"
      ]
     },
     "execution_count": 31,
     "metadata": {},
     "output_type": "execute_result"
    }
   ],
   "source": [
    "print(sys.getsizeof(hvb_svd_features)/(1024*1024*1024))\n",
    "del hvb_features; gc.collect()"
   ]
  },
  {
   "cell_type": "markdown",
   "metadata": {
    "_cell_guid": "c0535b24-784c-4737-80ca-b74262014e12",
    "_uuid": "eb7da051d3311fc2ce69a172ab7a8398cadabd49"
   },
   "source": [
    "### 5. Stack them"
   ]
  },
  {
   "cell_type": "code",
   "execution_count": 32,
   "metadata": {
    "_cell_guid": "6bfd9a8f-0291-4077-afd8-2f361acb51e1",
    "_uuid": "febd4c7ddf082996403836495be5410cfc0d9ca3"
   },
   "outputs": [
    {
     "data": {
      "text/plain": [
       "(6639294, 80)"
      ]
     },
     "execution_count": 32,
     "metadata": {},
     "output_type": "execute_result"
    }
   ],
   "source": [
    "text_features = np.concatenate([tv_svd_features, tvb_svd_features, hv_svd_features, hvb_svd_features], axis=1)\n",
    "text_features.shape"
   ]
  },
  {
   "cell_type": "code",
   "execution_count": 33,
   "metadata": {},
   "outputs": [
    {
     "data": {
      "text/plain": [
       "3.9573277086019516"
      ]
     },
     "execution_count": 33,
     "metadata": {},
     "output_type": "execute_result"
    }
   ],
   "source": [
    "sys.getsizeof(text_features)/(1024*1024*1024)"
   ]
  },
  {
   "cell_type": "code",
   "execution_count": 34,
   "metadata": {
    "collapsed": true
   },
   "outputs": [],
   "source": [
    "import pickle\n",
    "text_features_df = pd.DataFrame(data=text_features, columns=['text_f_'+str(i) for i in range(80)])\n",
    "\n",
    "with open('text_features.dataframe', 'wb') as handle:\n",
    "    pickle.dump(text_features, handle, protocol=pickle.HIGHEST_PROTOCOL)"
   ]
  },
  {
   "cell_type": "markdown",
   "metadata": {},
   "source": [
    "# Train along with text features"
   ]
  },
  {
   "cell_type": "code",
   "execution_count": 13,
   "metadata": {},
   "outputs": [
    {
     "name": "stdout",
     "output_type": "stream",
     "text": [
      "(6639294, 80)\n"
     ]
    }
   ],
   "source": [
    "import pickle\n",
    "\n",
    "with open('text_features.dataframe', 'rb') as handle:\n",
    "    text_features_df = pickle.load(handle)\n",
    "    print(text_features_df.shape)"
   ]
  },
  {
   "cell_type": "code",
   "execution_count": 14,
   "metadata": {
    "collapsed": true
   },
   "outputs": [],
   "source": [
    "text_features_df = pd.DataFrame(data=text_features_df, columns=['text_f_'+str(i) for i in range(80)])"
   ]
  },
  {
   "cell_type": "code",
   "execution_count": 15,
   "metadata": {},
   "outputs": [
    {
     "name": "stdout",
     "output_type": "stream",
     "text": [
      "(6425094, 27) (214200, 27)\n"
     ]
    }
   ],
   "source": [
    "print(train.shape, test.shape)"
   ]
  },
  {
   "cell_type": "code",
   "execution_count": 16,
   "metadata": {},
   "outputs": [
    {
     "name": "stdout",
     "output_type": "stream",
     "text": [
      "(6425094, 107)\n"
     ]
    }
   ],
   "source": [
    "new_train = pd.concat([train, text_features_df.iloc[0:train.shape[0],:]], axis=1)\n",
    "print(new_train.shape)   "
   ]
  },
  {
   "cell_type": "code",
   "execution_count": 17,
   "metadata": {},
   "outputs": [
    {
     "data": {
      "text/plain": [
       "110"
      ]
     },
     "execution_count": 17,
     "metadata": {},
     "output_type": "execute_result"
    }
   ],
   "source": [
    "del train; gc.collect()"
   ]
  },
  {
   "cell_type": "code",
   "execution_count": 18,
   "metadata": {},
   "outputs": [
    {
     "data": {
      "text/plain": [
       "(6425094, 107)"
      ]
     },
     "execution_count": 18,
     "metadata": {},
     "output_type": "execute_result"
    }
   ],
   "source": [
    "train = new_train\n",
    "train.shape"
   ]
  },
  {
   "cell_type": "code",
   "execution_count": 19,
   "metadata": {
    "collapsed": true
   },
   "outputs": [],
   "source": [
    "test_text_features_df = text_features_df.iloc[train.shape[0]:,:].reset_index(drop=True)"
   ]
  },
  {
   "cell_type": "code",
   "execution_count": 20,
   "metadata": {},
   "outputs": [
    {
     "name": "stdout",
     "output_type": "stream",
     "text": [
      "(214200, 107)\n"
     ]
    }
   ],
   "source": [
    "new_test = pd.concat([test, test_text_features_df], axis=1)\n",
    "print(new_test.shape)   "
   ]
  },
  {
   "cell_type": "code",
   "execution_count": 21,
   "metadata": {
    "collapsed": true
   },
   "outputs": [],
   "source": [
    "del test, test_text_features_df; gc.collect()\n",
    "test = new_test"
   ]
  },
  {
   "cell_type": "code",
   "execution_count": 22,
   "metadata": {},
   "outputs": [
    {
     "data": {
      "text/plain": [
       "0"
      ]
     },
     "execution_count": 22,
     "metadata": {},
     "output_type": "execute_result"
    }
   ],
   "source": [
    "gc.collect()"
   ]
  },
  {
   "cell_type": "markdown",
   "metadata": {},
   "source": [
    "### Hyper-parameter optimization with cv/grid search"
   ]
  },
  {
   "cell_type": "code",
   "execution_count": 24,
   "metadata": {
    "collapsed": true
   },
   "outputs": [],
   "source": [
    "from sklearn.linear_model import Ridge\n",
    "from sklearn.preprocessing import StandardScaler\n",
    "from sklearn.pipeline import Pipeline"
   ]
  },
  {
   "cell_type": "code",
   "execution_count": 26,
   "metadata": {},
   "outputs": [
    {
     "name": "stdout",
     "output_type": "stream",
     "text": [
      "Fitting:  {'rg__alpha': 0.1} ...\n",
      "\tscore= 0.91752 \n",
      "Fitting:  {'rg__alpha': 1.0} ...\n",
      "\tscore= 0.92398 \n",
      "Fitting:  {'rg__alpha': 2.0} ...\n",
      "\tscore= 0.93343 \n",
      "Fitting:  {'rg__alpha': 4.0} ...\n",
      "\tscore= 0.95248 \n",
      "Fitting finished\n",
      "Selected hyper-params: {'rg__alpha': 0.1}\n",
      "cv score: 0.9175\n"
     ]
    }
   ],
   "source": [
    "rg_clf = Pipeline([\n",
    "    ('standardscaler', StandardScaler(copy=False, with_mean=True, with_std=True)),\n",
    "    ('rg', Ridge(fit_intercept=True, normalize=True, max_iter=2000, random_state=0))\n",
    "])\n",
    "\n",
    "rg_params = {\n",
    "    'rg__alpha': [0.1, 1., 2., 4.],\n",
    "}\n",
    "customized_grid_search_simple_holdout_evaluate(rg_clf, train, train_y, rg_params)"
   ]
  },
  {
   "cell_type": "code",
   "execution_count": 27,
   "metadata": {},
   "outputs": [
    {
     "name": "stdout",
     "output_type": "stream",
     "text": [
      "Fitting:  {'rg__alpha': 0.01} ...\n",
      "\tscore= 0.91593 \n",
      "Fitting:  {'rg__alpha': 0.05} ...\n",
      "\tscore= 0.91699 \n",
      "Fitting finished\n",
      "Selected hyper-params: {'rg__alpha': 0.01}\n",
      "cv score: 0.9159\n"
     ]
    }
   ],
   "source": [
    "rg_clf = Pipeline([\n",
    "    ('standardscaler', StandardScaler(copy=False, with_mean=True, with_std=True)),\n",
    "    ('rg', Ridge(fit_intercept=True, normalize=True, max_iter=2000, random_state=0))\n",
    "])\n",
    "\n",
    "rg_params = {\n",
    "    'rg__alpha': [0.01, .05],\n",
    "}\n",
    "customized_grid_search_simple_holdout_evaluate(rg_clf, train, train_y, rg_params)"
   ]
  },
  {
   "cell_type": "markdown",
   "metadata": {},
   "source": [
    "### Generate stage_2 features"
   ]
  },
  {
   "cell_type": "code",
   "execution_count": null,
   "metadata": {
    "collapsed": true
   },
   "outputs": [],
   "source": [
    "merge = pd.concat([train, test], ignore_index=True)\n",
    "merge_dates = np.concatenate([train_dates, test_dates], axis=0)"
   ]
  },
  {
   "cell_type": "code",
   "execution_count": null,
   "metadata": {
    "collapsed": true
   },
   "outputs": [],
   "source": [
    "merge_y = np.concatenate([train_y, np.zeros((len(test_dates),))], axis=0)\n",
    "print(merge_y.shape)"
   ]
  },
  {
   "cell_type": "code",
   "execution_count": null,
   "metadata": {
    "collapsed": true
   },
   "outputs": [],
   "source": [
    "del train, test;\n",
    "gc.collect()"
   ]
  },
  {
   "cell_type": "code",
   "execution_count": null,
   "metadata": {
    "collapsed": true
   },
   "outputs": [],
   "source": [
    "stage2_train_dates = merge_dates[merge_dates>=level2_date_block[0]]\n",
    "stage2_train_mask = (stage2_train_dates <= level2_date_block[-1])\n",
    "stage2_valid_mask = (stage2_train_dates == 33)\n",
    "stage2_final_train_mask = (stage2_train_dates <= 33)\n",
    "stage2_test_mask = (stage2_train_dates==34)\n",
    "stage2_train_y = merge_y[merge_dates>=level2_date_block[0]]"
   ]
  },
  {
   "cell_type": "code",
   "execution_count": null,
   "metadata": {
    "collapsed": true
   },
   "outputs": [],
   "source": [
    "gc.collect()"
   ]
  },
  {
   "cell_type": "code",
   "execution_count": null,
   "metadata": {
    "collapsed": true
   },
   "outputs": [],
   "source": [
    "from sklearn.linear_model import Ridge\n",
    "from sklearn.preprocessing import StandardScaler\n",
    "from sklearn.pipeline import Pipeline\n",
    "\n",
    "model = Pipeline([\n",
    "                ('standardscaler', StandardScaler(copy=False, with_mean=True, with_std=True)),\n",
    "                ('rg', Ridge(alpha=.01, fit_intercept=True, normalize=True, max_iter=2000, random_state=0))\n",
    "            ])\n",
    "model.fit(merge[merge_dates < 27].values, merge_y[merge_dates < 27])  "
   ]
  },
  {
   "cell_type": "code",
   "execution_count": null,
   "metadata": {
    "collapsed": true
   },
   "outputs": [],
   "source": [
    "stage2_data_text = model.predict(merge[merge_dates >= 27].values)\n",
    "stage2_data_text = np.clip(stage2_data_text, 0., 20.)"
   ]
  },
  {
   "cell_type": "code",
   "execution_count": null,
   "metadata": {
    "collapsed": true
   },
   "outputs": [],
   "source": [
    "stage2_data_text.shape"
   ]
  },
  {
   "cell_type": "code",
   "execution_count": null,
   "metadata": {
    "collapsed": true
   },
   "outputs": [],
   "source": [
    "import pickle\n",
    "with open('stage2_data_text.dataframe', 'wb') as handle:\n",
    "    pickle.dump(stage2_data_text, handle, protocol=pickle.HIGHEST_PROTOCOL)\n",
    " \n",
    "\n",
    "'''\n",
    "with open('stage2_data_text.dataframe', 'rb') as handle:\n",
    "    stage2_data_text = pickle.load(handle)\n",
    "'''"
   ]
  }
 ],
 "metadata": {
  "anaconda-cloud": {},
  "kernelspec": {
   "display_name": "Python [default]",
   "language": "python",
   "name": "python3"
  },
  "language_info": {
   "codemirror_mode": {
    "name": "ipython",
    "version": 3
   },
   "file_extension": ".py",
   "mimetype": "text/x-python",
   "name": "python",
   "nbconvert_exporter": "python",
   "pygments_lexer": "ipython3",
   "version": "3.5.2"
  }
 },
 "nbformat": 4,
 "nbformat_minor": 1
}
