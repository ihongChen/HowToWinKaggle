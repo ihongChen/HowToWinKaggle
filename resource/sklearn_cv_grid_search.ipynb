{
 "cells": [
  {
   "cell_type": "markdown",
   "metadata": {},
   "source": [
    "# CV , grid search\n",
    "from [model selection](http://scikit-learn.org/stable/tutorial/statistical_inference/model_selection.html)"
   ]
  },
  {
   "cell_type": "code",
   "execution_count": 43,
   "metadata": {},
   "outputs": [
    {
     "data": {
      "text/plain": [
       "0.97999999999999998"
      ]
     },
     "execution_count": 43,
     "metadata": {},
     "output_type": "execute_result"
    }
   ],
   "source": [
    "from sklearn import datasets, svm\n",
    "digits = datasets.load_digits()\n",
    "X_digits = digits.data\n",
    "y_digits = digits.target\n",
    "svc = svm.SVC(C=1, kernel='linear')\n",
    "svc.fit(X_digits[:-100], y_digits[:-100]).score(X_digits[-100:], y_digits[-100:])"
   ]
  },
  {
   "cell_type": "markdown",
   "metadata": {},
   "source": [
    "To get a better measure of prediction accuracy (which we can use as a proxy for goodness of fit of the model), we can successively split the data in folds that we use for training and testing:"
   ]
  },
  {
   "cell_type": "markdown",
   "metadata": {},
   "source": [
    "# Kfold"
   ]
  },
  {
   "cell_type": "code",
   "execution_count": 52,
   "metadata": {},
   "outputs": [],
   "source": [
    "import numpy as np\n",
    "X_folds = np.array_split(X_digits, 3)\n",
    "y_folds = np.array_split(y_digits, 3)\n",
    "scores = list()\n",
    "for k in range(3):\n",
    "    # We use 'list' to copy, in order to 'pop' later on\n",
    "    X_train = list(X_folds)\n",
    "    X_test  = X_train.pop(k)\n",
    "    X_train = np.concatenate(X_train)\n",
    "    y_train = list(y_folds)\n",
    "    y_test  = y_train.pop(k)\n",
    "    y_train = np.concatenate(y_train)\n",
    "    scores.append(svc.fit(X_train, y_train).score(X_test, y_test))"
   ]
  },
  {
   "cell_type": "code",
   "execution_count": 56,
   "metadata": {},
   "outputs": [
    {
     "name": "stdout",
     "output_type": "stream",
     "text": [
      "Train: [2 3 4 5] | test: [0 1]\n",
      "Train: [0 1 4 5] | test: [2 3]\n",
      "Train: [0 1 2 3] | test: [4 5]\n"
     ]
    }
   ],
   "source": [
    "from sklearn.model_selection import KFold, cross_val_score\n",
    "X = [\"a\", \"a\", \"b\", \"c\", \"c\", \"c\"]\n",
    "k_fold = KFold(3)\n",
    "\n",
    "for train_indices, test_indices in k_fold.split(X):\n",
    "    print('Train: %s | test: %s' % (train_indices, test_indices))"
   ]
  },
  {
   "cell_type": "code",
   "execution_count": 57,
   "metadata": {},
   "outputs": [
    {
     "data": {
      "text/plain": [
       "[0.93489148580968284, 0.95659432387312182, 0.93989983305509184]"
      ]
     },
     "execution_count": 57,
     "metadata": {},
     "output_type": "execute_result"
    }
   ],
   "source": [
    "[svc.fit(X_digits[train], y_digits[train]).score(X_digits[test], y_digits[test]) \n",
    "     for train, test in k_fold.split(X_digits)]"
   ]
  },
  {
   "cell_type": "code",
   "execution_count": 62,
   "metadata": {},
   "outputs": [
    {
     "data": {
      "text/plain": [
       "array([ 0.93489149,  0.95659432,  0.93989983])"
      ]
     },
     "execution_count": 62,
     "metadata": {},
     "output_type": "execute_result"
    }
   ],
   "source": [
    "cross_val_score(svc, X_digits, y_digits, cv=k_fold, n_jobs=1)"
   ]
  },
  {
   "cell_type": "code",
   "execution_count": 66,
   "metadata": {},
   "outputs": [
    {
     "data": {
      "text/plain": [
       "(0, 1.1)"
      ]
     },
     "execution_count": 66,
     "metadata": {},
     "output_type": "execute_result"
    },
    {
     "name": "stderr",
     "output_type": "stream",
     "text": [
      "C:\\Program Files\\Anaconda3\\envs\\py36\\lib\\site-packages\\matplotlib\\mathtext.py:854: MathTextWarning: Font 'default' does not have a glyph for '-' [U+2212]\n",
      "  MathTextWarning)\n",
      "C:\\Program Files\\Anaconda3\\envs\\py36\\lib\\site-packages\\matplotlib\\mathtext.py:855: MathTextWarning: Substituting with a dummy symbol.\n",
      "  warn(\"Substituting with a dummy symbol.\", MathTextWarning)\n"
     ]
    },
    {
     "data": {
      "image/png": "[encoded data removed]",
      "text/plain": [
       "<matplotlib.figure.Figure at 0xc0379ad5c0>"
      ]
     },
     "metadata": {},
     "output_type": "display_data"
    }
   ],
   "source": [
    "digits = datasets.load_digits()\n",
    "X = digits.data\n",
    "y = digits.target\n",
    "\n",
    "\n",
    "svc = svm.SVC(kernel='linear')\n",
    "C_s = np.logspace(-10, 0, 10)\n",
    "\n",
    "scores = list()\n",
    "scores_std = list()\n",
    "for C in C_s:\n",
    "    svc.C = C\n",
    "    this_scores = cross_val_score(svc, X, y, n_jobs=1)\n",
    "    scores.append(np.mean(this_scores))\n",
    "    scores_std.append(np.std(this_scores))\n",
    "\n",
    "# Do the plotting\n",
    "import matplotlib.pyplot as plt\n",
    "%matplotlib inline\n",
    "plt.figure(1, figsize=(8, 6))\n",
    "# plt.clf()\n",
    "plt.semilogx(C_s, scores)\n",
    "plt.semilogx(C_s, np.array(scores) + np.array(scores_std), 'b--')\n",
    "plt.semilogx(C_s, np.array(scores) - np.array(scores_std), 'b--')\n",
    "locs, labels = plt.yticks()\n",
    "plt.yticks(locs, list(map(lambda x: \"%g\" % x, locs)))\n",
    "plt.ylabel('CV score')\n",
    "plt.xlabel('Parameter C')\n",
    "plt.ylim(0, 1.1)\n",
    "# plt.show()"
   ]
  },
  {
   "cell_type": "code",
   "execution_count": 77,
   "metadata": {},
   "outputs": [],
   "source": [
    "param_grid = [{'C':np.logspace(-10, 0, 10)}]\n",
    "clf = GridSearchCV(svc,param_grid=param_grid, cv=5, return_train_score=True)"
   ]
  },
  {
   "cell_type": "code",
   "execution_count": 78,
   "metadata": {},
   "outputs": [
    {
     "data": {
      "text/plain": [
       "GridSearchCV(cv=5, error_score='raise',\n",
       "       estimator=SVC(C=1.0, cache_size=200, class_weight=None, coef0=0.0,\n",
       "  decision_function_shape='ovr', degree=3, gamma='auto', kernel='linear',\n",
       "  max_iter=-1, probability=False, random_state=None, shrinking=True,\n",
       "  tol=0.001, verbose=False),\n",
       "       fit_params=None, iid=True, n_jobs=1,\n",
       "       param_grid=[{'C': array([  1.00000e-10,   1.29155e-09,   1.66810e-08,   2.15443e-07,\n",
       "         2.78256e-06,   3.59381e-05,   4.64159e-04,   5.99484e-03,\n",
       "         7.74264e-02,   1.00000e+00])}],\n",
       "       pre_dispatch='2*n_jobs', refit=True, return_train_score=True,\n",
       "       scoring=None, verbose=0)"
      ]
     },
     "execution_count": 78,
     "metadata": {},
     "output_type": "execute_result"
    }
   ],
   "source": [
    "clf.fit(X,y)"
   ]
  },
  {
   "cell_type": "code",
   "execution_count": 79,
   "metadata": {},
   "outputs": [
    {
     "data": {
      "text/plain": [
       "{'mean_fit_time': array([ 0.29688849,  0.29560208,  0.29561324,  0.29688616,  0.30626183,\n",
       "         0.15000548,  0.05625172,  0.04062676,  0.04687777,  0.04026418]),\n",
       " 'mean_score_time': array([ 0.03682508,  0.04687858,  0.03750186,  0.03373938,  0.03437548,\n",
       "         0.03750172,  0.01562672,  0.01250143,  0.0093751 ,  0.01250043]),\n",
       " 'mean_test_score': array([ 0.13522538,  0.13522538,  0.13522538,  0.13522538,  0.13856427,\n",
       "         0.90651085,  0.94880356,  0.94936004,  0.94936004,  0.94936004]),\n",
       " 'mean_train_score': array([ 0.13994474,  0.13994474,  0.13994474,  0.13994474,  0.15485764,\n",
       "         0.94393544,  0.98817507,  0.99833052,  1.        ,  1.        ]),\n",
       " 'param_C': masked_array(data = [1e-10 1.2915496650148826e-09 1.6681005372000592e-08 2.1544346900318867e-07\n",
       "  2.782559402207126e-06 3.5938136638046256e-05 0.00046415888336127822\n",
       "  0.0059948425031894209 0.077426368268112777 1.0],\n",
       "              mask = [False False False False False False False False False False],\n",
       "        fill_value = ?),\n",
       " 'params': [{'C': 1e-10},\n",
       "  {'C': 1.2915496650148826e-09},\n",
       "  {'C': 1.6681005372000592e-08},\n",
       "  {'C': 2.1544346900318867e-07},\n",
       "  {'C': 2.782559402207126e-06},\n",
       "  {'C': 3.5938136638046256e-05},\n",
       "  {'C': 0.00046415888336127822},\n",
       "  {'C': 0.0059948425031894209},\n",
       "  {'C': 0.077426368268112777},\n",
       "  {'C': 1.0}],\n",
       " 'rank_test_score': array([7, 7, 7, 7, 6, 5, 4, 1, 1, 1]),\n",
       " 'split0_test_score': array([ 0.10164835,  0.10164835,  0.10164835,  0.10164835,  0.10164835,\n",
       "         0.9010989 ,  0.94505495,  0.95604396,  0.96428571,  0.96428571]),\n",
       " 'split0_train_score': array([ 0.10188416,  0.10188416,  0.10188416,  0.10188416,  0.10188416,\n",
       "         0.94905792,  0.98883461,  0.99860433,  1.        ,  1.        ]),\n",
       " 'split1_test_score': array([ 0.10220994,  0.10220994,  0.10220994,  0.10220994,  0.11878453,\n",
       "         0.88121547,  0.91712707,  0.91712707,  0.92265193,  0.92265193]),\n",
       " 'split1_train_score': array([ 0.10174216,  0.10174216,  0.10174216,  0.10174216,  0.17630662,\n",
       "         0.94425087,  0.98885017,  0.99790941,  1.        ,  1.        ]),\n",
       " 'split2_test_score': array([ 0.27019499,  0.27019499,  0.27019499,  0.27019499,  0.27019499,\n",
       "         0.92200557,  0.97214485,  0.96935933,  0.96657382,  0.96657382]),\n",
       " 'split2_train_score': array([ 0.29207232,  0.29207232,  0.29207232,  0.29207232,  0.29207232,\n",
       "         0.93741307,  0.98748261,  0.99860918,  1.        ,  1.        ]),\n",
       " 'split3_test_score': array([ 0.10084034,  0.10084034,  0.10084034,  0.10084034,  0.10084034,\n",
       "         0.95238095,  0.9859944 ,  0.9719888 ,  0.96358543,  0.96358543]),\n",
       " 'split3_train_score': array([ 0.10208333,  0.10208333,  0.10208333,  0.10208333,  0.10208333,\n",
       "         0.93680556,  0.98541667,  0.99791667,  1.        ,  1.        ]),\n",
       " 'split4_test_score': array([ 0.10140845,  0.10140845,  0.10140845,  0.10140845,  0.10140845,\n",
       "         0.87605634,  0.92394366,  0.93239437,  0.92957746,  0.92957746]),\n",
       " 'split4_train_score': array([ 0.10194175,  0.10194175,  0.10194175,  0.10194175,  0.10194175,\n",
       "         0.95214979,  0.99029126,  0.99861304,  1.        ,  1.        ]),\n",
       " 'std_fit_time': array([  9.88596301e-03,   8.97602335e-03,   1.25673526e-02,\n",
       "          1.11216581e-06,   1.25013233e-02,   7.65387693e-03,\n",
       "          7.65488908e-03,   7.65512270e-03,   1.48968690e-06,\n",
       "          7.38850305e-03]),\n",
       " 'std_score_time': array([  6.90912472e-03,   1.53034273e-06,   7.65488905e-03,\n",
       "          6.68375059e-03,   6.24821190e-03,   7.65481122e-03,\n",
       "          8.17605410e-07,   6.25071543e-03,   7.65473332e-03,\n",
       "          6.25021459e-03]),\n",
       " 'std_test_score': array([ 0.06743929,  0.06743929,  0.06743929,  0.06743929,  0.06611944,\n",
       "         0.02800038,  0.02665885,  0.02137384,  0.01911891,  0.01911891]),\n",
       " 'std_train_score': array([ 0.07606387,  0.07606387,  0.07606387,  0.07606387,  0.07440341,\n",
       "         0.00611868,  0.00164057,  0.0003409 ,  0.        ,  0.        ])}"
      ]
     },
     "execution_count": 79,
     "metadata": {},
     "output_type": "execute_result"
    }
   ],
   "source": [
    "clf.cv_results_"
   ]
  },
  {
   "cell_type": "code",
   "execution_count": 72,
   "metadata": {},
   "outputs": [
    {
     "data": {
      "text/plain": [
       "0.9493600445186422"
      ]
     },
     "execution_count": 72,
     "metadata": {},
     "output_type": "execute_result"
    }
   ],
   "source": [
    "clf.best_score_"
   ]
  },
  {
   "cell_type": "markdown",
   "metadata": {},
   "source": [
    "# Grid Search"
   ]
  },
  {
   "cell_type": "code",
   "execution_count": 86,
   "metadata": {},
   "outputs": [],
   "source": [
    "Cs = np.logspace(-6, -1, 10)\n",
    "clf = GridSearchCV(estimator=svc, param_grid=dict(C=Cs),n_jobs=-1,verbose=True)"
   ]
  },
  {
   "cell_type": "code",
   "execution_count": 87,
   "metadata": {},
   "outputs": [
    {
     "name": "stdout",
     "output_type": "stream",
     "text": [
      "Fitting 3 folds for each of 10 candidates, totalling 30 fits\n"
     ]
    },
    {
     "name": "stderr",
     "output_type": "stream",
     "text": [
      "[Parallel(n_jobs=-1)]: Done  27 out of  30 | elapsed:    7.8s remaining:    0.8s\n",
      "[Parallel(n_jobs=-1)]: Done  30 out of  30 | elapsed:    8.6s finished\n"
     ]
    },
    {
     "data": {
      "text/plain": [
       "0.92500000000000004"
      ]
     },
     "execution_count": 87,
     "metadata": {},
     "output_type": "execute_result"
    }
   ],
   "source": [
    "clf.fit(X_digits[:1000], y_digits[:1000])\n",
    "clf.best_score_"
   ]
  },
  {
   "cell_type": "code",
   "execution_count": 83,
   "metadata": {},
   "outputs": [
    {
     "data": {
      "text/plain": [
       "SVC(C=0.0077426368268112772, cache_size=200, class_weight=None, coef0=0.0,\n",
       "  decision_function_shape='ovr', degree=3, gamma='auto', kernel='linear',\n",
       "  max_iter=-1, probability=False, random_state=None, shrinking=True,\n",
       "  tol=0.001, verbose=False)"
      ]
     },
     "execution_count": 83,
     "metadata": {},
     "output_type": "execute_result"
    }
   ],
   "source": [
    "clf.best_estimator_"
   ]
  },
  {
   "cell_type": "code",
   "execution_count": 84,
   "metadata": {},
   "outputs": [
    {
     "data": {
      "text/plain": [
       "0.94353826850690092"
      ]
     },
     "execution_count": 84,
     "metadata": {},
     "output_type": "execute_result"
    }
   ],
   "source": [
    "clf.score(X_digits[1000:], y_digits[1000:]) "
   ]
  },
  {
   "cell_type": "markdown",
   "metadata": {},
   "source": [
    "# Cross-validation on diabetes Dataset Exercise¶\n",
    "from [sklearn-doc](http://scikit-learn.org/stable/auto_examples/exercises/plot_cv_diabetes.html#sphx-glr-auto-examples-exercises-plot-cv-diabetes-py)"
   ]
  },
  {
   "cell_type": "code",
   "execution_count": 1,
   "metadata": {},
   "outputs": [
    {
     "name": "stdout",
     "output_type": "stream",
     "text": [
      "Automatically created module for IPython interactive environment\n",
      "Answer to the bonus question: how much can you trust the selection of alpha?\n",
      "\n",
      "Alpha parameters maximising the generalization score on different\n",
      "subsets of the data:\n",
      "[fold 0] alpha: 0.10405, score: 0.53573\n",
      "[fold 1] alpha: 0.05968, score: 0.16278\n",
      "[fold 2] alpha: 0.10405, score: 0.44437\n",
      "\n",
      "Answer: Not very much since we obtained different alphas for different\n",
      "subsets of the data and moreover, the scores for these alphas differ\n",
      "quite substantially.\n"
     ]
    },
    {
     "name": "stderr",
     "output_type": "stream",
     "text": [
      "C:\\Program Files\\Anaconda3\\envs\\py36\\lib\\site-packages\\matplotlib\\mathtext.py:854: MathTextWarning: Font 'default' does not have a glyph for '-' [U+2212]\n",
      "  MathTextWarning)\n",
      "C:\\Program Files\\Anaconda3\\envs\\py36\\lib\\site-packages\\matplotlib\\mathtext.py:855: MathTextWarning: Substituting with a dummy symbol.\n",
      "  warn(\"Substituting with a dummy symbol.\", MathTextWarning)\n"
     ]
    },
    {
     "data": {
      "image/png": "[encoded data removed]",
      "text/plain": [
       "<matplotlib.figure.Figure at 0x750c17ce10>"
      ]
     },
     "metadata": {},
     "output_type": "display_data"
    }
   ],
   "source": [
    "from __future__ import print_function\n",
    "print(__doc__)\n",
    "\n",
    "import numpy as np\n",
    "import matplotlib.pyplot as plt\n",
    "%matplotlib inline\n",
    "from sklearn import datasets\n",
    "from sklearn.linear_model import LassoCV\n",
    "from sklearn.linear_model import Lasso\n",
    "from sklearn.model_selection import KFold\n",
    "from sklearn.model_selection import GridSearchCV\n",
    "\n",
    "diabetes = datasets.load_diabetes()\n",
    "X = diabetes.data[:150]\n",
    "y = diabetes.target[:150]\n",
    "\n",
    "lasso = Lasso(random_state=0)\n",
    "alphas = np.logspace(-4, -0.5, 30)\n",
    "\n",
    "tuned_parameters = [{'alpha': alphas}]\n",
    "n_folds = 3\n",
    "\n",
    "clf = GridSearchCV(lasso, tuned_parameters, cv=n_folds, refit=False)\n",
    "clf.fit(X, y)\n",
    "scores = clf.cv_results_['mean_test_score']\n",
    "scores_std = clf.cv_results_['std_test_score']\n",
    "plt.figure().set_size_inches(10, 8)\n",
    "plt.semilogx(alphas, scores)\n",
    "\n",
    "# plot error lines showing +/- std. errors of the scores\n",
    "std_error = scores_std / np.sqrt(n_folds)\n",
    "\n",
    "plt.semilogx(alphas, scores + std_error, 'b--')\n",
    "plt.semilogx(alphas, scores - std_error, 'b--')\n",
    "\n",
    "# alpha=0.2 controls the translucency of the fill color\n",
    "plt.fill_between(alphas, scores + std_error, scores - std_error, alpha=0.2)\n",
    "\n",
    "plt.ylabel('CV score +/- std error')\n",
    "plt.xlabel('alpha')\n",
    "plt.axhline(np.max(scores), linestyle='--', color='.5')\n",
    "plt.xlim([alphas[0], alphas[-1]])\n",
    "\n",
    "# #############################################################################\n",
    "# Bonus: how much can you trust the selection of alpha?\n",
    "\n",
    "# To answer this question we use the LassoCV object that sets its alpha\n",
    "# parameter automatically from the data by internal cross-validation (i.e. it\n",
    "# performs cross-validation on the training data it receives).\n",
    "# We use external cross-validation to see how much the automatically obtained\n",
    "# alphas differ across different cross-validation folds.\n",
    "lasso_cv = LassoCV(alphas=alphas, random_state=0)\n",
    "k_fold = KFold(3)\n",
    "\n",
    "print(\"Answer to the bonus question:\",\n",
    "      \"how much can you trust the selection of alpha?\")\n",
    "print()\n",
    "print(\"Alpha parameters maximising the generalization score on different\")\n",
    "print(\"subsets of the data:\")\n",
    "for k, (train, test) in enumerate(k_fold.split(X, y)):\n",
    "    lasso_cv.fit(X[train], y[train])\n",
    "    print(\"[fold {0}] alpha: {1:.5f}, score: {2:.5f}\".\n",
    "          format(k, lasso_cv.alpha_, lasso_cv.score(X[test], y[test])))\n",
    "print()\n",
    "print(\"Answer: Not very much since we obtained different alphas for different\")\n",
    "print(\"subsets of the data and moreover, the scores for these alphas differ\")\n",
    "print(\"quite substantially.\")\n"
   ]
  },
  {
   "cell_type": "code",
   "execution_count": 36,
   "metadata": {},
   "outputs": [],
   "source": [
    "X = diabetes.data[:150]\n",
    "y = diabetes.target[:150]\n",
    "\n",
    "lasso = Lasso(random_state=0)\n",
    "alphas = np.logspace(-4, -0.5, 30)\n",
    "\n",
    "tuned_parameters = [{'alpha': alphas}]\n",
    "n_folds = 3\n"
   ]
  },
  {
   "cell_type": "code",
   "execution_count": 38,
   "metadata": {},
   "outputs": [],
   "source": [
    "clf = GridSearchCV(lasso, tuned_parameters, cv=n_folds,refit=False,return_train_score='True')"
   ]
  },
  {
   "cell_type": "code",
   "execution_count": 39,
   "metadata": {},
   "outputs": [
    {
     "data": {
      "text/plain": [
       "GridSearchCV(cv=3, error_score='raise',\n",
       "       estimator=Lasso(alpha=1.0, copy_X=True, fit_intercept=True, max_iter=1000,\n",
       "   normalize=False, positive=False, precompute=False, random_state=0,\n",
       "   selection='cyclic', tol=0.0001, warm_start=False),\n",
       "       fit_params=None, iid=True, n_jobs=1,\n",
       "       param_grid=[{'alpha': array([  1.00000e-04,   1.32035e-04,   1.74333e-04,   2.30181e-04,\n",
       "         3.03920e-04,   4.01281e-04,   5.29832e-04,   6.99564e-04,\n",
       "         9.23671e-04,   1.21957e-03,   1.61026e-03,   2.12611e-03,\n",
       "         2.80722e-03,   3.70651e-03,   4.89390e-03,   6.46167e-03,\n",
       "         8...   7.88046e-02,   1.04050e-01,   1.37382e-01,   1.81393e-01,\n",
       "         2.39503e-01,   3.16228e-01])}],\n",
       "       pre_dispatch='2*n_jobs', refit=False, return_train_score='True',\n",
       "       scoring=None, verbose=0)"
      ]
     },
     "execution_count": 39,
     "metadata": {},
     "output_type": "execute_result"
    }
   ],
   "source": [
    "clf.fit(X,y)"
   ]
  },
  {
   "cell_type": "code",
   "execution_count": 40,
   "metadata": {},
   "outputs": [],
   "source": [
    "scores_std = clf.cv_results_['std_test_score']\n",
    "scores = clf.cv_results_['mean_test_score']"
   ]
  },
  {
   "cell_type": "code",
   "execution_count": 41,
   "metadata": {},
   "outputs": [
    {
     "data": {
      "text/plain": [
       "array([ 0.34908311,  0.34919799,  0.34934947,  0.34954908,  0.34981211,\n",
       "        0.35015826,  0.35061336,  0.35121121,  0.35199462,  0.35301935,\n",
       "        0.35435493,  0.35608875,  0.35832605,  0.36119022,  0.36479555,\n",
       "        0.36855937,  0.37102098,  0.37373637,  0.37536354,  0.37701536,\n",
       "        0.37935476,  0.38233056,  0.38443899,  0.3865947 ,  0.38753399,\n",
       "        0.38591916,  0.38284243,  0.37482125,  0.35843308,  0.33333268])"
      ]
     },
     "execution_count": 41,
     "metadata": {},
     "output_type": "execute_result"
    }
   ],
   "source": [
    "scores"
   ]
  }
 ],
 "metadata": {
  "kernelspec": {
   "display_name": "Python 3",
   "language": "python",
   "name": "python3"
  },
  "language_info": {
   "codemirror_mode": {
    "name": "ipython",
    "version": 3
   },
   "file_extension": ".py",
   "mimetype": "text/x-python",
   "name": "python",
   "nbconvert_exporter": "python",
   "pygments_lexer": "ipython3",
   "version": "3.6.3"
  }
 },
 "nbformat": 4,
 "nbformat_minor": 2
}
