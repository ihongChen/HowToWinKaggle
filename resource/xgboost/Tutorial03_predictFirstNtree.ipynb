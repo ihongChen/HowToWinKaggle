{
 "cells": [
  {
   "cell_type": "markdown",
   "metadata": {},
   "source": [
    "# Predict First N Tree"
   ]
  },
  {
   "cell_type": "code",
   "execution_count": 2,
   "metadata": {
    "collapsed": false
   },
   "outputs": [
    {
     "name": "stdout",
     "output_type": "stream",
     "text": [
      "[0]\teval-error:0.042831\ttrain-error:0.046522\n",
      "[1]\teval-error:0.021726\ttrain-error:0.022263\n",
      "[2]\teval-error:0.006207\ttrain-error:0.007063\n",
      "start testing prediction from first n trees\n",
      "error of ypred1=0.042831\n",
      "error of ypred2=0.006207\n"
     ]
    }
   ],
   "source": [
    "#!/usr/bin/python\n",
    "import numpy as np\n",
    "import xgboost as xgb\n",
    "\n",
    "\n",
    "### load data in do training\n",
    "dtrain = xgb.DMatrix('./data/agaricus.txt.train')\n",
    "dtest = xgb.DMatrix('./data/agaricus.txt.test')\n",
    "param = {'max_depth':2, 'eta':1, 'silent':1, 'objective':'binary:logistic'}\n",
    "watchlist = [(dtest, 'eval'), (dtrain, 'train')]\n",
    "num_round = 3\n",
    "bst = xgb.train(param, dtrain, num_round, watchlist)\n",
    "\n",
    "\n",
    "print('start testing prediction from first n trees')\n",
    "### predict using first 1 tree\n",
    "label = dtest.get_label()\n",
    "ypred1 = bst.predict(dtest, ntree_limit=1)\n",
    "# by default, we predict using all the trees\n",
    "ypred2 = bst.predict(dtest)\n",
    "print('error of ypred1=%f' % (np.sum((ypred1 > 0.5) != label) / float(len(label))))\n",
    "print('error of ypred2=%f' % (np.sum((ypred2 > 0.5) != label) / float(len(label))))"
   ]
  },
  {
   "cell_type": "code",
   "execution_count": null,
   "metadata": {
    "collapsed": true
   },
   "outputs": [],
   "source": []
  }
 ],
 "metadata": {
  "kernelspec": {
   "display_name": "Python 3",
   "language": "python",
   "name": "python3"
  },
  "language_info": {
   "codemirror_mode": {
    "name": "ipython",
    "version": 3
   },
   "file_extension": ".py",
   "mimetype": "text/x-python",
   "name": "python",
   "nbconvert_exporter": "python",
   "pygments_lexer": "ipython3",
   "version": "3.6.0"
  }
 },
 "nbformat": 4,
 "nbformat_minor": 2
}
