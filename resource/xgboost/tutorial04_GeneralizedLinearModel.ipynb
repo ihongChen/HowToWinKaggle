{
 "cells": [
  {
   "cell_type": "markdown",
   "metadata": {},
   "source": [
    "# `gblinear`"
   ]
  },
  {
   "cell_type": "code",
   "execution_count": 1,
   "metadata": {
    "collapsed": false
   },
   "outputs": [
    {
     "name": "stdout",
     "output_type": "stream",
     "text": [
      "[0]\teval-error:0.037244\ttrain-error:0.03992\n",
      "[1]\teval-error:0.002483\ttrain-error:0.00261\n",
      "[2]\teval-error:0.000621\ttrain-error:0.001075\n",
      "[3]\teval-error:0\ttrain-error:0.000768\n",
      "error=0.000000\n"
     ]
    }
   ],
   "source": [
    "#!/usr/bin/python\n",
    "import xgboost as xgb\n",
    "##\n",
    "#  this script demonstrate how to fit generalized linear model in xgboost\n",
    "#  basically, we are using linear model, instead of tree for our boosters\n",
    "##\n",
    "dtrain = xgb.DMatrix('./data/agaricus.txt.train')\n",
    "dtest = xgb.DMatrix('./data/agaricus.txt.test')\n",
    "# change booster to gblinear, so that we are fitting a linear model\n",
    "# alpha is the L1 regularizer\n",
    "# lambda is the L2 regularizer\n",
    "# you can also set lambda_bias which is L2 regularizer on the bias term\n",
    "param = {'silent':1, 'objective':'binary:logistic', 'booster':'gblinear',\n",
    "         'alpha': 0.0001, 'lambda': 1}\n",
    "\n",
    "\n",
    "# normally, you do not need to set eta (step_size)\n",
    "# XGBoost uses a parallel coordinate descent algorithm (shotgun),\n",
    "# there could be affection on convergence with parallelization on certain cases\n",
    "# setting eta to be smaller value, e.g 0.5 can make the optimization more stable\n",
    "# param['eta'] = 1\n",
    "\n",
    "\n",
    "##\n",
    "# the rest of settings are the same\n",
    "##\n",
    "watchlist = [(dtest, 'eval'), (dtrain, 'train')]\n",
    "num_round = 4\n",
    "bst = xgb.train(param, dtrain, num_round, watchlist)\n",
    "preds = bst.predict(dtest)\n",
    "labels = dtest.get_label()\n",
    "print('error=%f' % (sum(1 for i in range(len(preds)) if int(preds[i] > 0.5) != labels[i]) / float(len(preds))))"
   ]
  }
 ],
 "metadata": {
  "kernelspec": {
   "display_name": "Python 3",
   "language": "python",
   "name": "python3"
  },
  "language_info": {
   "codemirror_mode": {
    "name": "ipython",
    "version": 3
   },
   "file_extension": ".py",
   "mimetype": "text/x-python",
   "name": "python",
   "nbconvert_exporter": "python",
   "pygments_lexer": "ipython3",
   "version": "3.6.0"
  }
 },
 "nbformat": 4,
 "nbformat_minor": 2
}
